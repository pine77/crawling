{
 "cells": [
  {
   "cell_type": "code",
   "execution_count": null,
   "id": "a1f7f5bd",
   "metadata": {},
   "outputs": [],
   "source": [
    "# 구글 홈페이지에서 검색어를 입력한 후 이미지 검색 결과를 크롤링하기..\n",
    "# element에서 특정 속성값을 추출하는 메소드 : get_attribute('href'), get_attribute('src')"
   ]
  },
  {
   "cell_type": "code",
   "execution_count": 11,
   "id": "bdf1b415",
   "metadata": {},
   "outputs": [],
   "source": [
    "from selenium import webdriver\n",
    "from selenium.webdriver.common.keys import Keys\n",
    "import urllib.request"
   ]
  },
  {
   "cell_type": "code",
   "execution_count": 20,
   "id": "5c1921e9",
   "metadata": {},
   "outputs": [],
   "source": [
    "url = 'http://www.google.com'"
   ]
  },
  {
   "cell_type": "code",
   "execution_count": 21,
   "id": "b34153d3",
   "metadata": {},
   "outputs": [],
   "source": [
    "driver = webdriver.Chrome()\n",
    "driver.get(url)"
   ]
  },
  {
   "cell_type": "code",
   "execution_count": 22,
   "id": "ffc01f10",
   "metadata": {},
   "outputs": [
    {
     "name": "stderr",
     "output_type": "stream",
     "text": [
      "C:\\Users\\bitcamp\\AppData\\Local\\Temp/ipykernel_2800/289207071.py:1: DeprecationWarning: find_element_by_* commands are deprecated. Please use find_element() instead\n",
      "  elem = driver.find_element_by_css_selector('input.gLFyf.gsfi')\n"
     ]
    }
   ],
   "source": [
    "elem = driver.find_element_by_css_selector('input.gLFyf.gsfi')\n",
    "elem.send_keys('빅데이터')"
   ]
  },
  {
   "cell_type": "code",
   "execution_count": 23,
   "id": "921ebf78",
   "metadata": {},
   "outputs": [],
   "source": [
    "elem.send_keys(Keys.RETURN)"
   ]
  },
  {
   "cell_type": "code",
   "execution_count": 24,
   "id": "0eb665b8",
   "metadata": {},
   "outputs": [
    {
     "name": "stderr",
     "output_type": "stream",
     "text": [
      "C:\\Users\\bitcamp\\AppData\\Local\\Temp/ipykernel_2800/3775787360.py:1: DeprecationWarning: find_element_by_* commands are deprecated. Please use find_element() instead\n",
      "  driver.find_element_by_xpath('//*[@id=\"hdtb-msb\"]/div[1]/div/div[2]/a').click()\n"
     ]
    }
   ],
   "source": [
    "driver.find_element_by_xpath('//*[@id=\"hdtb-msb\"]/div[1]/div/div[2]/a').click()"
   ]
  },
  {
   "cell_type": "code",
   "execution_count": 25,
   "id": "408f51c5",
   "metadata": {},
   "outputs": [],
   "source": [
    "import time"
   ]
  },
  {
   "cell_type": "code",
   "execution_count": 26,
   "id": "05faeff7",
   "metadata": {},
   "outputs": [
    {
     "name": "stderr",
     "output_type": "stream",
     "text": [
      "C:\\Users\\bitcamp\\AppData\\Local\\Temp/ipykernel_2800/2455245485.py:15: DeprecationWarning: find_element_by_* commands are deprecated. Please use find_element() instead\n",
      "  driver.find_element_by_css_selector(\".mye4qd\").click()\n"
     ]
    }
   ],
   "source": [
    "# 스크롤을 끝까지 내리는 코드\n",
    "\n",
    "SCROLL_PAUSE_TIME = 2\n",
    "\n",
    "last_height = driver.execute_script(\"return document.body.scrollHeight\")\n",
    "\n",
    "while True: \n",
    "    driver.execute_script('window.scrollTo(0, document.body.scrollHeight);')\n",
    "    time.sleep(SCROLL_PAUSE_TIME)\n",
    "    \n",
    "    new_height = driver.execute_script('return document.body.scrollHeight')\n",
    "    if new_height == last_height:\n",
    "        try:\n",
    "            time.sleep(SCROLL_PAUSE_TIME)\n",
    "            driver.find_element_by_css_selector(\".mye4qd\").click()\n",
    "        except:\n",
    "            break\n",
    "    last_height = new_height"
   ]
  },
  {
   "cell_type": "code",
   "execution_count": null,
   "id": "32b924da",
   "metadata": {},
   "outputs": [],
   "source": []
  },
  {
   "cell_type": "code",
   "execution_count": 27,
   "id": "36fc2dfe",
   "metadata": {},
   "outputs": [
    {
     "name": "stderr",
     "output_type": "stream",
     "text": [
      "C:\\Users\\bitcamp\\AppData\\Local\\Temp/ipykernel_2800/2395814580.py:1: DeprecationWarning: find_elements_by_* commands are deprecated. Please use find_elements() instead\n",
      "  images = driver.find_elements_by_css_selector('img.rg_i.Q4LuWd')\n"
     ]
    },
    {
     "data": {
      "text/plain": [
       "901"
      ]
     },
     "execution_count": 27,
     "metadata": {},
     "output_type": "execute_result"
    }
   ],
   "source": [
    "images = driver.find_elements_by_css_selector('img.rg_i.Q4LuWd')\n",
    "len(images)"
   ]
  },
  {
   "cell_type": "code",
   "execution_count": 9,
   "id": "a48f07f0",
   "metadata": {},
   "outputs": [],
   "source": [
    "import time"
   ]
  },
  {
   "cell_type": "code",
   "execution_count": null,
   "id": "dd3d240e",
   "metadata": {},
   "outputs": [],
   "source": []
  },
  {
   "cell_type": "code",
   "execution_count": null,
   "id": "fe381eab",
   "metadata": {
    "collapsed": true
   },
   "outputs": [
    {
     "name": "stderr",
     "output_type": "stream",
     "text": [
      "C:\\Users\\bitcamp\\AppData\\Local\\Temp/ipykernel_5636/2943926797.py:5: DeprecationWarning: find_element_by_* commands are deprecated. Please use find_element() instead\n",
      "  elem = driver.find_element_by_xpath('//*[@id=\"Sva75c\"]/div/div/div[3]/div[2]/c-wiz/div/div[1]/div[1]/div[2]/div/a/img')\n"
     ]
    },
    {
     "name": "stdout",
     "output_type": "stream",
     "text": [
      "0 https://www.thedailypost.kr/news/photo/201907/70286_61128_1623.jpg\n",
      "1 https://fpost.co.kr/board/data/editor/2109/5a7f94599dc81c5f7f9ea8b5eaf0184d_1632557064_2498.jpg\n",
      "2 http://res.heraldm.com/content/image/2019/01/10/20190110000313_0.jpg\n",
      "3 https://t1.daumcdn.net/thumb/R720x0/?fname=http://t1.daumcdn.net/brunch/service/user/g7Y/image/QoUPiRwBMJoYAppVWNhMq4v8l-o\n",
      "4 https://cdn.epnc.co.kr/news/photo/201907/91021_81259_3048.jpg\n",
      "5 https://www.diabetes.or.kr/new_workshop/201403/image/ogoo/10.jpg\n",
      "6 data:image/png;base64,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\n"
     ]
    },
    {
     "name": "stdout",
     "output_type": "stream",
     "text": [
      "7 https://cdn.aitimes.com/news/photo/202108/140208_141439_440.jpg\n",
      "8 https://security.iscu.ac.kr/assets/images/sample/mov_680x382.jpg\n",
      "9 https://t1.daumcdn.net/cfile/tistory/2328834E55A5A64434\n",
      "10 https://img.kr.news.samsung.com/kr/wp-content/uploads/2014/10/0164.jpg\n",
      "11 http://image.edaily.co.kr/images/photo/files/NP/S/2021/09/PS21091000111.jpg\n",
      "13 http://www.medigatenews.com/file/news/162819\n",
      "15 http://www.nextdaily.co.kr/news/photo/202109/100080_118518.jpg\n",
      "16 http://cdn.news.unn.net/news/photo/202006/230842_115775_2737.jpg\n"
     ]
    }
   ],
   "source": [
    "for i, img in enumerate(images):\n",
    "    try:\n",
    "        img.click()\n",
    "        time.sleep(2)\n",
    "        elem = driver.find_element_by_xpath('//*[@id=\"Sva75c\"]/div/div/div[3]/div[2]/c-wiz/div/div[1]/div[1]/div[2]/div/a/img')\n",
    "        time.sleep(1)\n",
    "        imgUrl =elem.get_attribute('src')\n",
    "        print(i, imgUrl)\n",
    "        urllib.request.urlretrieve(imgUrl, '빅데이터'+str(i) + '.jpg')\n",
    "    except:\n",
    "        pass"
   ]
  },
  {
   "cell_type": "code",
   "execution_count": null,
   "id": "398c0b14",
   "metadata": {},
   "outputs": [],
   "source": []
  },
  {
   "cell_type": "code",
   "execution_count": null,
   "id": "c84e6f37",
   "metadata": {},
   "outputs": [],
   "source": []
  },
  {
   "cell_type": "code",
   "execution_count": null,
   "id": "03fbeb11",
   "metadata": {},
   "outputs": [],
   "source": []
  },
  {
   "cell_type": "code",
   "execution_count": null,
   "id": "62b68b6a",
   "metadata": {},
   "outputs": [],
   "source": []
  },
  {
   "cell_type": "code",
   "execution_count": null,
   "id": "fd19d7c6",
   "metadata": {},
   "outputs": [],
   "source": []
  },
  {
   "cell_type": "code",
   "execution_count": null,
   "id": "1dc4c48d",
   "metadata": {},
   "outputs": [],
   "source": []
  }
 ],
 "metadata": {
  "kernelspec": {
   "display_name": "Python 3 (ipykernel)",
   "language": "python",
   "name": "python3"
  },
  "language_info": {
   "codemirror_mode": {
    "name": "ipython",
    "version": 3
   },
   "file_extension": ".py",
   "mimetype": "text/x-python",
   "name": "python",
   "nbconvert_exporter": "python",
   "pygments_lexer": "ipython3",
   "version": "3.9.7"
  }
 },
 "nbformat": 4,
 "nbformat_minor": 5
}
