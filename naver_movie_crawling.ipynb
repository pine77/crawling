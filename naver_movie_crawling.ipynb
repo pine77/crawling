{
 "cells": [
  {
   "cell_type": "code",
   "execution_count": 2,
   "id": "fda7a8b0",
   "metadata": {},
   "outputs": [],
   "source": [
    "# 네이버 영화 평점 및 후기 크롤링..\n",
    "\n",
    "# https://movie.naver.com/movie/point/af/list.nhn"
   ]
  },
  {
   "cell_type": "code",
   "execution_count": 3,
   "id": "d0b11c10",
   "metadata": {},
   "outputs": [],
   "source": [
    "# 10 page까지..\n",
    "# 제목, 평점, 후기, 날짜.."
   ]
  },
  {
   "cell_type": "code",
   "execution_count": 4,
   "id": "b9b2cb40",
   "metadata": {},
   "outputs": [],
   "source": [
    "import requests\n",
    "from bs4 import BeautifulSoup"
   ]
  },
  {
   "cell_type": "code",
   "execution_count": 23,
   "id": "fe2bd76f",
   "metadata": {},
   "outputs": [],
   "source": [
    "url = 'https://movie.naver.com/movie/point/af/list.naver?&page=1'"
   ]
  },
  {
   "cell_type": "code",
   "execution_count": 24,
   "id": "c7373214",
   "metadata": {},
   "outputs": [],
   "source": [
    "res = requests.get(url)\n",
    "soup = BeautifulSoup(res.text, 'html.parser')"
   ]
  },
  {
   "cell_type": "code",
   "execution_count": 82,
   "id": "882ec43c",
   "metadata": {},
   "outputs": [
    {
     "data": {
      "text/plain": [
       "11"
      ]
     },
     "execution_count": 82,
     "metadata": {},
     "output_type": "execute_result"
    }
   ],
   "source": [
    "path = 'table  tr'\n",
    "tags = soup.select(path)\n",
    "len(tags)"
   ]
  },
  {
   "cell_type": "code",
   "execution_count": 88,
   "id": "be6ead3b",
   "metadata": {},
   "outputs": [
    {
     "data": {
      "text/plain": [
       "<tr>\n",
       "<td class=\"ac num\">17917157</td>\n",
       "<td class=\"title\">\n",
       "<a class=\"movie color_b\" href=\"?st=mcode&amp;sword=187320&amp;target=after\">씽2게더</a>\n",
       "<div class=\"list_netizen_score\">\n",
       "<span class=\"st_off\"><span class=\"st_on\" style=\"width:100%\">별점 - 총 10점 중</span></span><em>10</em>\n",
       "</div>\n",
       "<br/>1보다 좋은데요!? 강력 추천합니다! 남녀노소 다 좋아할것 같아요~~! \n",
       "\t\t\t\n",
       "\t\t\t\n",
       "\t\t\t\n",
       "\t\t\t\t\n",
       "\t\t\t\t\n",
       "\t\t\t\t\n",
       "\t\t\t\t<a class=\"report\" href=\"#\" onclick=\"report('eune****', 'uIskmVHy2MSeFQ0mLcfTXv3xiLBve1w3Y+ui6Qn2H/Q=', '1보다 좋은데요!? 강력 추천합니다! 남녀노소 다 좋아할것 같아요~~!', '17917157', 'point_after');\" style=\"color:#8F8F8F\" title=\"새 창\">신고</a>\n",
       "</td>\n",
       "<td class=\"num\"><a class=\"author\" href=\"javascript:find_list('nickname','17917157', 'after');\">eune****</a><br/>22.01.20</td>\n",
       "</tr>"
      ]
     },
     "execution_count": 88,
     "metadata": {},
     "output_type": "execute_result"
    }
   ],
   "source": [
    "tags[2]"
   ]
  },
  {
   "cell_type": "code",
   "execution_count": 90,
   "id": "b3b212b2",
   "metadata": {},
   "outputs": [
    {
     "data": {
      "text/plain": [
       "[<a class=\"movie color_b\" href=\"?st=mcode&amp;sword=187320&amp;target=after\">씽2게더</a>]"
      ]
     },
     "execution_count": 90,
     "metadata": {},
     "output_type": "execute_result"
    }
   ],
   "source": [
    "path  ='#old_content > table > tbody > tr:nth-child(1) > td.title > a.movie.color_b'\n",
    "path  ='td.title > a.movie.color_b'\n",
    "\n",
    "titles = tags[2].select(path)\n",
    "titles "
   ]
  },
  {
   "cell_type": "code",
   "execution_count": 91,
   "id": "467c777a",
   "metadata": {},
   "outputs": [
    {
     "data": {
      "text/plain": [
       "[<em>10</em>]"
      ]
     },
     "execution_count": 91,
     "metadata": {},
     "output_type": "execute_result"
    }
   ],
   "source": [
    "path = 'td.title > div > em'\n",
    "rating = tags[2].select(path)\n",
    "rating "
   ]
  },
  {
   "cell_type": "code",
   "execution_count": 96,
   "id": "a8c92fed",
   "metadata": {},
   "outputs": [
    {
     "data": {
      "text/plain": [
       "'1보다 좋은데요!? 강력 추천합니다! 남녀노소 다 좋아할것 같아요~~! '"
      ]
     },
     "execution_count": 96,
     "metadata": {},
     "output_type": "execute_result"
    }
   ],
   "source": [
    "path = 'td.title'\n",
    "text = tags[2].select(path)[0].text.split('\\n')[5]\n",
    "text"
   ]
  },
  {
   "cell_type": "code",
   "execution_count": 58,
   "id": "a1d3ba89",
   "metadata": {},
   "outputs": [
    {
     "data": {
      "text/plain": [
       "'22.01.20'"
      ]
     },
     "execution_count": 58,
     "metadata": {},
     "output_type": "execute_result"
    }
   ],
   "source": [
    "path = 'tr > td.num'\n",
    "date = tags[2].select(path)[1].text[-8:]\n",
    "date"
   ]
  },
  {
   "cell_type": "code",
   "execution_count": 98,
   "id": "164fde6c",
   "metadata": {
    "collapsed": true
   },
   "outputs": [
    {
     "name": "stdout",
     "output_type": "stream",
     "text": [
      "title : 특송\n",
      "8\n",
      "내용도 신선했고 재미있었어요~ \n",
      "22.01.20\n",
      "=================\n",
      "title : 씽2게더\n",
      "10\n",
      "1보다 좋은데요!? 강력 추천합니다! 남녀노소 다 좋아할것 같아요~~! \n",
      "22.01.20\n",
      "=================\n",
      "title : 특송\n",
      "10\n",
      "카액신도 흥미로웠고 영화가 끝나고도 음악이 귀에 맴돈다ㅋㅋㅋ \n",
      "22.01.20\n",
      "=================\n",
      "title : 다이 하드 3\n",
      "10\n",
      "다이하드 시리즈는 전부 다 재미 있게 봤지만 개인적으로는 3편이 최고였다. 다른 편들은 두세 번 봤는데 이 것만 다섯 번 볼 정도. 아마 본다면 대부분은 후회 안 하실 것 같다. \n",
      "22.01.20\n",
      "=================\n",
      "title : 특송\n",
      "10\n",
      "배우들 연기 넘 좋구요 아역배우 넘 귀여워ㅋㅋ \n",
      "22.01.20\n",
      "=================\n",
      "title : 스파이더맨: 노 웨이 홈\n",
      "2\n",
      "어거지부리는 내용 진짜짜증났음..돌려보냈음됐지 왠착한척온갖다하면서.'  세상의피해는다주는' ...전작중에제일최악임 \n",
      "22.01.20\n",
      "=================\n",
      "title : 특송\n",
      "10\n",
      "스피드한 자동차 추격전과 배우들의 연기가 돋보인다! \n",
      "22.01.20\n",
      "=================\n",
      "title : 레드 노티스\n",
      "3\n",
      "돈만 갖다부었다.. 20년전 헐리웃 오락영화 수준 \n",
      "22.01.20\n",
      "=================\n",
      "title : 도쿄 리벤저스\n",
      "8\n",
      "원작 모르는데 재밌게 봤어요 \n",
      "22.01.20\n",
      "=================\n",
      "title : 미드나이트\n",
      "10\n",
      " 하준 오빠 사이코패스 연기 진짜 소름 돋게 봤습니다 진짜.. 다시 봐도 개꿀 잼이고요 저 영화 3번 이상 돌려봤어요.. ㄷ 미드나이트 꼭 보시길 바래요.. ㄷ 현재 드라마 중인 배드 앤 크레이지 파이팅!! \n",
      "22.01.20\n",
      "=================\n"
     ]
    }
   ],
   "source": [
    "for tag in tags[1:]:\n",
    "    path  ='td.title > a.movie.color_b'\n",
    "    titles = tag.select(path)[0].text\n",
    "    \n",
    "    path = 'td.title > div > em'\n",
    "    rating = tag.select(path)[0].text\n",
    "    \n",
    "    path = 'td.title'\n",
    "    text = tag.select(path)[0].text.split('\\n')[5]\n",
    "    \n",
    "    path = 'tr > td.num'\n",
    "    date = tag.select(path)[1].text[-8:]\n",
    "    \n",
    "    print('title :', titles)\n",
    "    print(rating)\n",
    "    print(text)\n",
    "    print(date)\n",
    "    \n",
    "    print('=================')"
   ]
  },
  {
   "cell_type": "code",
   "execution_count": null,
   "id": "6d991515",
   "metadata": {},
   "outputs": [],
   "source": []
  },
  {
   "cell_type": "code",
   "execution_count": 102,
   "id": "01479303",
   "metadata": {},
   "outputs": [
    {
     "name": "stdout",
     "output_type": "stream",
     "text": [
      "title : 뉴 뮤턴트\n",
      "rating : 3\n",
      "text : 안야 테일러 조이말고는 전부 다 별로임 \n",
      "date : 22.01.20\n",
      "=================\n",
      "title : 장고:분노의 추적자\n",
      "rating : 10\n",
      "text : 영화 마지막 부분은 진짜 레전드다..ㅋㅋㅋㅋ러닝타임이 이렇게 길어도 절대 지루하지 않은 영화 \n",
      "date : 22.01.20\n",
      "=================\n",
      "title : 돈 룩 업\n",
      "rating : 9\n",
      "text : 평점이 왜 일케 낮음? 최소 9점이상은 될 줄 알았는 데? 몇년만에 본 정말 괜찮은 영화임. 너무 현실적이라 보면서 더 씁쓸했음. 웃긴데 안 웃김. 넷플릭스에서 러닝타임 길어서 계속 망설이다 시간나서 봤는 데 시간 가는 줄 모르고 봤음. \n",
      "date : 22.01.20\n",
      "=================\n",
      "title : 스파이더맨: 노 웨이 홈\n",
      "rating : 10\n",
      "text : 미쳤다 말이 필요 없음. \n",
      "date : 22.01.20\n",
      "=================\n",
      "title : 이터널스\n",
      "rating : 1\n",
      "text : 솔직히 말한다 국뽕으로도 봐주기가 힘들다.  마블팬 이지만 자꾸 상치랑 이딴 쓰레기들 자꾸 양산하면서 기대가 사라지냉 타노스에서 끊어라 \n",
      "date : 22.01.20\n",
      "=================\n",
      "title : 마더/안드로이드\n",
      "rating : 8\n",
      "text : \n",
      "date : 22.01.20\n",
      "=================\n",
      "title : 킹스맨: 퍼스트 에이전트\n",
      "rating : 7\n",
      "text : 유쾌하고 나름 볼만 했습니다 \n",
      "date : 22.01.20\n",
      "=================\n",
      "title : 이터널스\n",
      "rating : 1\n",
      "text : 마블이라 봤음 .힘들었음.감상 포인트가 없음.등록이 안되서... \n",
      "date : 22.01.20\n",
      "=================\n",
      "title : 스파이더맨: 노 웨이 홈\n",
      "rating : 7\n",
      "text : 스파이더맨 종합선물세트 \n",
      "date : 22.01.20\n",
      "=================\n",
      "title : 씽2게더\n",
      "rating : 10\n",
      "text : 역시 애니메이션 명가 일루미네이션 이번에도 날 실망시키지 않았다 \n",
      "date : 22.01.20\n",
      "=================\n",
      "title : 프라미싱 영 우먼\n",
      "rating : 10\n",
      "text : 이것은 현실이다. \n",
      "date : 22.01.20\n",
      "=================\n",
      "title : 웨스트 사이드 스토리\n",
      "rating : 9\n",
      "text : 영화 보는 동안 1950년대 뉴욕으로 간것같음 \n",
      "date : 22.01.20\n",
      "=================\n",
      "title : 킹스맨: 퍼스트 에이전트\n",
      "rating : 6\n",
      "text : 전 시리즈와는 다른 느낌이라 기대했던 킹스맨은 아니었던 것 같습니다. 재미가 없는 건 아닌데 재미있지도 않았던 것 같네요... \n",
      "date : 22.01.20\n",
      "=================\n",
      "title : 특송\n",
      "rating : 10\n",
      "text : 주,조연 모두 연기가 너무 좋았고 자동차 운전씬이 너무 멋졌어요 \n",
      "date : 22.01.20\n",
      "=================\n",
      "title : 웨스트 사이드 스토리\n",
      "rating : 1\n",
      "text : 최악 그리고 최악 보는 내내 힘들었다. \n",
      "date : 22.01.20\n",
      "=================\n",
      "title : 서스페리아\n",
      "rating : 1\n",
      "text : 개노잼ㅋㅋ 나 공포 고어 호러 스릴러 매니아인데 이건 뭐 하나도 안무섭고 긴장 1도 없고, 일루미나티 요소 범벅 투성일뿐;; 진심 시간 아깝다 \n",
      "date : 22.01.20\n",
      "=================\n",
      "title : 레지던트 이블: 라쿤시티\n",
      "rating : 5\n",
      "text : 원작하고 가깝게 연출했는데 보스나올때 좀 더 긴장감있게 끌었으면 하고 아쉬움이 있음 \n",
      "date : 22.01.20\n",
      "=================\n",
      "title : 특송\n",
      "rating : 10\n",
      "text : 액션 짜릿하고 재미있게 보고 왔어요ㅎㅎ \n",
      "date : 22.01.20\n",
      "=================\n",
      "title : 특송\n",
      "rating : 10\n",
      "text : 배우들의 연기, 액션 다 좋네요 \n",
      "date : 22.01.20\n",
      "=================\n",
      "title : 고양이를 빌려드립니다\n",
      "rating : 10\n",
      "text : 이 영화를 통해 마음 속의 구멍이 채워졌다 \n",
      "date : 22.01.20\n",
      "=================\n"
     ]
    }
   ],
   "source": [
    "for i in range(1,3):\n",
    "    \n",
    "    url = 'https://movie.naver.com/movie/point/af/list.naver?&page={}'.format(i)\n",
    "    \n",
    "    res = requests.get(url)\n",
    "    soup = BeautifulSoup(res.text, 'html.parser')\n",
    "    \n",
    "    path = 'table  tr'\n",
    "    tags = soup.select(path)\n",
    "        \n",
    "    for tag in tags[1:]:\n",
    "        path  ='td.title > a.movie.color_b'\n",
    "        titles = tag.select(path)[0].text\n",
    "\n",
    "        path = 'td.title > div > em'\n",
    "        rating = tag.select(path)[0].text\n",
    "\n",
    "        path = 'td.title'\n",
    "        text = tag.select(path)[0].text.split('\\n')[5]\n",
    "\n",
    "        path = 'tr > td.num'\n",
    "        date = tag.select(path)[1].text[-8:]\n",
    "\n",
    "        print('title :', titles)\n",
    "        print('rating :', rating)\n",
    "        print('text :', text)\n",
    "        print('date :', date)\n",
    "\n",
    "        print('=================')"
   ]
  },
  {
   "cell_type": "code",
   "execution_count": null,
   "id": "21779cf3",
   "metadata": {},
   "outputs": [],
   "source": []
  },
  {
   "cell_type": "code",
   "execution_count": null,
   "id": "39e99828",
   "metadata": {},
   "outputs": [],
   "source": []
  },
  {
   "cell_type": "code",
   "execution_count": null,
   "id": "6ac68a47",
   "metadata": {},
   "outputs": [],
   "source": []
  },
  {
   "cell_type": "code",
   "execution_count": null,
   "id": "9512f6f3",
   "metadata": {},
   "outputs": [],
   "source": []
  }
 ],
 "metadata": {
  "kernelspec": {
   "display_name": "Python 3 (ipykernel)",
   "language": "python",
   "name": "python3"
  },
  "language_info": {
   "codemirror_mode": {
    "name": "ipython",
    "version": 3
   },
   "file_extension": ".py",
   "mimetype": "text/x-python",
   "name": "python",
   "nbconvert_exporter": "python",
   "pygments_lexer": "ipython3",
   "version": "3.9.7"
  }
 },
 "nbformat": 4,
 "nbformat_minor": 5
}
