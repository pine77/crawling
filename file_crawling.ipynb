{
 "cells": [
  {
   "cell_type": "code",
   "execution_count": 1,
   "id": "e7102e13",
   "metadata": {},
   "outputs": [],
   "source": [
    "import requests\n",
    "from bs4 import BeautifulSoup"
   ]
  },
  {
   "cell_type": "code",
   "execution_count": 2,
   "id": "0d1dd86e",
   "metadata": {},
   "outputs": [],
   "source": [
    "url = 'http://www.xkcd.com'"
   ]
  },
  {
   "cell_type": "code",
   "execution_count": 3,
   "id": "9c32752b",
   "metadata": {},
   "outputs": [],
   "source": [
    "res = requests.get(url)\n",
    "soup = BeautifulSoup(res.text, 'html.parser')"
   ]
  },
  {
   "cell_type": "code",
   "execution_count": 4,
   "id": "b9122807",
   "metadata": {},
   "outputs": [],
   "source": [
    "path = '#comic > img'"
   ]
  },
  {
   "cell_type": "code",
   "execution_count": 5,
   "id": "1eef5382",
   "metadata": {},
   "outputs": [
    {
     "data": {
      "text/plain": [
       "[<img alt=\"Captain Picard Tea Order\" src=\"//imgs.xkcd.com/comics/captain_picard_tea_order.png\" srcset=\"//imgs.xkcd.com/comics/captain_picard_tea_order_2x.png 2x\" style=\"image-orientation:none\" title=\"We can ask the Earl for his order once he's fully extruded from the dispenser.\"/>]"
      ]
     },
     "execution_count": 5,
     "metadata": {},
     "output_type": "execute_result"
    }
   ],
   "source": [
    "tag = soup.select(path)\n",
    "tag"
   ]
  },
  {
   "cell_type": "code",
   "execution_count": 8,
   "id": "bfe514a0",
   "metadata": {},
   "outputs": [
    {
     "data": {
      "text/plain": [
       "'http://imgs.xkcd.com/comics/captain_picard_tea_order.png'"
      ]
     },
     "execution_count": 8,
     "metadata": {},
     "output_type": "execute_result"
    }
   ],
   "source": [
    "img_url = tag[0]['src']\n",
    "img_url = 'http:' + img_url\n",
    "img_url"
   ]
  },
  {
   "cell_type": "code",
   "execution_count": 9,
   "id": "b492ae1c",
   "metadata": {},
   "outputs": [
    {
     "data": {
      "text/plain": [
       "('xkcd_1.jpg', <http.client.HTTPMessage at 0x19f170efb50>)"
      ]
     },
     "execution_count": 9,
     "metadata": {},
     "output_type": "execute_result"
    }
   ],
   "source": [
    "import urllib\n",
    "urllib.request.urlretrieve(img_url, 'xkcd_1.jpg')"
   ]
  },
  {
   "cell_type": "code",
   "execution_count": 11,
   "id": "9863eddb",
   "metadata": {
    "collapsed": true
   },
   "outputs": [
    {
     "data": {
      "text/plain": [
       "['.ipynb_checkpoints',\n",
       " 'Crawling_basic.ipynb',\n",
       " 'file_crawling.ipynb',\n",
       " 'html1.html',\n",
       " 'HTML_basic_crawling.ipynb',\n",
       " 'imdb_crawling_1.ipynb',\n",
       " 'index.html',\n",
       " 'index1.html',\n",
       " 'index2.html',\n",
       " 'index3.html',\n",
       " 'movies.csv',\n",
       " 'xkcd_1.jpg']"
      ]
     },
     "execution_count": 11,
     "metadata": {},
     "output_type": "execute_result"
    }
   ],
   "source": [
    "import os \n",
    "os.listdir()"
   ]
  },
  {
   "cell_type": "code",
   "execution_count": null,
   "id": "485f513b",
   "metadata": {},
   "outputs": [],
   "source": []
  },
  {
   "cell_type": "code",
   "execution_count": null,
   "id": "e7d7f869",
   "metadata": {},
   "outputs": [],
   "source": [
    "# xkcd.com에서 2560~2569 번 이미지 크롤링 하기..."
   ]
  },
  {
   "cell_type": "code",
   "execution_count": 13,
   "id": "1dadb92e",
   "metadata": {},
   "outputs": [],
   "source": [
    "for i in range(2560, 2570):\n",
    "    url = 'http://www.xkcd.com/{}'.format(i)\n",
    "#     print(url)\n",
    "    res = requests.get(url)\n",
    "    soup = BeautifulSoup(res.text, 'html.parser')\n",
    "    \n",
    "    path = '#comic > img'\n",
    "    tag = soup.select(path)\n",
    "    \n",
    "    img_url = tag[0]['src']\n",
    "    img_url = 'http:' + img_url\n",
    "    \n",
    "    urllib.request.urlretrieve(img_url, 'xkcd_{}.jpg'.format(i))\n",
    "    "
   ]
  },
  {
   "cell_type": "code",
   "execution_count": 14,
   "id": "31bc489e",
   "metadata": {},
   "outputs": [
    {
     "data": {
      "text/plain": [
       "['.ipynb_checkpoints',\n",
       " 'Crawling_basic.ipynb',\n",
       " 'file_crawling.ipynb',\n",
       " 'html1.html',\n",
       " 'HTML_basic_crawling.ipynb',\n",
       " 'imdb_crawling_1.ipynb',\n",
       " 'index.html',\n",
       " 'index1.html',\n",
       " 'index2.html',\n",
       " 'index3.html',\n",
       " 'movies.csv',\n",
       " 'xkcd_1.jpg',\n",
       " 'xkcd_2560.jpg',\n",
       " 'xkcd_2561.jpg',\n",
       " 'xkcd_2562.jpg',\n",
       " 'xkcd_2563.jpg',\n",
       " 'xkcd_2564.jpg',\n",
       " 'xkcd_2565.jpg',\n",
       " 'xkcd_2566.jpg',\n",
       " 'xkcd_2567.jpg',\n",
       " 'xkcd_2568.jpg',\n",
       " 'xkcd_2569.jpg']"
      ]
     },
     "execution_count": 14,
     "metadata": {},
     "output_type": "execute_result"
    }
   ],
   "source": [
    "os.listdir()"
   ]
  },
  {
   "cell_type": "code",
   "execution_count": null,
   "id": "09a564c3",
   "metadata": {},
   "outputs": [],
   "source": []
  }
 ],
 "metadata": {
  "kernelspec": {
   "display_name": "Python 3 (ipykernel)",
   "language": "python",
   "name": "python3"
  },
  "language_info": {
   "codemirror_mode": {
    "name": "ipython",
    "version": 3
   },
   "file_extension": ".py",
   "mimetype": "text/x-python",
   "name": "python",
   "nbconvert_exporter": "python",
   "pygments_lexer": "ipython3",
   "version": "3.9.7"
  }
 },
 "nbformat": 4,
 "nbformat_minor": 5
}
