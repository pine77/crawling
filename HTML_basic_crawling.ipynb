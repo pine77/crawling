{
 "cells": [
  {
   "cell_type": "code",
   "execution_count": 1,
   "id": "8ced7355",
   "metadata": {},
   "outputs": [],
   "source": [
    "## crawling (scrapting)\n",
    "# web에서 데이터를 프로그램을 통해서 가져오는 작업..\n",
    "\n",
    "## web을 구성하는 언어..\n",
    "# html라는 스크립트 언어로 구성..\n",
    "# css는 html을 꾸며주는 언어..\n",
    "# javascript는 html을 동적으로 작동할 수 있도록 하는 언어..\n",
    "\n",
    "## html\n",
    "# 기본 구조는 태그 - 여는 태그 '<'와 닫는 태구 '>'\n",
    "# 태그는 계층적으로 구성되어 있다.. 상위  하위\n",
    "# <body> :여는 태그, </body> 닫는태그 - 쌍으로 구성,  "
   ]
  },
  {
   "cell_type": "code",
   "execution_count": 2,
   "id": "94f9b66d",
   "metadata": {},
   "outputs": [
    {
     "ename": "SyntaxError",
     "evalue": "invalid syntax (<ipython-input-2-533ed940f767>, line 1)",
     "output_type": "error",
     "traceback": [
      "\u001b[1;36m  File \u001b[1;32m\"<ipython-input-2-533ed940f767>\"\u001b[1;36m, line \u001b[1;32m1\u001b[0m\n\u001b[1;33m    <html>   # html 선언하는 태그\u001b[0m\n\u001b[1;37m    ^\u001b[0m\n\u001b[1;31mSyntaxError\u001b[0m\u001b[1;31m:\u001b[0m invalid syntax\n"
     ]
    }
   ],
   "source": [
    "<html>   # html 선언하는 태그\n",
    "\n",
    "    <head>   # html script에 대한 기본 정보 : 주제, 누가, protocol, 시간, encoding\n",
    "        web page meta 정보\n",
    "    </head>\n",
    "    \n",
    "    <body>  # 실제로 웹브라우저에서 보여지는 부분\n",
    "        웹페이지에 보여지는 콘텐츠가 들어가는 부분..\n",
    "        <p> 문단을 나타냅니다</p>\n",
    "        <div> <h3> 제목을 나타닙니다</h3> </div>\n",
    "    </body>\n",
    "    \n",
    "</html>"
   ]
  },
  {
   "cell_type": "code",
   "execution_count": null,
   "id": "73b185b3",
   "metadata": {},
   "outputs": [],
   "source": [
    "<html>   \n",
    "\n",
    "    <head>   \n",
    "        \n",
    "    </head>\n",
    "    \n",
    "    <body>  \n",
    "    \n",
    "    <table border = 1>\n",
    "        <tr> \n",
    "            <td>항목</td>\n",
    "            <td>2013</td>\n",
    "            <td>2014</td>        \n",
    "        </tr>\n",
    "        <tr> \n",
    "            <td>매출액</td>\n",
    "            <td>100</td>\n",
    "            <td>200</td>        \n",
    "        </tr>        \n",
    "        \n",
    "    </table>\n",
    "    \n",
    "    </body>\n",
    "    \n",
    "</html>"
   ]
  },
  {
   "cell_type": "code",
   "execution_count": null,
   "id": "06a5a674",
   "metadata": {},
   "outputs": [],
   "source": [
    "# css\n",
    "\n",
    "<html>\n",
    "    <head>\n",
    "        <style>   # css : 태그에 효과를 주는 css\n",
    "             p {color: blue;}   # p태그의 색을 파란색으로 표현\n",
    "             div {color : red;}  # div태그의 색을 붉은 색으로 표현..\n",
    "        </style>    \n",
    "    </head>\n",
    "    \n",
    "    <body>\n",
    "        <p> paragraph1 </p>    # 문단 태그\n",
    "        <p> paragraph2 </p>\n",
    "        <div> paragraph1 </div>    # 엘리먼트들을 하나의 덩어리로 묶는 태그\n",
    "    </body>\n",
    "</html>"
   ]
  },
  {
   "cell_type": "code",
   "execution_count": null,
   "id": "fc35eef3",
   "metadata": {},
   "outputs": [],
   "source": [
    "# css\n",
    "\n",
    "<html>\n",
    "    <head>\n",
    "        <style>   # css : 태그에 효과를 주는 css\n",
    "             #title{color: blue;}   # id설정 :  #id이름{옵션....}, 한 곳에만 적용\n",
    "             .par{color : red;}  # class설정 :  .class이름{옵션...}, 여러 곳에 중복 적용\n",
    "        </style>    \n",
    "    </head>\n",
    "    \n",
    "    <body>\n",
    "        <p id='title'> paragraph1 </p>    # 문단 태그\n",
    "        <p class='par'> paragraph2 </p>\n",
    "        <div class='par'> paragraph1 </div>    # 엘리먼트들을 하나의 덩어리로 묶는 태그\n",
    "    </body>\n",
    "</html>"
   ]
  },
  {
   "cell_type": "code",
   "execution_count": null,
   "id": "ae8cc088",
   "metadata": {},
   "outputs": [],
   "source": []
  },
  {
   "cell_type": "code",
   "execution_count": null,
   "id": "919b05cf",
   "metadata": {},
   "outputs": [],
   "source": [
    "# 모듈을 설치\n",
    "# pip intall module_name\n",
    "# conda install modul_name"
   ]
  },
  {
   "cell_type": "code",
   "execution_count": 4,
   "id": "bc606495",
   "metadata": {},
   "outputs": [],
   "source": [
    "# conda install bs4\n",
    "\n",
    "from bs4 import BeautifulSoup"
   ]
  },
  {
   "cell_type": "code",
   "execution_count": 5,
   "id": "1c1cf384",
   "metadata": {},
   "outputs": [],
   "source": [
    "html = \"\"\"\n",
    "<html> \n",
    "<head>   \n",
    "</head>\n",
    "    \n",
    "    <body>  \n",
    "    \n",
    "    <table border = 1>\n",
    "        <tr> \n",
    "            <td>항목</td>\n",
    "            <td>2013</td>\n",
    "            <td>2014</td>        \n",
    "        </tr>\n",
    "        <tr> \n",
    "            <td>매출액</td>\n",
    "            <td>100</td>\n",
    "            <td>200</td>        \n",
    "        </tr>         \n",
    "    </table>\n",
    "    \n",
    "    </body>\n",
    "    \n",
    "</html>\n",
    "\"\"\""
   ]
  },
  {
   "cell_type": "code",
   "execution_count": 6,
   "id": "3cfb4189",
   "metadata": {},
   "outputs": [
    {
     "data": {
      "text/plain": [
       "'\\n<html> \\n<head>   \\n</head>\\n    \\n    <body>  \\n    \\n    <table border = 1>\\n        <tr> \\n            <td>항목</td>\\n            <td>2013</td>\\n            <td>2014</td>        \\n        </tr>\\n        <tr> \\n            <td>매출액</td>\\n            <td>100</td>\\n            <td>200</td>        \\n        </tr>         \\n    </table>\\n    \\n    </body>\\n    \\n</html>\\n'"
      ]
     },
     "execution_count": 6,
     "metadata": {},
     "output_type": "execute_result"
    }
   ],
   "source": [
    "html"
   ]
  },
  {
   "cell_type": "code",
   "execution_count": 7,
   "id": "2cab6f68",
   "metadata": {},
   "outputs": [
    {
     "data": {
      "text/plain": [
       "\n",
       "<html>\n",
       "<head>\n",
       "</head>\n",
       "<body>\n",
       "<table border=\"1\">\n",
       "<tr>\n",
       "<td>항목</td>\n",
       "<td>2013</td>\n",
       "<td>2014</td>\n",
       "</tr>\n",
       "<tr>\n",
       "<td>매출액</td>\n",
       "<td>100</td>\n",
       "<td>200</td>\n",
       "</tr>\n",
       "</table>\n",
       "</body>\n",
       "</html>"
      ]
     },
     "execution_count": 7,
     "metadata": {},
     "output_type": "execute_result"
    }
   ],
   "source": [
    "soup = BeautifulSoup(html, 'html.parser')\n",
    "soup"
   ]
  },
  {
   "cell_type": "code",
   "execution_count": 8,
   "id": "996ed015",
   "metadata": {},
   "outputs": [
    {
     "data": {
      "text/plain": [
       "[<td>항목</td>,\n",
       " <td>2013</td>,\n",
       " <td>2014</td>,\n",
       " <td>매출액</td>,\n",
       " <td>100</td>,\n",
       " <td>200</td>]"
      ]
     },
     "execution_count": 8,
     "metadata": {},
     "output_type": "execute_result"
    }
   ],
   "source": [
    "soup.select('td')"
   ]
  },
  {
   "cell_type": "code",
   "execution_count": 9,
   "id": "0d2c2f40",
   "metadata": {},
   "outputs": [
    {
     "data": {
      "text/plain": [
       "<td>항목</td>"
      ]
     },
     "execution_count": 9,
     "metadata": {},
     "output_type": "execute_result"
    }
   ],
   "source": [
    "soup.select('td')[0]"
   ]
  },
  {
   "cell_type": "code",
   "execution_count": 10,
   "id": "7c969a48",
   "metadata": {},
   "outputs": [
    {
     "data": {
      "text/plain": [
       "'항목'"
      ]
     },
     "execution_count": 10,
     "metadata": {},
     "output_type": "execute_result"
    }
   ],
   "source": [
    "soup.select('td')[0].text"
   ]
  },
  {
   "cell_type": "code",
   "execution_count": 11,
   "id": "4f09cdb9",
   "metadata": {},
   "outputs": [],
   "source": [
    "### 'td' 태그 내에 있는 텍스트를 모두 출력하시오.."
   ]
  },
  {
   "cell_type": "code",
   "execution_count": 12,
   "id": "918de9ba",
   "metadata": {},
   "outputs": [
    {
     "name": "stdout",
     "output_type": "stream",
     "text": [
      "항목\n",
      "2013\n",
      "2014\n",
      "매출액\n",
      "100\n",
      "200\n"
     ]
    }
   ],
   "source": [
    "for t in soup.select('td'):\n",
    "    print(t.text)"
   ]
  },
  {
   "cell_type": "code",
   "execution_count": 13,
   "id": "6a3994c2",
   "metadata": {},
   "outputs": [
    {
     "name": "stdout",
     "output_type": "stream",
     "text": [
      "0 항목\n",
      "1 2013\n",
      "2 2014\n",
      "3 매출액\n",
      "4 100\n",
      "5 200\n"
     ]
    }
   ],
   "source": [
    "for i, t in enumerate(soup.select('td')):\n",
    "    print(i, t.text)"
   ]
  },
  {
   "cell_type": "code",
   "execution_count": null,
   "id": "0c723642",
   "metadata": {},
   "outputs": [],
   "source": []
  },
  {
   "cell_type": "code",
   "execution_count": 14,
   "id": "194cfdaa",
   "metadata": {},
   "outputs": [],
   "source": [
    "html = \"\"\"\n",
    "<body>\n",
    "<div>\n",
    "    <div class='snack'>\n",
    "        <p id='first'> 양파링</p>\n",
    "        <p id='second'> 새우깡</p>\n",
    "        <p> 초코파이</p>\n",
    "        <p class='sweet'> 맛동산 </p>\n",
    "        \n",
    "    <div class='icecream'>\n",
    "        <p> 빵빠레</p>\n",
    "        <p id='third'> 죠스바</p>\n",
    "        <p> 꼬깔콘</p>\n",
    "        <p class='sweet'> 쭈쭈바</p>\n",
    "    </div>\n",
    "</div>\n",
    "</body>\n",
    "\"\"\""
   ]
  },
  {
   "cell_type": "code",
   "execution_count": 15,
   "id": "4e16ce70",
   "metadata": {},
   "outputs": [],
   "source": [
    "soup = BeautifulSoup(html, 'html.parser')"
   ]
  },
  {
   "cell_type": "code",
   "execution_count": 16,
   "id": "69e8cd0d",
   "metadata": {},
   "outputs": [
    {
     "data": {
      "text/plain": [
       "[<p id=\"first\"> 양파링</p>,\n",
       " <p id=\"second\"> 새우깡</p>,\n",
       " <p> 초코파이</p>,\n",
       " <p class=\"sweet\"> 맛동산 </p>,\n",
       " <p> 빵빠레</p>,\n",
       " <p id=\"third\"> 죠스바</p>,\n",
       " <p> 꼬깔콘</p>,\n",
       " <p class=\"sweet\"> 쭈쭈바</p>]"
      ]
     },
     "execution_count": 16,
     "metadata": {},
     "output_type": "execute_result"
    }
   ],
   "source": [
    "# p태그를 모두 출력하시오\n",
    "\n",
    "soup.select('p')"
   ]
  },
  {
   "cell_type": "code",
   "execution_count": 17,
   "id": "cc8cfaca",
   "metadata": {},
   "outputs": [
    {
     "name": "stdout",
     "output_type": "stream",
     "text": [
      " 양파링\n",
      " 새우깡\n",
      " 초코파이\n",
      " 맛동산 \n",
      " 빵빠레\n",
      " 죠스바\n",
      " 꼬깔콘\n",
      " 쭈쭈바\n"
     ]
    }
   ],
   "source": [
    "# p태그를 내용을 모두 출력하시오\n",
    "\n",
    "for t in soup.select('p'):\n",
    "    print(t.text)"
   ]
  },
  {
   "cell_type": "code",
   "execution_count": 18,
   "id": "d7788932",
   "metadata": {},
   "outputs": [
    {
     "data": {
      "text/plain": [
       "[<p id=\"first\"> 양파링</p>]"
      ]
     },
     "execution_count": 18,
     "metadata": {},
     "output_type": "execute_result"
    }
   ],
   "source": [
    "# p태그 중에서 'first'라는 id가 적용된 태그의 택스트를 출력하시오..\n",
    "\n",
    "soup.select('p#first') \n",
    "\n",
    "# select 메소드는 요소가 하나이어도 리스트에 담아서 출력..\n",
    "# 그러므로 태그출력하려면 반드시 인덱싱.."
   ]
  },
  {
   "cell_type": "code",
   "execution_count": 19,
   "id": "161374ca",
   "metadata": {},
   "outputs": [
    {
     "data": {
      "text/plain": [
       "<p id=\"first\"> 양파링</p>"
      ]
     },
     "execution_count": 19,
     "metadata": {},
     "output_type": "execute_result"
    }
   ],
   "source": [
    "soup.select('p#first')[0]  # 리스트 내에 있던 태그를 추출.."
   ]
  },
  {
   "cell_type": "code",
   "execution_count": 20,
   "id": "5dea79bd",
   "metadata": {},
   "outputs": [
    {
     "data": {
      "text/plain": [
       "' 양파링'"
      ]
     },
     "execution_count": 20,
     "metadata": {},
     "output_type": "execute_result"
    }
   ],
   "source": [
    "soup.select('p#first')[0].text "
   ]
  },
  {
   "cell_type": "code",
   "execution_count": null,
   "id": "d738998d",
   "metadata": {},
   "outputs": [],
   "source": []
  },
  {
   "cell_type": "code",
   "execution_count": 21,
   "id": "def697ad",
   "metadata": {},
   "outputs": [],
   "source": [
    "# '죠스바'를 출력하세요.."
   ]
  },
  {
   "cell_type": "code",
   "execution_count": 22,
   "id": "0c3fc7ef",
   "metadata": {},
   "outputs": [
    {
     "data": {
      "text/plain": [
       "' 죠스바'"
      ]
     },
     "execution_count": 22,
     "metadata": {},
     "output_type": "execute_result"
    }
   ],
   "source": [
    "soup.select('p#third')[0].text"
   ]
  },
  {
   "cell_type": "code",
   "execution_count": null,
   "id": "306fb6b7",
   "metadata": {},
   "outputs": [],
   "source": []
  },
  {
   "cell_type": "code",
   "execution_count": 23,
   "id": "183fb111",
   "metadata": {},
   "outputs": [],
   "source": [
    "# '빵빠레'"
   ]
  },
  {
   "cell_type": "code",
   "execution_count": 24,
   "id": "37356b6d",
   "metadata": {},
   "outputs": [
    {
     "data": {
      "text/plain": [
       "' 빵빠레'"
      ]
     },
     "execution_count": 24,
     "metadata": {},
     "output_type": "execute_result"
    }
   ],
   "source": [
    "# soup.select('p')[3].text\n",
    "\n",
    "soup.select('div.icecream > p')[0].text"
   ]
  },
  {
   "cell_type": "code",
   "execution_count": null,
   "id": "f367ea17",
   "metadata": {},
   "outputs": [],
   "source": []
  },
  {
   "cell_type": "code",
   "execution_count": 25,
   "id": "606c9001",
   "metadata": {},
   "outputs": [],
   "source": [
    "# '초코파이'"
   ]
  },
  {
   "cell_type": "code",
   "execution_count": 26,
   "id": "c12e2981",
   "metadata": {},
   "outputs": [
    {
     "data": {
      "text/plain": [
       "' 초코파이'"
      ]
     },
     "execution_count": 26,
     "metadata": {},
     "output_type": "execute_result"
    }
   ],
   "source": [
    "soup.select('div.snack > p')[2].text"
   ]
  },
  {
   "cell_type": "code",
   "execution_count": null,
   "id": "d0df83c4",
   "metadata": {},
   "outputs": [],
   "source": []
  },
  {
   "cell_type": "code",
   "execution_count": 27,
   "id": "3b492fea",
   "metadata": {},
   "outputs": [],
   "source": [
    "# '맛동산'을 출력하시오.."
   ]
  },
  {
   "cell_type": "code",
   "execution_count": 28,
   "id": "7b63d5b8",
   "metadata": {},
   "outputs": [
    {
     "data": {
      "text/plain": [
       "' 맛동산 '"
      ]
     },
     "execution_count": 28,
     "metadata": {},
     "output_type": "execute_result"
    }
   ],
   "source": [
    "soup.select('div.snack > p.sweet')[0].text"
   ]
  },
  {
   "cell_type": "code",
   "execution_count": null,
   "id": "59576015",
   "metadata": {},
   "outputs": [],
   "source": []
  },
  {
   "cell_type": "code",
   "execution_count": 29,
   "id": "c67c52ac",
   "metadata": {},
   "outputs": [],
   "source": [
    "# 네이버 메뉴 크롤링..\n",
    "\n",
    "# 1. 네이버 html script를 가져와 변수에 저장 - requests 모듈..\n",
    "# 2. BeautifulSoup으로 읽어서 객체를 생성\n",
    "# 3. 원하는 콘텐츠의 위치를 찾는다. -  가장 난해한 코스..\n",
    "# 4. select(find, findall) 함수를 통해서 원하는 내용을 출력.."
   ]
  },
  {
   "cell_type": "code",
   "execution_count": null,
   "id": "a6cab82e",
   "metadata": {},
   "outputs": [],
   "source": []
  },
  {
   "cell_type": "code",
   "execution_count": 30,
   "id": "f9cf5b34",
   "metadata": {},
   "outputs": [],
   "source": [
    "import requests"
   ]
  },
  {
   "cell_type": "code",
   "execution_count": 31,
   "id": "615f09ce",
   "metadata": {},
   "outputs": [
    {
     "data": {
      "text/plain": [
       "'\\n<!doctype html>                          <html lang=\"ko\" data-dark=\"false\"> <head> <meta charset=\"utf-8\"> <title>NAVER</title> <meta http-equiv=\"X-UA-Compatible\" content=\"IE=edge\"> <meta name=\"viewport\" content=\"width=1190\"> <meta name=\"apple-mobile-web-app-title\" content=\"NAVER\"/> <meta name=\"robots\" content=\"index,nofollow\"/> <meta name=\"description\" content=\"네이버 메인에서 다양한 정보와 유용한 컨텐츠를 만나 보세요\"/> <meta property=\"og:title\" content=\"네이버\"> <meta property=\"og:url\" content=\"https://www.naver.com/\"> <meta property=\"og:image\" content=\"https://s.pstatic.net/static/www/mobile/edit/2016/0705/mobile_212852414260.png\"> <meta property=\"og:description\" content=\"네이버 메인에서 다양한 정보와 유용한 컨텐츠를 만나 보세요\"/> <meta name=\"twitter:card\" content=\"summary\"> <meta name=\"twitter:title\" content=\"\"> <meta name=\"twitter:url\" content=\"https://www.naver.com/\"> <meta name=\"twitter:image\" content=\"https://s.pstatic.net/static/www/mobile/edit/2016/0705/mobile_212852414260.png\"> <meta name=\"twitter:description\" content=\"네이버 메인에서 다양한 정보와 유용한 컨텐츠를 만나 보세요\"/>  <link rel=\"stylesheet\" href=\"https://pm.pstatic.net/dist/css/nmain.20220113.css\"> <link rel=\"stylesheet\" href=\"https://ssl.pstatic.net/sstatic/search/pc/css/sp_autocomplete_210318.css\"> <link rel=\"shortcut icon\" type=\"image/x-icon\" href=\"/favicon.ico?1\"/>  <link rel=\"apple-touch-icon\" sizes=\"114x114\" href=\"https://s.pstatic.net/static/www/u/2014/0328/mma_204243574.png\"/> <link rel=\"apple-touch-icon\" href=\"https://s.pstatic.net/static/www/u/2014/0328/mma_20432863.png\"/> <script>window.nmain=window.nmain||{},window.nmain.supportFlicking=!1;var nsc=\"navertop.v4\",ua=navigator.userAgent,useIeJSFlag=\"1\";window.nmain.isIE=\"0\"===useIeJSFlag,document.getElementsByTagName(\"html\")[0].setAttribute(\"data-useragent\",ua),window.nmain.isIE&&(Object.create=function(n){function e(){}return e.prototype=n,new e})</script> <script>var darkmode= false;window.naver_corp_da=window.naver_corp_da||{main:{}},window.naver_corp_da.main=window.naver_corp_da.main||{},window.naver_corp_da.main.darkmode=darkmode,window.gladsdk=window.gladsdk||{cmd:[]},window.gladsdk.cmd.push((function(){window.gladsdk.setHostMeta(\"theme\",darkmode?\"dark\":\"light\")})),window.ndpsdk=window.ndpsdk||{cmd:[],polyfill:{cmd:[]}},window.ndpsdk.cmd.push((function(){window.ndpsdk.setHostMeta(\"theme\",darkmode?\"dark\":\"light\")}))</script>  <script async src=\"https://ssl.pstatic.net/tveta/libs/glad/prod/gfp-core.js\"></script> <script async src=\"https://ssl.pstatic.net/tveta/libs/ndpsdk/prod/ndp-loader.js\"></script>  <script> window.nmain.gv = {  isLogin: false,\\nuseId: null,   daInfo: {\"BEAUTY\":{\"menu\":\"BEAUTY\",\"childMenu\":\"\",\"adType\":\"singleDom\",\"multiDomAdUrl\":\"\",\"multiDomUnit\":\"\",\"infoList\":[{\"adposId\":\"1000163\",\"singleDomAdUrl\":\"https://siape.veta.naver.com/fxshow\",\"param\":{\"da_dom_id\":\"p_main_beauty_1\",\"tb\":\"BEAUTY_1\",\"unit\":\"SU10595\",\"calp\":\"-\"},\"type\":{\"position\":\"abs\",\"positionIndex\":4,\"subject\":\"contents\"},\"dom\":null},{\"adposId\":\"1000164\",\"singleDomAdUrl\":\"https://siape.veta.naver.com/fxshow\",\"param\":{\"da_dom_id\":\"p_main_beauty_2\",\"tb\":\"BEAUTY_1\",\"unit\":\"SU10596\",\"calp\":\"-\"},\"type\":{\"position\":\"abs\",\"positionIndex\":8,\"subject\":\"contents\"},\"dom\":null}]},\"LIVING\":{\"menu\":\"LIVING\",\"childMenu\":\"\",\"adType\":\"singleDom\",\"multiDomAdUrl\":\"\",\"multiDomUnit\":\"\",\"infoList\":[{\"adposId\":\"1000183\",\"singleDomAdUrl\":\"https://siape.veta.naver.com/fxshow\",\"param\":{\"da_dom_id\":\"p_main_living_1\",\"tb\":\"LIVING_1\",\"unit\":\"SU10597\",\"calp\":\"-\"},\"type\":{\"position\":\"abs\",\"positionIndex\":4,\"subject\":\"contents\"},\"dom\":null},{\"adposId\":\"1000184\",\"singleDomAdUrl\":\"https://siape.veta.naver.com/fxshow\",\"param\":{\"da_dom_id\":\"p_main_living_2\",\"tb\":\"LIVING_1\",\"unit\":\"SU10606\",\"calp\":\"-\"},\"type\":{\"position\":\"abs\",\"positionIndex\":8,\"subject\":\"contents\"},\"dom\":null}]},\"LIVINGHOME\":{\"menu\":\"LIVINGHOME\",\"childMenu\":\"\",\"adType\":\"singleDom\",\"multiDomAdUrl\":\"\",\"multiDomUnit\":\"\",\"infoList\":[{\"adposId\":\"1000185\",\"singleDomAdUrl\":\"https://siape.veta.naver.com/fxshow\",\"param\":{\"da_dom_id\":\"p_main_livinghome_1\",\"tb\":\"LIVINGHOME_1\",\"unit\":\"SU10571\",\"calp\":\"-\"},\"type\":{\"position\":\"abs\",\"positionIndex\":4,\"subject\":\"contents\"},\"dom\":null},{\"adposId\":\"1000186\",\"singleDomAdUrl\":\"https://siape.veta.naver.com/fxshow\",\"param\":{\"da_dom_id\":\"p_main_livinghome_2\",\"tb\":\"LIVINGHOME_1\",\"unit\":\"SU10572\",\"calp\":\"-\"},\"type\":{\"position\":\"abs\",\"positionIndex\":8,\"subject\":\"contents\"},\"dom\":null}]}},\\nsvt: 20220119100806,\\n}; </script> <script> window.nmain.newsstand = {\\nrcode: \\'09140105\\',\\nnewsCastSubsInfo: \\'\\',\\nnewsStandSubsInfo: \\'\\'\\n};\\nwindow.etc = {  };\\nwindow.svr = \"<!--aweb26-->\"; </script> <script src=\"https://ssl.pstatic.net/tveta/libs/assets/js/pc/main/min/pc.veta.core.min.js\" defer=\"defer\"></script>   <script src=\"https://pm.pstatic.net/dist/js/external.424737be.js?o=www\" type=\"text/javascript\" crossorigin=\"anonymous\" defer=\"defer\"></script> <script src=\"https://pm.pstatic.net/dist/js/preload.5875f4cb.js?o=www\" type=\"text/javascript\" crossorigin=\"anonymous\" defer=\"defer\"></script> <script src=\"https://pm.pstatic.net/dist/js/polyfill.0b1e66f9.js?o=www\" type=\"text/javascript\" crossorigin=\"anonymous\" defer=\"defer\"></script>  <script src=\"https://pm.pstatic.net/dist/js/vendors~more~nmain~notice~search~sidebar_notice.29c38b59.js?o=www\" type=\"text/javascript\" crossorigin=\"anonymous\" defer=\"defer\"></script>   <script src=\"https://pm.pstatic.net/dist/js/search.42b2ccb4.js?o=www\" type=\"text/javascript\" crossorigin=\"anonymous\" defer=\"defer\"></script>  <script src=\"https://pm.pstatic.net/dist/js/vendors~more~nmain~sidebar_notice.2d20790b.js?o=www\" type=\"text/javascript\" crossorigin=\"anonymous\" defer=\"defer\"></script> <script src=\"https://pm.pstatic.net/dist/js/nmain.3e57d655.js?o=www\" type=\"text/javascript\" crossorigin=\"anonymous\" defer=\"defer\"></script> <style>:root{color-scheme:light}#_nx_kbd .setkorhelp a{display:none}</style> </head> <body> <div id=\"u_skip\"> <a href=\"#newsstand\"><span>뉴스스탠드 바로가기</span></a> <a href=\"#themecast\"><span>주제별캐스트 바로가기</span></a> <a href=\"#timesquare\"><span>타임스퀘어 바로가기</span></a> <a href=\"#shopcast\"><span>쇼핑캐스트 바로가기</span></a> <a href=\"#account\"><span>로그인 바로가기</span></a> </div> <div id=\"wrap\">         <style>._1syGnXOL{padding-right:18px;font-size:14px;line-height:0;letter-spacing:-.25px;color:#000}._1syGnXOL span,._1syGnXOL strong{line-height:49px}._1syGnXOL:before{display:inline-block;content:\"\";vertical-align:top;background-image:url(https://static-whale.pstatic.net/main/sprite-20211123@2x.png);background-repeat:no-repeat;background-size:116px 112px;width:18px;height:18px;margin:16px 8px 0 0;background-position:-98px 0}[data-useragent*=\"MSIE 8\"] ._1syGnXOL:before{background-image:url(https://static-whale.pstatic.net/main/sprite-20211123.png)}._1syGnXOL._3dsvmZg2:before{background-position:-47px -85px}._1syGnXOL._1NBFx1WK:before{width:20px;height:20px;margin:15px 8px 0 0;background-position:-21px -89px}._1syGnXOL._2mcQEKCd:before{width:22px;height:22px;margin:14px 7px 0 0;background-position:-47px -63px}._1syGnXOL._36slsKuJ:before{width:21px;height:49px;margin:0 14px 0 0;background-position:0 -63px}._1syGnXOL._3di88A4c{padding-right:12px;font-size:17px}._1syGnXOL._3di88A4c:before{content:none}._1syGnXOL ._19K4X1CD{text-decoration:underline}._2aeXMlrb{display:inline-block;position:relative;font-size:12px;height:49px;width:78px;text-decoration:none;color:#fff;font-weight:700;letter-spacing:-.5px;vertical-align:top}._2aeXMlrb span{text-align:center;margin:9px 0;height:31px;display:block;line-height:31px;border-radius:15px}._2aeXMlrb span:before{display:inline-block;content:\"\";vertical-align:top;background-image:url(https://static-whale.pstatic.net/main/sprite-20211123@2x.png);background-repeat:no-repeat;background-size:116px 112px}[data-useragent*=\"MSIE 8\"] ._2aeXMlrb span:before{background-image:url(https://static-whale.pstatic.net/main/sprite-20211123.png)}._2aeXMlrb.BMgpjddw{font-size:11px;width:94px}._2aeXMlrb.BMgpjddw span:before{margin:9px 3px 0 0;width:17px;height:13px;background-position:-89px -63px}._3h-N8T9V{position:absolute;top:0;left:0;right:0;bottom:0;background:rgba(0,0,0,0)}._1KncATpM{display:inline-block;content:\"\";vertical-align:top;background-image:url(https://static-whale.pstatic.net/main/sprite-20211123@2x.png);background-repeat:no-repeat;background-size:116px 112px;margin-top:14px;float:left;width:98px;height:21px;background-position:0 -21px}[data-useragent*=\"MSIE 8\"] ._1KncATpM{background-image:url(https://static-whale.pstatic.net/main/sprite-20211123.png)}._1KncATpM._2v3uxv2x{background-position:0 0}._1KncATpM._1yl_Ow6o{background-position:0 -42px}._20PYt6lT{font-size:11px;height:49px;cursor:pointer;position:absolute;top:0;right:0;color:#666;opacity:.7}._20PYt6lT:after{width:15px;height:15px;margin-left:4px;background-position:-98px -33px;display:inline-block;content:\"\";vertical-align:top;background-image:url(https://static-whale.pstatic.net/main/sprite-20211123@2x.png);background-repeat:no-repeat;background-size:116px 112px}[data-useragent*=\"MSIE 8\"] ._20PYt6lT:after{background-image:url(https://static-whale.pstatic.net/main/sprite-20211123.png)}._20PYt6lT._39oMCV2N:after{background-position:-98px -18px}._20PYt6lT._3MOWOORv{color:#c3c2c2}._20PYt6lT._3MOWOORv:after{background-position:-80px -85px}._20PYt6lT._3wm5EzmJ{color:#fff}._20PYt6lT._3wm5EzmJ:after{background-position:-65px -85px}._1hiMWemA{height:49px}._1hiMWemA .tY_u8r23{position:relative;width:1130px;margin:0 auto}._1hiMWemA .tY_u8r23 a{text-decoration:none}._1hiMWemA._23U_6TM_{position:relative}._1hiMWemA._23U_6TM_:after{position:absolute;z-index:1;content:\"\";display:block;width:100%;height:1px;bottom:0;background-color:rgba(0,0,0,.050980392156862744)}</style>\\n<div\\nid=\"NM_TOP_BANNER\"\\ndata-clk-prefix=\"top\"\\nclass=\"_1hiMWemA\"\\nstyle=\"background-color: #263171\"\\n>\\n<div class=\"tY_u8r23\">\\n<a\\nclass=\"_3h-N8T9V\"\\nhref=\"https://whale.naver.com/ko?=main&wpid=RydDy7\"\\ndata-clk=\"dropbanner1a\"\\n></a\\n><i class=\"_1KncATpM _1yl_Ow6o\"><span class=\"blind\">NAVER whale</span></i\\n><img\\nsrc=\"https://static-whale.pstatic.net/main/img_whale_v2@2x.png\"\\nwidth=\"240\"\\nheight=\"49\"\\nalt=\"\"\\nstyle=\"padding-left: 70px\"\\n/><span\\nclass=\"_1syGnXOL _3di88A4c\"\\ndata-clk=\"dropbanner1a\"\\nstyle=\"padding-right: 20px; color: white; padding-left: 20px\"\\n><span>한번만 써보면 압니다. 자신있게 추천하는 </span\\n><strong style=\"color: #c1a7ff\">웨일브라우저</strong></span\\n><a\\nhref=\"https://installer-whale.pstatic.net/downloads/banner/RydDy7/WhaleSetup.exe\"\\nclass=\"_2aeXMlrb BMgpjddw\"\\nid=\"NM_whale_download_btn\"\\ndata-clk=\"dropdownload1a\"\\n><span style=\"background-color: #7c56d5\">다운로드</span></a\\n><button\\ntype=\"button\"\\ndata-ui-cookie-exp-days=\"3\"\\ndata-ui-cookie-key=\"NM_TOP_PROMOTION\"\\ndata-ui-cookie-value=\"1\"\\ndata-ui-hide-target=\"#NM_TOP_BANNER\"\\ndata-clk=\"dropclose1a\"\\nclass=\"_20PYt6lT _3wm5EzmJ\"\\n>\\n3일 동안 보지 않기\\n</button>\\n</div>\\n</div>\\n  <div id=\"header\" role=\"banner\">\\n\\n\\n\\n\\n\\n\\n\\n\\n<div class=\"special_bg\">\\n<div class=\"group_flex\">\\n<div class=\"logo_area\">\\n<h1 class=\"logo_default\">\\n<a href=\"/\" class=\"logo_naver\" data-clk=\"top.logo\"\\n><span class=\"blind\">네이버</span></a\\n>\\n</h1>\\n</div>\\n<div class=\"service_area\">\\n<a id=\"NM_set_home_btn\" href=\"https://help.naver.com/support/welcomePage/guide.help\" class=\"link_set\" data-clk=\"top.mkhome\">네이버를 시작페이지로</a>\\n<i class=\"sa_bar\"></i>\\n<a href=\"https://jr.naver.com\" class=\"link_jrnaver\" data-clk=\"top.jrnaver\"><i class=\"ico_jrnaver\"></i><span class=\"blind\">쥬니어네이버</span></a>\\n<a href=\"https://happybean.naver.com\" class=\"link_happybin\" data-clk=\"top.happybean\"><i class=\"ico_happybin\"></i><span class=\"blind\">해피빈</span></a>\\n</div>\\n\\n<div id=\"search\" class=\"search_area\" data-clk-prefix=\"sch\">\\n<form id=\"sform\" name=\"sform\" action=\"https://search.naver.com/search.naver\" method=\"get\" role=\"search\">\\n<fieldset>\\n<legend class=\"blind\">검색</legend>\\n<select id=\"where\" name=\"where\" title=\"검색 범위 선택\" class=\"blind\">\\n<option value=\"nexearch\" selected=\"selected\">통합검색</option><option value=\"post\">블로그</option><option value=\"cafeblog\">카페</option><option value=\"cafe\">- 카페명</option><option value=\"article\">- 카페글</option><option value=\"kin\">지식iN</option><option value=\"news\">뉴스</option><option value=\"web\">사이트</option><option value=\"category\">- 카테고리</option><option value=\"site\">- 사이트</option><option value=\"movie\">영화</option><option value=\"webkr\">웹문서</option><option value=\"dic\">사전</option><option value=\"100\">- 백과사전</option><option value=\"endic\">- 영어사전</option><option value=\"eedic\">- 영영사전</option><option value=\"krdic\">- 국어사전</option><option value=\"jpdic\">- 일본어사전</option><option value=\"hanja\">- 한자사전</option><option value=\"terms\">- 용어사전</option><option value=\"book\">책</option><option value=\"music\">음악</option><option value=\"doc\">전문자료</option><option value=\"shop\">쇼핑</option><option value=\"local\">지역</option><option value=\"video\">동영상</option><option value=\"image\">이미지</option><option value=\"mypc\">내PC</option><optgroup label=\"스마트 파인더\"><option value=\"movie\">영화</option><option value=\"auto\">자동차</option><option value=\"game\">게임</option><option value=\"health\">건강</option><option value=\"people\">인물</option></optgroup><optgroup label=\"네이버 랩\"><option>긍정부정검색</option></optgroup>\\n</select>\\n<input type=\"hidden\" id=\"sm\" name=\"sm\" value=\"top_hty\" />\\n<input type=\"hidden\" id=\"fbm\" name=\"fbm\" value=\"0\" />\\n<input type=\"hidden\" id=\"acr\" name=\"acr\" value=\"\" disabled=\"disabled\" />\\n<input type=\"hidden\" id=\"acq\" name=\"acq\" value=\"\" disabled=\"disabled\" />\\n<input type=\"hidden\" id=\"qdt\" name=\"qdt\" value=\"\" disabled=\"disabled\" />\\n<input type=\"hidden\" id=\"ie\" name=\"ie\" value=\"utf8\" />\\n<input type=\"hidden\" id=\"acir\" name=\"acir\" value=\"\" disabled=\"disabled\" />\\n<input type=\"hidden\" id=\"os\" name=\"os\" value=\"\" disabled=\"disabled\" />\\n<input type=\"hidden\" id=\"bid\" name=\"bid\" value=\"\" disabled=\"disabled\" />\\n<input type=\"hidden\" id=\"pkid\" name=\"pkid\" value=\"\" disabled=\"disabled\" />\\n<input type=\"hidden\" id=\"eid\" name=\"eid\" value=\"\" disabled=\"disabled\" />\\n<input type=\"hidden\" id=\"mra\" name=\"mra\" value=\"\" disabled=\"disabled\" />\\n\\n\\n\\n<div class=\"green_window\" style=\\'\\'>\\n<!-- [AU] data-atcmp-element 에 해당하는 attribute를 추가해주세요. -->\\n<input id=\"query\" name=\"query\" type=\"text\" title=\"검색어 입력\" maxlength=\"255\" class=\"input_text\" tabindex=\"1\" accesskey=\"s\" style=\"ime-mode:active;\" autocomplete=\"off\"  placeholder=\"검색어를 입력해 주세요.\" onclick=\"document.getElementById(\\'fbm\\').value=1;\" value=\"\" data-atcmp-element>\\n</div>\\n<button id=\"search_btn\" type=\"submit\" title=\"검색\" tabindex=\"3\" class=\"btn_submit\" onclick=\"window.nclick(this,\\'sch.action\\',\\'\\',\\'\\',event);\" style=\\'\\'>\\n<span class=\"blind\">검색</span>\\n<span class=\"ico_search_submit\"></span>\\n</button>\\n</fieldset>\\n</form>\\n<!-- 한글입력기 -->\\n<a href=\"#\" id=\"ke_kbd_btn\" role=\"button\" class=\"btn_keyboard\" onclick=\"return false;\"><span class=\"blind\">한글 입력기</span><span class=\"ico_keyboard\"></span></a>\\n<div id=\"_nx_kbd\" style=\"display:none;\"></div>\\n<div class=\"autocomplete\">\\n<!-- 자동완성 열린 경우 fold 클래스 추가, 딤드인 경우 dim 추가 -->\\n<a href=\"#\" role=\"button\" id=\"nautocomplete\" tabindex=\"2\" class=\"btn_arw _btn_arw fold\" aria-pressed=\"false\" data-atcmp-element><span class=\"blind\">자동완성 레이어</span><span class=\"ico_arr\"></span></a>\\n</div>\\n<!-- 자동완성레이어 -->\\n<div id=\"autoFrame\" class=\"reatcmp\" style=\"display: none;\">\\n<!-- [AU] data-atcmp-element attribute를 추가해주세요. -->\\n<div class=\"ly_atcmp\" data-atcmp-element>\\n<div class=\"api_atcmp_wrap\">\\n<!-- 최근검색어 -->\\n<!-- [AU] _recent_layer 클래스를 추가해주세요. -->\\n<div class=\"atcmp_fixer _recent_layer\" style=\"display:none;\">\\n<!-- [AU] _recent_header 클래스를 추가해주세요. -->\\n<div class=\"atcmp_header _recent_header\">\\n<strong class=\"tit\">최근검색어</strong>\\n<div class=\"option\">\\n<!-- [AU] _delAll 클래스를 추가해주세요. -->\\n<a role=\"button\" href=\"#\" class=\"item _delAll\" aria-pressed=\"false\">전체삭제</a>\\n</div>\\n</div>\\n<div class=\"atcmp_container\">\\n<!-- [AU] _recent 클래스를 추가해주세요. -->\\n<ul class=\"kwd_lst _recent\">\\n<!-- 최근검색어 템플릿 -->\\n<!-- [AU] _item 클래스를 추가해주세요. -->\\n<!-- [AU] data-template-type=\"history\" data-keyword=\"@in_txt@\" attribute를 추가해주세요. -->\\n<li class=\"item _item\" data-rank=\"@rank@\" data-template-type=\"history\" data-keyword=\"@in_txt@\">\\n<a href=\"#\" class=\"kwd\">\\n<span class=\"fix\"><span class=\"common_ico_kwd\"><i class=\"imsc ico_search\"></i></span><span>@txt@</span></span>\\n</a>\\n<span class=\"etc\">\\n<em class=\"date\">@date@.</em>\\n<!-- [AU] _del 클래스를 추가해주세요. -->\\n<a href=\"#\" role=\"button\" class=\"bt_item _del\" aria-pressed=\"false\"><i class=\"imsc ico_del\">삭제</i></a>\\n</span>\\n</li>\\n</ul>\\n<!-- [D] 검색어 저장 꺼진 경우 atcmp_fixer에 type_off 추가 -->\\n<!-- [AU] _offMsg 클래스를 추가해주세요. -->\\n<div class=\"kwd_info kwd_off _offMsg\" style=\"display: none;\">검색어 저장 기능이 꺼져 있습니다.<br><span class=\"kwd_dsc\">설정이 초기화 된다면 <a href=\"https://help.naver.com/support/alias/search/word/word_29.naver\" class=\"kwd_help\" data-clk=\"sly.help\" target=\"_blank\">도움말</a>을 확인해주세요.</span></div>\\n<!-- [D] 검색어 내역 없는 경우 atcmp_fixer에 type_off 추가 -->\\n<!-- [AU] _recentNone 클래스를 추가해주세요. -->\\n<div class=\"kwd_info kwd_none _recentNone\" style=\"display: none;\">최근 검색어 내역이 없습니다.<br><span class=\"kwd_dsc\">설정이 초기화 된다면 <a href=\"https://help.naver.com/support/alias/search/word/word_29.naver\" class=\"kwd_help\" data-clk=\"sly.help\" target=\"_blank\">도움말</a>을 확인해주세요.</span></div>\\n</div>\\n<div class=\"atcmp_footer\">\\n<span class=\"side_opt_area\">\\n<span class=\"opt_item\"><a href=\"https://help.naver.com/support/service/main.help?serviceNo=605&amp;categoryNo=1991\" data-clk=\"sly.help\" target=\"_blank\">도움말</a></span>\\n</span>\\n<span class=\"rside_opt_area\">\\n<span class=\"opt_item\">\\n<!-- [AU] _keywordOnOff 클래스를 추가해주세요. -->\\n<a href=\"#\" class=\"close _keywordOnOff\">자동저장 끄기</a>\\n</span>\\n</span>\\n</div>\\n</div>\\n<!-- 자동완성 -->\\n<!-- [AU] _atcmp_layer 클래스를 추가해주세요. -->\\n<div class=\"atcmp_fixer _atcmp_layer\" style=\"display:none;\">\\n<!-- [AU] _words 클래스를 추가해주세요. -->\\n<div class=\"atcmp_container _words\">\\n<!-- 정답형 템플릿 : 로또당첨번호 -->\\n<!-- [AU] _answer 클래스를 추가해주세요. -->\\n<!-- [AU] data-template-type=\"answer_3\" data-code=\"@code@\" data-keyword=\"@1@\" attribute를 추가해주세요. -->\\n<div class=\"atcmp_correct type_lotto _answer\" data-template-type=\"answer_3\" data-code=\"@code@\" data-keyword=\"@1@\">\\n<a href=\"#\" class=\"link_item\">\\n<span class=\"common_ico_kwd\"><i class=\"imsc ico_search\"></i></span>\\n<div class=\"dsc_area\">\\n<span class=\"tit\">@5@회차 당첨번호</span>\\n<span class=\"dsc\">\\n<span class=\"item\">추첨 @13@.</span><span class=\"item\">지급기한 1년</span>\\n</span>\\n</div>\\n<span class=\"etc_area\">\\n<span class=\"etc lotto\">\\n<em class=\"n@6@\">@6@</em><em class=\"n@7@\">@7@</em><em class=\"n@8@\">@8@</em><em class=\"n@9@\">@9@</em><em class=\"n@10@\">@10@</em><em class=\"n@11@\">@11@</em><em class=\"imsc_bf bonus n@12@\">@12@</em>\\n</span>\\n</span>\\n</a>\\n</div>\\n<!-- 정답형 템플릿 : 환율 -->\\n<!-- [AU] _answer 클래스를 추가해주세요. -->\\n<!-- [AU] data-template-type=\"answer_9\" data-code=\"@code@\" data-keyword=\"@1@\" attribute를 추가해주세요. -->\\n<div class=\"atcmp_correct type_exchange _answer\" data-template-type=\"answer_9\" data-code=\"@code@\" data-keyword=\"@1@\">\\n<!-- [D] 상승 up, 하락 down 추가 -->\\n<a href=\"#\" class=\"link_item @11@\">\\n<!-- [D] 국가별 class 가나다순\\nZAR 남아프리카 공화국\\nNPR 네팔\\nNOK 노르웨이\\nNZD 뉴질랜드\\nTWD 대만\\nDKK 덴마크\\nRUB 러시아\\nMOP 마카오\\nMYR 말레이시아\\nMXN 멕시코\\nMNT 몽골\\nUSD 미국\\nBHD 바레인\\nBDT 방글라데시\\nVND 베트남\\nBRL 브라질\\nSAR 사우디아라비아\\nSEK 스웨덴\\nCHF 스위스\\nSGD 싱가포르\\nAED 아랍에미리트\\nGBP 영국\\nEUR 유럽연합\\nILS 이스라엘\\nEGP 이집트\\nINR 인도\\nIDR 인도네시아\\nJPY 일본\\nCNY 중국\\nCZK 체코\\nCLP 칠레\\nKZT 카자흐스탄\\nQAR 카타르\\nCAD 캐나다\\nKWD 쿠웨이트\\nTHB 태국\\nTRY 터키\\nPKR 파키스탄\\nPLN 폴란드\\nPHP 필리핀\\nHUF 헝가리\\nAUD 호주\\nHKD 홍콩\\n-->\\n<span class=\"common_ico_kwd\"><i class=\"imsc ico @12@\">@14@</i></span>\\n<div class=\"dsc_area\">\\n<span class=\"tit\">@txt@<span class=\"sub\">@currency@</span></span>\\n<span class=\"dsc\">\\n<span class=\"item\"><i class=\"imsc ico_arr\"></i>@8@(@9@%)</span>\\n</span>\\n</div>\\n<span class=\"etc_area\">\\n<span class=\"etc\"><em class=\"num\">@6@</em>원</span>\\n</span>\\n</a>\\n</div>\\n<!-- 정답형 템플릿 : 날씨(국내11, 해외12) -->\\n<!-- [AU] _answer 클래스를 추가해주세요. -->\\n<!-- [AU] data-template-type=\"answer_11\" data-code=\"@code@\" data-keyword=\"@1@\" attribute를 추가해주세요. -->\\n<div class=\"atcmp_correct type_weather _answer\" data-template-type=\"answer_11\" data-code=\"@code@\" data-keyword=\"@1@\">\\n<!-- [D] 상승 up, 하락 down 추가 -->\\n<a href=\"#\" class=\"link_item @12@\">\\n<span class=\"common_ico_kwd\"><i class=\"imsc ico_search\"></i></span>\\n<div class=\"dsc_area\">\\n<span class=\"tit\">@txt@</span>\\n<span class=\"dsc\">\\n<span class=\"item\">@7@, @message@</span>\\n</span>\\n</div>\\n<span class=\"etc_area\">\\n<span class=\"etc\">\\n<!-- [D] 날씨별 class\\nico1 맑음(낮)\\nico2 맑음(밤)\\nico3 구름조금(낮)\\nico4 구름조금(밤)\\nico5 구름많음(낮)\\nico6 구름많음(밤)\\nico7 흐림\\nico8 약한비\\nico9 비\\nico10 강한비\\nico11 약한눈\\nico12 눈\\nico13 강한눈\\nico14 진눈깨비\\nico15 소나기\\nico16 안개\\nico17 소낙눈\\nico18 번개뇌우\\nico19 우박\\nico20 황사\\nico21 비또는눈\\nico22 가끔비\\nico23 가끔눈\\nico24 가끔비또는눈\\nico25 흐린후갬\\nico26 뇌우후갬\\nico27 비후갬\\nico28 눈후갬\\nico29 흐려져비\\nico30 흐려져눈\\n-->\\n<span class=\"ico_weather\"><i class=\"imsc ico ico@iconNo@\">@7@</i></span>\\n<em class=\"degree\">@8@<sup class=\"celsius\">°</sup></em>\\n</span>\\n</span>\\n</a>\\n</div>\\n<!-- 정답형 템플릿 : 사이트 바로가기 -->\\n<!-- [AU] _answer 클래스를 추가해주세요. -->\\n<!-- [AU] data-template-type=\"answer_17\" data-code=\"@code@\" data-keyword=\"@1@\" attribute를 추가해주세요. -->\\n<div class=\"atcmp_correct type_site _answer\" data-template-type=\"answer_17\" data-code=\"@code@\" data-keyword=\"@1@\">\\n<a href=\"@5@\" class=\"link_item\" target=\"_blank\">\\n<span class=\"common_ico_kwd\"><i class=\"imsc ico_url\"></i></span>\\n<div class=\"dsc_area\">\\n<span class=\"tit\">@txt@</span>\\n<span class=\"dsc\">\\n<span class=\"item\">@5@</span>\\n</span>\\n</div>\\n<span class=\"etc_area\">\\n<span class=\"etc\">바로가기</span>\\n</span>\\n</a>\\n</div>\\n<!-- [AU] _kwd_list 클래스를 추가해주세요. -->\\n<ul class=\"kwd_lst _kwd_list\">\\n<!-- [AU] 자동완성 검색어 템플릿 -->\\n<!-- [AU] _item 클래스를 추가해주세요. -->\\n<!-- [AU] data-rank=\"@rank@\" data-template-type=\"suggestion\" data-keyword=\"@in_txt@\" attribute를 추가해주세요. -->\\n<li class=\"item _item\" data-rank=\"@rank@\" data-template-type=\"suggestion\" data-keyword=\"@in_txt@\">\\n<a href=\"#\" class=\"kwd\">\\n<span class=\"fix\"><span class=\"common_ico_kwd\"><i class=\"imsc ico_search\"></i></span>@txt@</span>\\n</a>\\n<span class=\"etc\">\\n<a href=\"#\" role=\"button\" class=\"bt_item _add\" aria-pressed=\"false\"><i class=\"imsc ico_insert\">추가</i></a>\\n</span>\\n</li>\\n<!-- [AU] 최근검색어 템플릿 -->\\n<!-- [AU] _item 클래스를 추가해주세요. -->\\n<!-- [AU] data-rank=\"@rank@\" data-template-type=\"history\" data-keyword=\"@in_txt@\" attribute를 추가해주세요. -->\\n<li class=\"item has_correct _item\" data-rank=\"@rank@\" data-template-type=\"history\" data-keyword=\"@in_txt@\">\\n<a href=\"#\" class=\"kwd\">\\n<span class=\"fix\"><span class=\"common_ico_kwd\"><i class=\"imsc ico_search\"></i></span>@txt@</span>\\n</a>\\n<span class=\"etc\">\\n<!-- 최근검색어 있으면 날짜 표시 -->\\n<em class=\"date\">@date@.</em>\\n<a href=\"#\" role=\"button\" class=\"bt_item _add\" aria-pressed=\"false\"><i class=\"imsc ico_insert\">추가</i></a>\\n</span>\\n</li>\\n</ul>\\n<!-- [AU] 문맥검색 템플릿 -->\\n<!-- [AU] _item 클래스를 추가해주세요. -->\\n<!-- [AU] data-rank=\"@rank@\" data-template-type=\"intend\" data-keyword=\"@transQuery@\" attribute를 추가해주세요. -->\\n<li class=\"item has_correct _item\" data-rank=\"@rank@\" data-intend-rank=\"@intendRank@\" data-template-type=\"intend\" data-keyword=\"@transQuery@\">\\n<a href=\"#\" class=\"kwd\">\\n<span class=\"fix\"><span class=\"common_ico_kwd\"><i class=\"imsc ico_search\"></i></span>@query@ <span class=\"context\">@intend@</span></span>\\n</a>\\n<span class=\"etc\">\\n<a href=\"#\" role=\"button\" class=\"bt_item _add\" aria-pressed=\"false\"><i class=\"imsc ico_insert\">추가</i></a>\\n</span>\\n</li>\\n<!-- [D] 선거안내문구 -->\\n<!-- [AU] _alert 클래스를 추가해주세요. -->\\n<div class=\"atcmp_alert _alert\">\\n<div class=\"dsc_election\">\\n<p class=\"dsc\">\\n<i class=\"imsc ico_election\"></i><span class=\"_alert_passage\"></span>\\n</p>\\n<span class=\"dsc_inner\">\\n<!-- [AU] _alert_passage2 클래스를 추가해주세요. -->\\n<span class=\"_alert_passage2\"></span>\\n<!-- [AU] _alert_link 클래스를 추가해주세요. -->\\n<a href=\"#\" class=\"link _alert_link\" target=\"_blank\">자세히보기</a>\\n</span>\\n</div>\\n</div>\\n<!-- [AU] _plus 클래스를 추가해주세요. -->\\n<div class=\"atcmp_plus _plus\">\\n<div class=\"dsc_plus\">\\n<a href=\"https://help.naver.com/support/alias/search/word/word_16.naver\" class=\"link_dsc\" data-clk=\"sug.cxhelp\" target=\"_blank\">관심사를 반영한 컨텍스트 자동완성<i class=\"imsc ico_help\">도움말</i></a>\\n</div>\\n<div class=\"switch\">\\n<!-- [D] 선택시 aria-pressed=\"ture/false\" -->\\n<!-- [AU] _plus_btn 클래스를 추가해주세요. -->\\n<a role=\"button\" href=\"#\" class=\"bt_switch active _plus_btn\" aria-pressed=\"false\"><i class=\"imsc ico_option\">컨텍스트 자동완성</i></a>\\n</div>\\n<!-- [AU] _plus_layer 클래스를 추가해주세요. -->\\n<div class=\"layer_plus _plus_layer\">\\n<strong class=\"tit\">컨텍스트 자동완성</strong>\\n<!-- [AU] _plus_layer_isloggedin 클래스를 추가해주세요. -->\\n<!-- [AU] style=\"display:none\" 추가해주세요. -->\\n<div class=\"_plus_layer_isloggedin\" style=\"display:none\">\\n<p class=\"dsc\">ON/OFF 설정은<br>해당기기(브라우저)에 저장됩니다.</p>\\n<div class=\"btn_area\">\\n<a href=\"https://help.naver.com/support/alias/search/word/word_16.naver\" class=\"btn btn_view\" data-clk=\"sug.cxlink\" target=\"_blank\">자세히</a>\\n</div>\\n</div>\\n<!-- [AU] _plus_layer_isnotloggedin 클래스를 추가해주세요. -->\\n<!-- [AU] style=\"display:none\" 추가해주세요. -->\\n<div class=\"_plus_layer_isnotloggedin\" style=\"display:none\">\\n<p class=\"dsc\"><em class=\"txt\">동일한 시간대/연령/남녀별</em> 사용자 그룹의<br>관심사에 맞춰 자동완성을 제공합니다.</p>\\n<div class=\"btn_area\">\\n<a href=\"https://nid.naver.com/nidlogin.login\" class=\"btn btn_login\" data-clk=\"sug.cxlogin\">로그인</a>\\n<a href=\"https://help.naver.com/support/alias/search/word/word_16.naver\" class=\"btn btn_view\" data-clk=\"sug.cxlink\" target=\"_blank\">자세히</a>\\n</div>\\n</div>\\n<!-- [AU] _plus_layer_close 클래스를 추가해주세요. -->\\n<a href=\"#\" role=\"button\" class=\"btn_close _plus_layer_close\"><i class=\"imsc ico_close\">컨텍스트 자동완성 레이어 닫기</i></a>\\n</div>\\n</div>\\n</div>\\n<div class=\"atcmp_footer\">\\n<span class=\"side_opt_area\">\\n<span class=\"opt_item\"><a href=\"https://help.naver.com/support/service/main.help?serviceNo=605&categoryNo=1987\" data-clk=\"sug.help\" target=\"_blank\">도움말</a></span>\\n<span class=\"opt_item\"><a href=\"https://help.naver.com/support/contents/contents.help?serviceNo=605&categoryNo=18215\" class=\"report\" data-clk=\"sug.report\" target=\"_blank\">신고</a></span>\\n</span>\\n<span class=\"rside_opt_area\">\\n<span class=\"opt_item\">\\n<!-- [AU] _suggestOnOff 클래스를 추가해주세요. -->\\n<a href=\"#\" class=\"close _suggestOnOff\">자동완성 끄기</a>\\n</span>\\n</span>\\n</div>\\n</div>\\n</div>\\n</div>\\n</div>\\n</div>\\n\\n</div>\\n</div>\\n\\n<!--EMPTY-->\\n<div id=\"gnb\">\\n<div id=\"NM_FAVORITE\" class=\"gnb_inner\">\\n<div class=\"group_nav\">\\n<ul class=\"list_nav type_fix\">\\n<li class=\"nav_item\">\\n<a href=\"https://mail.naver.com/\" class=\"nav\" data-clk=\"svc.mail\"><i class=\"ico_mail\"></i>메일</a>\\n</li>\\n<li class=\"nav_item\"><a href=\"https://section.cafe.naver.com/\" class=\"nav\" data-clk=\"svc.cafe\">카페</a></li>\\n<li class=\"nav_item\"><a href=\"https://section.blog.naver.com/\" class=\"nav\" data-clk=\"svc.blog\">블로그</a></li>\\n<li class=\"nav_item\"><a href=\"https://kin.naver.com/\" class=\"nav\" data-clk=\"svc.kin\">지식iN</a></li>\\n<li class=\"nav_item\"><a href=\"https://shopping.naver.com/\" class=\"nav shop\" data-clk=\"svc.shopping\"><span class=\"blind\">쇼핑</span></a></li>\\n<li class=\"nav_item\"><a href=\"https://shoppinglive.naver.com/home\" class=\"nav shoplive\"\\ndata-clk=\"svc.shoppinglive\"><span class=\"blind\">쇼핑LIVE</span></a></li>\\n<li class=\"nav_item\"><a href=\"https://order.pay.naver.com/home\" class=\"nav\" data-clk=\"svc.pay\">Pay</a></li>\\n<li class=\"nav_item\">\\n<a href=\"https://tv.naver.com/\" class=\"nav\" data-clk=\"svc.tvcast\"><i class=\"ico_tv\"></i>TV</a>\\n</li>\\n</ul>\\n<ul\\nclass=\"list_nav NM_FAVORITE_LIST\"\\n>\\n<li class=\"nav_item\"><a href=\"https://dict.naver.com/\" class=\"nav\" data-clk=\"svc.dic\">사전</a></li>\\n<li class=\"nav_item\"><a href=\"https://news.naver.com/\" class=\"nav\" data-clk=\"svc.news\">뉴스</a></li>\\n<li class=\"nav_item\"><a href=\"https://finance.naver.com/\" class=\"nav\" data-clk=\"svc.stock\">증권</a></li>\\n<li class=\"nav_item\"><a href=\"https://land.naver.com/\" class=\"nav\" data-clk=\"svc.land\">부동산</a></li>\\n<li class=\"nav_item\"><a href=\"https://map.naver.com/\" class=\"nav\" data-clk=\"svc.map\">지도</a></li>\\n<li class=\"nav_item\"><a href=\"https://vibe.naver.com/\" class=\"nav\" data-clk=\"svc.vibe\">VIBE</a></li>\\n<li class=\"nav_item\"><a href=\"https://book.naver.com/\" class=\"nav\" data-clk=\"svc.book\">책</a></li>\\n<li class=\"nav_item\"><a href=\"https://comic.naver.com/\" class=\"nav\" data-clk=\"svc.webtoon\">웹툰</a></li>\\n\\n</ul>\\n<ul class=\"list_nav type_empty\" style=\"display: none;\"></ul>\\n<a href=\"#\" role=\"button\" class=\"btn_more\" data-clk=\"svc.more\">더보기</a>\\n<div class=\"ly_btn_area\">\\n<a href=\"more.html\" class=\"btn NM_FAVORITE_ALL\" data-clk=\"map.svcmore\">서비스 전체보기</a>\\n<a href=\"#\" role=\"button\" class=\"btn btn_set\" data-clk=\"map.edit\">메뉴설정</a>\\n<a href=\"#\" role=\"button\" class=\"btn btn_reset\" data-clk=\"edt.reset\">초기화</a>\\n<a href=\"#\" role=\"button\" class=\"btn btn_save\" data-clk=\"edt.save\">저장</a>\\n</div>\\n</div>\\n<div id=\"NM_WEATHER\" class=\"group_weather\">\\n<div>\\n<a data-clk=\"squ.weat\" href=\"https://weather.naver.com/today/09140105\" class=\"weather_area ico_w12\">\\n<div class=\"current_box\">\\n<strong class=\"current\" aria-label=\"현재기온\">-3.9°</strong><strong class=\"state\">눈</strong>\\n</div>\\n<div class=\"degree_box\">\\n<span class=\"min\" aria-label=\"최저기온\">-7.0°</span><span class=\"max\" aria-label=\"최고기온\">-1.0°</span>\\n</div>\\n<span class=\"location\">을지로2가</span>\\n</a>\\n</div>\\n<div>\\n<a data-clk=\"squ.dust\" href=\"https://weather.naver.com/today/09140105\" class=\"air_area\">\\n<ul class=\"list_air\">\\n<li class=\"air_item\">미세<strong class=\"state state_normal\">보통</strong></li>\\n<li class=\"air_item\">초미세<strong class=\"state state_good\">좋음</strong></li>\\n</ul>\\n<span class=\"location\">을지로2가</span>\\n</a>\\n</div>\\n\\n</div>\\n</div>\\n<div class=\"ly_service\">\\n<div class=\"group_service NM_FAVORITE_ALL_LY\"></div>\\n<div class=\"group_service NM_FAVORITE_EDIT_LY\" style=\"display: none;\"></div>\\n</div>\\n</div>\\n</div>\\n <div id=\"container\" role=\"main\"> <div style=\"position:relative;width:1130px;margin:0 auto;z-index:11\"> <div id=\"da_top\"></div> <div id=\"da_expwide\"></div> </div> <div id=\"NM_INT_LEFT\" class=\"column_left\"> <div id=\"veta_top\"> <div id=\"veta_top_inner\" style=\"height:135px\"> </div> <span class=\"veta_bd_t\"></span> <span class=\"veta_bd_b\"></span> <span class=\"veta_bd_l\"></span> <span class=\"veta_bd_r\"></span> </div> <div id=\"newsstand\" class=\"sc_newscast\"> <h2 class=\"blind\">뉴스스탠드</h2> <div id=\"NM_NEWSSTAND_HEADER\" class=\"group_issue\" data-clk-prefix=\"ncy\"> <div class=\"issue_area\"> <a class=\"link_media\" href=\"https://news.naver.com/main/list.naver?mode=LPOD&mid=sec&sid1=001&sid2=140&oid=001&isYeonhapFlash=Y\" data-clk=\"newsflash\">연합뉴스</a> <div id=\"NM_ONELINE_ROLLING\" class=\"list_issue\" data-nm-ui=\"rolling\"> <div><a href=\"https://news.naver.com/main/list.naver?mode=LPOD&mid=sec&sid1=001&sid2=140&oid=001&isYeonhapFlash=Y&aid=0012926747\" class=\"issue\" data-clk=\"quickarticle\">[코로나 2년] 벼랑 끝 자영업자들…\"더 견디기 힘들어\"</a></div>\\n<div><a href=\"https://news.naver.com/main/list.naver?mode=LPOD&mid=sec&sid1=001&sid2=140&oid=001&isYeonhapFlash=Y&aid=0012927015\" class=\"issue\" data-clk=\"quickarticle\">신규확진 5천805명, 20일 만에 5천명대로 급증…위중증 532명</a></div>\\n<div><a href=\"https://news.naver.com/main/list.naver?mode=LPOD&mid=sec&sid1=001&sid2=140&oid=001&isYeonhapFlash=Y&aid=0012927017\" class=\"issue\" data-clk=\"quickarticle\">서울 등 수도권과 충남북부에 대설주의보…낮에 눈 쏟아져</a></div>\\n<div><a href=\"https://news.naver.com/main/list.naver?mode=LPOD&mid=sec&sid1=001&sid2=140&oid=001&isYeonhapFlash=Y&aid=0012927008\" class=\"issue\" data-clk=\"quickarticle\">노동부·경찰, \\'붕괴사고\\' 현대산업개발 본사 합동 압수수색</a></div>\\n<div><a href=\"https://news.naver.com/main/list.naver?mode=LPOD&mid=sec&sid1=001&sid2=140&oid=001&isYeonhapFlash=Y&aid=0012926948\" class=\"issue\" data-clk=\"quickarticle\">이재명 \"카카오페이 경영진 먹튀, 철저히 조사·예방하겠다\"</a></div>\\n<div><a href=\"https://news.naver.com/main/list.naver?mode=LPOD&mid=sec&sid1=001&sid2=140&oid=001&isYeonhapFlash=Y&aid=0012926989\" class=\"issue\" data-clk=\"quickarticle\">윤석열 \"코인 투자수익 5천만원까지 완전 비과세\"</a></div>\\n<div><a href=\"https://news.naver.com/main/list.naver?mode=LPOD&mid=sec&sid1=001&sid2=140&oid=001&isYeonhapFlash=Y&aid=0012926894\" class=\"issue\" data-clk=\"quickarticle\">이준석, 안철수 겨냥 \"안일화보다 간일화 단어가 뜬다\"</a></div>\\n<div><a href=\"https://news.naver.com/main/list.naver?mode=LPOD&mid=sec&sid1=001&sid2=140&oid=001&isYeonhapFlash=Y&aid=0012926726\" class=\"issue\" data-clk=\"quickarticle\">오늘부터 소상공인 손실보상금 선지급 신청…55만명 대상</a></div>\\n<div><a href=\"https://news.naver.com/main/list.naver?mode=LPOD&mid=sec&sid1=001&sid2=140&oid=001&isYeonhapFlash=Y&aid=0012926802\" class=\"issue\" data-clk=\"quickarticle\">홍남기 \"올해 사전청약 7만호 공급…민간 물량이 3만8천호\"</a></div>\\n<div><a href=\"https://news.naver.com/main/list.naver?mode=LPOD&mid=sec&sid1=001&sid2=140&oid=001&isYeonhapFlash=Y&aid=0012926733\" class=\"issue\" data-clk=\"quickarticle\">LG엔솔 일반 청약 오늘 마감…또 흥행 신기록 세우나</a></div> </div> </div> <div class=\"direct_area\"> <a href=\"http://news.naver.com/\" class=\"link_news\" data-clk=\"newshome\">뉴스홈</a>\\n<a href=\"http://entertain.naver.com/home\" class=\"link_direct\" data-clk=\"entertainment\">연예</a>\\n<a href=\"http://sports.news.naver.com/\" class=\"link_direct\" data-clk=\"sports\">스포츠</a>\\n<a href=\"http://m.sports.naver.com/beijing2022/index\" class=\"link_direct\" data-clk=\"beijing\">올림픽</a> </div> </div>        <div id=\"NM_NEWSSTAND_TITLE\" class=\"group_title\" data-clk-prefix=\"nsd\"> <a href=\"http://newsstand.naver.com/\" class=\"link_newsstand\" data-clk=\"title\" target=\"_blank\">뉴스스탠드</a> <div id=\"NM_NEWSSTAND_data_buttons\" class=\"sort_area\">  <a href=\"#\" role=\"button\" data-type=\"my\" data-clk=\"my\" class=\"btn_sort\">구독한 언론사</a> <a href=\"#\" role=\"button\" data-type=\"all\" data-clk=\"all\" class=\"btn_sort sort_on\">전체언론사</a>  </div> <div id=\"NM_NEWSSTAND_view_buttons\" class=\"set_area\">  <a href=\"#\" role=\"button\" data-type=\"list\" data-clk=\"articleview\" class=\"btn_set\"> <i class=\"ico_list\"><span class=\"blind\">리스트형</span></i></a> <a href=\"#\" role=\"button\" data-type=\"thumb\" data-clk=\"pressview\" class=\"btn_set set_on\"> <i class=\"ico_tile\"><span class=\"blind\">썸네일형</span></i></a>  <a href=\"http://newsstand.naver.com/config.html\" class=\"btn_set\" data-clk=\"set\" target=\"_blank\"> <i class=\"ico_set\"><span class=\"blind\">설정</span></i></a> </div> </div> <div id=\"NM_NEWSSTAND_VIEW_CONTAINER\" style=\"position:relative\"> <div id=\"NM_NEWSSTAND_DEFAULT_LIST\" class=\"group_news\" style=\"display:none\" data-clk-prefix=\"nsd_all\"> <a href=\"#\" role=\"button\" class=\"pm_btn_prev_l _NM_NEWSSTAND_LIST_prev_btn\" data-clk-custom=\"prev\"><i class=\"ico_btn\"><span class=\"blind\">이전</span></i></a> <a href=\"#\" role=\"button\" class=\"pm_btn_next_l _NM_NEWSSTAND_LIST_next_btn\" data-clk-custom=\"next\"><i class=\"ico_btn\"><span class=\"blind\">다음</span></i></a> <div class=\"list_view\"> <div class=\"option_area\"> <div class=\"list_option_wrap\"> <ul class=\"list_option\"> <li class=\"option_item\" data-cateid=\"ct2\"><a href=\"#\" class=\"option\" data-clk=\"daei\">종합/경제</a></li> <li class=\"option_item\" data-cateid=\"ct3\"><a href=\"#\" class=\"option\" data-clk=\"dtvcom\">방송/통신</a></li> <li class=\"option_item\" data-cateid=\"ct4\"><a href=\"#\" class=\"option\" data-clk=\"dit\">IT</a></li> <li class=\"option_item\" data-cateid=\"ct5\"><a href=\"#\" class=\"option\" data-clk=\"deng\">영자지</a></li> <li class=\"option_item\" data-cateid=\"ct6\"><a href=\"#\" class=\"option\" data-clk=\"dsporent\">스포츠/연예</a></li> <li class=\"option_item\" data-cateid=\"ct7\"><a href=\"#\" class=\"option\" data-clk=\"dmagtec\">매거진/전문지</a></li> <li class=\"option_item\" data-cateid=\"ct8\"><a href=\"#\" class=\"option\" data-clk=\"dloc\">지역</a></li> </ul> </div> </div> <div class=\"_NM_NEWSSTAND_ARTICLE_CONTAINER\" data-clk-sub=\"*a\"></div> </div> <div class=\"ly_popup NM_NEWSSTAND_POPUP NM_NEWSSTAND_invalid\" style=\"display:none\" data-clk-sub=\"*a\"> <a href=\"#\" role=\"button\" class=\"btn_close NM_NEWSSTAND_POPUP_CLOSE\"><i class=\"ico_close\"></i><span class=\"blind\">닫기</span></a> <p class=\"popup_msg\">해당 언론사 사정으로 접근이 제한됩니다.</p> <div class=\"popup_btn\"> <a href=\"#\" role=\"button\" class=\"btn_confirm NM_NEWSSTAND_POPUP_CLOSE\">확인</a> </div> </div> <div class=\"ly_popup NM_NEWSSTAND_POPUP NM_NEWSSTAND_undescribe_confirm\" style=\"display:none\" data-clk-sub=\"*a\"> <a href=\"#\" role=\"button\" class=\"btn_close NM_NEWSSTAND_POPUP_CLOSE\" data-clk=\"usclose\"><i class=\"ico_close\"></i><span class=\"blind\">닫기</span></a> <p class=\"popup_msg\"><strong class=\"NM_NEWSSTAND_POPUP_PNAME\"></strong>을(를)<br>구독해지 하시겠습니까?</p> <div class=\"popup_btn\"> <a href=\"#\" role=\"button\" class=\"btn_confirm NM_NEWSSTAND_POPUP_CONFIRM\" data-clk=\"usdone\">확인</a> <a href=\"#\" role=\"button\" class=\"btn_confirm NM_NEWSSTAND_POPUP_CLOSE\" data-clk=\"uscancel\">취소</a> </div> </div> <div class=\"ly_toast NM_NEWSSTAND_TOAST\" style=\"display:none\"> <p class=\"toast_msg\">구독한 언론사에 추가되었습니다.</p> </div> </div>   <div id=\"NM_NEWSSTAND_DEFAULT_THUMB\" class=\"group_news\" style=\"display:block\" data-clk-prefix=\"nsd_all\"> <a href=\"#\" role=\"button\" class=\"pm_btn_prev_l _NM_UI_PAGE_PREV\" data-clk-custom=\"prev\"><i class=\"ico_btn\"><span class=\"blind\">이전</span></i></a> <a href=\"#\" role=\"button\" class=\"pm_btn_next_l _NM_UI_PAGE_NEXT\" data-clk-custom=\"next\"><i class=\"ico_btn\"><span class=\"blind\">다음</span></i></a> <div class=\"_NM_UI_PAGE_CONTAINER\" style=\"height:100%;overflow:hidden\" data-clk-sub=\"*p\">   <div style=\"width: 750px; float: left;\">\\n<div class=\"tile_view\">\\n<div class=\"frame_area\">\\n<i class=\"line to_right1\"></i>\\n<i class=\"line to_right2\"></i>\\n<i class=\"line to_right3\"></i>\\n<i class=\"line to_bottom1\"></i>\\n<i class=\"line to_bottom2\"></i>\\n<i class=\"line to_bottom3\"></i>\\n<i class=\"line to_bottom4\"></i>\\n<i class=\"line to_bottom5\"></i>\\n</div>\\n<div class=\"thumb_area\">\\n<div\\nclass=\"thumb_box _NM_NEWSSTAND_THUMB _NM_NEWSSTAND_THUMB_press_valid\"\\ndata-pid=\"293\"\\n>\\n<a href=\"#\" class=\"thumb\">\\n<img\\nsrc=\"https://s.pstatic.net/static/newsstand/2020/logo/light/0604/293.png\"\\nheight=\"20\"\\nalt=\"블로터\"\\nclass=\"news_logo\"\\n/>\\n<span class=\"thumb_dim\"></span\\n></a>\\n<div class=\"popup_wrap\">\\n<a\\nhref=\"#\"\\nrole=\"button\"\\nclass=\"btn_popup _NM_NEWSSTAND_THUMB_subscribe_press\"\\ndata-pid=\"293\"\\ndata-clk=\"sub\"\\n>구독</a\\n>\\n<a\\nhref=\"#\"\\nrole=\"button\"\\nclass=\"btn_popup _NM_NEWSSTAND_THUMB_unsubscribe_press\"\\ndata-pid=\"293\"\\ndata-clk=\"unsub\"\\n>해지</a\\n>\\n<a\\nhref=\"http://newsstand.naver.com/?list=&pcode=293\"\\ntarget=\"_blank\"\\nclass=\"btn_popup\"\\ndata-clk=\"logo\"\\ndata-pid=\"293\"\\n>기사보기</a\\n>\\n</div>\\n</div>\\n<div\\nclass=\"thumb_box _NM_NEWSSTAND_THUMB _NM_NEWSSTAND_THUMB_press_valid\"\\ndata-pid=\"005\"\\n>\\n<a href=\"#\" class=\"thumb\">\\n<img\\nsrc=\"https://s.pstatic.net/static/newsstand/2020/logo/light/0604/005.png\"\\nheight=\"20\"\\nalt=\"국민일보\"\\nclass=\"news_logo\"\\n/>\\n<span class=\"thumb_dim\"></span\\n></a>\\n<div class=\"popup_wrap\">\\n<a\\nhref=\"#\"\\nrole=\"button\"\\nclass=\"btn_popup _NM_NEWSSTAND_THUMB_subscribe_press\"\\ndata-pid=\"005\"\\ndata-clk=\"sub\"\\n>구독</a\\n>\\n<a\\nhref=\"#\"\\nrole=\"button\"\\nclass=\"btn_popup _NM_NEWSSTAND_THUMB_unsubscribe_press\"\\ndata-pid=\"005\"\\ndata-clk=\"unsub\"\\n>해지</a\\n>\\n<a\\nhref=\"http://newsstand.naver.com/?list=&pcode=005\"\\ntarget=\"_blank\"\\nclass=\"btn_popup\"\\ndata-clk=\"logo\"\\ndata-pid=\"005\"\\n>기사보기</a\\n>\\n</div>\\n</div>\\n<div\\nclass=\"thumb_box _NM_NEWSSTAND_THUMB _NM_NEWSSTAND_THUMB_press_valid\"\\ndata-pid=\"056\"\\n>\\n<a href=\"#\" class=\"thumb\">\\n<img\\nsrc=\"https://s.pstatic.net/static/newsstand/2020/logo/light/0604/056.png\"\\nheight=\"20\"\\nalt=\"KBS\"\\nclass=\"news_logo\"\\n/>\\n<span class=\"thumb_dim\"></span\\n></a>\\n<div class=\"popup_wrap\">\\n<a\\nhref=\"#\"\\nrole=\"button\"\\nclass=\"btn_popup _NM_NEWSSTAND_THUMB_subscribe_press\"\\ndata-pid=\"056\"\\ndata-clk=\"sub\"\\n>구독</a\\n>\\n<a\\nhref=\"#\"\\nrole=\"button\"\\nclass=\"btn_popup _NM_NEWSSTAND_THUMB_unsubscribe_press\"\\ndata-pid=\"056\"\\ndata-clk=\"unsub\"\\n>해지</a\\n>\\n<a\\nhref=\"http://newsstand.naver.com/?list=&pcode=056\"\\ntarget=\"_blank\"\\nclass=\"btn_popup\"\\ndata-clk=\"logo\"\\ndata-pid=\"056\"\\n>기사보기</a\\n>\\n</div>\\n</div>\\n<div\\nclass=\"thumb_box _NM_NEWSSTAND_THUMB _NM_NEWSSTAND_THUMB_press_valid\"\\ndata-pid=\"081\"\\n>\\n<a href=\"#\" class=\"thumb\">\\n<img\\nsrc=\"https://s.pstatic.net/static/newsstand/up/2022/0105/nsd20151679.png\"\\nheight=\"20\"\\nalt=\"서울신문\"\\nclass=\"news_logo\"\\n/>\\n<span class=\"thumb_dim\"></span\\n></a>\\n<div class=\"popup_wrap\">\\n<a\\nhref=\"#\"\\nrole=\"button\"\\nclass=\"btn_popup _NM_NEWSSTAND_THUMB_subscribe_press\"\\ndata-pid=\"081\"\\ndata-clk=\"sub\"\\n>구독</a\\n>\\n<a\\nhref=\"#\"\\nrole=\"button\"\\nclass=\"btn_popup _NM_NEWSSTAND_THUMB_unsubscribe_press\"\\ndata-pid=\"081\"\\ndata-clk=\"unsub\"\\n>해지</a\\n>\\n<a\\nhref=\"http://newsstand.naver.com/?list=&pcode=081\"\\ntarget=\"_blank\"\\nclass=\"btn_popup\"\\ndata-clk=\"logo\"\\ndata-pid=\"081\"\\n>기사보기</a\\n>\\n</div>\\n</div>\\n<div\\nclass=\"thumb_box _NM_NEWSSTAND_THUMB _NM_NEWSSTAND_THUMB_press_valid\"\\ndata-pid=\"215\"\\n>\\n<a href=\"#\" class=\"thumb\">\\n<img\\nsrc=\"https://s.pstatic.net/static/newsstand/2020/logo/light/0604/215.png\"\\nheight=\"20\"\\nalt=\"한국경제TV\"\\nclass=\"news_logo\"\\n/>\\n<span class=\"thumb_dim\"></span\\n></a>\\n<div class=\"popup_wrap\">\\n<a\\nhref=\"#\"\\nrole=\"button\"\\nclass=\"btn_popup _NM_NEWSSTAND_THUMB_subscribe_press\"\\ndata-pid=\"215\"\\ndata-clk=\"sub\"\\n>구독</a\\n>\\n<a\\nhref=\"#\"\\nrole=\"button\"\\nclass=\"btn_popup _NM_NEWSSTAND_THUMB_unsubscribe_press\"\\ndata-pid=\"215\"\\ndata-clk=\"unsub\"\\n>해지</a\\n>\\n<a\\nhref=\"http://newsstand.naver.com/?list=&pcode=215\"\\ntarget=\"_blank\"\\nclass=\"btn_popup\"\\ndata-clk=\"logo\"\\ndata-pid=\"215\"\\n>기사보기</a\\n>\\n</div>\\n</div>\\n<div\\nclass=\"thumb_box _NM_NEWSSTAND_THUMB _NM_NEWSSTAND_THUMB_press_valid\"\\ndata-pid=\"009\"\\n>\\n<a href=\"#\" class=\"thumb\">\\n<img\\nsrc=\"https://s.pstatic.net/static/newsstand/2020/logo/light/0604/009.png\"\\nheight=\"20\"\\nalt=\"매일경제\"\\nclass=\"news_logo\"\\n/>\\n<span class=\"thumb_dim\"></span\\n></a>\\n<div class=\"popup_wrap\">\\n<a\\nhref=\"#\"\\nrole=\"button\"\\nclass=\"btn_popup _NM_NEWSSTAND_THUMB_subscribe_press\"\\ndata-pid=\"009\"\\ndata-clk=\"sub\"\\n>구독</a\\n>\\n<a\\nhref=\"#\"\\nrole=\"button\"\\nclass=\"btn_popup _NM_NEWSSTAND_THUMB_unsubscribe_press\"\\ndata-pid=\"009\"\\ndata-clk=\"unsub\"\\n>해지</a\\n>\\n<a\\nhref=\"http://newsstand.naver.com/?list=&pcode=009\"\\ntarget=\"_blank\"\\nclass=\"btn_popup\"\\ndata-clk=\"logo\"\\ndata-pid=\"009\"\\n>기사보기</a\\n>\\n</div>\\n</div>\\n<div\\nclass=\"thumb_box _NM_NEWSSTAND_THUMB _NM_NEWSSTAND_THUMB_press_valid\"\\ndata-pid=\"018\"\\n>\\n<a href=\"#\" class=\"thumb\">\\n<img\\nsrc=\"https://s.pstatic.net/static/newsstand/2020/logo/light/0604/018.png\"\\nheight=\"20\"\\nalt=\"이데일리\"\\nclass=\"news_logo\"\\n/>\\n<span class=\"thumb_dim\"></span\\n></a>\\n<div class=\"popup_wrap\">\\n<a\\nhref=\"#\"\\nrole=\"button\"\\nclass=\"btn_popup _NM_NEWSSTAND_THUMB_subscribe_press\"\\ndata-pid=\"018\"\\ndata-clk=\"sub\"\\n>구독</a\\n>\\n<a\\nhref=\"#\"\\nrole=\"button\"\\nclass=\"btn_popup _NM_NEWSSTAND_THUMB_unsubscribe_press\"\\ndata-pid=\"018\"\\ndata-clk=\"unsub\"\\n>해지</a\\n>\\n<a\\nhref=\"http://newsstand.naver.com/?list=&pcode=018\"\\ntarget=\"_blank\"\\nclass=\"btn_popup\"\\ndata-clk=\"logo\"\\ndata-pid=\"018\"\\n>기사보기</a\\n>\\n</div>\\n</div>\\n<div\\nclass=\"thumb_box _NM_NEWSSTAND_THUMB _NM_NEWSSTAND_THUMB_press_valid\"\\ndata-pid=\"022\"\\n>\\n<a href=\"#\" class=\"thumb\">\\n<img\\nsrc=\"https://s.pstatic.net/static/newsstand/2020/logo/light/0604/022.png\"\\nheight=\"20\"\\nalt=\"세계일보\"\\nclass=\"news_logo\"\\n/>\\n<span class=\"thumb_dim\"></span\\n></a>\\n<div class=\"popup_wrap\">\\n<a\\nhref=\"#\"\\nrole=\"button\"\\nclass=\"btn_popup _NM_NEWSSTAND_THUMB_subscribe_press\"\\ndata-pid=\"022\"\\ndata-clk=\"sub\"\\n>구독</a\\n>\\n<a\\nhref=\"#\"\\nrole=\"button\"\\nclass=\"btn_popup _NM_NEWSSTAND_THUMB_unsubscribe_press\"\\ndata-pid=\"022\"\\ndata-clk=\"unsub\"\\n>해지</a\\n>\\n<a\\nhref=\"http://newsstand.naver.com/?list=&pcode=022\"\\ntarget=\"_blank\"\\nclass=\"btn_popup\"\\ndata-clk=\"logo\"\\ndata-pid=\"022\"\\n>기사보기</a\\n>\\n</div>\\n</div>\\n<div\\nclass=\"thumb_box _NM_NEWSSTAND_THUMB _NM_NEWSSTAND_THUMB_press_valid\"\\ndata-pid=\"904\"\\n>\\n<a href=\"#\" class=\"thumb\">\\n<img\\nsrc=\"https://s.pstatic.net/static/newsstand/2020/logo/light/0604/904.png\"\\nheight=\"20\"\\nalt=\"JTBC\"\\nclass=\"news_logo\"\\n/>\\n<span class=\"thumb_dim\"></span\\n></a>\\n<div class=\"popup_wrap\">\\n<a\\nhref=\"#\"\\nrole=\"button\"\\nclass=\"btn_popup _NM_NEWSSTAND_THUMB_subscribe_press\"\\ndata-pid=\"904\"\\ndata-clk=\"sub\"\\n>구독</a\\n>\\n<a\\nhref=\"#\"\\nrole=\"button\"\\nclass=\"btn_popup _NM_NEWSSTAND_THUMB_unsubscribe_press\"\\ndata-pid=\"904\"\\ndata-clk=\"unsub\"\\n>해지</a\\n>\\n<a\\nhref=\"http://newsstand.naver.com/?list=&pcode=904\"\\ntarget=\"_blank\"\\nclass=\"btn_popup\"\\ndata-clk=\"logo\"\\ndata-pid=\"904\"\\n>기사보기</a\\n>\\n</div>\\n</div>\\n<div\\nclass=\"thumb_box _NM_NEWSSTAND_THUMB _NM_NEWSSTAND_THUMB_press_valid\"\\ndata-pid=\"327\"\\n>\\n<a href=\"#\" class=\"thumb\">\\n<img\\nsrc=\"https://s.pstatic.net/static/newsstand/2020/logo/light/0604/327.png\"\\nheight=\"20\"\\nalt=\"뉴데일리\"\\nclass=\"news_logo\"\\n/>\\n<span class=\"thumb_dim\"></span\\n></a>\\n<div class=\"popup_wrap\">\\n<a\\nhref=\"#\"\\nrole=\"button\"\\nclass=\"btn_popup _NM_NEWSSTAND_THUMB_subscribe_press\"\\ndata-pid=\"327\"\\ndata-clk=\"sub\"\\n>구독</a\\n>\\n<a\\nhref=\"#\"\\nrole=\"button\"\\nclass=\"btn_popup _NM_NEWSSTAND_THUMB_unsubscribe_press\"\\ndata-pid=\"327\"\\ndata-clk=\"unsub\"\\n>해지</a\\n>\\n<a\\nhref=\"http://newsstand.naver.com/?list=&pcode=327\"\\ntarget=\"_blank\"\\nclass=\"btn_popup\"\\ndata-clk=\"logo\"\\ndata-pid=\"327\"\\n>기사보기</a\\n>\\n</div>\\n</div>\\n<div\\nclass=\"thumb_box _NM_NEWSSTAND_THUMB _NM_NEWSSTAND_THUMB_press_valid\"\\ndata-pid=\"015\"\\n>\\n<a href=\"#\" class=\"thumb\">\\n<img\\nsrc=\"https://s.pstatic.net/static/newsstand/2020/logo/light/0604/015.png\"\\nheight=\"20\"\\nalt=\"한국경제\"\\nclass=\"news_logo\"\\n/>\\n<span class=\"thumb_dim\"></span\\n></a>\\n<div class=\"popup_wrap\">\\n<a\\nhref=\"#\"\\nrole=\"button\"\\nclass=\"btn_popup _NM_NEWSSTAND_THUMB_subscribe_press\"\\ndata-pid=\"015\"\\ndata-clk=\"sub\"\\n>구독</a\\n>\\n<a\\nhref=\"#\"\\nrole=\"button\"\\nclass=\"btn_popup _NM_NEWSSTAND_THUMB_unsubscribe_press\"\\ndata-pid=\"015\"\\ndata-clk=\"unsub\"\\n>해지</a\\n>\\n<a\\nhref=\"http://newsstand.naver.com/?list=&pcode=015\"\\ntarget=\"_blank\"\\nclass=\"btn_popup\"\\ndata-clk=\"logo\"\\ndata-pid=\"015\"\\n>기사보기</a\\n>\\n</div>\\n</div>\\n<div\\nclass=\"thumb_box _NM_NEWSSTAND_THUMB _NM_NEWSSTAND_THUMB_press_valid\"\\ndata-pid=\"028\"\\n>\\n<a href=\"#\" class=\"thumb\">\\n<img\\nsrc=\"https://s.pstatic.net/static/newsstand/2020/logo/light/0604/028.png\"\\nheight=\"20\"\\nalt=\"한겨레\"\\nclass=\"news_logo\"\\n/>\\n<span class=\"thumb_dim\"></span\\n></a>\\n<div class=\"popup_wrap\">\\n<a\\nhref=\"#\"\\nrole=\"button\"\\nclass=\"btn_popup _NM_NEWSSTAND_THUMB_subscribe_press\"\\ndata-pid=\"028\"\\ndata-clk=\"sub\"\\n>구독</a\\n>\\n<a\\nhref=\"#\"\\nrole=\"button\"\\nclass=\"btn_popup _NM_NEWSSTAND_THUMB_unsubscribe_press\"\\ndata-pid=\"028\"\\ndata-clk=\"unsub\"\\n>해지</a\\n>\\n<a\\nhref=\"http://newsstand.naver.com/?list=&pcode=028\"\\ntarget=\"_blank\"\\nclass=\"btn_popup\"\\ndata-clk=\"logo\"\\ndata-pid=\"028\"\\n>기사보기</a\\n>\\n</div>\\n</div>\\n<div\\nclass=\"thumb_box _NM_NEWSSTAND_THUMB _NM_NEWSSTAND_THUMB_press_valid\"\\ndata-pid=\"330\"\\n>\\n<a href=\"#\" class=\"thumb\">\\n<img\\nsrc=\"https://s.pstatic.net/static/newsstand/2020/logo/light/0604/330.png\"\\nheight=\"20\"\\nalt=\"중앙데일리\"\\nclass=\"news_logo\"\\n/>\\n<span class=\"thumb_dim\"></span\\n></a>\\n<div class=\"popup_wrap\">\\n<a\\nhref=\"#\"\\nrole=\"button\"\\nclass=\"btn_popup _NM_NEWSSTAND_THUMB_subscribe_press\"\\ndata-pid=\"330\"\\ndata-clk=\"sub\"\\n>구독</a\\n>\\n<a\\nhref=\"#\"\\nrole=\"button\"\\nclass=\"btn_popup _NM_NEWSSTAND_THUMB_unsubscribe_press\"\\ndata-pid=\"330\"\\ndata-clk=\"unsub\"\\n>해지</a\\n>\\n<a\\nhref=\"http://newsstand.naver.com/?list=&pcode=330\"\\ntarget=\"_blank\"\\nclass=\"btn_popup\"\\ndata-clk=\"logo\"\\ndata-pid=\"330\"\\n>기사보기</a\\n>\\n</div>\\n</div>\\n<div\\nclass=\"thumb_box _NM_NEWSSTAND_THUMB _NM_NEWSSTAND_THUMB_press_valid\"\\ndata-pid=\"023\"\\n>\\n<a href=\"#\" class=\"thumb\">\\n<img\\nsrc=\"https://s.pstatic.net/static/newsstand/up/2020/0903/nsd185255316.png\"\\nheight=\"20\"\\nalt=\"조선일보\"\\nclass=\"news_logo\"\\n/>\\n<span class=\"thumb_dim\"></span\\n></a>\\n<div class=\"popup_wrap\">\\n<a\\nhref=\"#\"\\nrole=\"button\"\\nclass=\"btn_popup _NM_NEWSSTAND_THUMB_subscribe_press\"\\ndata-pid=\"023\"\\ndata-clk=\"sub\"\\n>구독</a\\n>\\n<a\\nhref=\"#\"\\nrole=\"button\"\\nclass=\"btn_popup _NM_NEWSSTAND_THUMB_unsubscribe_press\"\\ndata-pid=\"023\"\\ndata-clk=\"unsub\"\\n>해지</a\\n>\\n<a\\nhref=\"http://newsstand.naver.com/?list=&pcode=023\"\\ntarget=\"_blank\"\\nclass=\"btn_popup\"\\ndata-clk=\"logo\"\\ndata-pid=\"023\"\\n>기사보기</a\\n>\\n</div>\\n</div>\\n<div\\nclass=\"thumb_box _NM_NEWSSTAND_THUMB _NM_NEWSSTAND_THUMB_press_valid\"\\ndata-pid=\"052\"\\n>\\n<a href=\"#\" class=\"thumb\">\\n<img\\nsrc=\"https://s.pstatic.net/static/newsstand/2020/logo/light/0604/052.png\"\\nheight=\"20\"\\nalt=\"YTN\"\\nclass=\"news_logo\"\\n/>\\n<span class=\"thumb_dim\"></span\\n></a>\\n<div class=\"popup_wrap\">\\n<a\\nhref=\"#\"\\nrole=\"button\"\\nclass=\"btn_popup _NM_NEWSSTAND_THUMB_subscribe_press\"\\ndata-pid=\"052\"\\ndata-clk=\"sub\"\\n>구독</a\\n>\\n<a\\nhref=\"#\"\\nrole=\"button\"\\nclass=\"btn_popup _NM_NEWSSTAND_THUMB_unsubscribe_press\"\\ndata-pid=\"052\"\\ndata-clk=\"unsub\"\\n>해지</a\\n>\\n<a\\nhref=\"http://newsstand.naver.com/?list=&pcode=052\"\\ntarget=\"_blank\"\\nclass=\"btn_popup\"\\ndata-clk=\"logo\"\\ndata-pid=\"052\"\\n>기사보기</a\\n>\\n</div>\\n</div>\\n<div\\nclass=\"thumb_box _NM_NEWSSTAND_THUMB _NM_NEWSSTAND_THUMB_press_valid\"\\ndata-pid=\"830\"\\n>\\n<a href=\"#\" class=\"thumb\">\\n<img\\nsrc=\"https://s.pstatic.net/static/newsstand/up/2021/0211/nsd02321523.png\"\\nheight=\"20\"\\nalt=\"게임동아\"\\nclass=\"news_logo\"\\n/>\\n<span class=\"thumb_dim\"></span\\n></a>\\n<div class=\"popup_wrap\">\\n<a\\nhref=\"#\"\\nrole=\"button\"\\nclass=\"btn_popup _NM_NEWSSTAND_THUMB_subscribe_press\"\\ndata-pid=\"830\"\\ndata-clk=\"sub\"\\n>구독</a\\n>\\n<a\\nhref=\"#\"\\nrole=\"button\"\\nclass=\"btn_popup _NM_NEWSSTAND_THUMB_unsubscribe_press\"\\ndata-pid=\"830\"\\ndata-clk=\"unsub\"\\n>해지</a\\n>\\n<a\\nhref=\"http://newsstand.naver.com/?list=&pcode=830\"\\ntarget=\"_blank\"\\nclass=\"btn_popup\"\\ndata-clk=\"logo\"\\ndata-pid=\"830\"\\n>기사보기</a\\n>\\n</div>\\n</div>\\n<div\\nclass=\"thumb_box _NM_NEWSSTAND_THUMB _NM_NEWSSTAND_THUMB_press_valid\"\\ndata-pid=\"819\"\\n>\\n<a href=\"#\" class=\"thumb\">\\n<img\\nsrc=\"https://s.pstatic.net/static/newsstand/2020/logo/light/0604/819.png\"\\nheight=\"20\"\\nalt=\"바이라인네트워크\"\\nclass=\"news_logo\"\\n/>\\n<span class=\"thumb_dim\"></span\\n></a>\\n<div class=\"popup_wrap\">\\n<a\\nhref=\"#\"\\nrole=\"button\"\\nclass=\"btn_popup _NM_NEWSSTAND_THUMB_subscribe_press\"\\ndata-pid=\"819\"\\ndata-clk=\"sub\"\\n>구독</a\\n>\\n<a\\nhref=\"#\"\\nrole=\"button\"\\nclass=\"btn_popup _NM_NEWSSTAND_THUMB_unsubscribe_press\"\\ndata-pid=\"819\"\\ndata-clk=\"unsub\"\\n>해지</a\\n>\\n<a\\nhref=\"http://newsstand.naver.com/?list=&pcode=819\"\\ntarget=\"_blank\"\\nclass=\"btn_popup\"\\ndata-clk=\"logo\"\\ndata-pid=\"819\"\\n>기사보기</a\\n>\\n</div>\\n</div>\\n<div\\nclass=\"thumb_box _NM_NEWSSTAND_THUMB _NM_NEWSSTAND_THUMB_press_valid\"\\ndata-pid=\"826\"\\n>\\n<a href=\"#\" class=\"thumb\">\\n<img\\nsrc=\"https://s.pstatic.net/static/newsstand/2020/logo/light/0604/826.png\"\\nheight=\"20\"\\nalt=\"톱데일리\"\\nclass=\"news_logo\"\\n/>\\n<span class=\"thumb_dim\"></span\\n></a>\\n<div class=\"popup_wrap\">\\n<a\\nhref=\"#\"\\nrole=\"button\"\\nclass=\"btn_popup _NM_NEWSSTAND_THUMB_subscribe_press\"\\ndata-pid=\"826\"\\ndata-clk=\"sub\"\\n>구독</a\\n>\\n<a\\nhref=\"#\"\\nrole=\"button\"\\nclass=\"btn_popup _NM_NEWSSTAND_THUMB_unsubscribe_press\"\\ndata-pid=\"826\"\\ndata-clk=\"unsub\"\\n>해지</a\\n>\\n<a\\nhref=\"http://newsstand.naver.com/?list=&pcode=826\"\\ntarget=\"_blank\"\\nclass=\"btn_popup\"\\ndata-clk=\"logo\"\\ndata-pid=\"826\"\\n>기사보기</a\\n>\\n</div>\\n</div>\\n<div\\nclass=\"thumb_box _NM_NEWSSTAND_THUMB _NM_NEWSSTAND_THUMB_press_valid\"\\ndata-pid=\"818\"\\n>\\n<a href=\"#\" class=\"thumb\">\\n<img\\nsrc=\"https://s.pstatic.net/static/newsstand/2020/logo/light/0604/818.png\"\\nheight=\"20\"\\nalt=\"IT동아\"\\nclass=\"news_logo\"\\n/>\\n<span class=\"thumb_dim\"></span\\n></a>\\n<div class=\"popup_wrap\">\\n<a\\nhref=\"#\"\\nrole=\"button\"\\nclass=\"btn_popup _NM_NEWSSTAND_THUMB_subscribe_press\"\\ndata-pid=\"818\"\\ndata-clk=\"sub\"\\n>구독</a\\n>\\n<a\\nhref=\"#\"\\nrole=\"button\"\\nclass=\"btn_popup _NM_NEWSSTAND_THUMB_unsubscribe_press\"\\ndata-pid=\"818\"\\ndata-clk=\"unsub\"\\n>해지</a\\n>\\n<a\\nhref=\"http://newsstand.naver.com/?list=&pcode=818\"\\ntarget=\"_blank\"\\nclass=\"btn_popup\"\\ndata-clk=\"logo\"\\ndata-pid=\"818\"\\n>기사보기</a\\n>\\n</div>\\n</div>\\n<div\\nclass=\"thumb_box _NM_NEWSSTAND_THUMB _NM_NEWSSTAND_THUMB_press_valid\"\\ndata-pid=\"802\"\\n>\\n<a href=\"#\" class=\"thumb\">\\n<img\\nsrc=\"https://s.pstatic.net/static/newsstand/2020/logo/light/0604/802.png\"\\nheight=\"20\"\\nalt=\"스포츠Q\"\\nclass=\"news_logo\"\\n/>\\n<span class=\"thumb_dim\"></span\\n></a>\\n<div class=\"popup_wrap\">\\n<a\\nhref=\"#\"\\nrole=\"button\"\\nclass=\"btn_popup _NM_NEWSSTAND_THUMB_subscribe_press\"\\ndata-pid=\"802\"\\ndata-clk=\"sub\"\\n>구독</a\\n>\\n<a\\nhref=\"#\"\\nrole=\"button\"\\nclass=\"btn_popup _NM_NEWSSTAND_THUMB_unsubscribe_press\"\\ndata-pid=\"802\"\\ndata-clk=\"unsub\"\\n>해지</a\\n>\\n<a\\nhref=\"http://newsstand.naver.com/?list=&pcode=802\"\\ntarget=\"_blank\"\\nclass=\"btn_popup\"\\ndata-clk=\"logo\"\\ndata-pid=\"802\"\\n>기사보기</a\\n>\\n</div>\\n</div>\\n<div\\nclass=\"thumb_box _NM_NEWSSTAND_THUMB _NM_NEWSSTAND_THUMB_press_valid\"\\ndata-pid=\"956\"\\n>\\n<a href=\"#\" class=\"thumb\">\\n<img\\nsrc=\"https://s.pstatic.net/static/newsstand/2020/logo/light/0604/956.png\"\\nheight=\"20\"\\nalt=\"철강금속신문\"\\nclass=\"news_logo\"\\n/>\\n<span class=\"thumb_dim\"></span\\n></a>\\n<div class=\"popup_wrap\">\\n<a\\nhref=\"#\"\\nrole=\"button\"\\nclass=\"btn_popup _NM_NEWSSTAND_THUMB_subscribe_press\"\\ndata-pid=\"956\"\\ndata-clk=\"sub\"\\n>구독</a\\n>\\n<a\\nhref=\"#\"\\nrole=\"button\"\\nclass=\"btn_popup _NM_NEWSSTAND_THUMB_unsubscribe_press\"\\ndata-pid=\"956\"\\ndata-clk=\"unsub\"\\n>해지</a\\n>\\n<a\\nhref=\"http://newsstand.naver.com/?list=&pcode=956\"\\ntarget=\"_blank\"\\nclass=\"btn_popup\"\\ndata-clk=\"logo\"\\ndata-pid=\"956\"\\n>기사보기</a\\n>\\n</div>\\n</div>\\n<div\\nclass=\"thumb_box _NM_NEWSSTAND_THUMB _NM_NEWSSTAND_THUMB_press_valid\"\\ndata-pid=\"923\"\\n>\\n<a href=\"#\" class=\"thumb\">\\n<img\\nsrc=\"https://s.pstatic.net/static/newsstand/2020/logo/light/0604/923.png\"\\nheight=\"20\"\\nalt=\"인민망\"\\nclass=\"news_logo\"\\n/>\\n<span class=\"thumb_dim\"></span\\n></a>\\n<div class=\"popup_wrap\">\\n<a\\nhref=\"#\"\\nrole=\"button\"\\nclass=\"btn_popup _NM_NEWSSTAND_THUMB_subscribe_press\"\\ndata-pid=\"923\"\\ndata-clk=\"sub\"\\n>구독</a\\n>\\n<a\\nhref=\"#\"\\nrole=\"button\"\\nclass=\"btn_popup _NM_NEWSSTAND_THUMB_unsubscribe_press\"\\ndata-pid=\"923\"\\ndata-clk=\"unsub\"\\n>해지</a\\n>\\n<a\\nhref=\"http://newsstand.naver.com/?list=&pcode=923\"\\ntarget=\"_blank\"\\nclass=\"btn_popup\"\\ndata-clk=\"logo\"\\ndata-pid=\"923\"\\n>기사보기</a\\n>\\n</div>\\n</div>\\n<div\\nclass=\"thumb_box _NM_NEWSSTAND_THUMB _NM_NEWSSTAND_THUMB_press_valid\"\\ndata-pid=\"989\"\\n>\\n<a href=\"#\" class=\"thumb\">\\n<img\\nsrc=\"https://s.pstatic.net/static/newsstand/2020/logo/light/0604/989.png\"\\nheight=\"20\"\\nalt=\"TBC\"\\nclass=\"news_logo\"\\n/>\\n<span class=\"thumb_dim\"></span\\n></a>\\n<div class=\"popup_wrap\">\\n<a\\nhref=\"#\"\\nrole=\"button\"\\nclass=\"btn_popup _NM_NEWSSTAND_THUMB_subscribe_press\"\\ndata-pid=\"989\"\\ndata-clk=\"sub\"\\n>구독</a\\n>\\n<a\\nhref=\"#\"\\nrole=\"button\"\\nclass=\"btn_popup _NM_NEWSSTAND_THUMB_unsubscribe_press\"\\ndata-pid=\"989\"\\ndata-clk=\"unsub\"\\n>해지</a\\n>\\n<a\\nhref=\"http://newsstand.naver.com/?list=&pcode=989\"\\ntarget=\"_blank\"\\nclass=\"btn_popup\"\\ndata-clk=\"logo\"\\ndata-pid=\"989\"\\n>기사보기</a\\n>\\n</div>\\n</div>\\n<div\\nclass=\"thumb_box _NM_NEWSSTAND_THUMB _NM_NEWSSTAND_THUMB_press_valid\"\\ndata-pid=\"808\"\\n>\\n<a href=\"#\" class=\"thumb\">\\n<img\\nsrc=\"https://s.pstatic.net/static/newsstand/2020/logo/light/0604/808.png\"\\nheight=\"20\"\\nalt=\"산업일보\"\\nclass=\"news_logo\"\\n/>\\n<span class=\"thumb_dim\"></span\\n></a>\\n<div class=\"popup_wrap\">\\n<a\\nhref=\"#\"\\nrole=\"button\"\\nclass=\"btn_popup _NM_NEWSSTAND_THUMB_subscribe_press\"\\ndata-pid=\"808\"\\ndata-clk=\"sub\"\\n>구독</a\\n>\\n<a\\nhref=\"#\"\\nrole=\"button\"\\nclass=\"btn_popup _NM_NEWSSTAND_THUMB_unsubscribe_press\"\\ndata-pid=\"808\"\\ndata-clk=\"unsub\"\\n>해지</a\\n>\\n<a\\nhref=\"http://newsstand.naver.com/?list=&pcode=808\"\\ntarget=\"_blank\"\\nclass=\"btn_popup\"\\ndata-clk=\"logo\"\\ndata-pid=\"808\"\\n>기사보기</a\\n>\\n</div>\\n</div>\\n</div>\\n</div>\\n</div>\\n  </div> <div class=\"ly_popup NM_NEWSSTAND_POPUP NM_NEWSSTAND_invalid\" style=\"display:none\"> <a href=\"#\" role=\"button\" class=\"btn_close NM_NEWSSTAND_POPUP_CLOSE\"><i class=\"ico_close\"></i><span class=\"blind\">닫기</span></a> <p class=\"popup_msg\">해당 언론사 사정으로 접근이 제한됩니다.</p> <div class=\"popup_btn\"> <a href=\"#\" role=\"button\" class=\"btn_confirm NM_NEWSSTAND_POPUP_CLOSE\">확인</a> </div> </div> <div class=\"ly_popup NM_NEWSSTAND_POPUP NM_NEWSSTAND_undescribe_confirm\" style=\"display:none\" data-clk-sub=\"*a\"> <a href=\"#\" role=\"button\" class=\"btn_close NM_NEWSSTAND_POPUP_CLOSE\" data-clk=\"usclose\"><i class=\"ico_close\"></i><span class=\"blind\">닫기</span></a> <p class=\"popup_msg\"><strong class=\"NM_NEWSSTAND_POPUP_PNAME\"></strong>을(를)<br/>구독해지 하시겠습니까?</p> <div class=\"popup_btn\"> <a href=\"#\" role=\"button\" class=\"btn_confirm NM_NEWSSTAND_POPUP_CONFIRM\" data-clk=\"usdone\">확인</a> <a href=\"#\" role=\"button\" class=\"btn_confirm NM_NEWSSTAND_POPUP_CLOSE\" data-clk=\"uscancel\">취소</a> </div> </div> <div class=\"ly_toast NM_NEWSSTAND_TOAST\" style=\"display:none\"> <p class=\"toast_msg\">구독한 언론사에 추가되었습니다.</p> </div> </div> <div id=\"NM_NEWSSTAND_MY_LIST\" class=\"group_news\" style=\"display:none\" data-clk-prefix=\"nsd_myn\"> <a href=\"#\" role=\"button\" class=\"pm_btn_prev_l _NM_NEWSSTAND_LIST_prev_btn\" data-clk-custom=\"prev\"><i class=\"ico_btn\"></i><span class=\"blind\">이전</span></a> <a href=\"#\" role=\"button\" class=\"pm_btn_next_l _NM_NEWSSTAND_LIST_next_btn\" data-clk-custom=\"next\"><i class=\"ico_btn\"></i><span class=\"blind\">다음</span><span class=\"blind\">다음</span></a> <div class=\"list_view\"> <div class=\"option_area\"> <div class=\"list_option_wrap\"> <ul class=\"list_option _NM_NEWSSTAND_MY_presslist\"> <!-- nvpaperlist:empty --> </ul> </div> </div> <div class=\"_NM_NEWSSTAND_ARTICLE_CONTAINER\" data-clk-sub=\"*a\">  </div> </div> <div class=\"ly_popup NM_NEWSSTAND_POPUP NM_NEWSSTAND_invalid\" style=\"display:none\"> <a href=\"#\" role=\"button\" class=\"btn_close NM_NEWSSTAND_POPUP_CLOSE\"><i class=\"ico_close\"></i><span class=\"blind\">닫기</span></a> <p class=\"popup_msg\">해당 언론사 사정으로 접근이 일시 제한됩니다.</p> <div class=\"popup_btn\"> <a href=\"#\" role=\"button\" class=\"btn_confirm NM_NEWSSTAND_POPUP_CLOSE\">확인</a> </div> </div> <div class=\"ly_popup NM_NEWSSTAND_POPUP NM_NEWSSTAND_undescribe_confirm\" style=\"display:none\" data-clk-sub=\"*a\"> <a href=\"#\" role=\"button\" class=\"btn_close NM_NEWSSTAND_POPUP_CLOSE\" data-clk=\"usclose\"><i class=\"ico_close\"></i><span class=\"blind\">닫기</span></a> <p class=\"popup_msg\"><strong class=\"NM_NEWSSTAND_POPUP_PNAME\"></strong>을(를)<br>구독해지 하시겠습니까?</p> <div class=\"popup_btn\"> <a href=\"#\" role=\"button\" class=\"btn_confirm NM_NEWSSTAND_POPUP_CONFIRM\" data-clk=\"usdone\">확인</a> <a href=\"#\" role=\"button\" class=\"btn_confirm NM_NEWSSTAND_POPUP_CLOSE\" data-clk=\"uscancel\">취소</a> </div> </div> </div> <div id=\"NM_NEWSSTAND_MY_THUMB\" class=\"group_news\" style=\"display:none\" data-clk-prefix=\"nsd_myn\"> <a href=\"#\" role=\"button\" class=\"pm_btn_prev_l _NM_UI_PAGE_PREV\" data-clk-custom=\"prev\"><i class=\"ico_btn\"><span class=\"blind\">이전</span></i></a> <a href=\"#\" role=\"button\" class=\"pm_btn_next_l _NM_UI_PAGE_NEXT\" data-clk-custom=\"next\"><i class=\"ico_btn\"><span class=\"blind\">다음</span></i></a> <div class=\"_NM_UI_PAGE_CONTAINER\" data-clk-sub=\"*p\"></div> <div class=\"ly_popup NM_NEWSSTAND_POPUP NM_NEWSSTAND_invalid\" style=\"display:none\"> <a href=\"#\" role=\"button\" class=\"btn_close NM_NEWSSTAND_POPUP_CLOSE\"><i class=\"ico_close\"></i><span class=\"blind\">닫기</span></a> <p class=\"popup_msg\">해당 언론사 사정으로 접근이 제한됩니다.</p> <div class=\"popup_btn\"> <a href=\"#\" role=\"button\" class=\"btn_confirm NM_NEWSSTAND_POPUP_CLOSE\">확인</a> </div> </div> <div class=\"ly_popup NM_NEWSSTAND_POPUP NM_NEWSSTAND_undescribe_confirm\" style=\"display:none\" data-clk-sub=\"*a\"> <a href=\"#\" role=\"button\" class=\"btn_close NM_NEWSSTAND_POPUP_CLOSE\" data-clk=\"usclose\"><i class=\"ico_close\"></i><span class=\"blind\">닫기</span></a> <p class=\"popup_msg\"><strong class=\"NM_NEWSSTAND_POPUP_PNAME\"></strong>을(를)<br>구독해지 하시겠습니까?</p> <div class=\"popup_btn\"> <a href=\"#\" role=\"button\" class=\"btn_confirm NM_NEWSSTAND_POPUP_CONFIRM\" data-clk=\"usdone\">확인</a> <a href=\"#\" role=\"button\" class=\"btn_confirm NM_NEWSSTAND_POPUP_CLOSE\" data-clk=\"uscancel\">취소</a> </div> </div> </div> <div id=\"NM_NEWSSTAND_MY_EMPTY\" class=\"group_news\" style=\"display:none\"> <div class=\"error_view\"> <div class=\"error_area\"> <strong class=\"error_msg\">구독한 언론사가 없습니다.</strong> <p class=\"dsc_msg\">언론사 구독 설정에서 관심있는 언론사를 구독하시면<br>언론사가 직접 편집한 뉴스들을 네이버 홈에서 바로 보실 수 있습니다.</p> <a href=\"http://newsstand.naver.com/config.html\" class=\"link_redirect\" target=\"_blank\">언론사 구독 설정하기</a> </div> </div> </div> </div> </div> <!-- EMPTY --> <div id=\"NM_THEMECAST_CONTENTS_CONTAINER\"> <div id=\"themecast\" class=\"sc_themecast id_finance\" data-fixed=\"FINANCE\">\\n\\t<h2 class=\"blind\">주제별 캐스트</h2>\\n\\t<div class=\"theme_head\">\\n\\t\\t<div class=\"group_title\">\\n\\t<div class=\"title_area\">\\n\\t\\t<strong class=\"title\">오늘 읽을만한 글</strong><span class=\"dsc\">주제별로 분류된 다양한 글 모음</span>\\n\\t</div>\\n\\t<div class=\"info_area\">\\n\\t\\t\\n\\t\\t\\t<span class=\"info\"><strong class=\"new\">898</strong> 개의 글</span>\\n\\t\\t\\n\\t\\t<a id=\"NM_THEME_EDIT_SET\" href=\"#\" role=\"button\" class=\"btn_set\" data-clk=\"tca.like\">관심주제 설정</a>\\n\\t</div>\\n</div>\\n<div id=\"NM_THEME_CATE_GROUPS\" class=\"group_category\" data-demo-key=\"default\">\\n\\t<div class=\"main_category\">\\n\\t\\t<a href=\"#\" role=\"button\" class=\"pm_btn_prev NM_THEME_PREV\" data-clk=\"tct.prev\" style=\"display: none;\">\\n\\t\\t\\t<i class=\"ico_btn\"><span class=\"blind\">이전</span></i>\\n\\t\\t</a>\\n\\t\\t<a href=\"#\" role=\"button\" class=\"pm_btn_next NM_THEME_NEXT\" data-clk=\"tct.next\" style=\"display: none;\">\\n\\t\\t\\t<i class=\"ico_btn\"><span class=\"blind\">다음</span></i>\\n\\t\\t</a>\\n\\t\\t<div id=\"NM_THEME_CATE_FLICK\" class=\"_NM_UI_PAGE_CONTAINER\" style=\"height: 49px; overflow: hidden;\">\\n\\t\\t\\t\\n\\t\\t\\t\\t<div style=\"width: 750px;\">\\n\\t\\t\\t\\t\\t<ul class=\"list_category\" role=\"tablist\">\\n\\t\\t\\t\\t\\t\\t\\n\\t\\t\\t\\t\\t\\t\\t<li class=\"category_item\" role=\"presentation\">\\n\\t\\t\\t\\t\\t\\t\\t\\t\\n\\t\\t\\t\\t\\t\\t\\t\\t\\n\\t\\t\\t\\t\\t\\t\\t\\t<a href=\"#\" role=\"tab\" class=\"_NM_THEME_CATE tab id_enter\"\\n\\t\\t\\t\\t\\t\\t\\t\\t   aria-selected=\"false\"\\n\\t\\t\\t\\t\\t\\t\\t\\t   data-clk=\"tct.tvc\" data-panel-code=\"ENTER\">엔터</a>\\n\\t\\t\\t\\t\\t\\t\\t</li>\\n\\t\\t\\t\\t\\t\\t\\n\\t\\t\\t\\t\\t\\t\\t<li class=\"category_item\" role=\"presentation\">\\n\\t\\t\\t\\t\\t\\t\\t\\t\\n\\t\\t\\t\\t\\t\\t\\t\\t\\n\\t\\t\\t\\t\\t\\t\\t\\t<a href=\"#\" role=\"tab\" class=\"_NM_THEME_CATE tab id_sports\"\\n\\t\\t\\t\\t\\t\\t\\t\\t   aria-selected=\"false\"\\n\\t\\t\\t\\t\\t\\t\\t\\t   data-clk=\"tct.spo\" data-panel-code=\"SPORTS\">스포츠</a>\\n\\t\\t\\t\\t\\t\\t\\t</li>\\n\\t\\t\\t\\t\\t\\t\\n\\t\\t\\t\\t\\t\\t\\t<li class=\"category_item\" role=\"presentation\">\\n\\t\\t\\t\\t\\t\\t\\t\\t\\n\\t\\t\\t\\t\\t\\t\\t\\t\\n\\t\\t\\t\\t\\t\\t\\t\\t<a href=\"#\" role=\"tab\" class=\"_NM_THEME_CATE tab id_cargame\"\\n\\t\\t\\t\\t\\t\\t\\t\\t   aria-selected=\"false\"\\n\\t\\t\\t\\t\\t\\t\\t\\t   data-clk=\"tct.aut\" data-panel-code=\"CARGAME\">자동차</a>\\n\\t\\t\\t\\t\\t\\t\\t</li>\\n\\t\\t\\t\\t\\t\\t\\n\\t\\t\\t\\t\\t\\t\\t<li class=\"category_item\" role=\"presentation\">\\n\\t\\t\\t\\t\\t\\t\\t\\t\\n\\t\\t\\t\\t\\t\\t\\t\\t\\n\\t\\t\\t\\t\\t\\t\\t\\t<a href=\"#\" role=\"tab\" class=\"_NM_THEME_CATE tab id_bboom\"\\n\\t\\t\\t\\t\\t\\t\\t\\t   aria-selected=\"false\"\\n\\t\\t\\t\\t\\t\\t\\t\\t   data-clk=\"tct.web\" data-panel-code=\"BBOOM\">웹툰</a>\\n\\t\\t\\t\\t\\t\\t\\t</li>\\n\\t\\t\\t\\t\\t\\t\\n\\t\\t\\t\\t\\t\\t\\t<li class=\"category_item\" role=\"presentation\">\\n\\t\\t\\t\\t\\t\\t\\t\\t\\n\\t\\t\\t\\t\\t\\t\\t\\t\\n\\t\\t\\t\\t\\t\\t\\t\\t<a href=\"#\" role=\"tab\" class=\"_NM_THEME_CATE tab id_finance\"\\n\\t\\t\\t\\t\\t\\t\\t\\t   aria-selected=\"true\"\\n\\t\\t\\t\\t\\t\\t\\t\\t   data-clk=\"tct.fin\" data-panel-code=\"FINANCE\">경제M</a>\\n\\t\\t\\t\\t\\t\\t\\t</li>\\n\\t\\t\\t\\t\\t\\t\\n\\t\\t\\t\\t\\t\\t\\t<li class=\"category_item\" role=\"presentation\">\\n\\t\\t\\t\\t\\t\\t\\t\\t\\n\\t\\t\\t\\t\\t\\t\\t\\t\\n\\t\\t\\t\\t\\t\\t\\t\\t<a href=\"#\" role=\"tab\" class=\"_NM_THEME_CATE tab id_myfeed\"\\n\\t\\t\\t\\t\\t\\t\\t\\t   aria-selected=\"false\"\\n\\t\\t\\t\\t\\t\\t\\t\\t   data-clk=\"tct.sub\" data-panel-code=\"MYFEED\">MY구독</a>\\n\\t\\t\\t\\t\\t\\t\\t</li>\\n\\t\\t\\t\\t\\t\\t\\n\\t\\t\\t\\t\\t\\t\\t<li class=\"category_item\" role=\"presentation\">\\n\\t\\t\\t\\t\\t\\t\\t\\t\\n\\t\\t\\t\\t\\t\\t\\t\\t\\n\\t\\t\\t\\t\\t\\t\\t\\t<a href=\"#\" role=\"tab\" class=\"_NM_THEME_CATE tab id_living\"\\n\\t\\t\\t\\t\\t\\t\\t\\t   aria-selected=\"false\"\\n\\t\\t\\t\\t\\t\\t\\t\\t   data-clk=\"tct.fod\" data-panel-code=\"LIVING\">레시피</a>\\n\\t\\t\\t\\t\\t\\t\\t</li>\\n\\t\\t\\t\\t\\t\\t\\n\\t\\t\\t\\t\\t\\t\\t<li class=\"category_item\" role=\"presentation\">\\n\\t\\t\\t\\t\\t\\t\\t\\t\\n\\t\\t\\t\\t\\t\\t\\t\\t\\n\\t\\t\\t\\t\\t\\t\\t\\t<a href=\"#\" role=\"tab\" class=\"_NM_THEME_CATE tab id_gameapp\"\\n\\t\\t\\t\\t\\t\\t\\t\\t   aria-selected=\"false\"\\n\\t\\t\\t\\t\\t\\t\\t\\t   data-clk=\"tct.gam\" data-panel-code=\"GAMEAPP\">게임</a>\\n\\t\\t\\t\\t\\t\\t\\t</li>\\n\\t\\t\\t\\t\\t\\t\\n\\t\\t\\t\\t\\t</ul>\\n\\t\\t\\t\\t</div>\\n\\t\\t\\t\\n\\t\\t\\t\\t<div style=\"width: 750px;\">\\n\\t\\t\\t\\t\\t<ul class=\"list_category\" role=\"tablist\">\\n\\t\\t\\t\\t\\t\\t\\n\\t\\t\\t\\t\\t\\t\\t<li class=\"category_item\" role=\"presentation\">\\n\\t\\t\\t\\t\\t\\t\\t\\t\\n\\t\\t\\t\\t\\t\\t\\t\\t\\n\\t\\t\\t\\t\\t\\t\\t\\t<a href=\"#\" role=\"tab\" class=\"_NM_THEME_CATE tab id_science\"\\n\\t\\t\\t\\t\\t\\t\\t\\t   aria-selected=\"false\"\\n\\t\\t\\t\\t\\t\\t\\t\\t   data-clk=\"tct.sci\" data-panel-code=\"SCIENCE\">과학</a>\\n\\t\\t\\t\\t\\t\\t\\t</li>\\n\\t\\t\\t\\t\\t\\t\\n\\t\\t\\t\\t\\t\\t\\t<li class=\"category_item\" role=\"presentation\">\\n\\t\\t\\t\\t\\t\\t\\t\\t\\n\\t\\t\\t\\t\\t\\t\\t\\t\\n\\t\\t\\t\\t\\t\\t\\t\\t<a href=\"#\" role=\"tab\" class=\"_NM_THEME_CATE tab id_livinghome\"\\n\\t\\t\\t\\t\\t\\t\\t\\t   aria-selected=\"false\"\\n\\t\\t\\t\\t\\t\\t\\t\\t   data-clk=\"tct.lif\" data-panel-code=\"LIVINGHOME\">리빙</a>\\n\\t\\t\\t\\t\\t\\t\\t</li>\\n\\t\\t\\t\\t\\t\\t\\n\\t\\t\\t\\t\\t\\t\\t<li class=\"category_item\" role=\"presentation\">\\n\\t\\t\\t\\t\\t\\t\\t\\t\\n\\t\\t\\t\\t\\t\\t\\t\\t\\n\\t\\t\\t\\t\\t\\t\\t\\t<a href=\"#\" role=\"tab\" class=\"_NM_THEME_CATE tab id_health\"\\n\\t\\t\\t\\t\\t\\t\\t\\t   aria-selected=\"false\"\\n\\t\\t\\t\\t\\t\\t\\t\\t   data-clk=\"tct.hea\" data-panel-code=\"HEALTH\">건강</a>\\n\\t\\t\\t\\t\\t\\t\\t</li>\\n\\t\\t\\t\\t\\t\\t\\n\\t\\t\\t\\t\\t\\t\\t<li class=\"category_item\" role=\"presentation\">\\n\\t\\t\\t\\t\\t\\t\\t\\t\\n\\t\\t\\t\\t\\t\\t\\t\\t\\n\\t\\t\\t\\t\\t\\t\\t\\t<a href=\"#\" role=\"tab\" class=\"_NM_THEME_CATE tab id_culture\"\\n\\t\\t\\t\\t\\t\\t\\t\\t   aria-selected=\"false\"\\n\\t\\t\\t\\t\\t\\t\\t\\t   data-clk=\"tct.bok\" data-panel-code=\"CULTURE\">책방</a>\\n\\t\\t\\t\\t\\t\\t\\t</li>\\n\\t\\t\\t\\t\\t\\t\\n\\t\\t\\t\\t\\t\\t\\t<li class=\"category_item\" role=\"presentation\">\\n\\t\\t\\t\\t\\t\\t\\t\\t\\n\\t\\t\\t\\t\\t\\t\\t\\t\\n\\t\\t\\t\\t\\t\\t\\t\\t<a href=\"#\" role=\"tab\" class=\"_NM_THEME_CATE tab id_beauty\"\\n\\t\\t\\t\\t\\t\\t\\t\\t   aria-selected=\"false\"\\n\\t\\t\\t\\t\\t\\t\\t\\t   data-clk=\"tct.bty\" data-panel-code=\"BEAUTY\">패션뷰티</a>\\n\\t\\t\\t\\t\\t\\t\\t</li>\\n\\t\\t\\t\\t\\t\\t\\n\\t\\t\\t\\t\\t</ul>\\n\\t\\t\\t\\t</div>\\n\\t\\t\\t\\n\\t\\t</div>\\n\\t</div>\\n</div>\\n\\n\\t</div>\\n\\t<div id=\"NM_THEME_CONTAINER\" class=\"theme_cont\" data-panel-code=\"FINANCE\" data-parent-code=\"\">\\n\\t\\t\\n<div class=\"group_theme\" data-block-id=\"\" data-block-code=\"PC-THEME-FINANCE-MOBILE-RANKING-DEFAULT-0\" data-block-type=\"MATERIALS\" data-template-code=\"MOBILE-RANKING-LIST\"\\n\\n\\t data-da=\"container\"\\n\\t data-index=\"\"\\n     data-page=\"1\"\\n\\t >\\n\\n\\t<div class=\"list_theme_wrap\">\\n\\t\\t<ul class=\"list_theme\">\\n\\t\\t\\t\\n\\t\\t\\t\\t<li class=\"theme_item\" data-gdid=\"C3S_RANKING_https://blog.naver.com/bagus8/222621651690\" data-da-position=\"true\">\\n\\t\\t\\t\\t\\t<a href=\"https://blog.naver.com/bagus8/222621651690\" class=\"theme_thumb\" data-clk=\"tcc_fin.list1cont1\" target=\"_blank\">\\n\\t\\t\\t\\t\\t\\t<img src=\"https://s.pstatic.net/dthumb.phinf/?src&#x3D;%22https%3A%2F%2Fs.pstatic.net%2Fstatic%2Fwww%2Fmobile%2Fedit%2F20220114_1095%2Fupload_164215006435540t0b.jpg%22&amp;type&#x3D;nf340_228\" data-src=\"https://s.pstatic.net/dthumb.phinf/?src&#x3D;%22https%3A%2F%2Fs.pstatic.net%2Fstatic%2Fwww%2Fmobile%2Fedit%2F20220114_1095%2Fupload_164215006435540t0b.jpg%22&amp;type&#x3D;nf340_228\" alt=\"부부가 자가용 팔아 만든 1000만원으로 공동 창업한 결과\" width=\"170\" height=\"114\" onerror=\"this.outerHTML=\\'<span class=\\\\\\'pm_noimg\\\\\\'><span class=\\\\\\'noimg_text\\\\\\'>이미지 준비중</span></span>\\'\">\\n\\t\\t\\t\\t\\t\\t<span class=\"thumb_bd\"></span>\\n                        \\n\\t\\t\\t\\t\\t</a>\\n\\t\\t\\t\\t\\t<a href=\"https://blog.naver.com/bagus8/222621651690\" class=\"theme_info\" data-clk=\"tcc_fin.list1cont1\" target=\"_blank\">\\n\\t\\t\\t\\t\\t\\t<em class=\"theme_category\"> 경제M</em>\\n\\t\\t\\t\\t\\t\\t<strong class=\"title elss\">부부가 자가용 팔아 만든 1000만원으로 공동 창업한 결과</strong>\\n                        <p class=\"desc\">생활용품 스타트업 ‘리빙크리에이터’ 많은 아이디어가 발상의 전환이나 우연에서 시작되지만, 상품으로 시장에 나오려면 부단한 노력과 시행착오가 필요합니다. 좋은 아이디어가 있어도 실행은 엄두 내기 어려운데요. 나만의 아이디어로 창업을 꿈꾸는 여러분에게 견본이 될 ‘창업 노트 훔쳐보기’를 연재합니다. 반드시 나만의 제품이나 서비스가 있어야 창업할 수 있는 게 .</p>\\n\\t\\t\\t\\t\\t\\t<div class=\"source_box\">\\n\\t\\t\\t\\t\\t\\t\\t<span class=\"date\">4일 전</span>\\n\\t\\t\\t\\t\\t\\t\\t<span class=\"source\">\\n                                \\n                                <span class=\"source_inner\">경제 하티스트</span>\\n                            </span>\\n\\t\\t\\t\\t\\t\\t</div>\\n\\t\\t\\t\\t\\t</a>\\n\\t\\t\\t\\t</li>\\n\\t\\t\\t\\n\\t\\t\\t\\t<li class=\"theme_item\" data-gdid=\"C3S_RANKING_https://post.naver.com/viewer/postView.naver?memberNo&#x3D;28983946&amp;volumeNo&#x3D;33133654\" data-da-position=\"true\">\\n\\t\\t\\t\\t\\t<a href=\"https://post.naver.com/viewer/postView.naver?memberNo&#x3D;28983946&amp;volumeNo&#x3D;33133654\" class=\"theme_thumb\" data-clk=\"tcc_fin.list1cont2\" target=\"_blank\">\\n\\t\\t\\t\\t\\t\\t<img src=\"https://s.pstatic.net/dthumb.phinf/?src&#x3D;%22https%3A%2F%2Fs.pstatic.net%2Fpost.phinf%2FMjAyMjAxMTZfMjg3%2FMDAxNjQyMzI4ODI3Njg5.H6jymYWdK3qwkCqU6TOC5BlMz1Q5MeaqIVUrTzXdb1og.ZlB_uIu1IBfClRTBYSY7OqARN8ki1cDNJqWQ_nQ1tWog.JPEG%2FIk6WmN-dwrQmmY2xnrrkCsa7tE4k.jpg%3Ftype%3Df339_222_q90%22&amp;type&#x3D;nf340_228\" data-src=\"https://s.pstatic.net/dthumb.phinf/?src&#x3D;%22https%3A%2F%2Fs.pstatic.net%2Fpost.phinf%2FMjAyMjAxMTZfMjg3%2FMDAxNjQyMzI4ODI3Njg5.H6jymYWdK3qwkCqU6TOC5BlMz1Q5MeaqIVUrTzXdb1og.ZlB_uIu1IBfClRTBYSY7OqARN8ki1cDNJqWQ_nQ1tWog.JPEG%2FIk6WmN-dwrQmmY2xnrrkCsa7tE4k.jpg%3Ftype%3Df339_222_q90%22&amp;type&#x3D;nf340_228\" alt=\"“보증금 돌려드릴 테니 떠나주세요”…HDC현산 손절 움직임 확산\" width=\"170\" height=\"114\" onerror=\"this.outerHTML=\\'<span class=\\\\\\'pm_noimg\\\\\\'><span class=\\\\\\'noimg_text\\\\\\'>이미지 준비중</span></span>\\'\">\\n\\t\\t\\t\\t\\t\\t<span class=\"thumb_bd\"></span>\\n                        \\n\\t\\t\\t\\t\\t</a>\\n\\t\\t\\t\\t\\t<a href=\"https://post.naver.com/viewer/postView.naver?memberNo&#x3D;28983946&amp;volumeNo&#x3D;33133654\" class=\"theme_info\" data-clk=\"tcc_fin.list1cont2\" target=\"_blank\">\\n\\t\\t\\t\\t\\t\\t<em class=\"theme_category\"> 경제M</em>\\n\\t\\t\\t\\t\\t\\t<strong class=\"title elss\">“보증금 돌려드릴 테니 떠나주세요”…HDC현산 손절 움직임 확산</strong>\\n                        <p class=\"desc\">광주 연이은 대형사고에 신뢰도 급추락 광주는 물론 서울 경기권까지 보이콧 확산“HDC현대산업개발, 보증금 돌려줄 테니 제발 떠나주세요!” 최근 HDC현대산업개발이 시공을 맡은 광주시 서구 ‘화정아이파크’ 신축공사 현장에서 외벽 붕괴 사태가 발생하면서 전국 정비사업 현장 곳곳에서 ‘아이파크 손절&amp;rsquo</p>\\n\\t\\t\\t\\t\\t\\t<div class=\"source_box\">\\n\\t\\t\\t\\t\\t\\t\\t<span class=\"date\">2일 전</span>\\n\\t\\t\\t\\t\\t\\t\\t<span class=\"source\">\\n                                \\n                                <span class=\"source_inner\">뉴스웨이</span>\\n                            </span>\\n\\t\\t\\t\\t\\t\\t</div>\\n\\t\\t\\t\\t\\t</a>\\n\\t\\t\\t\\t</li>\\n\\t\\t\\t\\n\\t\\t\\t\\t<li class=\"theme_item\" data-gdid=\"C3S_RANKING_https://blog.naver.com/realty_go/222623701281\" data-da-position=\"true\">\\n\\t\\t\\t\\t\\t<a href=\"https://blog.naver.com/realty_go/222623701281\" class=\"theme_thumb\" data-clk=\"tcc_fin.list1cont3\" target=\"_blank\">\\n\\t\\t\\t\\t\\t\\t<img src=\"https://s.pstatic.net/dthumb.phinf/?src&#x3D;%22https%3A%2F%2Fs.pstatic.net%2Fstatic%2Fwww%2Fmobile%2Fedit%2F20220117_1095%2Fupload_1642402654289SQkSf.jpg%22&amp;type&#x3D;nf340_228\" data-src=\"https://s.pstatic.net/dthumb.phinf/?src&#x3D;%22https%3A%2F%2Fs.pstatic.net%2Fstatic%2Fwww%2Fmobile%2Fedit%2F20220117_1095%2Fupload_1642402654289SQkSf.jpg%22&amp;type&#x3D;nf340_228\" alt=\"&quot;완전히 살아났다&quot; 집값 곤두박질치던 구미 나홀로 호황\" width=\"170\" height=\"114\" onerror=\"this.outerHTML=\\'<span class=\\\\\\'pm_noimg\\\\\\'><span class=\\\\\\'noimg_text\\\\\\'>이미지 준비중</span></span>\\'\">\\n\\t\\t\\t\\t\\t\\t<span class=\"thumb_bd\"></span>\\n                        \\n\\t\\t\\t\\t\\t</a>\\n\\t\\t\\t\\t\\t<a href=\"https://blog.naver.com/realty_go/222623701281\" class=\"theme_info\" data-clk=\"tcc_fin.list1cont3\" target=\"_blank\">\\n\\t\\t\\t\\t\\t\\t<em class=\"theme_category\"> 경제M</em>\\n\\t\\t\\t\\t\\t\\t<strong class=\"title elss\">\"완전히 살아났다\" 집값 곤두박질치던 구미 나홀로 호황</strong>\\n                        <p class=\"desc\">[땅집고] “2~3년 전만 해도 빈 방이 정말 많았습니다. 인근 산업단지 입주기업에 입사하던 주변 학교 졸업생들도 일자리를 찾아 줄줄이 서울과 수도권으로 떠났죠. 집값도 무섭게 떨어졌고, 찾는 사람이 없어서 유령도시가 될 판이었습니다.” (구미산업단지 기업인 C씨) 지난해까지 4년 가까이 폭락하던 경북 구미시 부동산 시장이 완벽한 회복세를 보이고 있다. 기</p>\\n\\t\\t\\t\\t\\t\\t<div class=\"source_box\">\\n\\t\\t\\t\\t\\t\\t\\t<span class=\"date\">2일 전</span>\\n\\t\\t\\t\\t\\t\\t\\t<span class=\"source\">\\n                                \\n                                <span class=\"source_inner\">땅집고</span>\\n                            </span>\\n\\t\\t\\t\\t\\t\\t</div>\\n\\t\\t\\t\\t\\t</a>\\n\\t\\t\\t\\t</li>\\n\\t\\t\\t\\n\\t\\t\\t\\t<li class=\"theme_item\" data-gdid=\"C3S_RANKING_https://blog.naver.com/datejust88/222621656505\" data-da-position=\"true\">\\n\\t\\t\\t\\t\\t<a href=\"https://blog.naver.com/datejust88/222621656505\" class=\"theme_thumb\" data-clk=\"tcc_fin.list1cont4\" target=\"_blank\">\\n\\t\\t\\t\\t\\t\\t<img src=\"https://s.pstatic.net/dthumb.phinf/?src&#x3D;%22https%3A%2F%2Fs.pstatic.net%2Fstatic%2Fwww%2Fmobile%2Fedit%2F20220114_1095%2Fupload_1642150045666MhAKS.jpg%22&amp;type&#x3D;nf340_228\" data-src=\"https://s.pstatic.net/dthumb.phinf/?src&#x3D;%22https%3A%2F%2Fs.pstatic.net%2Fstatic%2Fwww%2Fmobile%2Fedit%2F20220114_1095%2Fupload_1642150045666MhAKS.jpg%22&amp;type&#x3D;nf340_228\" alt=\"31살에 받은 생존율 13% 암 판정, 퍼뜩 정신 들어 시작한 일\" width=\"170\" height=\"114\" onerror=\"this.outerHTML=\\'<span class=\\\\\\'pm_noimg\\\\\\'><span class=\\\\\\'noimg_text\\\\\\'>이미지 준비중</span></span>\\'\">\\n\\t\\t\\t\\t\\t\\t<span class=\"thumb_bd\"></span>\\n                        \\n\\t\\t\\t\\t\\t</a>\\n\\t\\t\\t\\t\\t<a href=\"https://blog.naver.com/datejust88/222621656505\" class=\"theme_info\" data-clk=\"tcc_fin.list1cont4\" target=\"_blank\">\\n\\t\\t\\t\\t\\t\\t<em class=\"theme_category\"> 경제M</em>\\n\\t\\t\\t\\t\\t\\t<strong class=\"title elss\">31살에 받은 생존율 13% 암 판정, 퍼뜩 정신 들어 시작한 일</strong>\\n                        <p class=\"desc\">국산 ‘멀티 스타일러’ 개발 스토리 많은 아이디어가 발상의 전환이나 우연에서 시작되지만, 상품으로 시장에 나오려면 부단한 노력과 시행착오가 필요합니다. 좋은 아이디어가 있어도 실행은 엄두내기 어려운데요. 나만의 아이디어로 창업을 꿈꾸는 여러분에게 견본이 될 ‘창업 노트 훔쳐보기’를 연재합니다. 여성들은 헤어 스타일링 하는 데 많은 시간을 쏟는다. 머리를 펴</p>\\n\\t\\t\\t\\t\\t\\t<div class=\"source_box\">\\n\\t\\t\\t\\t\\t\\t\\t<span class=\"date\">4일 전</span>\\n\\t\\t\\t\\t\\t\\t\\t<span class=\"source\">\\n                                \\n                                <span class=\"source_inner\">뉴스타터</span>\\n                            </span>\\n\\t\\t\\t\\t\\t\\t</div>\\n\\t\\t\\t\\t\\t</a>\\n\\t\\t\\t\\t</li>\\n\\t\\t\\t\\n\\t\\t\\t\\t<li class=\"theme_item\" data-gdid=\"C3S_RANKING_https://post.naver.com/viewer/postView.naver?memberNo&#x3D;28162671&amp;volumeNo&#x3D;33109513\" data-da-position=\"true\">\\n\\t\\t\\t\\t\\t<a href=\"https://post.naver.com/viewer/postView.naver?memberNo&#x3D;28162671&amp;volumeNo&#x3D;33109513\" class=\"theme_thumb\" data-clk=\"tcc_fin.list1cont5\" target=\"_blank\">\\n\\t\\t\\t\\t\\t\\t<img src=\"https://s.pstatic.net/dthumb.phinf/?src&#x3D;%22https%3A%2F%2Fs.pstatic.net%2Fpost.phinf%2FMjAyMjAxMTJfMTM3%2FMDAxNjQxOTUzMzE2MDEz.VFA7RRtYz5H6QPQnVK3PyadByPi0tKb_fWy5wXGAwB4g.tlms6MyD3mA1uDPk60lW_kudUTtPMBtXxQE9FVOtu20g.JPEG%2FIkliaJWP2zSA2M8dI_jtZ_oF_Lo8.jpg%3Ftype%3Df339_222_q90%22&amp;type&#x3D;nf340_228\" data-src=\"https://s.pstatic.net/dthumb.phinf/?src&#x3D;%22https%3A%2F%2Fs.pstatic.net%2Fpost.phinf%2FMjAyMjAxMTJfMTM3%2FMDAxNjQxOTUzMzE2MDEz.VFA7RRtYz5H6QPQnVK3PyadByPi0tKb_fWy5wXGAwB4g.tlms6MyD3mA1uDPk60lW_kudUTtPMBtXxQE9FVOtu20g.JPEG%2FIkliaJWP2zSA2M8dI_jtZ_oF_Lo8.jpg%3Ftype%3Df339_222_q90%22&amp;type&#x3D;nf340_228\" alt=\"&quot;서울은 못사니 포기&quot; 2030 첫 아파트 매수 줄 선 동네\" width=\"170\" height=\"114\" onerror=\"this.outerHTML=\\'<span class=\\\\\\'pm_noimg\\\\\\'><span class=\\\\\\'noimg_text\\\\\\'>이미지 준비중</span></span>\\'\">\\n\\t\\t\\t\\t\\t\\t<span class=\"thumb_bd\"></span>\\n                        \\n\\t\\t\\t\\t\\t</a>\\n\\t\\t\\t\\t\\t<a href=\"https://post.naver.com/viewer/postView.naver?memberNo&#x3D;28162671&amp;volumeNo&#x3D;33109513\" class=\"theme_info\" data-clk=\"tcc_fin.list1cont5\" target=\"_blank\">\\n\\t\\t\\t\\t\\t\\t<em class=\"theme_category\"> 경제M</em>\\n\\t\\t\\t\\t\\t\\t<strong class=\"title elss\">\"서울은 못사니 포기\" 2030 첫 아파트 매수 줄 선 동네</strong>\\n                        <p class=\"desc\">지난해 서울에서 아파트, 빌라, 오피스텔 등 집합건물을 구입한 사람이 줄어든 가운데, 인천과 경기의 생애 첫 집합건물 매입자는 증가한 것으로 나타났다. 서울의 아파트 ‘가격 장벽’이 높은 탓에, 이를 감당하지 못하는 수요자들이 서울이 아닌 인근 수도권 지역으로 빠져나간 것으로 추정된다. 일러스트&#x3D;정다운 11일 법원 등기정보광장에 따르면 지난해 인천과</p>\\n\\t\\t\\t\\t\\t\\t<div class=\"source_box\">\\n\\t\\t\\t\\t\\t\\t\\t<span class=\"date\">6일 전</span>\\n\\t\\t\\t\\t\\t\\t\\t<span class=\"source\">\\n                                \\n                                <span class=\"source_inner\">조선비즈</span>\\n                            </span>\\n\\t\\t\\t\\t\\t\\t</div>\\n\\t\\t\\t\\t\\t</a>\\n\\t\\t\\t\\t</li>\\n\\t\\t\\t\\n\\t\\t</ul>\\n\\t</div>\\n</div>\\n<div class=\"group_theme\" data-block-id=\"\" data-block-code=\"PC-THEME-FINANCE-MOBILE-RANKING-VIDEO-0\" data-block-type=\"MATERIALS\" data-template-code=\"MOBILE-RANKING-VIDEO-LIST\"\\n\\n\\t data-index=\"\"\\n\\t data-page=\"1\"\\n\\t >\\n\\n\\t<div class=\"media_view_wrap type_column\">\\n\\t\\t<div class=\"media_view\">\\n\\t\\t\\t\\n\\t\\t\\t\\t<a href=\"https://tv.naver.com/v/24646749\" class=\"media_area\" data-gdid=\"C3S_RANKING_https://tv.naver.com/v/24646749\" data-clk=\"tcc_fin.video1cont1\" target=\"_blank\">\\n\\t\\t\\t\\t\\t<div class=\"media_thumb\">\\n\\t\\t\\t\\t\\t\\t<img src=\"https://s.pstatic.net/dthumb.phinf/?src&#x3D;%22https%3A%2F%2Fs.pstatic.net%2Ftvcast.phinf%2F20220117_289%2F7XWoe_1642408105993e4lBb_PNG%2Fcover_cover_A202201170107_20220117172401478.png%22&amp;type&#x3D;nf464_260\" data-src=\"https://s.pstatic.net/dthumb.phinf/?src&#x3D;%22https%3A%2F%2Fs.pstatic.net%2Ftvcast.phinf%2F20220117_289%2F7XWoe_1642408105993e4lBb_PNG%2Fcover_cover_A202201170107_20220117172401478.png%22&amp;type&#x3D;nf464_260\" alt=\"&quot;이미 엎질러진 물&quot;...LG엔솔, LG화학 &#x60;동아줄&#x60; 되나 [박해린의 뉴스&amp;마켓]\" width=\"232\" height=\"130\" onerror=\"this.outerHTML=\\'<span class=\\\\\\'pm_noimg\\\\\\'><span class=\\\\\\'noimg_text\\\\\\'>이미지 준비중</span></span>\\'\">\\n\\t\\t\\t\\t\\t\\t<span class=\"thumb_dim\"></span>\\n\\t\\t\\t\\t\\t\\t<span class=\"thumb_bd\"></span>\\n\\t\\t\\t\\t\\t\\t<i class=\"pm_ico_play\"><span class=\"blind\">재생</span></i>\\n\\t\\t\\t\\t\\t\\t<span class=\"theme_runtime\"><span class=\"runtime_bg\">재생시간</span><em class=\"time\"></em></span>\\n\\t\\t\\t\\t\\t</div>\\n\\t\\t\\t\\t\\t<div class=\"media_info\">\\n\\t\\t\\t\\t\\t\\t<div class=\"info_box\">\\n\\t\\t\\t\\t\\t\\t\\t<strong class=\"title\">\"이미 엎질러진 물\"...LG엔솔, LG화학 `동아줄` 되나 [박해린의 뉴스&마켓]</strong>\\n\\t\\t\\t\\t\\t\\t\\t<div class=\"source_wrap\">\\n\\t\\t\\t\\t\\t\\t\\t\\t<span class=\"date\">어제</span>\\n\\t\\t\\t\\t\\t\\t\\t\\t<span class=\"source\">\\n                                    \\n                                    <span class=\"source_inner\">한국경제TV - 신속한 경제/증권 채널</span>\\n                                </span>\\n\\t\\t\\t\\t\\t\\t\\t</div>\\n\\t\\t\\t\\t\\t\\t</div>\\n\\t\\t\\t\\t\\t</div>\\n\\t\\t\\t\\t</a>\\n\\t\\t\\t\\n\\t\\t\\t\\t<a href=\"https://tv.naver.com/v/24647038\" class=\"media_area\" data-gdid=\"C3S_RANKING_https://tv.naver.com/v/24647038\" data-clk=\"tcc_fin.video1cont2\" target=\"_blank\">\\n\\t\\t\\t\\t\\t<div class=\"media_thumb\">\\n\\t\\t\\t\\t\\t\\t<img src=\"https://s.pstatic.net/dthumb.phinf/?src&#x3D;%22https%3A%2F%2Fs.pstatic.net%2Ftvcast.phinf%2F20220117_281%2Fcy9nA_1642408680518PkW1N_PNG%2Fcover_cover_A202201170137_20220117173501417.png%22&amp;type&#x3D;nf464_260\" data-src=\"https://s.pstatic.net/dthumb.phinf/?src&#x3D;%22https%3A%2F%2Fs.pstatic.net%2Ftvcast.phinf%2F20220117_281%2Fcy9nA_1642408680518PkW1N_PNG%2Fcover_cover_A202201170137_20220117173501417.png%22&amp;type&#x3D;nf464_260\" alt=\"카카오발 &#x60;먹튀&#x60; 논란, 전방위 확산\" width=\"232\" height=\"130\" onerror=\"this.outerHTML=\\'<span class=\\\\\\'pm_noimg\\\\\\'><span class=\\\\\\'noimg_text\\\\\\'>이미지 준비중</span></span>\\'\">\\n\\t\\t\\t\\t\\t\\t<span class=\"thumb_dim\"></span>\\n\\t\\t\\t\\t\\t\\t<span class=\"thumb_bd\"></span>\\n\\t\\t\\t\\t\\t\\t<i class=\"pm_ico_play\"><span class=\"blind\">재생</span></i>\\n\\t\\t\\t\\t\\t\\t<span class=\"theme_runtime\"><span class=\"runtime_bg\">재생시간</span><em class=\"time\"></em></span>\\n\\t\\t\\t\\t\\t</div>\\n\\t\\t\\t\\t\\t<div class=\"media_info\">\\n\\t\\t\\t\\t\\t\\t<div class=\"info_box\">\\n\\t\\t\\t\\t\\t\\t\\t<strong class=\"title\">카카오발 `먹튀` 논란, 전방위 확산</strong>\\n\\t\\t\\t\\t\\t\\t\\t<div class=\"source_wrap\">\\n\\t\\t\\t\\t\\t\\t\\t\\t<span class=\"date\">어제</span>\\n\\t\\t\\t\\t\\t\\t\\t\\t<span class=\"source\">\\n                                    \\n                                    <span class=\"source_inner\">한국경제TV - 신속한 경제/증권 채널</span>\\n                                </span>\\n\\t\\t\\t\\t\\t\\t\\t</div>\\n\\t\\t\\t\\t\\t\\t</div>\\n\\t\\t\\t\\t\\t</div>\\n\\t\\t\\t\\t</a>\\n\\t\\t\\t\\n\\t\\t\\t\\t<a href=\"https://tv.naver.com/v/22934060\" class=\"media_area\" data-gdid=\"C3S_RANKING_https://tv.naver.com/v/22934060\" data-clk=\"tcc_fin.video1cont3\" target=\"_blank\">\\n\\t\\t\\t\\t\\t<div class=\"media_thumb\">\\n\\t\\t\\t\\t\\t\\t<img src=\"https://s.pstatic.net/dthumb.phinf/?src&#x3D;%22https%3A%2F%2Fs.pstatic.net%2Ftvcast.phinf%2F20211013_230%2FTWVmq_1634103472224jxDjd_JPEG%2F1634103346352.jpg%22&amp;type&#x3D;nf464_260\" data-src=\"https://s.pstatic.net/dthumb.phinf/?src&#x3D;%22https%3A%2F%2Fs.pstatic.net%2Ftvcast.phinf%2F20211013_230%2FTWVmq_1634103472224jxDjd_JPEG%2F1634103346352.jpg%22&amp;type&#x3D;nf464_260\" alt=\"나에게 딱 맞는 1.5룸 직방에서 확인하기!\" width=\"232\" height=\"130\" onerror=\"this.outerHTML=\\'<span class=\\\\\\'pm_noimg\\\\\\'><span class=\\\\\\'noimg_text\\\\\\'>이미지 준비중</span></span>\\'\">\\n\\t\\t\\t\\t\\t\\t<span class=\"thumb_dim\"></span>\\n\\t\\t\\t\\t\\t\\t<span class=\"thumb_bd\"></span>\\n\\t\\t\\t\\t\\t\\t<i class=\"pm_ico_play\"><span class=\"blind\">재생</span></i>\\n\\t\\t\\t\\t\\t\\t<span class=\"theme_runtime\"><span class=\"runtime_bg\">재생시간</span><em class=\"time\"></em></span>\\n\\t\\t\\t\\t\\t</div>\\n\\t\\t\\t\\t\\t<div class=\"media_info\">\\n\\t\\t\\t\\t\\t\\t<div class=\"info_box\">\\n\\t\\t\\t\\t\\t\\t\\t<strong class=\"title\">나에게 딱 맞는 1.5룸 직방에서 확인하기!</strong>\\n\\t\\t\\t\\t\\t\\t\\t<div class=\"source_wrap\">\\n\\t\\t\\t\\t\\t\\t\\t\\t<span class=\"date\">3개월 전</span>\\n\\t\\t\\t\\t\\t\\t\\t\\t<span class=\"source\">\\n                                    \\n                                    <span class=\"source_inner\">직방</span>\\n                                </span>\\n\\t\\t\\t\\t\\t\\t\\t</div>\\n\\t\\t\\t\\t\\t\\t</div>\\n\\t\\t\\t\\t\\t</div>\\n\\t\\t\\t\\t</a>\\n\\t\\t\\t\\n\\t\\t</div>\\n\\t</div>\\n</div>\\n<div class=\"group_theme\" data-block-id=\"\" data-block-code=\"PC-THEME-FINANCE-MOBILE-RANKING-DEFAULT-1\" data-block-type=\"MATERIALS\" data-template-code=\"MOBILE-RANKING-LIST\"\\n\\n\\t data-da=\"container\"\\n\\t data-index=\"\"\\n     data-page=\"1\"\\n\\t >\\n\\n\\t<div class=\"list_theme_wrap\">\\n\\t\\t<ul class=\"list_theme\">\\n\\t\\t\\t\\n\\t\\t\\t\\t<li class=\"theme_item\" data-gdid=\"C3S_RANKING_https://blog.naver.com/cardifkorea/222621459924\" data-da-position=\"true\">\\n\\t\\t\\t\\t\\t<a href=\"https://blog.naver.com/cardifkorea/222621459924\" class=\"theme_thumb\" data-clk=\"tcc_fin.list2cont1\" target=\"_blank\">\\n\\t\\t\\t\\t\\t\\t<img src=\"https://s.pstatic.net/dthumb.phinf/?src&#x3D;%22https%3A%2F%2Fs.pstatic.net%2Fstatic%2Fwww%2Fmobile%2Fedit%2F20220117_1095%2Fupload_1642402692142cAsOs.jpg%22&amp;type&#x3D;nf340_228\" data-src=\"https://s.pstatic.net/dthumb.phinf/?src&#x3D;%22https%3A%2F%2Fs.pstatic.net%2Fstatic%2Fwww%2Fmobile%2Fedit%2F20220117_1095%2Fupload_1642402692142cAsOs.jpg%22&amp;type&#x3D;nf340_228\" alt=\"“우리 집과 옆집 가격이 1억이나 차이가 난다고?” 아파트 가격의 비밀\" width=\"170\" height=\"114\" onerror=\"this.outerHTML=\\'<span class=\\\\\\'pm_noimg\\\\\\'><span class=\\\\\\'noimg_text\\\\\\'>이미지 준비중</span></span>\\'\">\\n\\t\\t\\t\\t\\t\\t<span class=\"thumb_bd\"></span>\\n                        \\n\\t\\t\\t\\t\\t</a>\\n\\t\\t\\t\\t\\t<a href=\"https://blog.naver.com/cardifkorea/222621459924\" class=\"theme_info\" data-clk=\"tcc_fin.list2cont1\" target=\"_blank\">\\n\\t\\t\\t\\t\\t\\t<em class=\"theme_category\"> 경제M</em>\\n\\t\\t\\t\\t\\t\\t<strong class=\"title elss\">“우리 집과 옆집 가격이 1억이나 차이가 난다고?” 아파트 가격의 비밀</strong>\\n                        <p class=\"desc\">&lt;체계적인 자산키우기&gt; “우리 집과 옆집 가격이 1억이나 차이가 난다고?&quot; 아파트 가격의 비밀 같은 평수인데 1억 원이나 차이가 나더라고요. “얼마 전 부동산을 방문했는데, 같은 층에 같은 평수인 옆 동과 우리 집의 가격이 1억 원이나 차이가 나더라고요. 왜 이렇게 차이가 크게 나는 건지… 속상하기도 하고, 조금 더 꼼꼼하게 확인하고 집을 매매해야 했는데,</p>\\n\\t\\t\\t\\t\\t\\t<div class=\"source_box\">\\n\\t\\t\\t\\t\\t\\t\\t<span class=\"date\">4일 전</span>\\n\\t\\t\\t\\t\\t\\t\\t<span class=\"source\">\\n                                \\n                                <span class=\"source_inner\">BNP파리바 카디프생명</span>\\n                            </span>\\n\\t\\t\\t\\t\\t\\t</div>\\n\\t\\t\\t\\t\\t</a>\\n\\t\\t\\t\\t</li>\\n\\t\\t\\t\\n\\t\\t\\t\\t<li class=\"theme_item\" data-gdid=\"C3S_RANKING_https://post.naver.com/viewer/postView.naver?memberNo&#x3D;41757999&amp;volumeNo&#x3D;33137207\" data-da-position=\"true\">\\n\\t\\t\\t\\t\\t<a href=\"https://post.naver.com/viewer/postView.naver?memberNo&#x3D;41757999&amp;volumeNo&#x3D;33137207\" class=\"theme_thumb\" data-clk=\"tcc_fin.list2cont2\" target=\"_blank\">\\n\\t\\t\\t\\t\\t\\t<img src=\"https://s.pstatic.net/dthumb.phinf/?src&#x3D;%22https%3A%2F%2Fs.pstatic.net%2Fpost.phinf%2FMjAyMjAxMTdfNzcg%2FMDAxNjQyMzkyMDU1MDE5.anXcNYhFsAdd0JawdYu9lF0o7ttdXNq2FgRF0GFOqAkg.n37RqWiCLQjlJMncXh1y5WK2sDYXQ2vQvMCu5j8VIHUg.JPEG%2FI9eS9dkfrcMEUrlh3Lv1EOrwebKY.jpg%3Ftype%3Df339_222_q90%22&amp;type&#x3D;nf340_228\" data-src=\"https://s.pstatic.net/dthumb.phinf/?src&#x3D;%22https%3A%2F%2Fs.pstatic.net%2Fpost.phinf%2FMjAyMjAxMTdfNzcg%2FMDAxNjQyMzkyMDU1MDE5.anXcNYhFsAdd0JawdYu9lF0o7ttdXNq2FgRF0GFOqAkg.n37RqWiCLQjlJMncXh1y5WK2sDYXQ2vQvMCu5j8VIHUg.JPEG%2FI9eS9dkfrcMEUrlh3Lv1EOrwebKY.jpg%3Ftype%3Df339_222_q90%22&amp;type&#x3D;nf340_228\" alt=\"&quot;미분양은 집값 하락 신호, 10년 부동산 침체기 온다&quot;\" width=\"170\" height=\"114\" onerror=\"this.outerHTML=\\'<span class=\\\\\\'pm_noimg\\\\\\'><span class=\\\\\\'noimg_text\\\\\\'>이미지 준비중</span></span>\\'\">\\n\\t\\t\\t\\t\\t\\t<span class=\"thumb_bd\"></span>\\n                        \\n\\t\\t\\t\\t\\t</a>\\n\\t\\t\\t\\t\\t<a href=\"https://post.naver.com/viewer/postView.naver?memberNo&#x3D;41757999&amp;volumeNo&#x3D;33137207\" class=\"theme_info\" data-clk=\"tcc_fin.list2cont2\" target=\"_blank\">\\n\\t\\t\\t\\t\\t\\t<em class=\"theme_category\"> 경제M</em>\\n\\t\\t\\t\\t\\t\\t<strong class=\"title elss\">\"미분양은 집값 하락 신호, 10년 부동산 침체기 온다\"</strong>\\n                        <p class=\"desc\">이현철 소장 “부동산 하락기엔 청약 당첨이 로또 아닐 수도” 거침없던 부동산시장 열기가 식어가고 있다. 국토교통부 실거래가 공개시스템에 따르면 국내에서 3.3㎡당 가격이 가장 비싼 아파트로 통하는 서울 서초구 반포동 아크로리버파크 전용면적 84.95㎡는 지난해 12월 39억8000만 원에 거래됐다. 직전 최고가인 45억 원과 비교해 5</p>\\n\\t\\t\\t\\t\\t\\t<div class=\"source_box\">\\n\\t\\t\\t\\t\\t\\t\\t<span class=\"date\">어제</span>\\n\\t\\t\\t\\t\\t\\t\\t<span class=\"source\">\\n                                \\n                                <span class=\"source_inner\">투벤저스</span>\\n                            </span>\\n\\t\\t\\t\\t\\t\\t</div>\\n\\t\\t\\t\\t\\t</a>\\n\\t\\t\\t\\t</li>\\n\\t\\t\\t\\n\\t\\t\\t\\t<li class=\"theme_item\" data-gdid=\"C3S_RANKING_https://post.naver.com/viewer/postView.naver?volumeNo&#x3D;33038957&amp;memberNo&#x3D;11880830&amp;vType&#x3D;VERTICAL\" data-da-position=\"true\">\\n\\t\\t\\t\\t\\t<a href=\"https://post.naver.com/viewer/postView.naver?volumeNo&#x3D;33038957&amp;memberNo&#x3D;11880830&amp;vType&#x3D;VERTICAL\" class=\"theme_thumb\" data-clk=\"tcc_fin.list2cont3\" target=\"_blank\">\\n\\t\\t\\t\\t\\t\\t<img src=\"https://s.pstatic.net/dthumb.phinf/?src&#x3D;%22https%3A%2F%2Fs.pstatic.net%2Fpost.phinf%2FMjAyMTEyMzBfMjgg%2FMDAxNjQwODQ5MTQyNDI2.soZ7dNhU9VNST9kDdcv1CQ2dwSFjaqu0Zq4uNFkot6Yg.cOkjCrL7uennUsk2614Fh7vTYQMwAFIHhz7AFOKtZTIg.JPEG%2FIkh5J0y7Bhj5X24Fw6MOJtXgFLbY.jpg%22&amp;type&#x3D;nf340_228\" data-src=\"https://s.pstatic.net/dthumb.phinf/?src&#x3D;%22https%3A%2F%2Fs.pstatic.net%2Fpost.phinf%2FMjAyMTEyMzBfMjgg%2FMDAxNjQwODQ5MTQyNDI2.soZ7dNhU9VNST9kDdcv1CQ2dwSFjaqu0Zq4uNFkot6Yg.cOkjCrL7uennUsk2614Fh7vTYQMwAFIHhz7AFOKtZTIg.JPEG%2FIkh5J0y7Bhj5X24Fw6MOJtXgFLbY.jpg%22&amp;type&#x3D;nf340_228\" alt=\"내일까지 900만원 넣으면, 세금 148만원 돌려받는 &#x27;꿀 계좌&#x27; [더오래]\" width=\"170\" height=\"114\" onerror=\"this.outerHTML=\\'<span class=\\\\\\'pm_noimg\\\\\\'><span class=\\\\\\'noimg_text\\\\\\'>이미지 준비중</span></span>\\'\">\\n\\t\\t\\t\\t\\t\\t<span class=\"thumb_bd\"></span>\\n                        \\n\\t\\t\\t\\t\\t</a>\\n\\t\\t\\t\\t\\t<a href=\"https://post.naver.com/viewer/postView.naver?volumeNo&#x3D;33038957&amp;memberNo&#x3D;11880830&amp;vType&#x3D;VERTICAL\" class=\"theme_info\" data-clk=\"tcc_fin.list2cont3\" target=\"_blank\">\\n\\t\\t\\t\\t\\t\\t<em class=\"theme_category\"> 경제M</em>\\n\\t\\t\\t\\t\\t\\t<strong class=\"title elss\">내일까지 900만원 넣으면, 세금 148만원 돌려받는 \\'꿀 계좌\\' [더오래]</strong>\\n                        <p class=\"desc\">[더,오래] 택슬리의 슬기로운 세금 생활(23)월급쟁이가 연말정산만 되면 들어두는 IRP, 연금저축계좌…. 그러나 계좌만 터놓고 제대로 이용하지 못하고 있다면 최대 148만원의 혜택을 놓치고 있는 셈이다. 12월이 끝나기 전에 납입하고 13월의 월급을 기대해보자. DC형, DB형 등을 비롯한 각종 연금계좌를 적극적으로 활용하면 연말정산에서 세금 혜택을 받을</p>\\n\\t\\t\\t\\t\\t\\t<div class=\"source_box\">\\n\\t\\t\\t\\t\\t\\t\\t<span class=\"date\">2주일 전</span>\\n\\t\\t\\t\\t\\t\\t\\t<span class=\"source\">\\n                                \\n                                <span class=\"source_inner\">중앙일보</span>\\n                            </span>\\n\\t\\t\\t\\t\\t\\t</div>\\n\\t\\t\\t\\t\\t</a>\\n\\t\\t\\t\\t</li>\\n\\t\\t\\t\\n\\t\\t\\t\\t<li class=\"theme_item\" data-gdid=\"C3S_RANKING_https://post.naver.com/viewer/postView.naver?memberNo&#x3D;20092661&amp;volumeNo&#x3D;33136071\" data-da-position=\"true\">\\n\\t\\t\\t\\t\\t<a href=\"https://post.naver.com/viewer/postView.naver?memberNo&#x3D;20092661&amp;volumeNo&#x3D;33136071\" class=\"theme_thumb\" data-clk=\"tcc_fin.list2cont4\" target=\"_blank\">\\n\\t\\t\\t\\t\\t\\t<img src=\"https://s.pstatic.net/dthumb.phinf/?src&#x3D;%22https%3A%2F%2Fs.pstatic.net%2Fpost.phinf%2FMjAyMjAxMTdfNiAg%2FMDAxNjQyMzgzNTM0MzE1.E7f6ORa_sftznjehfXPU2AklPdaLtsyyJ5JVazPDXrMg.dJmwLPaOw0YZjhkEAvXujPWPUZRr2x_w_9h8XKpyMgcg.PNG%2FIqwHpsYgxPRFDqZ4dg6LbqUTt-Y8.jpg%3Ftype%3Df339_222_q90%22&amp;type&#x3D;nf340_228\" data-src=\"https://s.pstatic.net/dthumb.phinf/?src&#x3D;%22https%3A%2F%2Fs.pstatic.net%2Fpost.phinf%2FMjAyMjAxMTdfNiAg%2FMDAxNjQyMzgzNTM0MzE1.E7f6ORa_sftznjehfXPU2AklPdaLtsyyJ5JVazPDXrMg.dJmwLPaOw0YZjhkEAvXujPWPUZRr2x_w_9h8XKpyMgcg.PNG%2FIqwHpsYgxPRFDqZ4dg6LbqUTt-Y8.jpg%3Ftype%3Df339_222_q90%22&amp;type&#x3D;nf340_228\" alt=\"올해 놓치면 후회하는 분양 단지 어디? ①서울편\" width=\"170\" height=\"114\" onerror=\"this.outerHTML=\\'<span class=\\\\\\'pm_noimg\\\\\\'><span class=\\\\\\'noimg_text\\\\\\'>이미지 준비중</span></span>\\'\">\\n\\t\\t\\t\\t\\t\\t<span class=\"thumb_bd\"></span>\\n                        \\n\\t\\t\\t\\t\\t</a>\\n\\t\\t\\t\\t\\t<a href=\"https://post.naver.com/viewer/postView.naver?memberNo&#x3D;20092661&amp;volumeNo&#x3D;33136071\" class=\"theme_info\" data-clk=\"tcc_fin.list2cont4\" target=\"_blank\">\\n\\t\\t\\t\\t\\t\\t<em class=\"theme_category\"> 경제M</em>\\n\\t\\t\\t\\t\\t\\t<strong class=\"title elss\">올해 놓치면 후회하는 분양 단지 어디? ①서울편</strong>\\n                        <p class=\"desc\">2022년 임인년에는 지난해에 이어 뜨거운 분양 열기가 지속될 것으로 보입니다. 특히, 서울에서는 눈여겨볼 만한 주요 단지들이 속속 등장하는데요. 어떤 단지들이 있는지 한번 살펴보도록 하죠.먼저, 오는 6월에 분양 예정인 서울 강동구 둔촌주공 재건축 사업, ‘둔촌 올림픽파크 에비뉴포레’입니다. 단지의 경우 85개 동, 총 1만2,032</p>\\n\\t\\t\\t\\t\\t\\t<div class=\"source_box\">\\n\\t\\t\\t\\t\\t\\t\\t<span class=\"date\">어제</span>\\n\\t\\t\\t\\t\\t\\t\\t<span class=\"source\">\\n                                \\n                                <span class=\"source_inner\">부동산은 리얼투데이</span>\\n                            </span>\\n\\t\\t\\t\\t\\t\\t</div>\\n\\t\\t\\t\\t\\t</a>\\n\\t\\t\\t\\t</li>\\n\\t\\t\\t\\n\\t\\t\\t\\t<li class=\"theme_item\" data-gdid=\"C3S_RANKING_https://post.naver.com/viewer/postView.naver?memberNo&#x3D;2966116&amp;volumeNo&#x3D;33139881\" data-da-position=\"true\">\\n\\t\\t\\t\\t\\t<a href=\"https://post.naver.com/viewer/postView.naver?memberNo&#x3D;2966116&amp;volumeNo&#x3D;33139881\" class=\"theme_thumb\" data-clk=\"tcc_fin.list2cont5\" target=\"_blank\">\\n\\t\\t\\t\\t\\t\\t<img src=\"https://s.pstatic.net/dthumb.phinf/?src&#x3D;%22https%3A%2F%2Fs.pstatic.net%2Fpost.phinf%2FMjAyMjAxMTdfOTkg%2FMDAxNjQyNDExMjMyNTg2.b6aq9zYPxtSgYOx_d-3qGOb1vPQX-cfM1J0UlpKCSpwg.-elkkkJs_ym1sBhX52GFiujTeYQN_ear9dpNpgoNe3cg.PNG%2FIeSU-P4g8QIqbkbR2atk3ejJXfT4.jpg%3Ftype%3Df339_222_q90%22&amp;type&#x3D;nf340_228\" data-src=\"https://s.pstatic.net/dthumb.phinf/?src&#x3D;%22https%3A%2F%2Fs.pstatic.net%2Fpost.phinf%2FMjAyMjAxMTdfOTkg%2FMDAxNjQyNDExMjMyNTg2.b6aq9zYPxtSgYOx_d-3qGOb1vPQX-cfM1J0UlpKCSpwg.-elkkkJs_ym1sBhX52GFiujTeYQN_ear9dpNpgoNe3cg.PNG%2FIeSU-P4g8QIqbkbR2atk3ejJXfT4.jpg%3Ftype%3Df339_222_q90%22&amp;type&#x3D;nf340_228\" alt=\"주식 투자로 크게 성공해서 돈 버는 사람의 특징\" width=\"170\" height=\"114\" onerror=\"this.outerHTML=\\'<span class=\\\\\\'pm_noimg\\\\\\'><span class=\\\\\\'noimg_text\\\\\\'>이미지 준비중</span></span>\\'\">\\n\\t\\t\\t\\t\\t\\t<span class=\"thumb_bd\"></span>\\n                        \\n\\t\\t\\t\\t\\t</a>\\n\\t\\t\\t\\t\\t<a href=\"https://post.naver.com/viewer/postView.naver?memberNo&#x3D;2966116&amp;volumeNo&#x3D;33139881\" class=\"theme_info\" data-clk=\"tcc_fin.list2cont5\" target=\"_blank\">\\n\\t\\t\\t\\t\\t\\t<em class=\"theme_category\"> 경제M</em>\\n\\t\\t\\t\\t\\t\\t<strong class=\"title elss\">주식 투자로 크게 성공해서 돈 버는 사람의 특징</strong>\\n                        <p class=\"desc\">주식투자에 뛰어든 사람은 많지만 이래저래 돈을 잃은 사람이 많다. 오죽하면 어른들 말이 “주식하면 패가망신한다”라는 말까지 했을까? 그런 말을 하는 어른들은 나름대로의 사정이 있다. 젊은 시절을 지내며 1997년 외환위기, 1999-2000년 닷컴버블, 2008년 금융위기를 겪으며 실제로 가산을 탕진한 사례를 많이 봤기 때문이다. 그런</p>\\n\\t\\t\\t\\t\\t\\t<div class=\"source_box\">\\n\\t\\t\\t\\t\\t\\t\\t<span class=\"date\">어제</span>\\n\\t\\t\\t\\t\\t\\t\\t<span class=\"source\">\\n                                \\n                                <span class=\"source_inner\">월급쟁이 재테크 연구</span>\\n                            </span>\\n\\t\\t\\t\\t\\t\\t</div>\\n\\t\\t\\t\\t\\t</a>\\n\\t\\t\\t\\t</li>\\n\\t\\t\\t\\n\\t\\t</ul>\\n\\t</div>\\n</div>\\n<div class=\"group_theme\" data-block-id=\"\" data-block-code=\"PC-THEME-FINANCE-MOBILE-RANKING-VIDEO-1\" data-block-type=\"MATERIALS\" data-template-code=\"MOBILE-RANKING-VIDEO-LIST\"\\n\\n\\t data-index=\"\"\\n\\t data-page=\"1\"\\n\\t >\\n\\n\\t<div class=\"media_view_wrap type_column\">\\n\\t\\t<div class=\"media_view\">\\n\\t\\t\\t\\n\\t\\t\\t\\t<a href=\"https://tv.naver.com/v/22934051\" class=\"media_area\" data-gdid=\"C3S_RANKING_https://tv.naver.com/v/22934051\" data-clk=\"tcc_fin.video2cont1\" target=\"_blank\">\\n\\t\\t\\t\\t\\t<div class=\"media_thumb\">\\n\\t\\t\\t\\t\\t\\t<img src=\"https://s.pstatic.net/dthumb.phinf/?src&#x3D;%22https%3A%2F%2Fs.pstatic.net%2Ftvcast.phinf%2F20211013_152%2Feki55_1634103460910ObYOq_JPEG%2F1634103380520.jpg%22&amp;type&#x3D;nf464_260\" data-src=\"https://s.pstatic.net/dthumb.phinf/?src&#x3D;%22https%3A%2F%2Fs.pstatic.net%2Ftvcast.phinf%2F20211013_152%2Feki55_1634103460910ObYOq_JPEG%2F1634103380520.jpg%22&amp;type&#x3D;nf464_260\" alt=\"나에게 딱 맞는 쓰리룸 직방에서 확인하기!\" width=\"232\" height=\"130\" onerror=\"this.outerHTML=\\'<span class=\\\\\\'pm_noimg\\\\\\'><span class=\\\\\\'noimg_text\\\\\\'>이미지 준비중</span></span>\\'\">\\n\\t\\t\\t\\t\\t\\t<span class=\"thumb_dim\"></span>\\n\\t\\t\\t\\t\\t\\t<span class=\"thumb_bd\"></span>\\n\\t\\t\\t\\t\\t\\t<i class=\"pm_ico_play\"><span class=\"blind\">재생</span></i>\\n\\t\\t\\t\\t\\t\\t<span class=\"theme_runtime\"><span class=\"runtime_bg\">재생시간</span><em class=\"time\"></em></span>\\n\\t\\t\\t\\t\\t</div>\\n\\t\\t\\t\\t\\t<div class=\"media_info\">\\n\\t\\t\\t\\t\\t\\t<div class=\"info_box\">\\n\\t\\t\\t\\t\\t\\t\\t<strong class=\"title\">나에게 딱 맞는 쓰리룸 직방에서 확인하기!</strong>\\n\\t\\t\\t\\t\\t\\t\\t<div class=\"source_wrap\">\\n\\t\\t\\t\\t\\t\\t\\t\\t<span class=\"date\">3개월 전</span>\\n\\t\\t\\t\\t\\t\\t\\t\\t<span class=\"source\">\\n                                    \\n                                    <span class=\"source_inner\">직방</span>\\n                                </span>\\n\\t\\t\\t\\t\\t\\t\\t</div>\\n\\t\\t\\t\\t\\t\\t</div>\\n\\t\\t\\t\\t\\t</div>\\n\\t\\t\\t\\t</a>\\n\\t\\t\\t\\n\\t\\t\\t\\t<a href=\"https://tv.naver.com/v/22934065\" class=\"media_area\" data-gdid=\"C3S_RANKING_https://tv.naver.com/v/22934065\" data-clk=\"tcc_fin.video2cont2\" target=\"_blank\">\\n\\t\\t\\t\\t\\t<div class=\"media_thumb\">\\n\\t\\t\\t\\t\\t\\t<img src=\"https://s.pstatic.net/dthumb.phinf/?src&#x3D;%22https%3A%2F%2Fs.pstatic.net%2Ftvcast.phinf%2F20211013_110%2FWvtXj_1634103476312sFWcU_JPEG%2F1634103278545.jpg%22&amp;type&#x3D;nf464_260\" data-src=\"https://s.pstatic.net/dthumb.phinf/?src&#x3D;%22https%3A%2F%2Fs.pstatic.net%2Ftvcast.phinf%2F20211013_110%2FWvtXj_1634103476312sFWcU_JPEG%2F1634103278545.jpg%22&amp;type&#x3D;nf464_260\" alt=\"나에게 딱 맞는 복층 오피스텔 직방에서 확인하기!\" width=\"232\" height=\"130\" onerror=\"this.outerHTML=\\'<span class=\\\\\\'pm_noimg\\\\\\'><span class=\\\\\\'noimg_text\\\\\\'>이미지 준비중</span></span>\\'\">\\n\\t\\t\\t\\t\\t\\t<span class=\"thumb_dim\"></span>\\n\\t\\t\\t\\t\\t\\t<span class=\"thumb_bd\"></span>\\n\\t\\t\\t\\t\\t\\t<i class=\"pm_ico_play\"><span class=\"blind\">재생</span></i>\\n\\t\\t\\t\\t\\t\\t<span class=\"theme_runtime\"><span class=\"runtime_bg\">재생시간</span><em class=\"time\"></em></span>\\n\\t\\t\\t\\t\\t</div>\\n\\t\\t\\t\\t\\t<div class=\"media_info\">\\n\\t\\t\\t\\t\\t\\t<div class=\"info_box\">\\n\\t\\t\\t\\t\\t\\t\\t<strong class=\"title\">나에게 딱 맞는 복층 오피스텔 직방에서 확인하기!</strong>\\n\\t\\t\\t\\t\\t\\t\\t<div class=\"source_wrap\">\\n\\t\\t\\t\\t\\t\\t\\t\\t<span class=\"date\">3개월 전</span>\\n\\t\\t\\t\\t\\t\\t\\t\\t<span class=\"source\">\\n                                    \\n                                    <span class=\"source_inner\">직방</span>\\n                                </span>\\n\\t\\t\\t\\t\\t\\t\\t</div>\\n\\t\\t\\t\\t\\t\\t</div>\\n\\t\\t\\t\\t\\t</div>\\n\\t\\t\\t\\t</a>\\n\\t\\t\\t\\n\\t\\t\\t\\t<a href=\"https://tv.naver.com/v/24646880\" class=\"media_area\" data-gdid=\"C3S_RANKING_https://tv.naver.com/v/24646880\" data-clk=\"tcc_fin.video2cont3\" target=\"_blank\">\\n\\t\\t\\t\\t\\t<div class=\"media_thumb\">\\n\\t\\t\\t\\t\\t\\t<img src=\"https://s.pstatic.net/dthumb.phinf/?src&#x3D;%22https%3A%2F%2Fs.pstatic.net%2Ftvcast.phinf%2F20220117_7%2FYeI9V_1642408142724Iv6AW_JPEG%2F1642408044193.jpg%22&amp;type&#x3D;nf464_260\" data-src=\"https://s.pstatic.net/dthumb.phinf/?src&#x3D;%22https%3A%2F%2Fs.pstatic.net%2Ftvcast.phinf%2F20220117_7%2FYeI9V_1642408142724Iv6AW_JPEG%2F1642408044193.jpg%22&amp;type&#x3D;nf464_260\" alt=\"LG에너지솔루션 공모주 청약 전략, 증권사는 어디로? (ft. 시가총액 100조 돌파? 따상?)\" width=\"232\" height=\"130\" onerror=\"this.outerHTML=\\'<span class=\\\\\\'pm_noimg\\\\\\'><span class=\\\\\\'noimg_text\\\\\\'>이미지 준비중</span></span>\\'\">\\n\\t\\t\\t\\t\\t\\t<span class=\"thumb_dim\"></span>\\n\\t\\t\\t\\t\\t\\t<span class=\"thumb_bd\"></span>\\n\\t\\t\\t\\t\\t\\t<i class=\"pm_ico_play\"><span class=\"blind\">재생</span></i>\\n\\t\\t\\t\\t\\t\\t<span class=\"theme_runtime\"><span class=\"runtime_bg\">재생시간</span><em class=\"time\"></em></span>\\n\\t\\t\\t\\t\\t</div>\\n\\t\\t\\t\\t\\t<div class=\"media_info\">\\n\\t\\t\\t\\t\\t\\t<div class=\"info_box\">\\n\\t\\t\\t\\t\\t\\t\\t<strong class=\"title\">LG에너지솔루션 공모주 청약 전략, 증권사는 어디로? (ft. 시가총액 100조 돌파? 따상?)</strong>\\n\\t\\t\\t\\t\\t\\t\\t<div class=\"source_wrap\">\\n\\t\\t\\t\\t\\t\\t\\t\\t<span class=\"date\">어제</span>\\n\\t\\t\\t\\t\\t\\t\\t\\t<span class=\"source\">\\n                                    \\n                                    <span class=\"source_inner\">빽담화TV</span>\\n                                </span>\\n\\t\\t\\t\\t\\t\\t\\t</div>\\n\\t\\t\\t\\t\\t\\t</div>\\n\\t\\t\\t\\t\\t</div>\\n\\t\\t\\t\\t</a>\\n\\t\\t\\t\\n\\t\\t</div>\\n\\t</div>\\n</div>\\n<div class=\"group_theme\" data-block-id=\"\" data-block-code=\"PC-THEME-FINANCE-MOBILE-RANKING-DEFAULT-2\" data-block-type=\"MATERIALS\" data-template-code=\"MOBILE-RANKING-LIST\"\\n\\n\\t data-da=\"container\"\\n\\t data-index=\"\"\\n     data-page=\"2\"\\n\\t style=\"display:none\">\\n\\n\\t<div class=\"list_theme_wrap\">\\n\\t\\t<ul class=\"list_theme\">\\n\\t\\t\\t\\n\\t\\t\\t\\t<li class=\"theme_item\" data-gdid=\"C3S_RANKING_https://post.naver.com/viewer/postView.naver?volumeNo&#x3D;33023351&amp;memberNo&#x3D;46511596&amp;vType&#x3D;VERTICAL\" data-da-position=\"true\">\\n\\t\\t\\t\\t\\t<a href=\"https://post.naver.com/viewer/postView.naver?volumeNo&#x3D;33023351&amp;memberNo&#x3D;46511596&amp;vType&#x3D;VERTICAL\" class=\"theme_thumb\" data-clk=\"tcc_fin.list3cont1\" target=\"_blank\">\\n\\t\\t\\t\\t\\t\\t<img  data-src=\"https://s.pstatic.net/dthumb.phinf/?src&#x3D;%22https%3A%2F%2Fs.pstatic.net%2Fpost.phinf%2FMjAyMTEyMjhfMTIx%2FMDAxNjQwNjg3MDE5NzY1.cTXqz4teux-dYD4PHcxTAWaOkfOF-gD6Gik5caYzfdkg.lAyKpvfLb9HCxOEgaB8z1M2Jwpptn63RaMNVFYLP7Lkg.JPEG%2FICCKYeYNfUwIWKTxOBbV9lGdf8tM.jpg%22&amp;type&#x3D;nf340_228\" alt=\"17억짜리 &#x27;로또 1등&#x27; 당첨된 남성, 2년 뒤 남은 당첨금이 겨우...\" width=\"170\" height=\"114\" onerror=\"this.outerHTML=\\'<span class=\\\\\\'pm_noimg\\\\\\'><span class=\\\\\\'noimg_text\\\\\\'>이미지 준비중</span></span>\\'\">\\n\\t\\t\\t\\t\\t\\t<span class=\"thumb_bd\"></span>\\n                        \\n\\t\\t\\t\\t\\t</a>\\n\\t\\t\\t\\t\\t<a href=\"https://post.naver.com/viewer/postView.naver?volumeNo&#x3D;33023351&amp;memberNo&#x3D;46511596&amp;vType&#x3D;VERTICAL\" class=\"theme_info\" data-clk=\"tcc_fin.list3cont1\" target=\"_blank\">\\n\\t\\t\\t\\t\\t\\t<em class=\"theme_category\"> 경제M</em>\\n\\t\\t\\t\\t\\t\\t<strong class=\"title elss\">17억짜리 \\'로또 1등\\' 당첨된 남성, 2년 뒤 남은 당첨금이 겨우...</strong>\\n                        <p class=\"desc\">우연히 직장 동료와 산 복권 12억 원어치 1등 당첨돼 직장 관두고 카페 차려 2년 만에 당첨금 탕진5,000원으로 일주일의 희망을 산다는 복권, 로또. 단지 호기심으로, 일주일을 기분 좋게 보내기 위해, 당첨을 간절히 바라며 등 복권을 사는 사람들의 의도는 다양하다. 지난 25일 크리스마스를 맞아 로또는 당첨 번호를 밝혔는데, 이번 6개 번호를 모두 맞춘</p>\\n\\t\\t\\t\\t\\t\\t<div class=\"source_box\">\\n\\t\\t\\t\\t\\t\\t\\t<span class=\"date\">3주일 전</span>\\n\\t\\t\\t\\t\\t\\t\\t<span class=\"source\">\\n                                \\n                                <span class=\"source_inner\">더패치</span>\\n                            </span>\\n\\t\\t\\t\\t\\t\\t</div>\\n\\t\\t\\t\\t\\t</a>\\n\\t\\t\\t\\t</li>\\n\\t\\t\\t\\n\\t\\t\\t\\t<li class=\"theme_item\" data-gdid=\"C3S_RANKING_https://post.naver.com/viewer/postView.naver?volumeNo&#x3D;33056992&amp;memberNo&#x3D;28162671&amp;vType&#x3D;VERTICAL\" data-da-position=\"true\">\\n\\t\\t\\t\\t\\t<a href=\"https://post.naver.com/viewer/postView.naver?volumeNo&#x3D;33056992&amp;memberNo&#x3D;28162671&amp;vType&#x3D;VERTICAL\" class=\"theme_thumb\" data-clk=\"tcc_fin.list3cont2\" target=\"_blank\">\\n\\t\\t\\t\\t\\t\\t<img  data-src=\"https://s.pstatic.net/dthumb.phinf/?src&#x3D;%22https%3A%2F%2Fs.pstatic.net%2Fpost.phinf%2FMjAyMjAxMDNfMTM4%2FMDAxNjQxMTkxMTM1ODcz.c1PvXjy0G5qLjIsPFP7GjyOgiXhbQ4g-frrT5JD_zsUg.MdkV1ZPiBiL17LG5TBVZja9BDxT-C0zxzURpCpI1Ov8g.PNG%2FIQR_pf3p30JxeXNlEhNp63hR3tbM.jpg%22&amp;type&#x3D;nf340_228\" alt=\"&quot;아직 팔지 마세요&quot; 증권사들이 꼽은 올해 유망주는\" width=\"170\" height=\"114\" onerror=\"this.outerHTML=\\'<span class=\\\\\\'pm_noimg\\\\\\'><span class=\\\\\\'noimg_text\\\\\\'>이미지 준비중</span></span>\\'\">\\n\\t\\t\\t\\t\\t\\t<span class=\"thumb_bd\"></span>\\n                        \\n\\t\\t\\t\\t\\t</a>\\n\\t\\t\\t\\t\\t<a href=\"https://post.naver.com/viewer/postView.naver?volumeNo&#x3D;33056992&amp;memberNo&#x3D;28162671&amp;vType&#x3D;VERTICAL\" class=\"theme_info\" data-clk=\"tcc_fin.list3cont2\" target=\"_blank\">\\n\\t\\t\\t\\t\\t\\t<em class=\"theme_category\"> 경제M</em>\\n\\t\\t\\t\\t\\t\\t<strong class=\"title elss\">\"아직 팔지 마세요\" 증권사들이 꼽은 올해 유망주는</strong>\\n                        <p class=\"desc\">메모리 반도체에 겨울이 오고 있다? 국내 주요 증권사가 올해 가장 유망할 것으로 꼽은 산업은 반도체인 것으로 나타났다. 주요 증권사 대부분은 삼성전자(78,500원 ▲ 200 0.26%), SK하이닉스(128,500원 ▼ 2,500 -1.91%) 등 주요 반도체 기업들이 2022년 유망주가 될 것으로 전망했다. D램 등 메모리 반도체 업황이 지난해보다 개선</p>\\n\\t\\t\\t\\t\\t\\t<div class=\"source_box\">\\n\\t\\t\\t\\t\\t\\t\\t<span class=\"date\">2주일 전</span>\\n\\t\\t\\t\\t\\t\\t\\t<span class=\"source\">\\n                                \\n                                <span class=\"source_inner\">조선비즈</span>\\n                            </span>\\n\\t\\t\\t\\t\\t\\t</div>\\n\\t\\t\\t\\t\\t</a>\\n\\t\\t\\t\\t</li>\\n\\t\\t\\t\\n\\t\\t\\t\\t<li class=\"theme_item\" data-gdid=\"C3S_RANKING_https://post.naver.com/viewer/postView.naver?memberNo&#x3D;37534410&amp;volumeNo&#x3D;33137738\" data-da-position=\"true\">\\n\\t\\t\\t\\t\\t<a href=\"https://post.naver.com/viewer/postView.naver?memberNo&#x3D;37534410&amp;volumeNo&#x3D;33137738\" class=\"theme_thumb\" data-clk=\"tcc_fin.list3cont3\" target=\"_blank\">\\n\\t\\t\\t\\t\\t\\t<img  data-src=\"https://s.pstatic.net/dthumb.phinf/?src&#x3D;%22https%3A%2F%2Fs.pstatic.net%2Fpost.phinf%2FMjAyMjAxMTdfNjcg%2FMDAxNjQyMzk2MDM3ODkx.Vz6aHJkGiIpV8XRp9y4e1qnQc-qL0V020zOmy9fG2w8g.kbzOtBIvz1Ka6TV7mMOrrrE6pJgDEFXlVgn5GcLTw4Ig.JPEG%2FIwwDwf7jdCEzU0TX0yfWIvehXVeI.jpg%3Ftype%3Df339_222_q90%22&amp;type&#x3D;nf340_228\" alt=\"2주택자는 무조건 세금 폭탄? 절세 방법은 존재한다!\" width=\"170\" height=\"114\" onerror=\"this.outerHTML=\\'<span class=\\\\\\'pm_noimg\\\\\\'><span class=\\\\\\'noimg_text\\\\\\'>이미지 준비중</span></span>\\'\">\\n\\t\\t\\t\\t\\t\\t<span class=\"thumb_bd\"></span>\\n                        \\n\\t\\t\\t\\t\\t</a>\\n\\t\\t\\t\\t\\t<a href=\"https://post.naver.com/viewer/postView.naver?memberNo&#x3D;37534410&amp;volumeNo&#x3D;33137738\" class=\"theme_info\" data-clk=\"tcc_fin.list3cont3\" target=\"_blank\">\\n\\t\\t\\t\\t\\t\\t<em class=\"theme_category\"> 경제M</em>\\n\\t\\t\\t\\t\\t\\t<strong class=\"title elss\">2주택자는 무조건 세금 폭탄? 절세 방법은 존재한다!</strong>\\n                        <p class=\"desc\">지난 시간 자이TV와 함께 알아본 ‘거주요건’에 대해 잘 공부하셨나요? 오늘은 2주택 이상 보유하신 다주택자 여러분들을 위한 절세 방법을 가져왔습니다. 1주택자이신 분들도 만약 추가로 주택 구매를 고려 중이라면 오늘 내용 꼭 숙지하시길 바랍니다. 이번에 공부할 내용만 잘 숙지해도 엄청난 절세 효과를 누릴 수 있거든요.현재 우리나라 부동</p>\\n\\t\\t\\t\\t\\t\\t<div class=\"source_box\">\\n\\t\\t\\t\\t\\t\\t\\t<span class=\"date\">어제</span>\\n\\t\\t\\t\\t\\t\\t\\t<span class=\"source\">\\n                                \\n                                <span class=\"source_inner\">자이</span>\\n                            </span>\\n\\t\\t\\t\\t\\t\\t</div>\\n\\t\\t\\t\\t\\t</a>\\n\\t\\t\\t\\t</li>\\n\\t\\t\\t\\n\\t\\t\\t\\t<li class=\"theme_item\" data-gdid=\"C3S_RANKING_https://post.naver.com/viewer/postView.naver?memberNo&#x3D;32662051&amp;volumeNo&#x3D;33132487\" data-da-position=\"true\">\\n\\t\\t\\t\\t\\t<a href=\"https://post.naver.com/viewer/postView.naver?memberNo&#x3D;32662051&amp;volumeNo&#x3D;33132487\" class=\"theme_thumb\" data-clk=\"tcc_fin.list3cont4\" target=\"_blank\">\\n\\t\\t\\t\\t\\t\\t<img  data-src=\"https://s.pstatic.net/dthumb.phinf/?src&#x3D;%22https%3A%2F%2Fs.pstatic.net%2Fpost.phinf%2FMjAyMjAxMTZfMTU4%2FMDAxNjQyMzAxMTUwODY3.7TTNubztPTZ34qo0cofqEWbzcDMxnav4aXqI9ocXedkg.Euho6Bkt13dIpZLVtjD6TfpCWgjSwMkFppdZ8qEPOtQg.JPEG%2FImq0d4hzfc7NhpBNMpGrtUFiLS18.jpg%3Ftype%3Df339_222_q90%22&amp;type&#x3D;nf340_228\" alt=\"청약 당첨됐는데 돈이 없다면?\" width=\"170\" height=\"114\" onerror=\"this.outerHTML=\\'<span class=\\\\\\'pm_noimg\\\\\\'><span class=\\\\\\'noimg_text\\\\\\'>이미지 준비중</span></span>\\'\">\\n\\t\\t\\t\\t\\t\\t<span class=\"thumb_bd\"></span>\\n                        \\n\\t\\t\\t\\t\\t</a>\\n\\t\\t\\t\\t\\t<a href=\"https://post.naver.com/viewer/postView.naver?memberNo&#x3D;32662051&amp;volumeNo&#x3D;33132487\" class=\"theme_info\" data-clk=\"tcc_fin.list3cont4\" target=\"_blank\">\\n\\t\\t\\t\\t\\t\\t<em class=\"theme_category\"> 경제M</em>\\n\\t\\t\\t\\t\\t\\t<strong class=\"title elss\">청약 당첨됐는데 돈이 없다면?</strong>\\n                        <p class=\"desc\">▶전형진 기자 청약에서 가장 중요한 게 그 집이 얼마인지가 아니잖아요 내가 얼마를 내면 되는지가 중요하지 그쵸?오늘은 자금조달 문제 짚어볼게요 먼저 분양가를 10등분해서 계산하는 습관을 가져야 돼요 만약 9억짜리 아파트다 그러면 9000만원씩 10개로 쪼개서 생각하란 거예요 왜 그러냐면 분양대금은 보통 10% 단위로 납부를 해서 그래요 이 아파트 내 돈 얼</p>\\n\\t\\t\\t\\t\\t\\t<div class=\"source_box\">\\n\\t\\t\\t\\t\\t\\t\\t<span class=\"date\">2일 전</span>\\n\\t\\t\\t\\t\\t\\t\\t<span class=\"source\">\\n                                \\n                                <span class=\"source_inner\">집코노미</span>\\n                            </span>\\n\\t\\t\\t\\t\\t\\t</div>\\n\\t\\t\\t\\t\\t</a>\\n\\t\\t\\t\\t</li>\\n\\t\\t\\t\\n\\t\\t\\t\\t<li class=\"theme_item\" data-gdid=\"C3S_RANKING_https://post.naver.com/viewer/postView.naver?memberNo&#x3D;37570062&amp;volumeNo&#x3D;33137388\" data-da-position=\"true\">\\n\\t\\t\\t\\t\\t<a href=\"https://post.naver.com/viewer/postView.naver?memberNo&#x3D;37570062&amp;volumeNo&#x3D;33137388\" class=\"theme_thumb\" data-clk=\"tcc_fin.list3cont5\" target=\"_blank\">\\n\\t\\t\\t\\t\\t\\t<img  data-src=\"https://s.pstatic.net/dthumb.phinf/?src&#x3D;%22https%3A%2F%2Fs.pstatic.net%2Fpost.phinf%2FMjAyMjAxMTdfMTA1%2FMDAxNjQyMzkzNjkwMzQy.eHk1ruyZU29G2hUAAXsIR35dd_HALSopE539uRAxgSog._KsQgH1cakwYFguwkdWSU2LJlY0jtV1B1o54BJ-ZtJ0g.JPEG%2FIAIhRSjXljTY70DGwb_w4UMWekBY.jpg%3Ftype%3Df339_222_q90%22&amp;type&#x3D;nf340_228\" alt=\"&quot;다주택 피하고 입주권까지&quot;…품귀현상 벌어진 투자 뭐길래\" width=\"170\" height=\"114\" onerror=\"this.outerHTML=\\'<span class=\\\\\\'pm_noimg\\\\\\'><span class=\\\\\\'noimg_text\\\\\\'>이미지 준비중</span></span>\\'\">\\n\\t\\t\\t\\t\\t\\t<span class=\"thumb_bd\"></span>\\n                        \\n\\t\\t\\t\\t\\t</a>\\n\\t\\t\\t\\t\\t<a href=\"https://post.naver.com/viewer/postView.naver?memberNo&#x3D;37570062&amp;volumeNo&#x3D;33137388\" class=\"theme_info\" data-clk=\"tcc_fin.list3cont5\" target=\"_blank\">\\n\\t\\t\\t\\t\\t\\t<em class=\"theme_category\"> 경제M</em>\\n\\t\\t\\t\\t\\t\\t<strong class=\"title elss\">\"다주택 피하고 입주권까지\"…품귀현상 벌어진 투자 뭐길래</strong>\\n                        <p class=\"desc\">서울 송파구 방이동 ‘올림픽선수기자촌’ 아파트. 다주택자에 대한 세금 규제가 강화되면서 재건축 단지 내 상가에 투자자의 관심이 높아지고 있다. 그동안 재건축 상가는 공실률이 높고 재건축 진행을 늦추는 ‘애물단지’로 여겨져왔다. 하지만 최근 재건축 단지 상가를 보유한 조합원도 새 아파트 입주권을 받는 사례가 나오면서 몸값이 높아지고 있다. 유주택자가 주택을 </p>\\n\\t\\t\\t\\t\\t\\t<div class=\"source_box\">\\n\\t\\t\\t\\t\\t\\t\\t<span class=\"date\">어제</span>\\n\\t\\t\\t\\t\\t\\t\\t<span class=\"source\">\\n                                \\n                                <span class=\"source_inner\">한국경제</span>\\n                            </span>\\n\\t\\t\\t\\t\\t\\t</div>\\n\\t\\t\\t\\t\\t</a>\\n\\t\\t\\t\\t</li>\\n\\t\\t\\t\\n\\t\\t</ul>\\n\\t</div>\\n</div>\\n<div class=\"group_theme\" data-block-id=\"\" data-block-code=\"PC-THEME-FINANCE-MOBILE-RANKING-VIDEO-2\" data-block-type=\"MATERIALS\" data-template-code=\"MOBILE-RANKING-VIDEO-LIST\"\\n\\n\\t data-index=\"\"\\n\\t data-page=\"2\"\\n\\t style=\"display:none\">\\n\\n\\t<div class=\"media_view_wrap type_column\">\\n\\t\\t<div class=\"media_view\">\\n\\t\\t\\t\\n\\t\\t\\t\\t<a href=\"https://tv.naver.com/v/24564279\" class=\"media_area\" data-gdid=\"C3S_RANKING_https://tv.naver.com/v/24564279\" data-clk=\"tcc_fin.video3cont1\" target=\"_blank\">\\n\\t\\t\\t\\t\\t<div class=\"media_thumb\">\\n\\t\\t\\t\\t\\t\\t<img  data-src=\"https://s.pstatic.net/dthumb.phinf/?src&#x3D;%22https%3A%2F%2Fs.pstatic.net%2Ftvcast.phinf%2F20220112_78%2F9N5EJ_16419730708795cJ3m_JPEG%2F1641972967166.jpg%22&amp;type&#x3D;nf464_260\" alt=\"올해 부동산은 상저하고로 정리됩니다\" width=\"232\" height=\"130\" onerror=\"this.outerHTML=\\'<span class=\\\\\\'pm_noimg\\\\\\'><span class=\\\\\\'noimg_text\\\\\\'>이미지 준비중</span></span>\\'\">\\n\\t\\t\\t\\t\\t\\t<span class=\"thumb_dim\"></span>\\n\\t\\t\\t\\t\\t\\t<span class=\"thumb_bd\"></span>\\n\\t\\t\\t\\t\\t\\t<i class=\"pm_ico_play\"><span class=\"blind\">재생</span></i>\\n\\t\\t\\t\\t\\t\\t<span class=\"theme_runtime\"><span class=\"runtime_bg\">재생시간</span><em class=\"time\"></em></span>\\n\\t\\t\\t\\t\\t</div>\\n\\t\\t\\t\\t\\t<div class=\"media_info\">\\n\\t\\t\\t\\t\\t\\t<div class=\"info_box\">\\n\\t\\t\\t\\t\\t\\t\\t<strong class=\"title\">올해 부동산은 상저하고로 정리됩니다</strong>\\n\\t\\t\\t\\t\\t\\t\\t<div class=\"source_wrap\">\\n\\t\\t\\t\\t\\t\\t\\t\\t<span class=\"date\">6일 전</span>\\n\\t\\t\\t\\t\\t\\t\\t\\t<span class=\"source\">\\n                                    \\n                                    <span class=\"source_inner\">매부리TV</span>\\n                                </span>\\n\\t\\t\\t\\t\\t\\t\\t</div>\\n\\t\\t\\t\\t\\t\\t</div>\\n\\t\\t\\t\\t\\t</div>\\n\\t\\t\\t\\t</a>\\n\\t\\t\\t\\n\\t\\t\\t\\t<a href=\"https://tv.naver.com/v/24594953\" class=\"media_area\" data-gdid=\"C3S_RANKING_https://tv.naver.com/v/24594953\" data-clk=\"tcc_fin.video3cont2\" target=\"_blank\">\\n\\t\\t\\t\\t\\t<div class=\"media_thumb\">\\n\\t\\t\\t\\t\\t\\t<img  data-src=\"https://s.pstatic.net/dthumb.phinf/?src&#x3D;%22https%3A%2F%2Fs.pstatic.net%2Ftvcast.phinf%2F20220114_30%2Fqj2zk_1642121731689UYi7y_JPEG%2F1642121653427.jpg%22&amp;type&#x3D;nf464_260\" alt=\"[주식기초] 주식투자로 부자가 되고 싶다면 꼭 해야 할 이것!\" width=\"232\" height=\"130\" onerror=\"this.outerHTML=\\'<span class=\\\\\\'pm_noimg\\\\\\'><span class=\\\\\\'noimg_text\\\\\\'>이미지 준비중</span></span>\\'\">\\n\\t\\t\\t\\t\\t\\t<span class=\"thumb_dim\"></span>\\n\\t\\t\\t\\t\\t\\t<span class=\"thumb_bd\"></span>\\n\\t\\t\\t\\t\\t\\t<i class=\"pm_ico_play\"><span class=\"blind\">재생</span></i>\\n\\t\\t\\t\\t\\t\\t<span class=\"theme_runtime\"><span class=\"runtime_bg\">재생시간</span><em class=\"time\"></em></span>\\n\\t\\t\\t\\t\\t</div>\\n\\t\\t\\t\\t\\t<div class=\"media_info\">\\n\\t\\t\\t\\t\\t\\t<div class=\"info_box\">\\n\\t\\t\\t\\t\\t\\t\\t<strong class=\"title\">[주식기초] 주식투자로 부자가 되고 싶다면 꼭 해야 할 이것!</strong>\\n\\t\\t\\t\\t\\t\\t\\t<div class=\"source_wrap\">\\n\\t\\t\\t\\t\\t\\t\\t\\t<span class=\"date\">5일 전</span>\\n\\t\\t\\t\\t\\t\\t\\t\\t<span class=\"source\">\\n                                    \\n                                    <span class=\"source_inner\">부자아빠 주식학교</span>\\n                                </span>\\n\\t\\t\\t\\t\\t\\t\\t</div>\\n\\t\\t\\t\\t\\t\\t</div>\\n\\t\\t\\t\\t\\t</div>\\n\\t\\t\\t\\t</a>\\n\\t\\t\\t\\n\\t\\t\\t\\t<a href=\"https://tv.naver.com/v/24662608\" class=\"media_area\" data-gdid=\"C3S_RANKING_https://tv.naver.com/v/24662608\" data-clk=\"tcc_fin.video3cont3\" target=\"_blank\">\\n\\t\\t\\t\\t\\t<div class=\"media_thumb\">\\n\\t\\t\\t\\t\\t\\t<img  data-src=\"https://s.pstatic.net/dthumb.phinf/?src&#x3D;%22https%3A%2F%2Fs.pstatic.net%2Ftvcast.phinf%2F20220118_22%2Fokxba_1642479586507hkIJH_PNG%2F1642479447151.png%22&amp;type&#x3D;nf464_260\" alt=\"[인싸이투] 구리가격 상승 &#x3D; 풍산 주가 상승 (주식투자 인싸이투 /22.01.18)\" width=\"232\" height=\"130\" onerror=\"this.outerHTML=\\'<span class=\\\\\\'pm_noimg\\\\\\'><span class=\\\\\\'noimg_text\\\\\\'>이미지 준비중</span></span>\\'\">\\n\\t\\t\\t\\t\\t\\t<span class=\"thumb_dim\"></span>\\n\\t\\t\\t\\t\\t\\t<span class=\"thumb_bd\"></span>\\n\\t\\t\\t\\t\\t\\t<i class=\"pm_ico_play\"><span class=\"blind\">재생</span></i>\\n\\t\\t\\t\\t\\t\\t<span class=\"theme_runtime\"><span class=\"runtime_bg\">재생시간</span><em class=\"time\"></em></span>\\n\\t\\t\\t\\t\\t</div>\\n\\t\\t\\t\\t\\t<div class=\"media_info\">\\n\\t\\t\\t\\t\\t\\t<div class=\"info_box\">\\n\\t\\t\\t\\t\\t\\t\\t<strong class=\"title\">[인싸이투] 구리가격 상승 = 풍산 주가 상승 (주식투자 인싸이투 /22.01.18)</strong>\\n\\t\\t\\t\\t\\t\\t\\t<div class=\"source_wrap\">\\n\\t\\t\\t\\t\\t\\t\\t\\t<span class=\"date\">21시간 전</span>\\n\\t\\t\\t\\t\\t\\t\\t\\t<span class=\"source\">\\n                                    \\n                                    <span class=\"source_inner\">[키움증권] 세상의 모든 투자정보</span>\\n                                </span>\\n\\t\\t\\t\\t\\t\\t\\t</div>\\n\\t\\t\\t\\t\\t\\t</div>\\n\\t\\t\\t\\t\\t</div>\\n\\t\\t\\t\\t</a>\\n\\t\\t\\t\\n\\t\\t</div>\\n\\t</div>\\n</div>\\n<div class=\"group_theme\" data-block-id=\"\" data-block-code=\"PC-THEME-FINANCE-MOBILE-RANKING-DEFAULT-3\" data-block-type=\"MATERIALS\" data-template-code=\"MOBILE-RANKING-LIST\"\\n\\n\\t data-da=\"container\"\\n\\t data-index=\"\"\\n     data-page=\"2\"\\n\\t style=\"display:none\">\\n\\n\\t<div class=\"list_theme_wrap\">\\n\\t\\t<ul class=\"list_theme\">\\n\\t\\t\\t\\n\\t\\t\\t\\t<li class=\"theme_item\" data-gdid=\"C3S_RANKING_https://post.naver.com/viewer/postView.naver?volumeNo&#x3D;33068147&amp;memberNo&#x3D;49797427&amp;vType&#x3D;VERTICAL\" data-da-position=\"true\">\\n\\t\\t\\t\\t\\t<a href=\"https://post.naver.com/viewer/postView.naver?volumeNo&#x3D;33068147&amp;memberNo&#x3D;49797427&amp;vType&#x3D;VERTICAL\" class=\"theme_thumb\" data-clk=\"tcc_fin.list4cont1\" target=\"_blank\">\\n\\t\\t\\t\\t\\t\\t<img  data-src=\"https://s.pstatic.net/dthumb.phinf/?src&#x3D;%22https%3A%2F%2Fs.pstatic.net%2Fpost.phinf%2FMjAyMjAxMDVfNTYg%2FMDAxNjQxMzQ1NjMzNzE2.QqDU66lCDTK5-vZf15wI_3ye7e5GnaqmccW65FGaHCgg.QP5IpMILcPVx7xPuHFhNOoVWHlzn1AjagtUIzaokuPsg.JPEG%2FIFlNd2gVszK3R_7MVlqG5AI4qtiw.jpg%22&amp;type&#x3D;nf340_228\" alt=\"존리 &quot;이미 늦었다, 새해 자녀에게 당장 해줘야 할 것&quot;\" width=\"170\" height=\"114\" onerror=\"this.outerHTML=\\'<span class=\\\\\\'pm_noimg\\\\\\'><span class=\\\\\\'noimg_text\\\\\\'>이미지 준비중</span></span>\\'\">\\n\\t\\t\\t\\t\\t\\t<span class=\"thumb_bd\"></span>\\n                        \\n\\t\\t\\t\\t\\t</a>\\n\\t\\t\\t\\t\\t<a href=\"https://post.naver.com/viewer/postView.naver?volumeNo&#x3D;33068147&amp;memberNo&#x3D;49797427&amp;vType&#x3D;VERTICAL\" class=\"theme_info\" data-clk=\"tcc_fin.list4cont1\" target=\"_blank\">\\n\\t\\t\\t\\t\\t\\t<em class=\"theme_category\"> 경제M</em>\\n\\t\\t\\t\\t\\t\\t<strong class=\"title elss\">존리 \"이미 늦었다, 새해 자녀에게 당장 해줘야 할 것\"</strong>\\n                        <p class=\"desc\">자녀를 부자로 만드는 투자법존리 대표는 ‘존봉준’이란 별명으로 불리면서 재작년 코로나 위기로 외국인이 주식을 팔 때 개미 투자자들이 한국 주식을 대거 사자는 ‘동학 개미 운동’을 이끌었다는 말을 듣습니다. 존리 대표는 대학교 2학년 때 가족과 함께 미국으로 이민을 가서 미국에서 35년간 살면서 월스트리트 등에서 펀</p>\\n\\t\\t\\t\\t\\t\\t<div class=\"source_box\">\\n\\t\\t\\t\\t\\t\\t\\t<span class=\"date\">1주일 전</span>\\n\\t\\t\\t\\t\\t\\t\\t<span class=\"source\">\\n                                \\n                                <span class=\"source_inner\">데이트저스트</span>\\n                            </span>\\n\\t\\t\\t\\t\\t\\t</div>\\n\\t\\t\\t\\t\\t</a>\\n\\t\\t\\t\\t</li>\\n\\t\\t\\t\\n\\t\\t\\t\\t<li class=\"theme_item\" data-gdid=\"C3S_RANKING_https://blog.naver.com/businessinsight/222612687208\" data-da-position=\"true\">\\n\\t\\t\\t\\t\\t<a href=\"https://blog.naver.com/businessinsight/222612687208\" class=\"theme_thumb\" data-clk=\"tcc_fin.list4cont2\" target=\"_blank\">\\n\\t\\t\\t\\t\\t\\t<img  data-src=\"https://s.pstatic.net/dthumb.phinf/?src&#x3D;%22https%3A%2F%2Fs.pstatic.net%2Fstatic%2Fwww%2Fmobile%2Fedit%2F20220113_1095%2Fupload_16420660192826ylmg.jpg%22&amp;type&#x3D;nf340_228\" alt=\"16년차 직장인이 말하는 회사에서 무리하지 말아야 하는 이유\" width=\"170\" height=\"114\" onerror=\"this.outerHTML=\\'<span class=\\\\\\'pm_noimg\\\\\\'><span class=\\\\\\'noimg_text\\\\\\'>이미지 준비중</span></span>\\'\">\\n\\t\\t\\t\\t\\t\\t<span class=\"thumb_bd\"></span>\\n                        \\n\\t\\t\\t\\t\\t</a>\\n\\t\\t\\t\\t\\t<a href=\"https://blog.naver.com/businessinsight/222612687208\" class=\"theme_info\" data-clk=\"tcc_fin.list4cont2\" target=\"_blank\">\\n\\t\\t\\t\\t\\t\\t<em class=\"theme_category\"> 경제M</em>\\n\\t\\t\\t\\t\\t\\t<strong class=\"title elss\">16년차 직장인이 말하는 회사에서 무리하지 말아야 하는 이유</strong>\\n                        <p class=\"desc\">[월간 서른 인터뷰] 길진세 작가 근무 시간 8시간+α, 출퇴근 위해 쓰는 시간 1~2시간. 하루 중 일과 관련해 쓰는 시간은 절반에 가깝습니다. 회사에서 있었던 일(업무뿐 아니라 인간관계까지)을 생각하는 시간까지 더하면 더 길어지겠죠. 많은 사람들이 어떻게 하면 회사 생활을 잘할 수 있을지 방법을 고민하는 이유일 겁니다. 어떻게 해야 회사생활을 &#x27;잘&#x27;할 </p>\\n\\t\\t\\t\\t\\t\\t<div class=\"source_box\">\\n\\t\\t\\t\\t\\t\\t\\t<span class=\"date\">1주일 전</span>\\n\\t\\t\\t\\t\\t\\t\\t<span class=\"source\">\\n                                \\n                                <span class=\"source_inner\">인터비즈</span>\\n                            </span>\\n\\t\\t\\t\\t\\t\\t</div>\\n\\t\\t\\t\\t\\t</a>\\n\\t\\t\\t\\t</li>\\n\\t\\t\\t\\n\\t\\t\\t\\t<li class=\"theme_item\" data-gdid=\"C3S_RANKING_https://post.naver.com/viewer/postView.naver?volumeNo&#x3D;32988437&amp;memberNo&#x3D;11567548&amp;vType&#x3D;VERTICAL\" data-da-position=\"true\">\\n\\t\\t\\t\\t\\t<a href=\"https://post.naver.com/viewer/postView.naver?volumeNo&#x3D;32988437&amp;memberNo&#x3D;11567548&amp;vType&#x3D;VERTICAL\" class=\"theme_thumb\" data-clk=\"tcc_fin.list4cont3\" target=\"_blank\">\\n\\t\\t\\t\\t\\t\\t<img  data-src=\"https://s.pstatic.net/dthumb.phinf/?src&#x3D;%22https%3A%2F%2Fs.pstatic.net%2Fpost.phinf%2FMjAyMTEyMjJfMjM4%2FMDAxNjQwMTMxODUyNjc3.jdrvXlYZDHcQR2wq2_mqxc6Wkvq4wYSGVQFdB4v8Y-Ag.9r6EX8z-toW7-TUNgLnfEKeeVNQlZchlGCjas_kNkDwg.JPEG%2FI8O_Ta-__AGt86pj1fFdHHZk2U1s.jpg%22&amp;type&#x3D;nf340_228\" alt=\"목동 아파트 6억원 &#x27;뚝&#x27;…&#x27;똘똘한 한 채&#x27;도 하락세?\" width=\"170\" height=\"114\" onerror=\"this.outerHTML=\\'<span class=\\\\\\'pm_noimg\\\\\\'><span class=\\\\\\'noimg_text\\\\\\'>이미지 준비중</span></span>\\'\">\\n\\t\\t\\t\\t\\t\\t<span class=\"thumb_bd\"></span>\\n                        \\n\\t\\t\\t\\t\\t</a>\\n\\t\\t\\t\\t\\t<a href=\"https://post.naver.com/viewer/postView.naver?volumeNo&#x3D;32988437&amp;memberNo&#x3D;11567548&amp;vType&#x3D;VERTICAL\" class=\"theme_info\" data-clk=\"tcc_fin.list4cont3\" target=\"_blank\">\\n\\t\\t\\t\\t\\t\\t<em class=\"theme_category\"> 경제M</em>\\n\\t\\t\\t\\t\\t\\t<strong class=\"title elss\">목동 아파트 6억원 \\'뚝\\'…\\'똘똘한 한 채\\'도 하락세?</strong>\\n                        <p class=\"desc\">서울 송파구 롯데월드타워 전망대 서울스카이에서 바라본 시내 한 아파트 단지의 모습. 2021.12.20/뉴스1 © News1 김진환 기자 서울 외곽 중저가 아파트를 중심으로 가격 상승세가 한풀 꺾인 가운데, 이른바 &#x27;똘똘한 한 채&#x27;라고 불리는 부촌 지역에서도 수억원씩 하락한 값에 거래가 이뤄진 것으로 나타났다. 업계에서는 특수관계인 간 거래 가능성이 높다며</p>\\n\\t\\t\\t\\t\\t\\t<div class=\"source_box\">\\n\\t\\t\\t\\t\\t\\t\\t<span class=\"date\">3주일 전</span>\\n\\t\\t\\t\\t\\t\\t\\t<span class=\"source\">\\n                                \\n                                <span class=\"source_inner\">뉴스1</span>\\n                            </span>\\n\\t\\t\\t\\t\\t\\t</div>\\n\\t\\t\\t\\t\\t</a>\\n\\t\\t\\t\\t</li>\\n\\t\\t\\t\\n\\t\\t\\t\\t<li class=\"theme_item\" data-gdid=\"C3S_RANKING_https://post.naver.com/viewer/postView.naver?volumeNo&#x3D;33061170&amp;memberNo&#x3D;49797427&amp;vType&#x3D;VERTICAL\" data-da-position=\"true\">\\n\\t\\t\\t\\t\\t<a href=\"https://post.naver.com/viewer/postView.naver?volumeNo&#x3D;33061170&amp;memberNo&#x3D;49797427&amp;vType&#x3D;VERTICAL\" class=\"theme_thumb\" data-clk=\"tcc_fin.list4cont4\" target=\"_blank\">\\n\\t\\t\\t\\t\\t\\t<img  data-src=\"https://s.pstatic.net/dthumb.phinf/?src&#x3D;%22https%3A%2F%2Fs.pstatic.net%2Fpost.phinf%2FMjAyMjAxMDRfMTI3%2FMDAxNjQxMjU4MTcyNzQx.P9S6zWi1xm4-4TzbSgEk24ol421rLi706bzVKio-LSQg.MuijPNqiUYx0xo1TpjTyuBlPdSaCGOo9jLA2xlEErXsg.JPEG%2FIvT6EL_ZeS6l_d8-D_33vkeD4uHY.jpg%22&amp;type&#x3D;nf340_228\" alt=\"투자자들 또 배신한 머스크\" width=\"170\" height=\"114\" onerror=\"this.outerHTML=\\'<span class=\\\\\\'pm_noimg\\\\\\'><span class=\\\\\\'noimg_text\\\\\\'>이미지 준비중</span></span>\\'\">\\n\\t\\t\\t\\t\\t\\t<span class=\"thumb_bd\"></span>\\n                        \\n\\t\\t\\t\\t\\t</a>\\n\\t\\t\\t\\t\\t<a href=\"https://post.naver.com/viewer/postView.naver?volumeNo&#x3D;33061170&amp;memberNo&#x3D;49797427&amp;vType&#x3D;VERTICAL\" class=\"theme_info\" data-clk=\"tcc_fin.list4cont4\" target=\"_blank\">\\n\\t\\t\\t\\t\\t\\t<em class=\"theme_category\"> 경제M</em>\\n\\t\\t\\t\\t\\t\\t<strong class=\"title elss\">투자자들 또 배신한 머스크</strong>\\n                        <p class=\"desc\">머스크, 주식 또 팔았다주식 시장 상황이 심상치 않습니다. 손실을 막으러면 미국 등 글로벌 시장 상황을 예의주시해야 합니다. 글로벌 주식 시장의 최신 동향을 매일 정리해 드리는 ‘월스트리트 시시각각’을 연재합니다. 최신 정보를 통해 성공 투자의 힌트를 얻어 보세요.최근 월가 증시가 혼조세입니다. 29일 다우, S&amp;P500은 사상</p>\\n\\t\\t\\t\\t\\t\\t<div class=\"source_box\">\\n\\t\\t\\t\\t\\t\\t\\t<span class=\"date\">2주일 전</span>\\n\\t\\t\\t\\t\\t\\t\\t<span class=\"source\">\\n                                \\n                                <span class=\"source_inner\">데이트저스트</span>\\n                            </span>\\n\\t\\t\\t\\t\\t\\t</div>\\n\\t\\t\\t\\t\\t</a>\\n\\t\\t\\t\\t</li>\\n\\t\\t\\t\\n\\t\\t\\t\\t<li class=\"theme_item\" data-gdid=\"C3S_RANKING_https://post.naver.com/viewer/postView.naver?memberNo&#x3D;832412&amp;volumeNo&#x3D;33137758\" data-da-position=\"true\">\\n\\t\\t\\t\\t\\t<a href=\"https://post.naver.com/viewer/postView.naver?memberNo&#x3D;832412&amp;volumeNo&#x3D;33137758\" class=\"theme_thumb\" data-clk=\"tcc_fin.list4cont5\" target=\"_blank\">\\n\\t\\t\\t\\t\\t\\t<img  data-src=\"https://s.pstatic.net/dthumb.phinf/?src&#x3D;%22https%3A%2F%2Fs.pstatic.net%2Fpost.phinf%2FMjAyMjAxMTdfMjIg%2FMDAxNjQyMzk2MDU1MDA3.-S_LsZggOKSgzMDsqCb1i6e1FSPzDjD0JQAbgs4xxUsg.zGxeNEQyg6x63STqUqCzZBsrGz7QLQJ2vBbQ8BMMK9Ag.JPEG%2FI3OzIJaL293TLlpF8Q_6TIjYaTbA.jpg%3Ftype%3Df339_222_q90%22&amp;type&#x3D;nf340_228\" alt=\"&quot;절대 종잣돈 모으지 마세요&quot; 1300만원으로 경제적 자유를 이룬 투자자의 조언\" width=\"170\" height=\"114\" onerror=\"this.outerHTML=\\'<span class=\\\\\\'pm_noimg\\\\\\'><span class=\\\\\\'noimg_text\\\\\\'>이미지 준비중</span></span>\\'\">\\n\\t\\t\\t\\t\\t\\t<span class=\"thumb_bd\"></span>\\n                        \\n\\t\\t\\t\\t\\t</a>\\n\\t\\t\\t\\t\\t<a href=\"https://post.naver.com/viewer/postView.naver?memberNo&#x3D;832412&amp;volumeNo&#x3D;33137758\" class=\"theme_info\" data-clk=\"tcc_fin.list4cont5\" target=\"_blank\">\\n\\t\\t\\t\\t\\t\\t<em class=\"theme_category\"> 경제M</em>\\n\\t\\t\\t\\t\\t\\t<strong class=\"title elss\">\"절대 종잣돈 모으지 마세요\" 1300만원으로 경제적 자유를 이룬 투자자의 조언</strong>\\n                        <p class=\"desc\">돈을 모으는 대신 처음부터 투자하세요왜 종잣돈을 모아야 되는지 모르겠어요. 주식은 백만 원으로 할 수 있거든요. 가능성은 둘 중 하나잖아요. 주가가 오르냐, 떨어지냐. 오르면 싫어할 이유 없고 떨어지면 두 가지 이유 중 하나죠. 나와 주식이 안 맞거나 내가 초보라서 잘 모르거나. 주식이 안 맞으면 적은 돈으로 알 수 있어서 좋은 거고 초보라서 실수하는 것도</p>\\n\\t\\t\\t\\t\\t\\t<div class=\"source_box\">\\n\\t\\t\\t\\t\\t\\t\\t<span class=\"date\">어제</span>\\n\\t\\t\\t\\t\\t\\t\\t<span class=\"source\">\\n                                \\n                                <span class=\"source_inner\">신사임당</span>\\n                            </span>\\n\\t\\t\\t\\t\\t\\t</div>\\n\\t\\t\\t\\t\\t</a>\\n\\t\\t\\t\\t</li>\\n\\t\\t\\t\\n\\t\\t</ul>\\n\\t</div>\\n</div>\\n<div class=\"group_theme\" data-block-id=\"\" data-block-code=\"PC-THEME-FINANCE-MOBILE-RANKING-VIDEO-3\" data-block-type=\"MATERIALS\" data-template-code=\"MOBILE-RANKING-VIDEO-LIST\"\\n\\n\\t data-index=\"\"\\n\\t data-page=\"2\"\\n\\t style=\"display:none\">\\n\\n\\t<div class=\"media_view_wrap type_column\">\\n\\t\\t<div class=\"media_view\">\\n\\t\\t\\t\\n\\t\\t\\t\\t<a href=\"https://tv.naver.com/v/24560827\" class=\"media_area\" data-gdid=\"C3S_RANKING_https://tv.naver.com/v/24560827\" data-clk=\"tcc_fin.video4cont1\" target=\"_blank\">\\n\\t\\t\\t\\t\\t<div class=\"media_thumb\">\\n\\t\\t\\t\\t\\t\\t<img  data-src=\"https://s.pstatic.net/dthumb.phinf/?src&#x3D;%22https%3A%2F%2Fs.pstatic.net%2Ftvcast.phinf%2F20220112_70%2FdQ5xE_1641964772071Veoo3_JPEG%2F1641964678851.jpg%22&amp;type&#x3D;nf464_260\" alt=\"주식투자, 한국시장에서 떠나자\" width=\"232\" height=\"130\" onerror=\"this.outerHTML=\\'<span class=\\\\\\'pm_noimg\\\\\\'><span class=\\\\\\'noimg_text\\\\\\'>이미지 준비중</span></span>\\'\">\\n\\t\\t\\t\\t\\t\\t<span class=\"thumb_dim\"></span>\\n\\t\\t\\t\\t\\t\\t<span class=\"thumb_bd\"></span>\\n\\t\\t\\t\\t\\t\\t<i class=\"pm_ico_play\"><span class=\"blind\">재생</span></i>\\n\\t\\t\\t\\t\\t\\t<span class=\"theme_runtime\"><span class=\"runtime_bg\">재생시간</span><em class=\"time\"></em></span>\\n\\t\\t\\t\\t\\t</div>\\n\\t\\t\\t\\t\\t<div class=\"media_info\">\\n\\t\\t\\t\\t\\t\\t<div class=\"info_box\">\\n\\t\\t\\t\\t\\t\\t\\t<strong class=\"title\">주식투자, 한국시장에서 떠나자</strong>\\n\\t\\t\\t\\t\\t\\t\\t<div class=\"source_wrap\">\\n\\t\\t\\t\\t\\t\\t\\t\\t<span class=\"date\">6일 전</span>\\n\\t\\t\\t\\t\\t\\t\\t\\t<span class=\"source\">\\n                                    \\n                                    <span class=\"source_inner\">빽담화TV</span>\\n                                </span>\\n\\t\\t\\t\\t\\t\\t\\t</div>\\n\\t\\t\\t\\t\\t\\t</div>\\n\\t\\t\\t\\t\\t</div>\\n\\t\\t\\t\\t</a>\\n\\t\\t\\t\\n\\t\\t\\t\\t<a href=\"https://tv.naver.com/v/24663554\" class=\"media_area\" data-gdid=\"C3S_RANKING_https://tv.naver.com/v/24663554\" data-clk=\"tcc_fin.video4cont2\" target=\"_blank\">\\n\\t\\t\\t\\t\\t<div class=\"media_thumb\">\\n\\t\\t\\t\\t\\t\\t<img  data-src=\"https://s.pstatic.net/dthumb.phinf/?src&#x3D;%22https%3A%2F%2Fs.pstatic.net%2Ftvcast.phinf%2F20220118_124%2FFYPV1_1642481226806egUaV_PNG%2F1642481067435.png%22&amp;type&#x3D;nf464_260\" alt=\"내가 저축을 하는 이유 Ι 재테크 왜 해야될까??\" width=\"232\" height=\"130\" onerror=\"this.outerHTML=\\'<span class=\\\\\\'pm_noimg\\\\\\'><span class=\\\\\\'noimg_text\\\\\\'>이미지 준비중</span></span>\\'\">\\n\\t\\t\\t\\t\\t\\t<span class=\"thumb_dim\"></span>\\n\\t\\t\\t\\t\\t\\t<span class=\"thumb_bd\"></span>\\n\\t\\t\\t\\t\\t\\t<i class=\"pm_ico_play\"><span class=\"blind\">재생</span></i>\\n\\t\\t\\t\\t\\t\\t<span class=\"theme_runtime\"><span class=\"runtime_bg\">재생시간</span><em class=\"time\"></em></span>\\n\\t\\t\\t\\t\\t</div>\\n\\t\\t\\t\\t\\t<div class=\"media_info\">\\n\\t\\t\\t\\t\\t\\t<div class=\"info_box\">\\n\\t\\t\\t\\t\\t\\t\\t<strong class=\"title\">내가 저축을 하는 이유 Ι 재테크 왜 해야될까??</strong>\\n\\t\\t\\t\\t\\t\\t\\t<div class=\"source_wrap\">\\n\\t\\t\\t\\t\\t\\t\\t\\t<span class=\"date\">20시간 전</span>\\n\\t\\t\\t\\t\\t\\t\\t\\t<span class=\"source\">\\n                                    \\n                                    <span class=\"source_inner\">재무주치의 닥터이재무</span>\\n                                </span>\\n\\t\\t\\t\\t\\t\\t\\t</div>\\n\\t\\t\\t\\t\\t\\t</div>\\n\\t\\t\\t\\t\\t</div>\\n\\t\\t\\t\\t</a>\\n\\t\\t\\t\\n\\t\\t\\t\\t<a href=\"https://tv.naver.com/v/24597893\" class=\"media_area\" data-gdid=\"C3S_RANKING_https://tv.naver.com/v/24597893\" data-clk=\"tcc_fin.video4cont3\" target=\"_blank\">\\n\\t\\t\\t\\t\\t<div class=\"media_thumb\">\\n\\t\\t\\t\\t\\t\\t<img  data-src=\"https://s.pstatic.net/dthumb.phinf/?src&#x3D;%22https%3A%2F%2Fs.pstatic.net%2Ftvcast.phinf%2F20220114_6%2FfvbXF_1642130644049dselX_PNG%2F1642130581703.png%22&amp;type&#x3D;nf464_260\" alt=\"미국주식 하락시 메타버스 대장주 엔비디아를 월급저축으로 모아가세요! 300%이상 가능\" width=\"232\" height=\"130\" onerror=\"this.outerHTML=\\'<span class=\\\\\\'pm_noimg\\\\\\'><span class=\\\\\\'noimg_text\\\\\\'>이미지 준비중</span></span>\\'\">\\n\\t\\t\\t\\t\\t\\t<span class=\"thumb_dim\"></span>\\n\\t\\t\\t\\t\\t\\t<span class=\"thumb_bd\"></span>\\n\\t\\t\\t\\t\\t\\t<i class=\"pm_ico_play\"><span class=\"blind\">재생</span></i>\\n\\t\\t\\t\\t\\t\\t<span class=\"theme_runtime\"><span class=\"runtime_bg\">재생시간</span><em class=\"time\"></em></span>\\n\\t\\t\\t\\t\\t</div>\\n\\t\\t\\t\\t\\t<div class=\"media_info\">\\n\\t\\t\\t\\t\\t\\t<div class=\"info_box\">\\n\\t\\t\\t\\t\\t\\t\\t<strong class=\"title\">미국주식 하락시 메타버스 대장주 엔비디아를 월급저축으로 모아가세요! 300%이상 가능</strong>\\n\\t\\t\\t\\t\\t\\t\\t<div class=\"source_wrap\">\\n\\t\\t\\t\\t\\t\\t\\t\\t<span class=\"date\">4일 전</span>\\n\\t\\t\\t\\t\\t\\t\\t\\t<span class=\"source\">\\n                                    \\n                                    <span class=\"source_inner\">나도 부자재테크변액보험펀드</span>\\n                                </span>\\n\\t\\t\\t\\t\\t\\t\\t</div>\\n\\t\\t\\t\\t\\t\\t</div>\\n\\t\\t\\t\\t\\t</div>\\n\\t\\t\\t\\t</a>\\n\\t\\t\\t\\n\\t\\t</div>\\n\\t</div>\\n</div>\\n<div class=\"group_theme\" data-block-id=\"\" data-block-code=\"PC-THEME-FINANCE-MOBILE-RANKING-DEFAULT-4\" data-block-type=\"MATERIALS\" data-template-code=\"MOBILE-RANKING-LIST\"\\n\\n\\t data-da=\"container\"\\n\\t data-index=\"\"\\n     data-page=\"3\"\\n\\t style=\"display:none\">\\n\\n\\t<div class=\"list_theme_wrap\">\\n\\t\\t<ul class=\"list_theme\">\\n\\t\\t\\t\\n\\t\\t\\t\\t<li class=\"theme_item\" data-gdid=\"C3S_RANKING_https://post.naver.com/viewer/postView.naver?memberNo&#x3D;28198902&amp;volumeNo&#x3D;33138101\" data-da-position=\"true\">\\n\\t\\t\\t\\t\\t<a href=\"https://post.naver.com/viewer/postView.naver?memberNo&#x3D;28198902&amp;volumeNo&#x3D;33138101\" class=\"theme_thumb\" data-clk=\"tcc_fin.list5cont1\" target=\"_blank\">\\n\\t\\t\\t\\t\\t\\t<img  data-src=\"https://s.pstatic.net/dthumb.phinf/?src&#x3D;%22https%3A%2F%2Fs.pstatic.net%2Fpost.phinf%2FMjAyMjAxMTdfMjI2%2FMDAxNjQyMzk4NjgyNDMw.4kGb6r9i5bOJs815S6kq9sZ0P6i7Bu2H9Ti699yUuKUg.FD0pGxG3BdUeseVbOh9aHKLOyPq0oxtHGmtOXOGKGOsg.PNG%2FItnxOXl2PVYIbxUi8oG6vkU0X_ZE.jpg%3Ftype%3Df339_222_q90%22&amp;type&#x3D;nf340_228\" alt=\"상가투자 타이밍은 어떻게 잡을까?\" width=\"170\" height=\"114\" onerror=\"this.outerHTML=\\'<span class=\\\\\\'pm_noimg\\\\\\'><span class=\\\\\\'noimg_text\\\\\\'>이미지 준비중</span></span>\\'\">\\n\\t\\t\\t\\t\\t\\t<span class=\"thumb_bd\"></span>\\n                        \\n\\t\\t\\t\\t\\t</a>\\n\\t\\t\\t\\t\\t<a href=\"https://post.naver.com/viewer/postView.naver?memberNo&#x3D;28198902&amp;volumeNo&#x3D;33138101\" class=\"theme_info\" data-clk=\"tcc_fin.list5cont1\" target=\"_blank\">\\n\\t\\t\\t\\t\\t\\t<em class=\"theme_category\"> 경제M</em>\\n\\t\\t\\t\\t\\t\\t<strong class=\"title elss\">상가투자 타이밍은 어떻게 잡을까?</strong>\\n                        <p class=\"desc\">안녕하세요~ 황금도끼입니다.임인년 새해가 시작됐습니다. 2020~현재까지 코로나19가 장기화 되면서 경기는 좋아질 기미는 보이지 않지만 그래도 새해가 시작된 만큼 신년 계획은 세우셨을 것입니다.저도 매년 계획을 세워놓고 계획대로 이뤄지기를 희망하며 작년보다 더 발전된 한해가 되기를 바라고 있습니다. 상가강의를 하면서 많은 분들에게 투자타이밍을 잘 잡아야한다</p>\\n\\t\\t\\t\\t\\t\\t<div class=\"source_box\">\\n\\t\\t\\t\\t\\t\\t\\t<span class=\"date\">어제</span>\\n\\t\\t\\t\\t\\t\\t\\t<span class=\"source\">\\n                                \\n                                <span class=\"source_inner\">북극성주</span>\\n                            </span>\\n\\t\\t\\t\\t\\t\\t</div>\\n\\t\\t\\t\\t\\t</a>\\n\\t\\t\\t\\t</li>\\n\\t\\t\\t\\n\\t\\t\\t\\t<li class=\"theme_item\" data-gdid=\"C3S_RANKING_https://post.naver.com/viewer/postView.naver?memberNo&#x3D;11166748&amp;volumeNo&#x3D;33123565\" data-da-position=\"true\">\\n\\t\\t\\t\\t\\t<a href=\"https://post.naver.com/viewer/postView.naver?memberNo&#x3D;11166748&amp;volumeNo&#x3D;33123565\" class=\"theme_thumb\" data-clk=\"tcc_fin.list5cont2\" target=\"_blank\">\\n\\t\\t\\t\\t\\t\\t<img  data-src=\"https://s.pstatic.net/dthumb.phinf/?src&#x3D;%22https%3A%2F%2Fs.pstatic.net%2Fpost.phinf%2FMjAyMjAxMTRfMjEz%2FMDAxNjQyMTI1MjI3NTU5.Lz7rWyEWZATS-27UjCpSySh9L_m4tm4LQGD3_h-5KUEg.-AlIxSzkxB7mddEiQckY1eEceMsXmsnGS2TF86cu3D8g.JPEG%2FIcTHKraq05JA3HPtJpmEEwJ7zvcA.jpg%3Ftype%3Df339_222_q90%22&amp;type&#x3D;nf340_228\" alt=\"‘32세 홍길동씨’ 국민연금 한 푼도 못 받는다\" width=\"170\" height=\"114\" onerror=\"this.outerHTML=\\'<span class=\\\\\\'pm_noimg\\\\\\'><span class=\\\\\\'noimg_text\\\\\\'>이미지 준비중</span></span>\\'\">\\n\\t\\t\\t\\t\\t\\t<span class=\"thumb_bd\"></span>\\n                        \\n\\t\\t\\t\\t\\t</a>\\n\\t\\t\\t\\t\\t<a href=\"https://post.naver.com/viewer/postView.naver?memberNo&#x3D;11166748&amp;volumeNo&#x3D;33123565\" class=\"theme_info\" data-clk=\"tcc_fin.list5cont2\" target=\"_blank\">\\n\\t\\t\\t\\t\\t\\t<em class=\"theme_category\"> 경제M</em>\\n\\t\\t\\t\\t\\t\\t<strong class=\"title elss\">‘32세 홍길동씨’ 국민연금 한 푼도 못 받는다</strong>\\n                        <p class=\"desc\">올해 만 32세가 되는 1990년생 홍길동씨. 그는 어쩌면 평생 국민연금 보험료를 내고도 나이 들어서는 한 푼도 받을 수 없을지 모른다. 선진국에 비해 ‘덜 내고 더 빨리 받는’ 형태로 국민연금이 운영되기 때문이다. 한국경제연구원은 현재의 구조를 수술하지 않으면 2055년 연금이 고갈된다고 경고했다. 한국경제연구원은 1월 13일 국회예</p>\\n\\t\\t\\t\\t\\t\\t<div class=\"source_box\">\\n\\t\\t\\t\\t\\t\\t\\t<span class=\"date\">4일 전</span>\\n\\t\\t\\t\\t\\t\\t\\t<span class=\"source\">\\n                                \\n                                <span class=\"source_inner\">중앙시사매거진</span>\\n                            </span>\\n\\t\\t\\t\\t\\t\\t</div>\\n\\t\\t\\t\\t\\t</a>\\n\\t\\t\\t\\t</li>\\n\\t\\t\\t\\n\\t\\t\\t\\t<li class=\"theme_item\" data-gdid=\"C3S_RANKING_https://post.naver.com/viewer/postView.naver?memberNo&#x3D;15470144&amp;volumeNo&#x3D;33139163\" data-da-position=\"true\">\\n\\t\\t\\t\\t\\t<a href=\"https://post.naver.com/viewer/postView.naver?memberNo&#x3D;15470144&amp;volumeNo&#x3D;33139163\" class=\"theme_thumb\" data-clk=\"tcc_fin.list5cont3\" target=\"_blank\">\\n\\t\\t\\t\\t\\t\\t<img  data-src=\"https://s.pstatic.net/dthumb.phinf/?src&#x3D;%22https%3A%2F%2Fs.pstatic.net%2Fpost.phinf%2FMjAyMjAxMTdfMTIy%2FMDAxNjQyNDA2MDkxNDk5._tu9OaUABVlQB1LVdQH3csDHOD_lf4pM_ojnrA4ztNwg.T9fycW1Mf7B5tP9xOlyvkrvi7eTH31BqTb6TmJPiCxQg.JPEG%2FIcPiCabaALijFFHHMxzqzrtG5IFQ.jpg%3Ftype%3Df339_222_q90%22&amp;type&#x3D;nf340_228\" alt=\"HDC현대산업개발 주가, 붕괴 사고 후 27% 하락\" width=\"170\" height=\"114\" onerror=\"this.outerHTML=\\'<span class=\\\\\\'pm_noimg\\\\\\'><span class=\\\\\\'noimg_text\\\\\\'>이미지 준비중</span></span>\\'\">\\n\\t\\t\\t\\t\\t\\t<span class=\"thumb_bd\"></span>\\n                        \\n\\t\\t\\t\\t\\t</a>\\n\\t\\t\\t\\t\\t<a href=\"https://post.naver.com/viewer/postView.naver?memberNo&#x3D;15470144&amp;volumeNo&#x3D;33139163\" class=\"theme_info\" data-clk=\"tcc_fin.list5cont3\" target=\"_blank\">\\n\\t\\t\\t\\t\\t\\t<em class=\"theme_category\"> 경제M</em>\\n\\t\\t\\t\\t\\t\\t<strong class=\"title elss\">HDC현대산업개발 주가, 붕괴 사고 후 27% 하락</strong>\\n                        <p class=\"desc\">광주 서구 화정아이파크 외벽 붕괴 사고가 발생한 후 HDC현대산업개발의 주가가 4거래일째 하락했다.17일 한국거래소에 따르면 HDC현대산업개발은 전일 대비 150원(-0.79%) 내린 1만8750원에 거래를 마쳤다. 주가는 전일대비 500원 하락한 1만8400원으로 출발해 장중 1만7800원까지 하락했다. 이후 오전 10시 정몽규 HDC현대산</p>\\n\\t\\t\\t\\t\\t\\t<div class=\"source_box\">\\n\\t\\t\\t\\t\\t\\t\\t<span class=\"date\">어제</span>\\n\\t\\t\\t\\t\\t\\t\\t<span class=\"source\">\\n                                \\n                                <span class=\"source_inner\">브릿지경제</span>\\n                            </span>\\n\\t\\t\\t\\t\\t\\t</div>\\n\\t\\t\\t\\t\\t</a>\\n\\t\\t\\t\\t</li>\\n\\t\\t\\t\\n\\t\\t\\t\\t<li class=\"theme_item\" data-gdid=\"C3S_RANKING_https://post.naver.com/viewer/postView.naver?memberNo&#x3D;25386652&amp;volumeNo&#x3D;33134165\" data-da-position=\"true\">\\n\\t\\t\\t\\t\\t<a href=\"https://post.naver.com/viewer/postView.naver?memberNo&#x3D;25386652&amp;volumeNo&#x3D;33134165\" class=\"theme_thumb\" data-clk=\"tcc_fin.list5cont4\" target=\"_blank\">\\n\\t\\t\\t\\t\\t\\t<img  data-src=\"https://s.pstatic.net/dthumb.phinf/?src&#x3D;%22https%3A%2F%2Fs.pstatic.net%2Fpost.phinf%2FMjAyMjAxMTZfMTI2%2FMDAxNjQyMzM5ODQ0MDAz.kKWRdRuADskkZoOLawsi4W7kgu9Ahrjevo79oKaKGbYg.7s_IsrFAvXrDlaKwpENu-YqObN-UwxELW51JxolOWk0g.JPEG%2FIjrijqRLsnq90pV2G116SMK9OoRc.jpg%3Ftype%3Df339_222_q90%22&amp;type&#x3D;nf340_228\" alt=\"2021 신도시 집값 상승률 1위! 교통 호재 날개 단 양주의 재발견\" width=\"170\" height=\"114\" onerror=\"this.outerHTML=\\'<span class=\\\\\\'pm_noimg\\\\\\'><span class=\\\\\\'noimg_text\\\\\\'>이미지 준비중</span></span>\\'\">\\n\\t\\t\\t\\t\\t\\t<span class=\"thumb_bd\"></span>\\n                        \\n\\t\\t\\t\\t\\t</a>\\n\\t\\t\\t\\t\\t<a href=\"https://post.naver.com/viewer/postView.naver?memberNo&#x3D;25386652&amp;volumeNo&#x3D;33134165\" class=\"theme_info\" data-clk=\"tcc_fin.list5cont4\" target=\"_blank\">\\n\\t\\t\\t\\t\\t\\t<em class=\"theme_category\"> 경제M</em>\\n\\t\\t\\t\\t\\t\\t<strong class=\"title elss\">2021 신도시 집값 상승률 1위! 교통 호재 날개 단 양주의 재발견</strong>\\n                        <p class=\"desc\">양주신도시, 2021년 1, 2기 신도시 아파트값 통틀어 1위  2021년 한해 동안 1기 신도시와 2기 신도시 아파트값은 어떻게 변했을까요? 그동안 1기 신도시는 서울 강남, 도심 접근성이 좋아 2기 신도시에 비해 높은 집값을 형성해 왔는데요. 최근 도시철도 등 광역 교통망이 갖춰지면서 전에 비해 서울 접근성이 좋아진 2기 신도시 역시 선호도가 높아지고 </p>\\n\\t\\t\\t\\t\\t\\t<div class=\"source_box\">\\n\\t\\t\\t\\t\\t\\t\\t<span class=\"date\">2일 전</span>\\n\\t\\t\\t\\t\\t\\t\\t<span class=\"source\">\\n                                \\n                                <span class=\"source_inner\">RealCast</span>\\n                            </span>\\n\\t\\t\\t\\t\\t\\t</div>\\n\\t\\t\\t\\t\\t</a>\\n\\t\\t\\t\\t</li>\\n\\t\\t\\t\\n\\t\\t\\t\\t<li class=\"theme_item\" data-gdid=\"C3S_RANKING_https://post.naver.com/viewer/postView.naver?memberNo&#x3D;21967255&amp;volumeNo&#x3D;33138568\" data-da-position=\"true\">\\n\\t\\t\\t\\t\\t<a href=\"https://post.naver.com/viewer/postView.naver?memberNo&#x3D;21967255&amp;volumeNo&#x3D;33138568\" class=\"theme_thumb\" data-clk=\"tcc_fin.list5cont5\" target=\"_blank\">\\n\\t\\t\\t\\t\\t\\t<img  data-src=\"https://s.pstatic.net/dthumb.phinf/?src&#x3D;%22https%3A%2F%2Fs.pstatic.net%2Fpost.phinf%2FMjAyMjAxMTdfMjM4%2FMDAxNjQyNDAxNDg0MzUz.S3VH21W4i0nxF4KvFncFPQap9t29mXVfRvVmpMgywh0g.sl8diYZY6895szWzRJLH6BFEUtYL8dVQocb6hN0LyXog.PNG%2FIzqAsk89ACCB4qt_sxnbOx8jl1pA.jpg%3Ftype%3Df339_222_q90%22&amp;type&#x3D;nf340_228\" alt=\"오금2단지 수익률 36%, 오금·항동지구 분양원가 공개\" width=\"170\" height=\"114\" onerror=\"this.outerHTML=\\'<span class=\\\\\\'pm_noimg\\\\\\'><span class=\\\\\\'noimg_text\\\\\\'>이미지 준비중</span></span>\\'\">\\n\\t\\t\\t\\t\\t\\t<span class=\"thumb_bd\"></span>\\n                        \\n\\t\\t\\t\\t\\t</a>\\n\\t\\t\\t\\t\\t<a href=\"https://post.naver.com/viewer/postView.naver?memberNo&#x3D;21967255&amp;volumeNo&#x3D;33138568\" class=\"theme_info\" data-clk=\"tcc_fin.list5cont5\" target=\"_blank\">\\n\\t\\t\\t\\t\\t\\t<em class=\"theme_category\"> 경제M</em>\\n\\t\\t\\t\\t\\t\\t<strong class=\"title elss\">오금2단지 수익률 36%, 오금·항동지구 분양원가 공개</strong>\\n                        <p class=\"desc\">분양원가 공개에 나선 서울시가 오금지구와 항동지구의 수익률을 공개했다. 분양가격이 가장 높았던 오금지구 2단지는 수익률 36%를 넘긴 것으로 나타났다. 서울주택도시공사(SH공사)는 17일 오세훈 서울시장이 신년 업무 보고를 듣기 위해 강남구 SH공사 본사를 방문한 자리에서 분양원가를 추가 공개했다. 이번에 공개한 항목은 택지조성원가 10개 항</p>\\n\\t\\t\\t\\t\\t\\t<div class=\"source_box\">\\n\\t\\t\\t\\t\\t\\t\\t<span class=\"date\">어제</span>\\n\\t\\t\\t\\t\\t\\t\\t<span class=\"source\">\\n                                \\n                                <span class=\"source_inner\">e대한경제</span>\\n                            </span>\\n\\t\\t\\t\\t\\t\\t</div>\\n\\t\\t\\t\\t\\t</a>\\n\\t\\t\\t\\t</li>\\n\\t\\t\\t\\n\\t\\t</ul>\\n\\t</div>\\n</div>\\n<div class=\"group_theme\" data-block-id=\"\" data-block-code=\"PC-THEME-FINANCE-MOBILE-RANKING-VIDEO-4\" data-block-type=\"MATERIALS\" data-template-code=\"MOBILE-RANKING-VIDEO-LIST\"\\n\\n\\t data-index=\"\"\\n\\t data-page=\"3\"\\n\\t style=\"display:none\">\\n\\n\\t<div class=\"media_view_wrap type_column\">\\n\\t\\t<div class=\"media_view\">\\n\\t\\t\\t\\n\\t\\t\\t\\t<a href=\"https://tv.naver.com/v/24642401\" class=\"media_area\" data-gdid=\"C3S_RANKING_https://tv.naver.com/v/24642401\" data-clk=\"tcc_fin.video5cont1\" target=\"_blank\">\\n\\t\\t\\t\\t\\t<div class=\"media_thumb\">\\n\\t\\t\\t\\t\\t\\t<img  data-src=\"https://s.pstatic.net/dthumb.phinf/?src&#x3D;%22https%3A%2F%2Fs.pstatic.net%2Ftvcast.phinf%2F20220117_298%2Foptg1_1642396524646kR89f_PNG%2F1642381503491.png%22&amp;type&#x3D;nf464_260\" alt=\"2022년 부동산 시장, 옥석 가리기 시작됐다\" width=\"232\" height=\"130\" onerror=\"this.outerHTML=\\'<span class=\\\\\\'pm_noimg\\\\\\'><span class=\\\\\\'noimg_text\\\\\\'>이미지 준비중</span></span>\\'\">\\n\\t\\t\\t\\t\\t\\t<span class=\"thumb_dim\"></span>\\n\\t\\t\\t\\t\\t\\t<span class=\"thumb_bd\"></span>\\n\\t\\t\\t\\t\\t\\t<i class=\"pm_ico_play\"><span class=\"blind\">재생</span></i>\\n\\t\\t\\t\\t\\t\\t<span class=\"theme_runtime\"><span class=\"runtime_bg\">재생시간</span><em class=\"time\"></em></span>\\n\\t\\t\\t\\t\\t</div>\\n\\t\\t\\t\\t\\t<div class=\"media_info\">\\n\\t\\t\\t\\t\\t\\t<div class=\"info_box\">\\n\\t\\t\\t\\t\\t\\t\\t<strong class=\"title\">2022년 부동산 시장, 옥석 가리기 시작됐다</strong>\\n\\t\\t\\t\\t\\t\\t\\t<div class=\"source_wrap\">\\n\\t\\t\\t\\t\\t\\t\\t\\t<span class=\"date\">어제</span>\\n\\t\\t\\t\\t\\t\\t\\t\\t<span class=\"source\">\\n                                    \\n                                    <span class=\"source_inner\">부동산매거진</span>\\n                                </span>\\n\\t\\t\\t\\t\\t\\t\\t</div>\\n\\t\\t\\t\\t\\t\\t</div>\\n\\t\\t\\t\\t\\t</div>\\n\\t\\t\\t\\t</a>\\n\\t\\t\\t\\n\\t\\t\\t\\t<a href=\"https://tv.naver.com/v/3222033\" class=\"media_area\" data-gdid=\"C3S_RANKING_https://tv.naver.com/v/3222033\" data-clk=\"tcc_fin.video5cont2\" target=\"_blank\">\\n\\t\\t\\t\\t\\t<div class=\"media_thumb\">\\n\\t\\t\\t\\t\\t\\t<img  data-src=\"https://s.pstatic.net/dthumb.phinf/?src&#x3D;%22https%3A%2F%2Fs.pstatic.net%2Ftvcast.phinf%2F20180515_38%2F39q4V_15263842064924Kie4_PNG%2F1526382755875.png%22&amp;type&#x3D;nf464_260\" alt=\"부가세란 / 부가가치세, 과세대상 - 일반과세자, 면세사업자 / 개인사업자 / 법인사업자\" width=\"232\" height=\"130\" onerror=\"this.outerHTML=\\'<span class=\\\\\\'pm_noimg\\\\\\'><span class=\\\\\\'noimg_text\\\\\\'>이미지 준비중</span></span>\\'\">\\n\\t\\t\\t\\t\\t\\t<span class=\"thumb_dim\"></span>\\n\\t\\t\\t\\t\\t\\t<span class=\"thumb_bd\"></span>\\n\\t\\t\\t\\t\\t\\t<i class=\"pm_ico_play\"><span class=\"blind\">재생</span></i>\\n\\t\\t\\t\\t\\t\\t<span class=\"theme_runtime\"><span class=\"runtime_bg\">재생시간</span><em class=\"time\"></em></span>\\n\\t\\t\\t\\t\\t</div>\\n\\t\\t\\t\\t\\t<div class=\"media_info\">\\n\\t\\t\\t\\t\\t\\t<div class=\"info_box\">\\n\\t\\t\\t\\t\\t\\t\\t<strong class=\"title\">부가세란 / 부가가치세, 과세대상 - 일반과세자, 면세사업자 / 개인사업자 / 법인사업자</strong>\\n\\t\\t\\t\\t\\t\\t\\t<div class=\"source_wrap\">\\n\\t\\t\\t\\t\\t\\t\\t\\t<span class=\"date\">3년 전</span>\\n\\t\\t\\t\\t\\t\\t\\t\\t<span class=\"source\">\\n                                    \\n                                    <span class=\"source_inner\">자영업의 모든것</span>\\n                                </span>\\n\\t\\t\\t\\t\\t\\t\\t</div>\\n\\t\\t\\t\\t\\t\\t</div>\\n\\t\\t\\t\\t\\t</div>\\n\\t\\t\\t\\t</a>\\n\\t\\t\\t\\n\\t\\t\\t\\t<a href=\"https://tv.naver.com/v/3231063\" class=\"media_area\" data-gdid=\"C3S_RANKING_https://tv.naver.com/v/3231063\" data-clk=\"tcc_fin.video5cont3\" target=\"_blank\">\\n\\t\\t\\t\\t\\t<div class=\"media_thumb\">\\n\\t\\t\\t\\t\\t\\t<img  data-src=\"https://s.pstatic.net/dthumb.phinf/?src&#x3D;%22https%3A%2F%2Fs.pstatic.net%2Ftvcast.phinf%2F20180517_91%2FGt9RC_1526504767723uJFFQ_JPEG%2F1526504698873.jpg%22&amp;type&#x3D;nf464_260\" alt=\"부가가치세의 이해 - 부가가치세율, 산출방법, 부가세 절세방법 세가지\" width=\"232\" height=\"130\" onerror=\"this.outerHTML=\\'<span class=\\\\\\'pm_noimg\\\\\\'><span class=\\\\\\'noimg_text\\\\\\'>이미지 준비중</span></span>\\'\">\\n\\t\\t\\t\\t\\t\\t<span class=\"thumb_dim\"></span>\\n\\t\\t\\t\\t\\t\\t<span class=\"thumb_bd\"></span>\\n\\t\\t\\t\\t\\t\\t<i class=\"pm_ico_play\"><span class=\"blind\">재생</span></i>\\n\\t\\t\\t\\t\\t\\t<span class=\"theme_runtime\"><span class=\"runtime_bg\">재생시간</span><em class=\"time\"></em></span>\\n\\t\\t\\t\\t\\t</div>\\n\\t\\t\\t\\t\\t<div class=\"media_info\">\\n\\t\\t\\t\\t\\t\\t<div class=\"info_box\">\\n\\t\\t\\t\\t\\t\\t\\t<strong class=\"title\">부가가치세의 이해 - 부가가치세율, 산출방법, 부가세 절세방법 세가지</strong>\\n\\t\\t\\t\\t\\t\\t\\t<div class=\"source_wrap\">\\n\\t\\t\\t\\t\\t\\t\\t\\t<span class=\"date\">3년 전</span>\\n\\t\\t\\t\\t\\t\\t\\t\\t<span class=\"source\">\\n                                    \\n                                    <span class=\"source_inner\">자영업의 모든것</span>\\n                                </span>\\n\\t\\t\\t\\t\\t\\t\\t</div>\\n\\t\\t\\t\\t\\t\\t</div>\\n\\t\\t\\t\\t\\t</div>\\n\\t\\t\\t\\t</a>\\n\\t\\t\\t\\n\\t\\t</div>\\n\\t</div>\\n</div>\\n<div class=\"group_theme\" data-block-id=\"\" data-block-code=\"PC-THEME-FINANCE-MOBILE-RANKING-DEFAULT-5\" data-block-type=\"MATERIALS\" data-template-code=\"MOBILE-RANKING-LIST\"\\n\\n\\t data-da=\"container\"\\n\\t data-index=\"\"\\n     data-page=\"3\"\\n\\t style=\"display:none\">\\n\\n\\t<div class=\"list_theme_wrap\">\\n\\t\\t<ul class=\"list_theme\">\\n\\t\\t\\t\\n\\t\\t\\t\\t<li class=\"theme_item\" data-gdid=\"C3S_RANKING_https://post.naver.com/viewer/postView.naver?memberNo&#x3D;16296850&amp;volumeNo&#x3D;33126923\" data-da-position=\"true\">\\n\\t\\t\\t\\t\\t<a href=\"https://post.naver.com/viewer/postView.naver?memberNo&#x3D;16296850&amp;volumeNo&#x3D;33126923\" class=\"theme_thumb\" data-clk=\"tcc_fin.list6cont1\" target=\"_blank\">\\n\\t\\t\\t\\t\\t\\t<img  data-src=\"https://s.pstatic.net/dthumb.phinf/?src&#x3D;%22https%3A%2F%2Fs.pstatic.net%2Fpost.phinf%2FMjAyMjAxMTRfNTUg%2FMDAxNjQyMTUwNTU0NDEy.qKZY3uwm0JzeMsBDpFXuIt3c83-JPC3ERj8JWa2OEXcg.2m2gcBbgwzZeyVoYuVWiR7U5dbQig-OYf1qHSsbSXOEg.PNG%2FI2RSZRYOJoipDFJBb0sb2UHSUgYI.jpg%3Ftype%3Df339_222_q90%22&amp;type&#x3D;nf340_228\" alt=\"부동산 증여가 줄고 있다?\" width=\"170\" height=\"114\" onerror=\"this.outerHTML=\\'<span class=\\\\\\'pm_noimg\\\\\\'><span class=\\\\\\'noimg_text\\\\\\'>이미지 준비중</span></span>\\'\">\\n\\t\\t\\t\\t\\t\\t<span class=\"thumb_bd\"></span>\\n                        \\n\\t\\t\\t\\t\\t</a>\\n\\t\\t\\t\\t\\t<a href=\"https://post.naver.com/viewer/postView.naver?memberNo&#x3D;16296850&amp;volumeNo&#x3D;33126923\" class=\"theme_info\" data-clk=\"tcc_fin.list6cont1\" target=\"_blank\">\\n\\t\\t\\t\\t\\t\\t<em class=\"theme_category\"> 경제M</em>\\n\\t\\t\\t\\t\\t\\t<strong class=\"title elss\">부동산 증여가 줄고 있다?</strong>\\n                        <p class=\"desc\">다주택자들의 세금 부담이 커지는 상황에서 부동산 증여가 2020년 큰 폭으로 늘어났다. 증여가 절세와 부의 이전 수단으로 이용되면서 최근 증여 움직임에 대한 관심이 커진 상황이다. 직방은 2021년 지역과 연령별 부동산 수증자의 움직임을 분석해 봤다. 2021년 하반기 전국 부동산 수증인은 총 14만3,954명으로 2014년 상반기 13만7,240명 이후 </p>\\n\\t\\t\\t\\t\\t\\t<div class=\"source_box\">\\n\\t\\t\\t\\t\\t\\t\\t<span class=\"date\">2일 전</span>\\n\\t\\t\\t\\t\\t\\t\\t<span class=\"source\">\\n                                \\n                                <span class=\"source_inner\">직방</span>\\n                            </span>\\n\\t\\t\\t\\t\\t\\t</div>\\n\\t\\t\\t\\t\\t</a>\\n\\t\\t\\t\\t</li>\\n\\t\\t\\t\\n\\t\\t\\t\\t<li class=\"theme_item\" data-gdid=\"C3S_RANKING_https://post.naver.com/viewer/postView.naver?volumeNo&#x3D;33009870&amp;memberNo&#x3D;37570062&amp;vType&#x3D;VERTICAL\" data-da-position=\"true\">\\n\\t\\t\\t\\t\\t<a href=\"https://post.naver.com/viewer/postView.naver?volumeNo&#x3D;33009870&amp;memberNo&#x3D;37570062&amp;vType&#x3D;VERTICAL\" class=\"theme_thumb\" data-clk=\"tcc_fin.list6cont2\" target=\"_blank\">\\n\\t\\t\\t\\t\\t\\t<img  data-src=\"https://s.pstatic.net/dthumb.phinf/?src&#x3D;%22https%3A%2F%2Fs.pstatic.net%2Fpost.phinf%2FMjAyMTEyMjVfNTYg%2FMDAxNjQwNDIyMTQ1NTc1.nfpfK66UF7EmxW1f5Js_3wARtWHokbnVpnXdAQWSuZwg.MfzuqnUS5PLpZiQcXBxkUI0K_DHEWwCI6vCpa6ka66kg.JPEG%2FIWzzqbrckecHVf6Pfewuac5f8NMM.jpg%22&amp;type&#x3D;nf340_228\" alt=\"&quot;셀트리온 물타기하다 어느덧 8000만원…하루하루가 지옥&quot;\" width=\"170\" height=\"114\" onerror=\"this.outerHTML=\\'<span class=\\\\\\'pm_noimg\\\\\\'><span class=\\\\\\'noimg_text\\\\\\'>이미지 준비중</span></span>\\'\">\\n\\t\\t\\t\\t\\t\\t<span class=\"thumb_bd\"></span>\\n                        \\n\\t\\t\\t\\t\\t</a>\\n\\t\\t\\t\\t\\t<a href=\"https://post.naver.com/viewer/postView.naver?volumeNo&#x3D;33009870&amp;memberNo&#x3D;37570062&amp;vType&#x3D;VERTICAL\" class=\"theme_info\" data-clk=\"tcc_fin.list6cont2\" target=\"_blank\">\\n\\t\\t\\t\\t\\t\\t<em class=\"theme_category\"> 경제M</em>\\n\\t\\t\\t\\t\\t\\t<strong class=\"title elss\">\"셀트리온 물타기하다 어느덧 8000만원…하루하루가 지옥\"</strong>\\n                        <p class=\"desc\">셀트리온 주주들이 15일 셀트리온 본사 앞에서 집회를 열고 있다. 사진&#x3D;뉴스1 셀트리온 주가가 반토막 나자 주주들은 전방위적인 투쟁을 벌이고 있습니다. 셀트리온 같은 ‘글로벌 우량 기업’의 주가가 이렇게 빠지는 것이 정상이 아니라는 판단 때문입니다. 하지만 전문가들은 원인이 확실하다고 말합니다. 그들은 2019년 삼성바이오로직스를 떠올리고 있습니다.</p>\\n\\t\\t\\t\\t\\t\\t<div class=\"source_box\">\\n\\t\\t\\t\\t\\t\\t\\t<span class=\"date\">3주일 전</span>\\n\\t\\t\\t\\t\\t\\t\\t<span class=\"source\">\\n                                \\n                                <span class=\"source_inner\">한국경제</span>\\n                            </span>\\n\\t\\t\\t\\t\\t\\t</div>\\n\\t\\t\\t\\t\\t</a>\\n\\t\\t\\t\\t</li>\\n\\t\\t\\t\\n\\t\\t\\t\\t<li class=\"theme_item\" data-gdid=\"C3S_RANKING_https://post.naver.com/viewer/postView.naver?memberNo&#x3D;11466887&amp;volumeNo&#x3D;33137929\" data-da-position=\"true\">\\n\\t\\t\\t\\t\\t<a href=\"https://post.naver.com/viewer/postView.naver?memberNo&#x3D;11466887&amp;volumeNo&#x3D;33137929\" class=\"theme_thumb\" data-clk=\"tcc_fin.list6cont3\" target=\"_blank\">\\n\\t\\t\\t\\t\\t\\t<img  data-src=\"https://s.pstatic.net/dthumb.phinf/?src&#x3D;%22https%3A%2F%2Fs.pstatic.net%2Fpost.phinf%2FMjAyMjAxMTdfMjY4%2FMDAxNjQyMzk3Nzg2NDIw.k9XAZe7Tgfb1gFOxZkB8suB-X1c2UMROxsZNDOUQk5wg.tn-3m3kfHdBEXMyvvmLfPlKfWcXHCyI9maNbZ9goBbog.JPEG%2FIzw28w_bVXp4Kc1r6Su7cazLOWG8.jpg%3Ftype%3Df339_222_q90%22&amp;type&#x3D;nf340_228\" alt=\"대선 공약? 서울시장 공약?…李·尹 모두 서울에만 수십조 인프라 투자\" width=\"170\" height=\"114\" onerror=\"this.outerHTML=\\'<span class=\\\\\\'pm_noimg\\\\\\'><span class=\\\\\\'noimg_text\\\\\\'>이미지 준비중</span></span>\\'\">\\n\\t\\t\\t\\t\\t\\t<span class=\"thumb_bd\"></span>\\n                        \\n\\t\\t\\t\\t\\t</a>\\n\\t\\t\\t\\t\\t<a href=\"https://post.naver.com/viewer/postView.naver?memberNo&#x3D;11466887&amp;volumeNo&#x3D;33137929\" class=\"theme_info\" data-clk=\"tcc_fin.list6cont3\" target=\"_blank\">\\n\\t\\t\\t\\t\\t\\t<em class=\"theme_category\"> 경제M</em>\\n\\t\\t\\t\\t\\t\\t<strong class=\"title elss\">대선 공약? 서울시장 공약?…李·尹 모두 서울에만 수십조 인프라 투자</strong>\\n                        <p class=\"desc\">막대한 비용 소요·지방 격차 등 임기 내 어렵고 포퓰리즘 지적 여야 대선 후보들이 지상철도·고속도로 지하화 등 서울에만 수십조원에 달하는 파격적 인프라 투자계획을 내놓고 있다. 하지만 일각에서는 이에 대해 막대한 비용이 소요되는 반면, 임기 내 끝내기 어렵고 서울과 지방 격차를 더욱 확대시키는 등 실현 가능성이 희박한 포퓰리즘 공약에 불과하다는 지적이 나온</p>\\n\\t\\t\\t\\t\\t\\t<div class=\"source_box\">\\n\\t\\t\\t\\t\\t\\t\\t<span class=\"date\">어제</span>\\n\\t\\t\\t\\t\\t\\t\\t<span class=\"source\">\\n                                \\n                                <span class=\"source_inner\">아시아경제</span>\\n                            </span>\\n\\t\\t\\t\\t\\t\\t</div>\\n\\t\\t\\t\\t\\t</a>\\n\\t\\t\\t\\t</li>\\n\\t\\t\\t\\n\\t\\t\\t\\t<li class=\"theme_item\" data-gdid=\"C3S_RANKING_http://blog.naver.com/cyfrontier/222611062956\" data-da-position=\"true\">\\n\\t\\t\\t\\t\\t<a href=\"http://blog.naver.com/cyfrontier/222611062956\" class=\"theme_thumb\" data-clk=\"tcc_fin.list6cont4\" target=\"_blank\">\\n\\t\\t\\t\\t\\t\\t<img  data-src=\"https://s.pstatic.net/dthumb.phinf/?src&#x3D;%22http%3A%2F%2Fblogfiles.naver.net%2FMjAyMjAxMDJfMTE0%2FMDAxNjQxMDg2MzMzNzYy.86q1phDMlNupS7bs13NsMDFpJcEobtdivhXgkOyRtAUg.akB5NRCVMbh2gk_9a33kY-D6F34zhHUCA5nwtgmaPQkg.JPEG.cyfrontier%2F%EC%A0%9C%EB%AA%A9_%EC%97%86%EC%9D%8C.jpg%22&amp;type&#x3D;nf340_228\" alt=\"&lt;서평&gt;&#x27;당신만 몰랐던 부동산 투자&#x27;\" width=\"170\" height=\"114\" onerror=\"this.outerHTML=\\'<span class=\\\\\\'pm_noimg\\\\\\'><span class=\\\\\\'noimg_text\\\\\\'>이미지 준비중</span></span>\\'\">\\n\\t\\t\\t\\t\\t\\t<span class=\"thumb_bd\"></span>\\n                        \\n\\t\\t\\t\\t\\t</a>\\n\\t\\t\\t\\t\\t<a href=\"http://blog.naver.com/cyfrontier/222611062956\" class=\"theme_info\" data-clk=\"tcc_fin.list6cont4\" target=\"_blank\">\\n\\t\\t\\t\\t\\t\\t<em class=\"theme_category\"> 경제M</em>\\n\\t\\t\\t\\t\\t\\t<strong class=\"title elss\"><서평>\\'당신만 몰랐던 부동산 투자\\'</strong>\\n                        <p class=\"desc\">위기에 가려진 기회를 발견하라! 부동산 고수의 단기 투자 비법 이 책의 Keyword : 단기 투자, 갭 투자, 썩빌, 오피스텔, 지식산업센터, 꼬마빌딩, 토지 Before 이 책을 읽게 된 동기는 공동 저자 중에 낯선 이름이 있었기 때문이다. 더군다나 &#x27;임장의 신&#x27;이라고 하니 생생한 현장의 모습을 책을 통해 간접 경험할 수 있겠다 싶은 기대감이 생긴다. </p>\\n\\t\\t\\t\\t\\t\\t<div class=\"source_box\">\\n\\t\\t\\t\\t\\t\\t\\t<span class=\"date\">2주일 전</span>\\n\\t\\t\\t\\t\\t\\t\\t<span class=\"source\">\\n                                \\n                                <span class=\"source_inner\">한결</span>\\n                            </span>\\n\\t\\t\\t\\t\\t\\t</div>\\n\\t\\t\\t\\t\\t</a>\\n\\t\\t\\t\\t</li>\\n\\t\\t\\t\\n\\t\\t\\t\\t<li class=\"theme_item\" data-gdid=\"C3S_RANKING_https://blog.naver.com/businessinsight/222618903332\" data-da-position=\"true\">\\n\\t\\t\\t\\t\\t<a href=\"https://blog.naver.com/businessinsight/222618903332\" class=\"theme_thumb\" data-clk=\"tcc_fin.list6cont5\" target=\"_blank\">\\n\\t\\t\\t\\t\\t\\t<img  data-src=\"https://s.pstatic.net/dthumb.phinf/?src&#x3D;%22https%3A%2F%2Fs.pstatic.net%2Fstatic%2Fwww%2Fmobile%2Fedit%2F20220113_1095%2Fupload_1642066251033RfIE9.jpg%22&amp;type&#x3D;nf340_228\" alt=\"구성원들의 입을 여는 &#x27;심리적 안전감&#x27; 구축 방법\" width=\"170\" height=\"114\" onerror=\"this.outerHTML=\\'<span class=\\\\\\'pm_noimg\\\\\\'><span class=\\\\\\'noimg_text\\\\\\'>이미지 준비중</span></span>\\'\">\\n\\t\\t\\t\\t\\t\\t<span class=\"thumb_bd\"></span>\\n                        \\n\\t\\t\\t\\t\\t</a>\\n\\t\\t\\t\\t\\t<a href=\"https://blog.naver.com/businessinsight/222618903332\" class=\"theme_info\" data-clk=\"tcc_fin.list6cont5\" target=\"_blank\">\\n\\t\\t\\t\\t\\t\\t<em class=\"theme_category\"> 경제M</em>\\n\\t\\t\\t\\t\\t\\t<strong class=\"title elss\">구성원들의 입을 여는 \\'심리적 안전감\\' 구축 방법</strong>\\n                        <p class=\"desc\">예측 가능성이 낮아진 VUCA 시대*에 조직이 생존하기 위해선 구성원들의 혁신을 위한 협력이 필요하다. 혁신은 그냥 일어나지 않는다. 구성원들이 신념을 가지고 자신의 아이디어를 펼칠 수 있도록 토대가 마련되어 있어야 한다. &#x27;심리적 안전감&#x27;이 구축된 조직에선 자유로운 의견 교환이 이뤄지지만, 그렇지 않은 곳에선 조직이 잘못된 방향으로 흘러가도 모두가 ...</p>\\n\\t\\t\\t\\t\\t\\t<div class=\"source_box\">\\n\\t\\t\\t\\t\\t\\t\\t<span class=\"date\">1주일 전</span>\\n\\t\\t\\t\\t\\t\\t\\t<span class=\"source\">\\n                                \\n                                <span class=\"source_inner\">인터비즈</span>\\n                            </span>\\n\\t\\t\\t\\t\\t\\t</div>\\n\\t\\t\\t\\t\\t</a>\\n\\t\\t\\t\\t</li>\\n\\t\\t\\t\\n\\t\\t</ul>\\n\\t</div>\\n</div>\\n<div class=\"group_theme\" data-block-id=\"\" data-block-code=\"PC-THEME-FINANCE-MOBILE-RANKING-VIDEO-5\" data-block-type=\"MATERIALS\" data-template-code=\"MOBILE-RANKING-VIDEO-LIST\"\\n\\n\\t data-index=\"\"\\n\\t data-page=\"3\"\\n\\t style=\"display:none\">\\n\\n\\t<div class=\"media_view_wrap type_column\">\\n\\t\\t<div class=\"media_view\">\\n\\t\\t\\t\\n\\t\\t\\t\\t<a href=\"https://tv.naver.com/v/8621843\" class=\"media_area\" data-gdid=\"C3S_RANKING_https://tv.naver.com/v/8621843\" data-clk=\"tcc_fin.video6cont1\" target=\"_blank\">\\n\\t\\t\\t\\t\\t<div class=\"media_thumb\">\\n\\t\\t\\t\\t\\t\\t<img  data-src=\"https://s.pstatic.net/dthumb.phinf/?src&#x3D;%22https%3A%2F%2Fs.pstatic.net%2Ftvcast.phinf%2F20190603_213%2FseTbZ_1559564135648ERPFA_JPEG%2Fe75d367b-85f8-11e9-a3d6-000000004708_03.jpg%22&amp;type&#x3D;nf464_260\" alt=\"성공의 정석 꾼 (가구스타)\" width=\"232\" height=\"130\" onerror=\"this.outerHTML=\\'<span class=\\\\\\'pm_noimg\\\\\\'><span class=\\\\\\'noimg_text\\\\\\'>이미지 준비중</span></span>\\'\">\\n\\t\\t\\t\\t\\t\\t<span class=\"thumb_dim\"></span>\\n\\t\\t\\t\\t\\t\\t<span class=\"thumb_bd\"></span>\\n\\t\\t\\t\\t\\t\\t<i class=\"pm_ico_play\"><span class=\"blind\">재생</span></i>\\n\\t\\t\\t\\t\\t\\t<span class=\"theme_runtime\"><span class=\"runtime_bg\">재생시간</span><em class=\"time\"></em></span>\\n\\t\\t\\t\\t\\t</div>\\n\\t\\t\\t\\t\\t<div class=\"media_info\">\\n\\t\\t\\t\\t\\t\\t<div class=\"info_box\">\\n\\t\\t\\t\\t\\t\\t\\t<strong class=\"title\">성공의 정석 꾼 (가구스타)</strong>\\n\\t\\t\\t\\t\\t\\t\\t<div class=\"source_wrap\">\\n\\t\\t\\t\\t\\t\\t\\t\\t<span class=\"date\">2년 전</span>\\n\\t\\t\\t\\t\\t\\t\\t\\t<span class=\"source\">\\n                                    \\n                                    <span class=\"source_inner\">SBS Biz 성공의 정석 꾼</span>\\n                                </span>\\n\\t\\t\\t\\t\\t\\t\\t</div>\\n\\t\\t\\t\\t\\t\\t</div>\\n\\t\\t\\t\\t\\t</div>\\n\\t\\t\\t\\t</a>\\n\\t\\t\\t\\n\\t\\t\\t\\t<a href=\"https://tv.naver.com/v/24577309\" class=\"media_area\" data-gdid=\"C3S_RANKING_https://tv.naver.com/v/24577309\" data-clk=\"tcc_fin.video6cont2\" target=\"_blank\">\\n\\t\\t\\t\\t\\t<div class=\"media_thumb\">\\n\\t\\t\\t\\t\\t\\t<img  data-src=\"https://s.pstatic.net/dthumb.phinf/?src&#x3D;%22https%3A%2F%2Fs.pstatic.net%2Ftvcast.phinf%2F20220113_228%2FgZ0vu_164204122696512Hdy_PNG%2F1642040770832.png%22&amp;type&#x3D;nf464_260\" alt=\"[백브리핑AI] 무섭게 치솟던 NFT·메타버스株…대세라더니, ‘반토막’ 났다\" width=\"232\" height=\"130\" onerror=\"this.outerHTML=\\'<span class=\\\\\\'pm_noimg\\\\\\'><span class=\\\\\\'noimg_text\\\\\\'>이미지 준비중</span></span>\\'\">\\n\\t\\t\\t\\t\\t\\t<span class=\"thumb_dim\"></span>\\n\\t\\t\\t\\t\\t\\t<span class=\"thumb_bd\"></span>\\n\\t\\t\\t\\t\\t\\t<i class=\"pm_ico_play\"><span class=\"blind\">재생</span></i>\\n\\t\\t\\t\\t\\t\\t<span class=\"theme_runtime\"><span class=\"runtime_bg\">재생시간</span><em class=\"time\"></em></span>\\n\\t\\t\\t\\t\\t</div>\\n\\t\\t\\t\\t\\t<div class=\"media_info\">\\n\\t\\t\\t\\t\\t\\t<div class=\"info_box\">\\n\\t\\t\\t\\t\\t\\t\\t<strong class=\"title\">[백브리핑AI] 무섭게 치솟던 NFT·메타버스株…대세라더니, ‘반토막’ 났다</strong>\\n\\t\\t\\t\\t\\t\\t\\t<div class=\"source_wrap\">\\n\\t\\t\\t\\t\\t\\t\\t\\t<span class=\"date\">5일 전</span>\\n\\t\\t\\t\\t\\t\\t\\t\\t<span class=\"source\">\\n                                    \\n                                    <span class=\"source_inner\">인포스탁데일리TV</span>\\n                                </span>\\n\\t\\t\\t\\t\\t\\t\\t</div>\\n\\t\\t\\t\\t\\t\\t</div>\\n\\t\\t\\t\\t\\t</div>\\n\\t\\t\\t\\t</a>\\n\\t\\t\\t\\n\\t\\t\\t\\t<a href=\"https://tv.naver.com/v/22934056\" class=\"media_area\" data-gdid=\"C3S_RANKING_https://tv.naver.com/v/22934056\" data-clk=\"tcc_fin.video6cont3\" target=\"_blank\">\\n\\t\\t\\t\\t\\t<div class=\"media_thumb\">\\n\\t\\t\\t\\t\\t\\t<img  data-src=\"https://s.pstatic.net/dthumb.phinf/?src&#x3D;%22https%3A%2F%2Fs.pstatic.net%2Ftvcast.phinf%2F20211013_90%2FQXXTb_1634103467163QBpTA_JPEG%2F1634103360240.jpg%22&amp;type&#x3D;nf464_260\" alt=\"나에게 딱 맞는 투룸 직방에서 확인하기!\" width=\"232\" height=\"130\" onerror=\"this.outerHTML=\\'<span class=\\\\\\'pm_noimg\\\\\\'><span class=\\\\\\'noimg_text\\\\\\'>이미지 준비중</span></span>\\'\">\\n\\t\\t\\t\\t\\t\\t<span class=\"thumb_dim\"></span>\\n\\t\\t\\t\\t\\t\\t<span class=\"thumb_bd\"></span>\\n\\t\\t\\t\\t\\t\\t<i class=\"pm_ico_play\"><span class=\"blind\">재생</span></i>\\n\\t\\t\\t\\t\\t\\t<span class=\"theme_runtime\"><span class=\"runtime_bg\">재생시간</span><em class=\"time\"></em></span>\\n\\t\\t\\t\\t\\t</div>\\n\\t\\t\\t\\t\\t<div class=\"media_info\">\\n\\t\\t\\t\\t\\t\\t<div class=\"info_box\">\\n\\t\\t\\t\\t\\t\\t\\t<strong class=\"title\">나에게 딱 맞는 투룸 직방에서 확인하기!</strong>\\n\\t\\t\\t\\t\\t\\t\\t<div class=\"source_wrap\">\\n\\t\\t\\t\\t\\t\\t\\t\\t<span class=\"date\">3개월 전</span>\\n\\t\\t\\t\\t\\t\\t\\t\\t<span class=\"source\">\\n                                    \\n                                    <span class=\"source_inner\">직방</span>\\n                                </span>\\n\\t\\t\\t\\t\\t\\t\\t</div>\\n\\t\\t\\t\\t\\t\\t</div>\\n\\t\\t\\t\\t\\t</div>\\n\\t\\t\\t\\t</a>\\n\\t\\t\\t\\n\\t\\t</div>\\n\\t</div>\\n</div>\\n<div class=\"group_theme\" data-block-id=\"\" data-block-code=\"PC-THEME-FINANCE-MOBILE-RANKING-DEFAULT-6\" data-block-type=\"MATERIALS\" data-template-code=\"MOBILE-RANKING-LIST\"\\n\\n\\t data-da=\"container\"\\n\\t data-index=\"\"\\n     data-page=\"4\"\\n\\t style=\"display:none\">\\n\\n\\t<div class=\"list_theme_wrap\">\\n\\t\\t<ul class=\"list_theme\">\\n\\t\\t\\t\\n\\t\\t\\t\\t<li class=\"theme_item\" data-gdid=\"C3S_RANKING_https://post.naver.com/viewer/postView.naver?memberNo&#x3D;11567548&amp;volumeNo&#x3D;33116626\" data-da-position=\"true\">\\n\\t\\t\\t\\t\\t<a href=\"https://post.naver.com/viewer/postView.naver?memberNo&#x3D;11567548&amp;volumeNo&#x3D;33116626\" class=\"theme_thumb\" data-clk=\"tcc_fin.list7cont1\" target=\"_blank\">\\n\\t\\t\\t\\t\\t\\t<img  data-src=\"https://s.pstatic.net/dthumb.phinf/?src&#x3D;%22https%3A%2F%2Fs.pstatic.net%2Fpost.phinf%2FMjAyMjAxMTNfMjQ1%2FMDAxNjQyMDQwODIxMzg3.pfKcnD2XlGoa_wTYQl2iFg882jUBV-kjDIOTZxBt82Qg.3orbR9lhmSfS9V-skjXtI16ZAVnxJ0UjUimEqjXZlGog.JPEG%2FIQ1UZhqvXVV-XH7GBo0uLbNPBF3Q.jpg%3Ftype%3Df339_222_q90%22&amp;type&#x3D;nf340_228\" alt=\"스타벅스, 이마트보다 돈 잘버는데..정용진 한마디에 &#x27;조마조마&#x27;\" width=\"170\" height=\"114\" onerror=\"this.outerHTML=\\'<span class=\\\\\\'pm_noimg\\\\\\'><span class=\\\\\\'noimg_text\\\\\\'>이미지 준비중</span></span>\\'\">\\n\\t\\t\\t\\t\\t\\t<span class=\"thumb_bd\"></span>\\n                        \\n\\t\\t\\t\\t\\t</a>\\n\\t\\t\\t\\t\\t<a href=\"https://post.naver.com/viewer/postView.naver?memberNo&#x3D;11567548&amp;volumeNo&#x3D;33116626\" class=\"theme_info\" data-clk=\"tcc_fin.list7cont1\" target=\"_blank\">\\n\\t\\t\\t\\t\\t\\t<em class=\"theme_category\"> 경제M</em>\\n\\t\\t\\t\\t\\t\\t<strong class=\"title elss\">스타벅스, 이마트보다 돈 잘버는데..정용진 한마디에 \\'조마조마\\'</strong>\\n                        <p class=\"desc\">© News1 이마트와 스타벅스(SCK컴퍼니)가 정용진 신세계 부회장의 말 한마디에 냉탕과 온탕을 오가고 있다. 신세계그룹 불매 운동 타깃이 스타벅스로 향하면서 부정적인 영향을 우려하는 목소리가 커지고 있다. 일단 정 부회장이 직접 사태 수습에 나서면서 안도의 한숨을 내쉬고 있지만 불안한 표정은 여전하다. 스타벅스는 이마트의 실적을 좌우할 정도로 차지하는 </p>\\n\\t\\t\\t\\t\\t\\t<div class=\"source_box\">\\n\\t\\t\\t\\t\\t\\t\\t<span class=\"date\">5일 전</span>\\n\\t\\t\\t\\t\\t\\t\\t<span class=\"source\">\\n                                \\n                                <span class=\"source_inner\">뉴스1</span>\\n                            </span>\\n\\t\\t\\t\\t\\t\\t</div>\\n\\t\\t\\t\\t\\t</a>\\n\\t\\t\\t\\t</li>\\n\\t\\t\\t\\n\\t\\t\\t\\t<li class=\"theme_item\" data-gdid=\"C3S_RANKING_https://post.naver.com/viewer/postView.naver?volumeNo&#x3D;32985982&amp;memberNo&#x3D;30808112&amp;vType&#x3D;VERTICAL\" data-da-position=\"true\">\\n\\t\\t\\t\\t\\t<a href=\"https://post.naver.com/viewer/postView.naver?volumeNo&#x3D;32985982&amp;memberNo&#x3D;30808112&amp;vType&#x3D;VERTICAL\" class=\"theme_thumb\" data-clk=\"tcc_fin.list7cont2\" target=\"_blank\">\\n\\t\\t\\t\\t\\t\\t<img  data-src=\"https://s.pstatic.net/dthumb.phinf/?src&#x3D;%22https%3A%2F%2Fs.pstatic.net%2Fpost.phinf%2FMjAyMTEyMjFfNDcg%2FMDAxNjQwMDc2NzQ3MzEz._BpZ0gl55RKpu5lfE5oGZYwvi8D0CeCLdY1MGo7u-_Mg.BwpWTrd_Fr9CBhxCTj8ELXGZ1ed7yRSXHWvYeXh9FrUg.JPEG%2FI93T37EXSL5F5jhTrHMixZcoXul0.jpg%22&amp;type&#x3D;nf340_228\" alt=\"[단독] 정몽규 HDC 회장 장남 증여 아파트에 26억 납세담보 설정, 왜?\" width=\"170\" height=\"114\" onerror=\"this.outerHTML=\\'<span class=\\\\\\'pm_noimg\\\\\\'><span class=\\\\\\'noimg_text\\\\\\'>이미지 준비중</span></span>\\'\">\\n\\t\\t\\t\\t\\t\\t<span class=\"thumb_bd\"></span>\\n                        \\n\\t\\t\\t\\t\\t</a>\\n\\t\\t\\t\\t\\t<a href=\"https://post.naver.com/viewer/postView.naver?volumeNo&#x3D;32985982&amp;memberNo&#x3D;30808112&amp;vType&#x3D;VERTICAL\" class=\"theme_info\" data-clk=\"tcc_fin.list7cont2\" target=\"_blank\">\\n\\t\\t\\t\\t\\t\\t<em class=\"theme_category\"> 경제M</em>\\n\\t\\t\\t\\t\\t\\t<strong class=\"title elss\">[단독] 정몽규 HDC 회장 장남 증여 아파트에 26억 납세담보 설정, 왜?</strong>\\n                        <p class=\"desc\">증여세 관련 납세담보로 추정…HDC &quot;오너 개인 사생활 알지 못해&quot;[비즈한국] 정몽규 HDC그룹 회장(59)이 강남구 삼성동 소재 아이파크삼성아파트를 첫째 아들인 정준선 씨(29)에게 몇 달 전에 증여한 사실이 비즈한국 취재결과 확인됐다. 정준선 씨는 지난 8월 이 집을 담보로 납세담보제공계약을 체</p>\\n\\t\\t\\t\\t\\t\\t<div class=\"source_box\">\\n\\t\\t\\t\\t\\t\\t\\t<span class=\"date\">4주일 전</span>\\n\\t\\t\\t\\t\\t\\t\\t<span class=\"source\">\\n                                \\n                                <span class=\"source_inner\">비즈한국</span>\\n                            </span>\\n\\t\\t\\t\\t\\t\\t</div>\\n\\t\\t\\t\\t\\t</a>\\n\\t\\t\\t\\t</li>\\n\\t\\t\\t\\n\\t\\t\\t\\t<li class=\"theme_item\" data-gdid=\"C3S_RANKING_https://post.naver.com/viewer/postView.naver?memberNo&#x3D;22213349&amp;volumeNo&#x3D;33097123\" data-da-position=\"true\">\\n\\t\\t\\t\\t\\t<a href=\"https://post.naver.com/viewer/postView.naver?memberNo&#x3D;22213349&amp;volumeNo&#x3D;33097123\" class=\"theme_thumb\" data-clk=\"tcc_fin.list7cont3\" target=\"_blank\">\\n\\t\\t\\t\\t\\t\\t<img  data-src=\"https://s.pstatic.net/dthumb.phinf/?src&#x3D;%22https%3A%2F%2Fs.pstatic.net%2Fpost.phinf%2FMjAyMjAxMTBfMjA0%2FMDAxNjQxNzgxNjE0NDc2.2MfBKGocNNFLYUEHgZpLsFsJIbssUM__v9QlP_JK8NAg.Z8L8u__a03TOvQFDKdgmEfjboY_-2-nzzDTfdiYvh_kg.JPEG%2FIetNCQuRFLNuy5dqyWtnd51S8avM.jpg%3Ftype%3Df339_222_q90%22&amp;type&#x3D;nf340_228\" alt=\"&quot;미국에 내 집을?&quot; 자산가들이 해외부동산 투자로 눈을 돌린 이유는?\" width=\"170\" height=\"114\" onerror=\"this.outerHTML=\\'<span class=\\\\\\'pm_noimg\\\\\\'><span class=\\\\\\'noimg_text\\\\\\'>이미지 준비중</span></span>\\'\">\\n\\t\\t\\t\\t\\t\\t<span class=\"thumb_bd\"></span>\\n                        \\n\\t\\t\\t\\t\\t</a>\\n\\t\\t\\t\\t\\t<a href=\"https://post.naver.com/viewer/postView.naver?memberNo&#x3D;22213349&amp;volumeNo&#x3D;33097123\" class=\"theme_info\" data-clk=\"tcc_fin.list7cont3\" target=\"_blank\">\\n\\t\\t\\t\\t\\t\\t<em class=\"theme_category\"> 경제M</em>\\n\\t\\t\\t\\t\\t\\t<strong class=\"title elss\">\"미국에 내 집을?\" 자산가들이 해외부동산 투자로 눈을 돌린 이유는?</strong>\\n                        <p class=\"desc\">안녕하세요 여러분! 여러분의 부동산 성공투자를 위한 바른 길잡이!복덕다방이 돌아왔어요.오늘 이 시간에는 약간은 여러분에게 생소할 수 있는해외부동산 투자에 대한 이야기를 해보려고 해요.저희에게 해외부동산 투자에 대해 자세하고 깔끔하게!소개해 주실 유현선 로완&amp;로완리얼티 부동산 중개법인 대표와 만나해외부동산 투자의 AtoZ를 알아볼텐데요.오늘은 그 첫 </p>\\n\\t\\t\\t\\t\\t\\t<div class=\"source_box\">\\n\\t\\t\\t\\t\\t\\t\\t<span class=\"date\">1주일 전</span>\\n\\t\\t\\t\\t\\t\\t\\t<span class=\"source\">\\n                                \\n                                <span class=\"source_inner\">서울경제신문</span>\\n                            </span>\\n\\t\\t\\t\\t\\t\\t</div>\\n\\t\\t\\t\\t\\t</a>\\n\\t\\t\\t\\t</li>\\n\\t\\t\\t\\n\\t\\t\\t\\t<li class=\"theme_item\" data-gdid=\"C3S_RANKING_https://post.naver.com/viewer/postView.naver?volumeNo&#x3D;33094482&amp;memberNo&#x3D;25128306\" data-da-position=\"true\">\\n\\t\\t\\t\\t\\t<a href=\"https://post.naver.com/viewer/postView.naver?volumeNo&#x3D;33094482&amp;memberNo&#x3D;25128306\" class=\"theme_thumb\" data-clk=\"tcc_fin.list7cont4\" target=\"_blank\">\\n\\t\\t\\t\\t\\t\\t<img  data-src=\"https://s.pstatic.net/dthumb.phinf/?src&#x3D;%22https%3A%2F%2Fs.pstatic.net%2Fstatic%2Fwww%2Fmobile%2Fedit%2F20220117_1095%2Fupload_1642401683920WqY7X.jpg%22&amp;type&#x3D;nf340_228\" alt=\"유령작가가 밝히는, 부자의 돈 버는 비밀\" width=\"170\" height=\"114\" onerror=\"this.outerHTML=\\'<span class=\\\\\\'pm_noimg\\\\\\'><span class=\\\\\\'noimg_text\\\\\\'>이미지 준비중</span></span>\\'\">\\n\\t\\t\\t\\t\\t\\t<span class=\"thumb_bd\"></span>\\n                        \\n\\t\\t\\t\\t\\t</a>\\n\\t\\t\\t\\t\\t<a href=\"https://post.naver.com/viewer/postView.naver?volumeNo&#x3D;33094482&amp;memberNo&#x3D;25128306\" class=\"theme_info\" data-clk=\"tcc_fin.list7cont4\" target=\"_blank\">\\n\\t\\t\\t\\t\\t\\t<em class=\"theme_category\"> 경제M</em>\\n\\t\\t\\t\\t\\t\\t<strong class=\"title elss\">유령작가가 밝히는, 부자의 돈 버는 비밀</strong>\\n                        <p class=\"desc\">사실 흔쾌히 하고 싶은 인터뷰는 아니었다 고백하고 시작해야겠다. 익명으로 활동하는 사람은 신분 확인이나 팩트 체크가 어려울 수 있고, 독자의 신뢰를 얻기도 힘들다. 게다가 상대는 작가. 전문적인 글쓰기를 하는 상대는 실력을 겨루는 느낌까지 들어 신경이 쓰인다. 그럼에도 그를 모시고 싶었던 이유는 단 한 가지. 그가 연구해온 부자가 되는 방법이 궁금해서다. </p>\\n\\t\\t\\t\\t\\t\\t<div class=\"source_box\">\\n\\t\\t\\t\\t\\t\\t\\t<span class=\"date\">2일 전</span>\\n\\t\\t\\t\\t\\t\\t\\t<span class=\"source\">\\n                                \\n                                <span class=\"source_inner\">브라보마이라이프</span>\\n                            </span>\\n\\t\\t\\t\\t\\t\\t</div>\\n\\t\\t\\t\\t\\t</a>\\n\\t\\t\\t\\t</li>\\n\\t\\t\\t\\n\\t\\t\\t\\t<li class=\"theme_item\" data-gdid=\"C3S_RANKING_https://post.naver.com/viewer/postView.naver?volumeNo&#x3D;33122705&amp;memberNo&#x3D;1388599&amp;vType&#x3D;VERTICAL\" data-da-position=\"true\">\\n\\t\\t\\t\\t\\t<a href=\"https://post.naver.com/viewer/postView.naver?volumeNo&#x3D;33122705&amp;memberNo&#x3D;1388599&amp;vType&#x3D;VERTICAL\" class=\"theme_thumb\" data-clk=\"tcc_fin.list7cont5\" target=\"_blank\">\\n\\t\\t\\t\\t\\t\\t<img  data-src=\"https://s.pstatic.net/dthumb.phinf/?src&#x3D;%22https%3A%2F%2Fs.pstatic.net%2Fpost.phinf%2FMjAyMjAxMTRfMTYw%2FMDAxNjQyMTE5NzI1MDEx.lrYWPWVQGjr8r8zdEr4_4GKYvoqxW_nYWklGBLBi0JYg.fj3omUdgMhs7UR2V91zkx0lKlBbhGo0RPtkuv91uPREg.JPEG%2FIVEmhsoL9Ul9WO_TmICbYXgkdWiQ.jpg%22&amp;type&#x3D;nf340_228\" alt=\"HDC현산 &#x27;붕괴 후폭풍&#x27;… 경기도 전역 비상령 걸렸다\" width=\"170\" height=\"114\" onerror=\"this.outerHTML=\\'<span class=\\\\\\'pm_noimg\\\\\\'><span class=\\\\\\'noimg_text\\\\\\'>이미지 준비중</span></span>\\'\">\\n\\t\\t\\t\\t\\t\\t<span class=\"thumb_bd\"></span>\\n                        \\n\\t\\t\\t\\t\\t</a>\\n\\t\\t\\t\\t\\t<a href=\"https://post.naver.com/viewer/postView.naver?volumeNo&#x3D;33122705&amp;memberNo&#x3D;1388599&amp;vType&#x3D;VERTICAL\" class=\"theme_info\" data-clk=\"tcc_fin.list7cont5\" target=\"_blank\">\\n\\t\\t\\t\\t\\t\\t<em class=\"theme_category\"> 경제M</em>\\n\\t\\t\\t\\t\\t\\t<strong class=\"title elss\">HDC현산 \\'붕괴 후폭풍\\'… 경기도 전역 비상령 걸렸다</strong>\\n                        <p class=\"desc\">HDC현산 공사현장 올스톱…전국 65개 현장 안전점검과 별도 콘크리트 타설 양생시간 준수 등 수원·화성·파주시 정밀점검 대응 &quot;집값에 영향 아이파크 이름 빼자&quot; 부동산커뮤니티 83% &#x27;신뢰 추락&#x27;HDC현대산업개발이 시공하던 광주 아파트 공사현장에서 발생한 외벽 붕괴사고로 경기도 전역에 ‘HD</p>\\n\\t\\t\\t\\t\\t\\t<div class=\"source_box\">\\n\\t\\t\\t\\t\\t\\t\\t<span class=\"date\">5일 전</span>\\n\\t\\t\\t\\t\\t\\t\\t<span class=\"source\">\\n                                \\n                                <span class=\"source_inner\">중부일보</span>\\n                            </span>\\n\\t\\t\\t\\t\\t\\t</div>\\n\\t\\t\\t\\t\\t</a>\\n\\t\\t\\t\\t</li>\\n\\t\\t\\t\\n\\t\\t</ul>\\n\\t</div>\\n</div>\\n<div class=\"group_theme\" data-block-id=\"\" data-block-code=\"PC-THEME-FINANCE-MOBILE-RANKING-VIDEO-6\" data-block-type=\"MATERIALS\" data-template-code=\"MOBILE-RANKING-VIDEO-LIST\"\\n\\n\\t data-index=\"\"\\n\\t data-page=\"4\"\\n\\t style=\"display:none\">\\n\\n\\t<div class=\"media_view_wrap type_column\">\\n\\t\\t<div class=\"media_view\">\\n\\t\\t\\t\\n\\t\\t\\t\\t<a href=\"https://tv.naver.com/v/24600584\" class=\"media_area\" data-gdid=\"C3S_RANKING_https://tv.naver.com/v/24600584\" data-clk=\"tcc_fin.video7cont1\" target=\"_blank\">\\n\\t\\t\\t\\t\\t<div class=\"media_thumb\">\\n\\t\\t\\t\\t\\t\\t<img  data-src=\"https://s.pstatic.net/dthumb.phinf/?src&#x3D;%22https%3A%2F%2Fs.pstatic.net%2Fstatic%2Fwww%2Fmobile%2Fedit%2F20220114_1095%2Fupload_1642149326809s47ac.jpg%22&amp;type&#x3D;nf464_260\" alt=\"영상\\n재생시간\\n13:18\\n매수는 기술, 매도는 예술! 똑똑한 매도방법은 이겁니다😎\" width=\"232\" height=\"130\" onerror=\"this.outerHTML=\\'<span class=\\\\\\'pm_noimg\\\\\\'><span class=\\\\\\'noimg_text\\\\\\'>이미지 준비중</span></span>\\'\">\\n\\t\\t\\t\\t\\t\\t<span class=\"thumb_dim\"></span>\\n\\t\\t\\t\\t\\t\\t<span class=\"thumb_bd\"></span>\\n\\t\\t\\t\\t\\t\\t<i class=\"pm_ico_play\"><span class=\"blind\">재생</span></i>\\n\\t\\t\\t\\t\\t\\t<span class=\"theme_runtime\"><span class=\"runtime_bg\">재생시간</span><em class=\"time\"></em></span>\\n\\t\\t\\t\\t\\t</div>\\n\\t\\t\\t\\t\\t<div class=\"media_info\">\\n\\t\\t\\t\\t\\t\\t<div class=\"info_box\">\\n\\t\\t\\t\\t\\t\\t\\t<strong class=\"title\">영상\\n재생시간\\n13:18\\n매수는 기술, 매도는 예술! 똑똑한 매도방법은 이겁니다😎</strong>\\n\\t\\t\\t\\t\\t\\t\\t<div class=\"source_wrap\">\\n\\t\\t\\t\\t\\t\\t\\t\\t<span class=\"date\">4일 전</span>\\n\\t\\t\\t\\t\\t\\t\\t\\t<span class=\"source\">\\n                                    \\n                                    <span class=\"source_inner\">직방</span>\\n                                </span>\\n\\t\\t\\t\\t\\t\\t\\t</div>\\n\\t\\t\\t\\t\\t\\t</div>\\n\\t\\t\\t\\t\\t</div>\\n\\t\\t\\t\\t</a>\\n\\t\\t\\t\\n\\t\\t\\t\\t<a href=\"https://tv.naver.com/v/24524702\" class=\"media_area\" data-gdid=\"C3S_RANKING_https://tv.naver.com/v/24524702\" data-clk=\"tcc_fin.video7cont2\" target=\"_blank\">\\n\\t\\t\\t\\t\\t<div class=\"media_thumb\">\\n\\t\\t\\t\\t\\t\\t<img  data-src=\"https://s.pstatic.net/dthumb.phinf/?src&#x3D;%22https%3A%2F%2Fs.pstatic.net%2Ftvcast.phinf%2F20220110_64%2FmdEgX_16417977212576MQ2Q_JPEG%2F1641797710838.jpg%22&amp;type&#x3D;nf464_260\" alt=\"매물 쏟아진 카카오 10만원 붕괴, 원자력테마 강세(3분마감ㅣ22.01.10)\" width=\"232\" height=\"130\" onerror=\"this.outerHTML=\\'<span class=\\\\\\'pm_noimg\\\\\\'><span class=\\\\\\'noimg_text\\\\\\'>이미지 준비중</span></span>\\'\">\\n\\t\\t\\t\\t\\t\\t<span class=\"thumb_dim\"></span>\\n\\t\\t\\t\\t\\t\\t<span class=\"thumb_bd\"></span>\\n\\t\\t\\t\\t\\t\\t<i class=\"pm_ico_play\"><span class=\"blind\">재생</span></i>\\n\\t\\t\\t\\t\\t\\t<span class=\"theme_runtime\"><span class=\"runtime_bg\">재생시간</span><em class=\"time\"></em></span>\\n\\t\\t\\t\\t\\t</div>\\n\\t\\t\\t\\t\\t<div class=\"media_info\">\\n\\t\\t\\t\\t\\t\\t<div class=\"info_box\">\\n\\t\\t\\t\\t\\t\\t\\t<strong class=\"title\">매물 쏟아진 카카오 10만원 붕괴, 원자력테마 강세(3분마감ㅣ22.01.10)</strong>\\n\\t\\t\\t\\t\\t\\t\\t<div class=\"source_wrap\">\\n\\t\\t\\t\\t\\t\\t\\t\\t<span class=\"date\">1주일 전</span>\\n\\t\\t\\t\\t\\t\\t\\t\\t<span class=\"source\">\\n                                    \\n                                    <span class=\"source_inner\">[키움증권] 세상의 모든 투자정보</span>\\n                                </span>\\n\\t\\t\\t\\t\\t\\t\\t</div>\\n\\t\\t\\t\\t\\t\\t</div>\\n\\t\\t\\t\\t\\t</div>\\n\\t\\t\\t\\t</a>\\n\\t\\t\\t\\n\\t\\t\\t\\t<a href=\"https://tv.naver.com/v/24599356\" class=\"media_area\" data-gdid=\"C3S_RANKING_https://tv.naver.com/v/24599356\" data-clk=\"tcc_fin.video7cont3\" target=\"_blank\">\\n\\t\\t\\t\\t\\t<div class=\"media_thumb\">\\n\\t\\t\\t\\t\\t\\t<img  data-src=\"https://s.pstatic.net/dthumb.phinf/?src&#x3D;%22https%3A%2F%2Fs.pstatic.net%2Fstatic%2Fwww%2Fmobile%2Fedit%2F20220114_1095%2Fupload_1642149191823pAT3Q.jpg%22&amp;type&#x3D;nf464_260\" alt=\"영상\\n재생시간\\n14:53\\n조바심 때문에 부동산 폭망하지 않으려면\" width=\"232\" height=\"130\" onerror=\"this.outerHTML=\\'<span class=\\\\\\'pm_noimg\\\\\\'><span class=\\\\\\'noimg_text\\\\\\'>이미지 준비중</span></span>\\'\">\\n\\t\\t\\t\\t\\t\\t<span class=\"thumb_dim\"></span>\\n\\t\\t\\t\\t\\t\\t<span class=\"thumb_bd\"></span>\\n\\t\\t\\t\\t\\t\\t<i class=\"pm_ico_play\"><span class=\"blind\">재생</span></i>\\n\\t\\t\\t\\t\\t\\t<span class=\"theme_runtime\"><span class=\"runtime_bg\">재생시간</span><em class=\"time\"></em></span>\\n\\t\\t\\t\\t\\t</div>\\n\\t\\t\\t\\t\\t<div class=\"media_info\">\\n\\t\\t\\t\\t\\t\\t<div class=\"info_box\">\\n\\t\\t\\t\\t\\t\\t\\t<strong class=\"title\">영상\\n재생시간\\n14:53\\n조바심 때문에 부동산 폭망하지 않으려면</strong>\\n\\t\\t\\t\\t\\t\\t\\t<div class=\"source_wrap\">\\n\\t\\t\\t\\t\\t\\t\\t\\t<span class=\"date\">4일 전</span>\\n\\t\\t\\t\\t\\t\\t\\t\\t<span class=\"source\">\\n                                    \\n                                    <span class=\"source_inner\">북극성주TV</span>\\n                                </span>\\n\\t\\t\\t\\t\\t\\t\\t</div>\\n\\t\\t\\t\\t\\t\\t</div>\\n\\t\\t\\t\\t\\t</div>\\n\\t\\t\\t\\t</a>\\n\\t\\t\\t\\n\\t\\t</div>\\n\\t</div>\\n</div>\\n<div class=\"group_theme\" data-block-id=\"\" data-block-code=\"PC-THEME-FINANCE-MOBILE-RANKING-DEFAULT-7\" data-block-type=\"MATERIALS\" data-template-code=\"MOBILE-RANKING-LIST\"\\n\\n\\t data-da=\"container\"\\n\\t data-index=\"\"\\n     data-page=\"4\"\\n\\t style=\"display:none\">\\n\\n\\t<div class=\"list_theme_wrap\">\\n\\t\\t<ul class=\"list_theme\">\\n\\t\\t\\t\\n\\t\\t\\t\\t<li class=\"theme_item\" data-gdid=\"C3S_RANKING_https://post.naver.com/viewer/postView.naver?memberNo&#x3D;12282441&amp;volumeNo&#x3D;33132835\" data-da-position=\"true\">\\n\\t\\t\\t\\t\\t<a href=\"https://post.naver.com/viewer/postView.naver?memberNo&#x3D;12282441&amp;volumeNo&#x3D;33132835\" class=\"theme_thumb\" data-clk=\"tcc_fin.list8cont1\" target=\"_blank\">\\n\\t\\t\\t\\t\\t\\t<img  data-src=\"https://s.pstatic.net/dthumb.phinf/?src&#x3D;%22https%3A%2F%2Fs.pstatic.net%2Fpost.phinf%2FMjAyMjAxMTZfMjEw%2FMDAxNjQyMzA5MzM1MzIz.8FDV_2rDBJLeVJTWMJ-i9rOKNn6Nqu2FuGnNyHKfX5og.Y1OZ1_S-snbIRY6wn-uuR8VV8CoCSZmDWFoR2jPtjrIg.JPEG%2FIkneU-l8RCwVTMc74mO_ljn39BlU.jpg%3Ftype%3Df339_222_q90%22&amp;type&#x3D;nf340_228\" alt=\"돈 막 쓴 文정부, 나랏빚 1064조…“세금 더 내야”\" width=\"170\" height=\"114\" onerror=\"this.outerHTML=\\'<span class=\\\\\\'pm_noimg\\\\\\'><span class=\\\\\\'noimg_text\\\\\\'>이미지 준비중</span></span>\\'\">\\n\\t\\t\\t\\t\\t\\t<span class=\"thumb_bd\"></span>\\n                        \\n\\t\\t\\t\\t\\t</a>\\n\\t\\t\\t\\t\\t<a href=\"https://post.naver.com/viewer/postView.naver?memberNo&#x3D;12282441&amp;volumeNo&#x3D;33132835\" class=\"theme_info\" data-clk=\"tcc_fin.list8cont1\" target=\"_blank\">\\n\\t\\t\\t\\t\\t\\t<em class=\"theme_category\"> 경제M</em>\\n\\t\\t\\t\\t\\t\\t<strong class=\"title elss\">돈 막 쓴 文정부, 나랏빚 1064조…“세금 더 내야”</strong>\\n                        <p class=\"desc\">코로나19 초기인 2020년만 해도 재정 확대나 긴급 예산 편성을 비판하는 목소리는 소수파였다. 상황이 급박해서였다. 하지만 나랏빚이 올해 1064조4000억원을 예고하며 기하급수적으로 늘자 더 이상 비판을 흘겨듣기 힘들어졌다는 평가가 나온다. 전문가들은 빚내는 걸 걱정하지 않고 ‘돈 쓰기’에만 급급한 정부와 여당의 행태에 비판의 잣대</p>\\n\\t\\t\\t\\t\\t\\t<div class=\"source_box\">\\n\\t\\t\\t\\t\\t\\t\\t<span class=\"date\">2일 전</span>\\n\\t\\t\\t\\t\\t\\t\\t<span class=\"source\">\\n                                \\n                                <span class=\"source_inner\">국민일보</span>\\n                            </span>\\n\\t\\t\\t\\t\\t\\t</div>\\n\\t\\t\\t\\t\\t</a>\\n\\t\\t\\t\\t</li>\\n\\t\\t\\t\\n\\t\\t\\t\\t<li class=\"theme_item\" data-gdid=\"C3S_RANKING_https://post.naver.com/viewer/postView.naver?memberNo&#x3D;38249019&amp;volumeNo&#x3D;33135335\" data-da-position=\"true\">\\n\\t\\t\\t\\t\\t<a href=\"https://post.naver.com/viewer/postView.naver?memberNo&#x3D;38249019&amp;volumeNo&#x3D;33135335\" class=\"theme_thumb\" data-clk=\"tcc_fin.list8cont2\" target=\"_blank\">\\n\\t\\t\\t\\t\\t\\t<img  data-src=\"https://s.pstatic.net/dthumb.phinf/?src&#x3D;%22https%3A%2F%2Fs.pstatic.net%2Fpost.phinf%2FMjAyMjAxMTdfNTIg%2FMDAxNjQyMzc3ODY1MDMx.hZN23A3p-ilymd7EZHsQtrnF4C2JZbTWb686OKdJ11Qg.54xJE2w-8l85VyHpbMIi-7DYKgkx62RvL5DfkdVncYAg.JPEG%2FI9UpbI6C_OG_6GxVuxtH7ty-6jx4.jpg%3Ftype%3Df339_222_q90%22&amp;type&#x3D;nf340_228\" alt=\"색다른 재미... 설날 ‘임장 여행’ 떠나볼까?\" width=\"170\" height=\"114\" onerror=\"this.outerHTML=\\'<span class=\\\\\\'pm_noimg\\\\\\'><span class=\\\\\\'noimg_text\\\\\\'>이미지 준비중</span></span>\\'\">\\n\\t\\t\\t\\t\\t\\t<span class=\"thumb_bd\"></span>\\n                        \\n\\t\\t\\t\\t\\t</a>\\n\\t\\t\\t\\t\\t<a href=\"https://post.naver.com/viewer/postView.naver?memberNo&#x3D;38249019&amp;volumeNo&#x3D;33135335\" class=\"theme_info\" data-clk=\"tcc_fin.list8cont2\" target=\"_blank\">\\n\\t\\t\\t\\t\\t\\t<em class=\"theme_category\"> 경제M</em>\\n\\t\\t\\t\\t\\t\\t<strong class=\"title elss\">색다른 재미... 설날 ‘임장 여행’ 떠나볼까?</strong>\\n                        <p class=\"desc\">/[Remark]주목해야 할 부동산 정보/ 설 명절을 앞두고 여행 계획을 세우는 사람들이 많은데요. 올해도 코로나로 해외보다는 국내 여행 수요가 많을 것으로 전망되는 가운데 최근 여행지에서 그 지역 부동산을 답사하는 임장 여행이 트렌드로 부상하고 있습니다. KT에스테이트에서 여행 겸 임장하기 좋은 지역을 살펴봤습니다.[Remark] 두 마리 토끼 잡는다~ </p>\\n\\t\\t\\t\\t\\t\\t<div class=\"source_box\">\\n\\t\\t\\t\\t\\t\\t\\t<span class=\"date\">2일 전</span>\\n\\t\\t\\t\\t\\t\\t\\t<span class=\"source\">\\n                                \\n                                <span class=\"source_inner\">KT 에스테이트</span>\\n                            </span>\\n\\t\\t\\t\\t\\t\\t</div>\\n\\t\\t\\t\\t\\t</a>\\n\\t\\t\\t\\t</li>\\n\\t\\t\\t\\n\\t\\t\\t\\t<li class=\"theme_item\" data-gdid=\"C3S_RANKING_https://post.naver.com/viewer/postView.naver?memberNo&#x3D;12494964&amp;volumeNo&#x3D;33135383\" data-da-position=\"true\">\\n\\t\\t\\t\\t\\t<a href=\"https://post.naver.com/viewer/postView.naver?memberNo&#x3D;12494964&amp;volumeNo&#x3D;33135383\" class=\"theme_thumb\" data-clk=\"tcc_fin.list8cont3\" target=\"_blank\">\\n\\t\\t\\t\\t\\t\\t<img  data-src=\"https://s.pstatic.net/dthumb.phinf/?src&#x3D;%22https%3A%2F%2Fs.pstatic.net%2Fpost.phinf%2FMjAyMjAxMTdfNjcg%2FMDAxNjQyMzc4NDU1NTQ0.LQkBeDSUDpZfflsEueOoVLVi2U2G9I4zfDM1F7KeJM8g.v23B17XcK09Znq43pFWsfB7kQ62CaPWtBezu3G-dnwAg.JPEG%2FIacaoJX7NV4TceUo0rNfXhdUXyw0.jpg%3Ftype%3Df339_222_q90%22&amp;type&#x3D;nf340_228\" alt=\"종잣돈 8500만원 “지식산업센터 투자냐 대출금 변제냐”\" width=\"170\" height=\"114\" onerror=\"this.outerHTML=\\'<span class=\\\\\\'pm_noimg\\\\\\'><span class=\\\\\\'noimg_text\\\\\\'>이미지 준비중</span></span>\\'\">\\n\\t\\t\\t\\t\\t\\t<span class=\"thumb_bd\"></span>\\n                        \\n\\t\\t\\t\\t\\t</a>\\n\\t\\t\\t\\t\\t<a href=\"https://post.naver.com/viewer/postView.naver?memberNo&#x3D;12494964&amp;volumeNo&#x3D;33135383\" class=\"theme_info\" data-clk=\"tcc_fin.list8cont3\" target=\"_blank\">\\n\\t\\t\\t\\t\\t\\t<em class=\"theme_category\"> 경제M</em>\\n\\t\\t\\t\\t\\t\\t<strong class=\"title elss\">종잣돈 8500만원 “지식산업센터 투자냐 대출금 변제냐”</strong>\\n                        <p class=\"desc\">여기 ‘아파트형 공장’이라 불리는 지식산업센터에 꽂힌 이가 있다. 그는 지식산업센터에 잘만 투자하면 노후까지 안정적인 수입을 올릴 수 있을 거란 기대를 하고 있다. 하지만 그의 아내는 지식산업센터가 생소하기만 하다. 차라리 대출금을 갚거나 자녀 학자금을 마련해야 한다는 게 아내의 생각이다. 누구의 생각이 옳을까. 더스쿠프(The SCOOP)와 한국경제교육원</p>\\n\\t\\t\\t\\t\\t\\t<div class=\"source_box\">\\n\\t\\t\\t\\t\\t\\t\\t<span class=\"date\">2일 전</span>\\n\\t\\t\\t\\t\\t\\t\\t<span class=\"source\">\\n                                \\n                                <span class=\"source_inner\">더스쿠프</span>\\n                            </span>\\n\\t\\t\\t\\t\\t\\t</div>\\n\\t\\t\\t\\t\\t</a>\\n\\t\\t\\t\\t</li>\\n\\t\\t\\t\\n\\t\\t\\t\\t<li class=\"theme_item\" data-gdid=\"C3S_RANKING_https://post.naver.com/viewer/postView.naver?memberNo&#x3D;478443&amp;volumeNo&#x3D;33139671\" data-da-position=\"true\">\\n\\t\\t\\t\\t\\t<a href=\"https://post.naver.com/viewer/postView.naver?memberNo&#x3D;478443&amp;volumeNo&#x3D;33139671\" class=\"theme_thumb\" data-clk=\"tcc_fin.list8cont4\" target=\"_blank\">\\n\\t\\t\\t\\t\\t\\t<img  data-src=\"https://s.pstatic.net/dthumb.phinf/?src&#x3D;%22https%3A%2F%2Fs.pstatic.net%2Fpost.phinf%2FMjAyMjAxMTdfOTgg%2FMDAxNjQyMzg0MzMxOTk4.b1Z3NHDHKdO9QBBa5dDg2GKCy1pm33zb8agSU3GIclcg.gNx0CWK78OfpQY5kWRhZ8D4N3GDIlzLMZE1kujM5W4Yg.JPEG%2FIAmPYREI-v9L1fYBtckw3gW9HIKU.jpg%3Ftype%3Df339_222_q90%22&amp;type&#x3D;nf340_228\" alt=\"찐 부자들의 증여 전략, 무엇이 다를까?\" width=\"170\" height=\"114\" onerror=\"this.outerHTML=\\'<span class=\\\\\\'pm_noimg\\\\\\'><span class=\\\\\\'noimg_text\\\\\\'>이미지 준비중</span></span>\\'\">\\n\\t\\t\\t\\t\\t\\t<span class=\"thumb_bd\"></span>\\n                        \\n\\t\\t\\t\\t\\t</a>\\n\\t\\t\\t\\t\\t<a href=\"https://post.naver.com/viewer/postView.naver?memberNo&#x3D;478443&amp;volumeNo&#x3D;33139671\" class=\"theme_info\" data-clk=\"tcc_fin.list8cont4\" target=\"_blank\">\\n\\t\\t\\t\\t\\t\\t<em class=\"theme_category\"> 경제M</em>\\n\\t\\t\\t\\t\\t\\t<strong class=\"title elss\">찐 부자들의 증여 전략, 무엇이 다를까?</strong>\\n                        <p class=\"desc\">▶ 영상에서 더 자세한 설명을 들으실 수 있습니다. 안녕하세요. 부동산R114 에디터입니다! 새해를 맞이해 윤지해 수석연구원님의 옛 스승님이신 한국투자증권 자산승계연구소 김규정 소장님을 모셨습니다! 총 3편으로 나눠질 예정이고요. 진짜 부자들은 세금을 어떻게 관리하는지, 자산관리 시 특별한 방법은 없는지 궁금하셨다면! 이번 영상 함께해 주시면 큰 도움이 될</p>\\n\\t\\t\\t\\t\\t\\t<div class=\"source_box\">\\n\\t\\t\\t\\t\\t\\t\\t<span class=\"date\">어제</span>\\n\\t\\t\\t\\t\\t\\t\\t<span class=\"source\">\\n                                \\n                                <span class=\"source_inner\">부동산R114</span>\\n                            </span>\\n\\t\\t\\t\\t\\t\\t</div>\\n\\t\\t\\t\\t\\t</a>\\n\\t\\t\\t\\t</li>\\n\\t\\t\\t\\n\\t\\t\\t\\t<li class=\"theme_item\" data-gdid=\"C3S_RANKING_https://post.naver.com/viewer/postView.naver?memberNo&#x3D;24108940&amp;volumeNo&#x3D;33109096\" data-da-position=\"true\">\\n\\t\\t\\t\\t\\t<a href=\"https://post.naver.com/viewer/postView.naver?memberNo&#x3D;24108940&amp;volumeNo&#x3D;33109096\" class=\"theme_thumb\" data-clk=\"tcc_fin.list8cont5\" target=\"_blank\">\\n\\t\\t\\t\\t\\t\\t<img  data-src=\"https://s.pstatic.net/dthumb.phinf/?src&#x3D;%22https%3A%2F%2Fs.pstatic.net%2Fpost.phinf%2FMjAyMjAxMTJfMjM3%2FMDAxNjQxOTQ5NDY4OTcx.m7Xw-1oxXPzpY5775MCnIFVDS7TkJcod7puSlApr8eUg.8awAv5J7QeWqdBochSnHB-aIptzEBuLdxxvANTI3jggg.JPEG%2FIAbPVgyEJqlKVBByR4Us78oYqPVM.jpg%3Ftype%3Df339_222_q90%22&amp;type&#x3D;nf340_228\" alt=\"하루 2~3시간 일하고 월 50만원 버는 ‘플랫폼 노동자’ 되기\" width=\"170\" height=\"114\" onerror=\"this.outerHTML=\\'<span class=\\\\\\'pm_noimg\\\\\\'><span class=\\\\\\'noimg_text\\\\\\'>이미지 준비중</span></span>\\'\">\\n\\t\\t\\t\\t\\t\\t<span class=\"thumb_bd\"></span>\\n                        \\n\\t\\t\\t\\t\\t</a>\\n\\t\\t\\t\\t\\t<a href=\"https://post.naver.com/viewer/postView.naver?memberNo&#x3D;24108940&amp;volumeNo&#x3D;33109096\" class=\"theme_info\" data-clk=\"tcc_fin.list8cont5\" target=\"_blank\">\\n\\t\\t\\t\\t\\t\\t<em class=\"theme_category\"> 경제M</em>\\n\\t\\t\\t\\t\\t\\t<strong class=\"title elss\">하루 2~3시간 일하고 월 50만원 버는 ‘플랫폼 노동자’ 되기</strong>\\n                        <p class=\"desc\">최근 크라우드 소싱 기반의 배달 일을 하는 이들이 늘고 있습니다. 크라우드 소싱은 대중(crowd)과 아웃소싱(outsourcing)의 합성어로 기업 활동 일부 과정에 대중을 참여시키는 것을 의미하는데, 배민이나 쿠팡 등 플랫폼 회사가 나눠주는 배달 업무 일부를 일반인이 맡아 하는 서비스를 뜻합니다.직장인 이모(42\\x04</p>\\n\\t\\t\\t\\t\\t\\t<div class=\"source_box\">\\n\\t\\t\\t\\t\\t\\t\\t<span class=\"date\">6일 전</span>\\n\\t\\t\\t\\t\\t\\t\\t<span class=\"source\">\\n                                \\n                                <span class=\"source_inner\">전성기</span>\\n                            </span>\\n\\t\\t\\t\\t\\t\\t</div>\\n\\t\\t\\t\\t\\t</a>\\n\\t\\t\\t\\t</li>\\n\\t\\t\\t\\n\\t\\t</ul>\\n\\t</div>\\n</div>\\n<div class=\"group_theme\" data-block-id=\"\" data-block-code=\"PC-THEME-FINANCE-MOBILE-RANKING-VIDEO-7\" data-block-type=\"MATERIALS\" data-template-code=\"MOBILE-RANKING-VIDEO-LIST\"\\n\\n\\t data-index=\"\"\\n\\t data-page=\"4\"\\n\\t style=\"display:none\">\\n\\n\\t<div class=\"media_view_wrap type_column\">\\n\\t\\t<div class=\"media_view\">\\n\\t\\t\\t\\n\\t\\t\\t\\t<a href=\"https://tv.naver.com/v/24296579\" class=\"media_area\" data-gdid=\"C3S_RANKING_https://tv.naver.com/v/24296579\" data-clk=\"tcc_fin.video8cont1\" target=\"_blank\">\\n\\t\\t\\t\\t\\t<div class=\"media_thumb\">\\n\\t\\t\\t\\t\\t\\t<img  data-src=\"https://s.pstatic.net/dthumb.phinf/?src&#x3D;%22https%3A%2F%2Fs.pstatic.net%2Ftvcast.phinf%2F20211227_217%2F1OfnV_1640595604446ToxgI_JPEG%2F1640595601663.jpg%22&amp;type&#x3D;nf464_260\" alt=\"정부, 내년 사전청약포함 46만가구 공급…164만가구 입지도 확정 / 머니투데이방송 (뉴스)\" width=\"232\" height=\"130\" onerror=\"this.outerHTML=\\'<span class=\\\\\\'pm_noimg\\\\\\'><span class=\\\\\\'noimg_text\\\\\\'>이미지 준비중</span></span>\\'\">\\n\\t\\t\\t\\t\\t\\t<span class=\"thumb_dim\"></span>\\n\\t\\t\\t\\t\\t\\t<span class=\"thumb_bd\"></span>\\n\\t\\t\\t\\t\\t\\t<i class=\"pm_ico_play\"><span class=\"blind\">재생</span></i>\\n\\t\\t\\t\\t\\t\\t<span class=\"theme_runtime\"><span class=\"runtime_bg\">재생시간</span><em class=\"time\"></em></span>\\n\\t\\t\\t\\t\\t</div>\\n\\t\\t\\t\\t\\t<div class=\"media_info\">\\n\\t\\t\\t\\t\\t\\t<div class=\"info_box\">\\n\\t\\t\\t\\t\\t\\t\\t<strong class=\"title\">정부, 내년 사전청약포함 46만가구 공급…164만가구 입지도 확정 / 머니투데이방송 (뉴스)</strong>\\n\\t\\t\\t\\t\\t\\t\\t<div class=\"source_wrap\">\\n\\t\\t\\t\\t\\t\\t\\t\\t<span class=\"date\">3주일 전</span>\\n\\t\\t\\t\\t\\t\\t\\t\\t<span class=\"source\">\\n                                    \\n                                    <span class=\"source_inner\">MTN 머니투데이방송</span>\\n                                </span>\\n\\t\\t\\t\\t\\t\\t\\t</div>\\n\\t\\t\\t\\t\\t\\t</div>\\n\\t\\t\\t\\t\\t</div>\\n\\t\\t\\t\\t</a>\\n\\t\\t\\t\\n\\t\\t\\t\\t<a href=\"https://tv.naver.com/v/24605790\" class=\"media_area\" data-gdid=\"C3S_RANKING_https://tv.naver.com/v/24605790\" data-clk=\"tcc_fin.video8cont2\" target=\"_blank\">\\n\\t\\t\\t\\t\\t<div class=\"media_thumb\">\\n\\t\\t\\t\\t\\t\\t<img  data-src=\"https://s.pstatic.net/dthumb.phinf/?src&#x3D;%22https%3A%2F%2Fs.pstatic.net%2Ftvcast.phinf%2F20220114_98%2FTKMH0_1642151689492rrMQy_PNG%2F1642151120828.png%22&amp;type&#x3D;nf464_260\" alt=\"&#x27;1400조&#x27; 규모 인프라 투자 5G 초대박 종목 공개\" width=\"232\" height=\"130\" onerror=\"this.outerHTML=\\'<span class=\\\\\\'pm_noimg\\\\\\'><span class=\\\\\\'noimg_text\\\\\\'>이미지 준비중</span></span>\\'\">\\n\\t\\t\\t\\t\\t\\t<span class=\"thumb_dim\"></span>\\n\\t\\t\\t\\t\\t\\t<span class=\"thumb_bd\"></span>\\n\\t\\t\\t\\t\\t\\t<i class=\"pm_ico_play\"><span class=\"blind\">재생</span></i>\\n\\t\\t\\t\\t\\t\\t<span class=\"theme_runtime\"><span class=\"runtime_bg\">재생시간</span><em class=\"time\"></em></span>\\n\\t\\t\\t\\t\\t</div>\\n\\t\\t\\t\\t\\t<div class=\"media_info\">\\n\\t\\t\\t\\t\\t\\t<div class=\"info_box\">\\n\\t\\t\\t\\t\\t\\t\\t<strong class=\"title\">\\'1400조\\' 규모 인프라 투자 5G 초대박 종목 공개</strong>\\n\\t\\t\\t\\t\\t\\t\\t<div class=\"source_wrap\">\\n\\t\\t\\t\\t\\t\\t\\t\\t<span class=\"date\">4일 전</span>\\n\\t\\t\\t\\t\\t\\t\\t\\t<span class=\"source\">\\n                                    \\n                                    <span class=\"source_inner\">상한가 적중비밀 상한가TV</span>\\n                                </span>\\n\\t\\t\\t\\t\\t\\t\\t</div>\\n\\t\\t\\t\\t\\t\\t</div>\\n\\t\\t\\t\\t\\t</div>\\n\\t\\t\\t\\t</a>\\n\\t\\t\\t\\n\\t\\t\\t\\t<a href=\"https://tv.naver.com/v/24586530\" class=\"media_area\" data-gdid=\"C3S_RANKING_https://tv.naver.com/v/24586530\" data-clk=\"tcc_fin.video8cont3\" target=\"_blank\">\\n\\t\\t\\t\\t\\t<div class=\"media_thumb\">\\n\\t\\t\\t\\t\\t\\t<img  data-src=\"https://s.pstatic.net/dthumb.phinf/?src&#x3D;%22https%3A%2F%2Fs.pstatic.net%2Ftvcast.phinf%2F20220113_60%2F8nd0g_16420650125712lxik_PNG%2F1642064797476.png%22&amp;type&#x3D;nf464_260\" alt=\"[아진엑스텍] 메타버스 의료 인공지능 초저평가 종목 지금 바로 공개합니다\" width=\"232\" height=\"130\" onerror=\"this.outerHTML=\\'<span class=\\\\\\'pm_noimg\\\\\\'><span class=\\\\\\'noimg_text\\\\\\'>이미지 준비중</span></span>\\'\">\\n\\t\\t\\t\\t\\t\\t<span class=\"thumb_dim\"></span>\\n\\t\\t\\t\\t\\t\\t<span class=\"thumb_bd\"></span>\\n\\t\\t\\t\\t\\t\\t<i class=\"pm_ico_play\"><span class=\"blind\">재생</span></i>\\n\\t\\t\\t\\t\\t\\t<span class=\"theme_runtime\"><span class=\"runtime_bg\">재생시간</span><em class=\"time\"></em></span>\\n\\t\\t\\t\\t\\t</div>\\n\\t\\t\\t\\t\\t<div class=\"media_info\">\\n\\t\\t\\t\\t\\t\\t<div class=\"info_box\">\\n\\t\\t\\t\\t\\t\\t\\t<strong class=\"title\">[아진엑스텍] 메타버스 의료 인공지능 초저평가 종목 지금 바로 공개합니다</strong>\\n\\t\\t\\t\\t\\t\\t\\t<div class=\"source_wrap\">\\n\\t\\t\\t\\t\\t\\t\\t\\t<span class=\"date\">5일 전</span>\\n\\t\\t\\t\\t\\t\\t\\t\\t<span class=\"source\">\\n                                    \\n                                    <span class=\"source_inner\">갤럭시투자그룹</span>\\n                                </span>\\n\\t\\t\\t\\t\\t\\t\\t</div>\\n\\t\\t\\t\\t\\t\\t</div>\\n\\t\\t\\t\\t\\t</div>\\n\\t\\t\\t\\t</a>\\n\\t\\t\\t\\n\\t\\t</div>\\n\\t</div>\\n</div>\\n<div class=\"group_theme\" data-block-id=\"\" data-block-code=\"PC-THEME-FINANCE-MOBILE-RANKING-DEFAULT-8\" data-block-type=\"MATERIALS\" data-template-code=\"MOBILE-RANKING-LIST\"\\n\\n\\t data-da=\"container\"\\n\\t data-index=\"\"\\n     data-page=\"5\"\\n\\t style=\"display:none\">\\n\\n\\t<div class=\"list_theme_wrap\">\\n\\t\\t<ul class=\"list_theme\">\\n\\t\\t\\t\\n\\t\\t\\t\\t<li class=\"theme_item\" data-gdid=\"C3S_RANKING_https://post.naver.com/viewer/postView.naver?memberNo&#x3D;30808112&amp;volumeNo&#x3D;33139197\" data-da-position=\"true\">\\n\\t\\t\\t\\t\\t<a href=\"https://post.naver.com/viewer/postView.naver?memberNo&#x3D;30808112&amp;volumeNo&#x3D;33139197\" class=\"theme_thumb\" data-clk=\"tcc_fin.list9cont1\" target=\"_blank\">\\n\\t\\t\\t\\t\\t\\t<img  data-src=\"https://s.pstatic.net/dthumb.phinf/?src&#x3D;%22https%3A%2F%2Fs.pstatic.net%2Fpost.phinf%2FMjAyMjAxMTdfNTAg%2FMDAxNjQyNDA2MjM1OTI4.mM2PbsM3Z9rODtdommWMvivqbGm0rw_7d6subc80A68g.mbLlANwBaWKRXP-rDmMALKsJS-4dT_-HQ3lXRn018fUg.JPEG%2FIDSWyPc__G8HdRwDF7iqoPLl6A4w.jpg%3Ftype%3Df339_222_q90%22&amp;type&#x3D;nf340_228\" alt=\"[부동산 인사이트] 똑같아진 양당 부동산 공약, 그대로만 하면 시장 안정된다\" width=\"170\" height=\"114\" onerror=\"this.outerHTML=\\'<span class=\\\\\\'pm_noimg\\\\\\'><span class=\\\\\\'noimg_text\\\\\\'>이미지 준비중</span></span>\\'\">\\n\\t\\t\\t\\t\\t\\t<span class=\"thumb_bd\"></span>\\n                        \\n\\t\\t\\t\\t\\t</a>\\n\\t\\t\\t\\t\\t<a href=\"https://post.naver.com/viewer/postView.naver?memberNo&#x3D;30808112&amp;volumeNo&#x3D;33139197\" class=\"theme_info\" data-clk=\"tcc_fin.list9cont1\" target=\"_blank\">\\n\\t\\t\\t\\t\\t\\t<em class=\"theme_category\"> 경제M</em>\\n\\t\\t\\t\\t\\t\\t<strong class=\"title elss\">[부동산 인사이트] 똑같아진 양당 부동산 공약, 그대로만 하면 시장 안정된다</strong>\\n                        <p class=\"desc\">이재명 더불어민주당 후보, 재개발·재건축 규제 완화 공약 발표…양당 부동산 공약 사실상 차이 없어[비즈한국] 이재명 더불어민주당 대선 후보가 2022년 1월 13일 서울 노원구 상계동의 노후아파트 현장에서 주민들과 정책간담회를 갖고 재개발·재건축 규제 완화 공약을 발표했다. 용적률 상향과 안전진단 기준 하향을 핵심으로 </p>\\n\\t\\t\\t\\t\\t\\t<div class=\"source_box\">\\n\\t\\t\\t\\t\\t\\t\\t<span class=\"date\">어제</span>\\n\\t\\t\\t\\t\\t\\t\\t<span class=\"source\">\\n                                \\n                                <span class=\"source_inner\">비즈한국</span>\\n                            </span>\\n\\t\\t\\t\\t\\t\\t</div>\\n\\t\\t\\t\\t\\t</a>\\n\\t\\t\\t\\t</li>\\n\\t\\t\\t\\n\\t\\t\\t\\t<li class=\"theme_item\" data-gdid=\"C3S_RANKING_https://post.naver.com/viewer/postView.naver?memberNo&#x3D;227984&amp;volumeNo&#x3D;33137943\" data-da-position=\"true\">\\n\\t\\t\\t\\t\\t<a href=\"https://post.naver.com/viewer/postView.naver?memberNo&#x3D;227984&amp;volumeNo&#x3D;33137943\" class=\"theme_thumb\" data-clk=\"tcc_fin.list9cont2\" target=\"_blank\">\\n\\t\\t\\t\\t\\t\\t<img  data-src=\"https://s.pstatic.net/dthumb.phinf/?src&#x3D;%22https%3A%2F%2Fs.pstatic.net%2Fpost.phinf%2FMjAyMjAxMTdfMjU3%2FMDAxNjQyMzk4OTEwNDgw.gdIbu43wZgVTqXk-HjDOSj1LEIO9B5cR6miTI52t5sgg.U-HYsNCE5ZxUBYRup6u_FpYquFCyMqRK8Kwg_4KKiTog.JPEG%2FIxe_MPgJfaj6eiY5yrs4g3E5sg-c.jpg%3Ftype%3Df339_222_q90%22&amp;type&#x3D;nf340_228\" alt=\"김미경 염블리의 주식과외 - 걸그룹 NFT에 몰려드는 투자자\" width=\"170\" height=\"114\" onerror=\"this.outerHTML=\\'<span class=\\\\\\'pm_noimg\\\\\\'><span class=\\\\\\'noimg_text\\\\\\'>이미지 준비중</span></span>\\'\">\\n\\t\\t\\t\\t\\t\\t<span class=\"thumb_bd\"></span>\\n                        \\n\\t\\t\\t\\t\\t</a>\\n\\t\\t\\t\\t\\t<a href=\"https://post.naver.com/viewer/postView.naver?memberNo&#x3D;227984&amp;volumeNo&#x3D;33137943\" class=\"theme_info\" data-clk=\"tcc_fin.list9cont2\" target=\"_blank\">\\n\\t\\t\\t\\t\\t\\t<em class=\"theme_category\"> 경제M</em>\\n\\t\\t\\t\\t\\t\\t<strong class=\"title elss\">김미경 염블리의 주식과외 - 걸그룹 NFT에 몰려드는 투자자</strong>\\n                        <p class=\"desc\">작년 이맘때쯤 2021년 1월에 많은 사람이 주식을 시작했다고 합니다. 그 이유는 바로 삼성전자의 주가 때문인데요. 그렇다면 이 시기부터 주식을 시작한 사람들은 어떤 책을 선호했을까요? 바로 우리 염블리가 쓴 ‘주린이가 알고싶은 최다질문’이라고 합니다. 오늘도 염블리가 주린이들을 위해 어떤 핵심 정보를 쉽게 설명해주실지 한번 살펴볼까요</p>\\n\\t\\t\\t\\t\\t\\t<div class=\"source_box\">\\n\\t\\t\\t\\t\\t\\t\\t<span class=\"date\">어제</span>\\n\\t\\t\\t\\t\\t\\t\\t<span class=\"source\">\\n                                \\n                                <span class=\"source_inner\">MKTV 김미경TV</span>\\n                            </span>\\n\\t\\t\\t\\t\\t\\t</div>\\n\\t\\t\\t\\t\\t</a>\\n\\t\\t\\t\\t</li>\\n\\t\\t\\t\\n\\t\\t\\t\\t<li class=\"theme_item\" data-gdid=\"C3S_RANKING_https://post.naver.com/viewer/postView.naver?memberNo&#x3D;8028&amp;volumeNo&#x3D;33140923\" data-da-position=\"true\">\\n\\t\\t\\t\\t\\t<a href=\"https://post.naver.com/viewer/postView.naver?memberNo&#x3D;8028&amp;volumeNo&#x3D;33140923\" class=\"theme_thumb\" data-clk=\"tcc_fin.list9cont3\" target=\"_blank\">\\n\\t\\t\\t\\t\\t\\t<img  data-src=\"https://s.pstatic.net/dthumb.phinf/?src&#x3D;%22https%3A%2F%2Fs.pstatic.net%2Fpost.phinf%2FMjAyMjAxMTdfMjM5%2FMDAxNjQyNDI4MzQ2MzE3.WdVIA8F85C8WKTfQ7PQpA5O2gLmpoYOY60XS9dbX244g.wo5cxEjJj4HMIyvvOlsb13bEwxKkKNbrPr0UMpMEVKQg.JPEG%2FIx1pIt0izWGz0tAgblY0gtwT33Y8.jpg%3Ftype%3Df339_222_q90%22&amp;type&#x3D;nf340_228\" alt=\"연금 목적으로 부동산 투자를 하는 것이 옳은 선택일까요?\" width=\"170\" height=\"114\" onerror=\"this.outerHTML=\\'<span class=\\\\\\'pm_noimg\\\\\\'><span class=\\\\\\'noimg_text\\\\\\'>이미지 준비중</span></span>\\'\">\\n\\t\\t\\t\\t\\t\\t<span class=\"thumb_bd\"></span>\\n                        \\n\\t\\t\\t\\t\\t</a>\\n\\t\\t\\t\\t\\t<a href=\"https://post.naver.com/viewer/postView.naver?memberNo&#x3D;8028&amp;volumeNo&#x3D;33140923\" class=\"theme_info\" data-clk=\"tcc_fin.list9cont3\" target=\"_blank\">\\n\\t\\t\\t\\t\\t\\t<em class=\"theme_category\"> 경제M</em>\\n\\t\\t\\t\\t\\t\\t<strong class=\"title elss\">연금 목적으로 부동산 투자를 하는 것이 옳은 선택일까요?</strong>\\n                        <p class=\"desc\">최근에 제가 직접 경함한 것을 토대로 아주 개인적인 의견을 적어보겠습니다. 사람이 살아가는 방식에는 정답은 없으니 그냥 이런 의견도 있구나 정도로 생각해 주셨으면 합니다.\\u200b 저는 운이 너무 좋게도 첫 직장의 급여도 남들보다 높았고, 이후에도 운이 좋게도 친구들 보다는 돈을 좀 잘 버는 편이었습니다. 그리고 워낙 돈을 잘 안 쓰는 편이고 통장에 &quot;0</p>\\n\\t\\t\\t\\t\\t\\t<div class=\"source_box\">\\n\\t\\t\\t\\t\\t\\t\\t<span class=\"date\">어제</span>\\n\\t\\t\\t\\t\\t\\t\\t<span class=\"source\">\\n                                \\n                                <span class=\"source_inner\">송정목</span>\\n                            </span>\\n\\t\\t\\t\\t\\t\\t</div>\\n\\t\\t\\t\\t\\t</a>\\n\\t\\t\\t\\t</li>\\n\\t\\t\\t\\n\\t\\t\\t\\t<li class=\"theme_item\" data-gdid=\"C3S_RANKING_https://post.naver.com/viewer/postView.naver?memberNo&#x3D;41757999&amp;volumeNo&#x3D;33137254\" data-da-position=\"true\">\\n\\t\\t\\t\\t\\t<a href=\"https://post.naver.com/viewer/postView.naver?memberNo&#x3D;41757999&amp;volumeNo&#x3D;33137254\" class=\"theme_thumb\" data-clk=\"tcc_fin.list9cont4\" target=\"_blank\">\\n\\t\\t\\t\\t\\t\\t<img  data-src=\"https://s.pstatic.net/dthumb.phinf/?src&#x3D;%22https%3A%2F%2Fs.pstatic.net%2Fpost.phinf%2FMjAyMjAxMTdfMTE2%2FMDAxNjQyMzkyMjcwMzI3.ypGf6_h3P32HJ7hciWtDMoQfTZA0vC9aqU-CMuHsicIg.OCpPJlv2akh1WLBR-fT0Nw-UhlpxxnaOxEG6qJd3glYg.JPEG%2FInZYmZFlB4DiNyhmpTJv7rRNcB4E.jpg%3Ftype%3Df339_222_q90%22&amp;type&#x3D;nf340_228\" alt=\"“경제성장 둔화하고 자산 가격 하락, 저가 매수 기회 잡아라”\" width=\"170\" height=\"114\" onerror=\"this.outerHTML=\\'<span class=\\\\\\'pm_noimg\\\\\\'><span class=\\\\\\'noimg_text\\\\\\'>이미지 준비중</span></span>\\'\">\\n\\t\\t\\t\\t\\t\\t<span class=\"thumb_bd\"></span>\\n                        \\n\\t\\t\\t\\t\\t</a>\\n\\t\\t\\t\\t\\t<a href=\"https://post.naver.com/viewer/postView.naver?memberNo&#x3D;41757999&amp;volumeNo&#x3D;33137254\" class=\"theme_info\" data-clk=\"tcc_fin.list9cont4\" target=\"_blank\">\\n\\t\\t\\t\\t\\t\\t<em class=\"theme_category\"> 경제M</em>\\n\\t\\t\\t\\t\\t\\t<strong class=\"title elss\">“경제성장 둔화하고 자산 가격 하락, 저가 매수 기회 잡아라”</strong>\\n                        <p class=\"desc\">김영익 서강대 경제대학원 교수, 2022년 경제 및 투자 전망“새해가 밝았지만 올해 경제 전망은 그리 밝지 않습니다. 지난해부터 예견된 경제성장 둔화 조짐들이 구체적인 수치로 나타나고 있거든요. 경제지표 가운데 앞으로 경기를 예측하는 선행지수가 있습니다. 경제협력개발기구(OECD)가 발표한 각국 선행지수가 지난해 7월을 정점으로 1</p>\\n\\t\\t\\t\\t\\t\\t<div class=\"source_box\">\\n\\t\\t\\t\\t\\t\\t\\t<span class=\"date\">어제</span>\\n\\t\\t\\t\\t\\t\\t\\t<span class=\"source\">\\n                                \\n                                <span class=\"source_inner\">투벤저스</span>\\n                            </span>\\n\\t\\t\\t\\t\\t\\t</div>\\n\\t\\t\\t\\t\\t</a>\\n\\t\\t\\t\\t</li>\\n\\t\\t\\t\\n\\t\\t\\t\\t<li class=\"theme_item\" data-gdid=\"C3S_RANKING_http://blog.naver.com/ishiseido77/222612121458\" data-da-position=\"true\">\\n\\t\\t\\t\\t\\t<a href=\"http://blog.naver.com/ishiseido77/222612121458\" class=\"theme_thumb\" data-clk=\"tcc_fin.list9cont5\" target=\"_blank\">\\n\\t\\t\\t\\t\\t\\t<img  data-src=\"https://s.pstatic.net/dthumb.phinf/?src&#x3D;%22http%3A%2F%2Fblogfiles.naver.net%2FMjAyMjAxMDNfODQg%2FMDAxNjQxMjEyMTU1ODQ2.hIdzrOh7XmZRKidYSpTKr6gzX5lL5NUuwLIE9M6cN3kg.TI3BHhynSKRAJHs_3fCeuMD3a37LZ-M2XPH9TDgqUdMg.JPEG.ishiseido77%2FG31A1976.JPG%22&amp;type&#x3D;nf340_228\" alt=\"10년 넣은 개인연금저축이 만기 되었다 얼마를 받을 수 있을까\" width=\"170\" height=\"114\" onerror=\"this.outerHTML=\\'<span class=\\\\\\'pm_noimg\\\\\\'><span class=\\\\\\'noimg_text\\\\\\'>이미지 준비중</span></span>\\'\">\\n\\t\\t\\t\\t\\t\\t<span class=\"thumb_bd\"></span>\\n                        \\n\\t\\t\\t\\t\\t</a>\\n\\t\\t\\t\\t\\t<a href=\"http://blog.naver.com/ishiseido77/222612121458\" class=\"theme_info\" data-clk=\"tcc_fin.list9cont5\" target=\"_blank\">\\n\\t\\t\\t\\t\\t\\t<em class=\"theme_category\"> 경제M</em>\\n\\t\\t\\t\\t\\t\\t<strong class=\"title elss\">10년 넣은 개인연금저축이 만기 되었다 얼마를 받을 수 있을까</strong>\\n                        <p class=\"desc\">2011년부터 10년간 매달 252,000원씩 납입했던 개인연금저축이 만기 되었다. 10년 뒤 2032년 12월 29일부터는 언제든 연금을 수령할 수 있고 지정한 예정일은 20년 후인 2042년 12월 29일부터 누적수익률 3.47% 에게... 비용이랑 수수료 떼면 손해 회사 반 본인 반 넣고 있는 개인연금저축은 누적수익률이 17%가 넘는데 어쩜 이리 적은</p>\\n\\t\\t\\t\\t\\t\\t<div class=\"source_box\">\\n\\t\\t\\t\\t\\t\\t\\t<span class=\"date\">2주일 전</span>\\n\\t\\t\\t\\t\\t\\t\\t<span class=\"source\">\\n                                \\n                                <span class=\"source_inner\">블룸앤아이유</span>\\n                            </span>\\n\\t\\t\\t\\t\\t\\t</div>\\n\\t\\t\\t\\t\\t</a>\\n\\t\\t\\t\\t</li>\\n\\t\\t\\t\\n\\t\\t</ul>\\n\\t</div>\\n</div>\\n<div class=\"group_theme\" data-block-id=\"\" data-block-code=\"PC-THEME-FINANCE-MOBILE-RANKING-DEFAULT-9\" data-block-type=\"MATERIALS\" data-template-code=\"MOBILE-RANKING-LIST\"\\n\\n\\t data-da=\"container\"\\n\\t data-index=\"\"\\n     data-page=\"5\"\\n\\t style=\"display:none\">\\n\\n\\t<div class=\"list_theme_wrap\">\\n\\t\\t<ul class=\"list_theme\">\\n\\t\\t\\t\\n\\t\\t\\t\\t<li class=\"theme_item\" data-gdid=\"C3S_RANKING_http://blog.naver.com/agibodami/222606221855\" data-da-position=\"true\">\\n\\t\\t\\t\\t\\t<a href=\"http://blog.naver.com/agibodami/222606221855\" class=\"theme_thumb\" data-clk=\"tcc_fin.list10cont1\" target=\"_blank\">\\n\\t\\t\\t\\t\\t\\t<img  data-src=\"https://s.pstatic.net/dthumb.phinf/?src&#x3D;%22http%3A%2F%2Fblogfiles.naver.net%2FMjAyMTEyMjdfMjQ0%2FMDAxNjQwNTk1NzQwMzU2.K4OHCMFQ5OqfVkS5r_04fuFOPZatjOgHBAnVewd7r78g.UMmBTjgcy7_1WKUn5zRow87QBvpPAVoPpFSu9CiY524g.JPEG.agibodami%2F%EC%A0%81%EA%B8%88%EC%9D%B4%EC%9E%90%EB%86%92%EC%9D%80%EC%9D%80%ED%96%89__1.JPG%22&amp;type&#x3D;nf340_228\" alt=\"적금이자 높은은행 직접 찾아 가입하기\" width=\"170\" height=\"114\" onerror=\"this.outerHTML=\\'<span class=\\\\\\'pm_noimg\\\\\\'><span class=\\\\\\'noimg_text\\\\\\'>이미지 준비중</span></span>\\'\">\\n\\t\\t\\t\\t\\t\\t<span class=\"thumb_bd\"></span>\\n                        \\n\\t\\t\\t\\t\\t</a>\\n\\t\\t\\t\\t\\t<a href=\"http://blog.naver.com/agibodami/222606221855\" class=\"theme_info\" data-clk=\"tcc_fin.list10cont1\" target=\"_blank\">\\n\\t\\t\\t\\t\\t\\t<em class=\"theme_category\"> 경제M</em>\\n\\t\\t\\t\\t\\t\\t<strong class=\"title elss\">적금이자 높은은행 직접 찾아 가입하기</strong>\\n                        <p class=\"desc\">아이 청약통장을 어느 은행에서 만들어야하나 생각중에 적금이자높은은행 검색해봤더니 청약통장을 만들면서 가입하면 특별금리로 5.5% 주는 곳이 있더라고요 신한 마이홈 적금 ! 하이 정기적금 10.00%도 있고 핫딜적금 x 우리카드 10.00% 우리페이 적금 6.00% 등 #적금이자높은은행 검색하니 1p에 상당히 높은 금리를 주는 적금도 있더라고요 세부사항을 꼼</p>\\n\\t\\t\\t\\t\\t\\t<div class=\"source_box\">\\n\\t\\t\\t\\t\\t\\t\\t<span class=\"date\">3주일 전</span>\\n\\t\\t\\t\\t\\t\\t\\t<span class=\"source\">\\n                                \\n                                <span class=\"source_inner\">로맨틱주부</span>\\n                            </span>\\n\\t\\t\\t\\t\\t\\t</div>\\n\\t\\t\\t\\t\\t</a>\\n\\t\\t\\t\\t</li>\\n\\t\\t\\t\\n\\t\\t\\t\\t<li class=\"theme_item\" data-gdid=\"C3S_RANKING_https://post.naver.com/viewer/postView.naver?volumeNo&#x3D;33036744&amp;memberNo&#x3D;47716072&amp;vType&#x3D;VERTICAL\" data-da-position=\"true\">\\n\\t\\t\\t\\t\\t<a href=\"https://post.naver.com/viewer/postView.naver?volumeNo&#x3D;33036744&amp;memberNo&#x3D;47716072&amp;vType&#x3D;VERTICAL\" class=\"theme_thumb\" data-clk=\"tcc_fin.list10cont2\" target=\"_blank\">\\n\\t\\t\\t\\t\\t\\t<img  data-src=\"https://s.pstatic.net/dthumb.phinf/?src&#x3D;%22https%3A%2F%2Fs.pstatic.net%2Fpost.phinf%2FMjAyMTEyMzBfMjkz%2FMDAxNjQwODMyODkwODU3.dNwmqzh0RMnAV2FzEFrildqFt-HfgJIHuiz_CB0kZngg.XbfdLSfC-J5vD_fp_psjCXin-Ufiqm6gV4uUTkZ7Gl0g.JPEG%2FILb-tNg9u0ISEj28E6zsI0t233Jk.jpg%22&amp;type&#x3D;nf340_228\" alt=\"서울대 출신이 9급 공무원 합격 후 들어야 했던 말\" width=\"170\" height=\"114\" onerror=\"this.outerHTML=\\'<span class=\\\\\\'pm_noimg\\\\\\'><span class=\\\\\\'noimg_text\\\\\\'>이미지 준비중</span></span>\\'\">\\n\\t\\t\\t\\t\\t\\t<span class=\"thumb_bd\"></span>\\n                        \\n\\t\\t\\t\\t\\t</a>\\n\\t\\t\\t\\t\\t<a href=\"https://post.naver.com/viewer/postView.naver?volumeNo&#x3D;33036744&amp;memberNo&#x3D;47716072&amp;vType&#x3D;VERTICAL\" class=\"theme_info\" data-clk=\"tcc_fin.list10cont2\" target=\"_blank\">\\n\\t\\t\\t\\t\\t\\t<em class=\"theme_category\"> 경제M</em>\\n\\t\\t\\t\\t\\t\\t<strong class=\"title elss\">서울대 출신이 9급 공무원 합격 후 들어야 했던 말</strong>\\n                        <p class=\"desc\">어릴 때부터 엄마는 우리에게 끊임없이 망하지 않는 법을 가르쳤다 빚내지 마라, 주식하지 마라, 사업하지 마라 아마 인생의 하한선을 정해준 것이다 그 결과 나는 누군가가 쌓아둔 우물 안에 제 발로 들어가 월 168만 원 버는 공무원이 됐고 반면, 동생은 자기만의 울타리를 만들었다 서울대·대기업이라는 타이틀을 벗어 던지고 자기만의 행복에 집중하는 </p>\\n\\t\\t\\t\\t\\t\\t<div class=\"source_box\">\\n\\t\\t\\t\\t\\t\\t\\t<span class=\"date\">2주일 전</span>\\n\\t\\t\\t\\t\\t\\t\\t<span class=\"source\">\\n                                \\n                                <span class=\"source_inner\">PAGE 2</span>\\n                            </span>\\n\\t\\t\\t\\t\\t\\t</div>\\n\\t\\t\\t\\t\\t</a>\\n\\t\\t\\t\\t</li>\\n\\t\\t\\t\\n\\t\\t\\t\\t<li class=\"theme_item\" data-gdid=\"C3S_RANKING_https://post.naver.com/viewer/postView.naver?memberNo&#x3D;42188607&amp;volumeNo&#x3D;33135246\" data-da-position=\"true\">\\n\\t\\t\\t\\t\\t<a href=\"https://post.naver.com/viewer/postView.naver?memberNo&#x3D;42188607&amp;volumeNo&#x3D;33135246\" class=\"theme_thumb\" data-clk=\"tcc_fin.list10cont3\" target=\"_blank\">\\n\\t\\t\\t\\t\\t\\t<img  data-src=\"https://s.pstatic.net/dthumb.phinf/?src&#x3D;%22https%3A%2F%2Fs.pstatic.net%2Fpost.phinf%2FMjAyMjAxMTdfMTI4%2FMDAxNjQyMzc3MTgwOTEw.pn8rWVShxxJJlWdXyy3kAkplGD-NDWa-UQt18KFzNC0g.tYNRdJw9GBq0LOz5LJPHKbbOyh5Btdt7myyN6_MvBg8g.JPEG%2FImgel5iUsglsfBnRcKHgbF-7x3jc.jpg%3Ftype%3Df339_222_q90%22&amp;type&#x3D;nf340_228\" alt=\"산부인과 진료, 이럴 때 실손보험 된다고요?\" width=\"170\" height=\"114\" onerror=\"this.outerHTML=\\'<span class=\\\\\\'pm_noimg\\\\\\'><span class=\\\\\\'noimg_text\\\\\\'>이미지 준비중</span></span>\\'\">\\n\\t\\t\\t\\t\\t\\t<span class=\"thumb_bd\"></span>\\n                        \\n\\t\\t\\t\\t\\t</a>\\n\\t\\t\\t\\t\\t<a href=\"https://post.naver.com/viewer/postView.naver?memberNo&#x3D;42188607&amp;volumeNo&#x3D;33135246\" class=\"theme_info\" data-clk=\"tcc_fin.list10cont3\" target=\"_blank\">\\n\\t\\t\\t\\t\\t\\t<em class=\"theme_category\"> 경제M</em>\\n\\t\\t\\t\\t\\t\\t<strong class=\"title elss\">산부인과 진료, 이럴 때 실손보험 된다고요?</strong>\\n                        <p class=\"desc\">여러분들은 어떤 고질병을 앓고 계시나요? 주변 분들을 보면 주의 깊게 관리해야 하는 질환을 하나쯤은 안고 계시는 것 같은데요. 질병의 원인이야 여러 가지가 있겠지만, 근본적인 원인을 들여다보면 바로 이것. 스트레스로 점철되곤 하는 것 같습니다.여성의 경우, 신체 컨디션 뿐만 아니라 정신적인 상태에 따라 가장 민감하게 영향을 받는 것이 바로 여성 질환이 아닐</p>\\n\\t\\t\\t\\t\\t\\t<div class=\"source_box\">\\n\\t\\t\\t\\t\\t\\t\\t<span class=\"date\">어제</span>\\n\\t\\t\\t\\t\\t\\t\\t<span class=\"source\">\\n                                \\n                                <span class=\"source_inner\">굿리치</span>\\n                            </span>\\n\\t\\t\\t\\t\\t\\t</div>\\n\\t\\t\\t\\t\\t</a>\\n\\t\\t\\t\\t</li>\\n\\t\\t\\t\\n\\t\\t\\t\\t<li class=\"theme_item\" data-gdid=\"C3S_RANKING_https://post.naver.com/viewer/postView.naver?memberNo&#x3D;45336244&amp;volumeNo&#x3D;33136737\" data-da-position=\"true\">\\n\\t\\t\\t\\t\\t<a href=\"https://post.naver.com/viewer/postView.naver?memberNo&#x3D;45336244&amp;volumeNo&#x3D;33136737\" class=\"theme_thumb\" data-clk=\"tcc_fin.list10cont4\" target=\"_blank\">\\n\\t\\t\\t\\t\\t\\t<img  data-src=\"https://s.pstatic.net/dthumb.phinf/?src&#x3D;%22https%3A%2F%2Fs.pstatic.net%2Fpost.phinf%2FMjAyMjAxMTdfNyAg%2FMDAxNjQyMzg3NTY0MTI5.KUXMjmI9giplZgSI5mxaLxT5OnJbiSc4rMrMKK96alkg.UIuF2-xY10VhgC2kxUe0fc_eInQkhoWlS9hgK-hNUlsg.JPEG%2FIdfPU-OT8ehUv7iNzG-5SKJ96zX8.jpg%3Ftype%3Df339_222_q90%22&amp;type&#x3D;nf340_228\" alt=\"지난해 연간 주택매매가격 상승률 급등, 그러나 12월 상승률 낮아져\" width=\"170\" height=\"114\" onerror=\"this.outerHTML=\\'<span class=\\\\\\'pm_noimg\\\\\\'><span class=\\\\\\'noimg_text\\\\\\'>이미지 준비중</span></span>\\'\">\\n\\t\\t\\t\\t\\t\\t<span class=\"thumb_bd\"></span>\\n                        \\n\\t\\t\\t\\t\\t</a>\\n\\t\\t\\t\\t\\t<a href=\"https://post.naver.com/viewer/postView.naver?memberNo&#x3D;45336244&amp;volumeNo&#x3D;33136737\" class=\"theme_info\" data-clk=\"tcc_fin.list10cont4\" target=\"_blank\">\\n\\t\\t\\t\\t\\t\\t<em class=\"theme_category\"> 경제M</em>\\n\\t\\t\\t\\t\\t\\t<strong class=\"title elss\">지난해 연간 주택매매가격 상승률 급등, 그러나 12월 상승률 낮아져</strong>\\n                        <p class=\"desc\">안녕하세요. KB국민은행 KB부동산입니다. ‘KB경영연구소’가 발간하는 2022년 1호 ‘KB부동산시장 리뷰’의 『주거용 부동산시장 동향』을 요약해 드립니다. 주택시장, 토지시장, 주택금융시장을 분야별로 살펴보겠습니다. [주택가격] 2021년 연간 주택매매가격 상승률 2002년 이후 최고치1. 12월 전국 『주택매</p>\\n\\t\\t\\t\\t\\t\\t<div class=\"source_box\">\\n\\t\\t\\t\\t\\t\\t\\t<span class=\"date\">어제</span>\\n\\t\\t\\t\\t\\t\\t\\t<span class=\"source\">\\n                                \\n                                <span class=\"source_inner\">KB부동산</span>\\n                            </span>\\n\\t\\t\\t\\t\\t\\t</div>\\n\\t\\t\\t\\t\\t</a>\\n\\t\\t\\t\\t</li>\\n\\t\\t\\t\\n\\t\\t\\t\\t<li class=\"theme_item\" data-gdid=\"C3S_RANKING_https://post.naver.com/viewer/postView.naver?memberNo&#x3D;34648586&amp;volumeNo&#x3D;33116781\" data-da-position=\"true\">\\n\\t\\t\\t\\t\\t<a href=\"https://post.naver.com/viewer/postView.naver?memberNo&#x3D;34648586&amp;volumeNo&#x3D;33116781\" class=\"theme_thumb\" data-clk=\"tcc_fin.list10cont5\" target=\"_blank\">\\n\\t\\t\\t\\t\\t\\t<img  data-src=\"https://s.pstatic.net/dthumb.phinf/?src&#x3D;%22https%3A%2F%2Fs.pstatic.net%2Fpost.phinf%2FMjAyMjAxMTNfMTU4%2FMDAxNjQyMDQwMzk5NTc3.-tpYkJRZmLw7d7HBVjED2QvKey-DH8GJzFkHghreknIg._IRddBrsrM5WAiMhNECrsD1w2zm3r924Qtg7Ny3nh_Yg.JPEG%2FI0rY_cnmAdnYn9bAwvu28V3Cnbbo.jpg%3Ftype%3Df339_222_q90%22&amp;type&#x3D;nf340_228\" alt=\"신혼부부들이 꼭 지켜야 할 재테크 팁. 무엇이 있을까요?\" width=\"170\" height=\"114\" onerror=\"this.outerHTML=\\'<span class=\\\\\\'pm_noimg\\\\\\'><span class=\\\\\\'noimg_text\\\\\\'>이미지 준비중</span></span>\\'\">\\n\\t\\t\\t\\t\\t\\t<span class=\"thumb_bd\"></span>\\n                        \\n\\t\\t\\t\\t\\t</a>\\n\\t\\t\\t\\t\\t<a href=\"https://post.naver.com/viewer/postView.naver?memberNo&#x3D;34648586&amp;volumeNo&#x3D;33116781\" class=\"theme_info\" data-clk=\"tcc_fin.list10cont5\" target=\"_blank\">\\n\\t\\t\\t\\t\\t\\t<em class=\"theme_category\"> 경제M</em>\\n\\t\\t\\t\\t\\t\\t<strong class=\"title elss\">신혼부부들이 꼭 지켜야 할 재테크 팁. 무엇이 있을까요?</strong>\\n                        <p class=\"desc\">신혼부부들이 꼭 지켜야 할 재테크 팁은 무엇이 있을까요? 이제 결혼한 지 4개월 된 새내기 새댁으로, 신혼과 더불어 시작된 2022년을 행복한 결혼생활을 맞이하고 싶어 남편과 함께 알뜰살뜰하게 살아보자! 라는 계획을 세웠는데, 어떻게 해야 할지 고민이 많습니다. 현재 저희 부부는 결혼 전부터 주식. 코인 투자를 하고 있습니다만 시장이 좋지 않아서 그런지 손</p>\\n\\t\\t\\t\\t\\t\\t<div class=\"source_box\">\\n\\t\\t\\t\\t\\t\\t\\t<span class=\"date\">5일 전</span>\\n\\t\\t\\t\\t\\t\\t\\t<span class=\"source\">\\n                                \\n                                <span class=\"source_inner\">한국경제교육원 주</span>\\n                            </span>\\n\\t\\t\\t\\t\\t\\t</div>\\n\\t\\t\\t\\t\\t</a>\\n\\t\\t\\t\\t</li>\\n\\t\\t\\t\\n\\t\\t</ul>\\n\\t</div>\\n</div>\\n<div class=\"group_theme\" data-block-id=\"\" data-block-code=\"PC-THEME-FINANCE-MOBILE-RANKING-DEFAULT-10\" data-block-type=\"MATERIALS\" data-template-code=\"MOBILE-RANKING-LIST\"\\n\\n\\t data-da=\"container\"\\n\\t data-index=\"\"\\n     data-page=\"6\"\\n\\t style=\"display:none\">\\n\\n\\t<div class=\"list_theme_wrap\">\\n\\t\\t<ul class=\"list_theme\">\\n\\t\\t\\t\\n\\t\\t\\t\\t<li class=\"theme_item\" data-gdid=\"C3S_RANKING_https://post.naver.com/viewer/postView.naver?volumeNo&#x3D;33119644&amp;memberNo&#x3D;28645623&amp;vType&#x3D;VERTICAL\" data-da-position=\"true\">\\n\\t\\t\\t\\t\\t<a href=\"https://post.naver.com/viewer/postView.naver?volumeNo&#x3D;33119644&amp;memberNo&#x3D;28645623&amp;vType&#x3D;VERTICAL\" class=\"theme_thumb\" data-clk=\"tcc_fin.list11cont1\" target=\"_blank\">\\n\\t\\t\\t\\t\\t\\t<img  data-src=\"https://s.pstatic.net/dthumb.phinf/?src&#x3D;%22https%3A%2F%2Fs.pstatic.net%2Fpost.phinf%2FMjAyMjAxMTNfMjAx%2FMDAxNjQyMDYxNTY4MDk3.IyjeZNOGxms_mV3fAH6azpHYbmEwteGWfGKtC513z6sg.a9Yh6Hv-nobCpG62EOx_BfWwsPm6TUlx39dzp4M021Eg.JPEG%2FIwm9EDTSWWjqBZL6Wxxm9ljMlk9E.jpg%22&amp;type&#x3D;nf340_228\" alt=\"현대엔지니어링, &#x27;힐스테이트 동탄 더 테라스&#x27; 정당계약 실시\" width=\"170\" height=\"114\" onerror=\"this.outerHTML=\\'<span class=\\\\\\'pm_noimg\\\\\\'><span class=\\\\\\'noimg_text\\\\\\'>이미지 준비중</span></span>\\'\">\\n\\t\\t\\t\\t\\t\\t<span class=\"thumb_bd\"></span>\\n                        \\n\\t\\t\\t\\t\\t</a>\\n\\t\\t\\t\\t\\t<a href=\"https://post.naver.com/viewer/postView.naver?volumeNo&#x3D;33119644&amp;memberNo&#x3D;28645623&amp;vType&#x3D;VERTICAL\" class=\"theme_info\" data-clk=\"tcc_fin.list11cont1\" target=\"_blank\">\\n\\t\\t\\t\\t\\t\\t<em class=\"theme_category\"> 경제M</em>\\n\\t\\t\\t\\t\\t\\t<strong class=\"title elss\">현대엔지니어링, \\'힐스테이트 동탄 더 테라스\\' 정당계약 실시</strong>\\n                        <p class=\"desc\">오는 24일부터 26일까지 3일간 정당계약 총 125세대 규모 테라스…&#x27;공공지원 민간임대주택&#x27;[증권경제신문&#x3D;길연경 기자] 현대엔지니어링(대표 김창학)이 동탄2신도시에 선보이는 공공지원 민간임대주택인 &#x27;힐스테이트 동탄 더 테라스&#x27;가 오는 24일부터 26일까지 3일간 정당계약을 실시할 예정이다. 힐스테이트 동탄 더 테라스는 동탄2신도</p>\\n\\t\\t\\t\\t\\t\\t<div class=\"source_box\">\\n\\t\\t\\t\\t\\t\\t\\t<span class=\"date\">5일 전</span>\\n\\t\\t\\t\\t\\t\\t\\t<span class=\"source\">\\n                                \\n                                <span class=\"source_inner\">증권경제신문</span>\\n                            </span>\\n\\t\\t\\t\\t\\t\\t</div>\\n\\t\\t\\t\\t\\t</a>\\n\\t\\t\\t\\t</li>\\n\\t\\t\\t\\n\\t\\t\\t\\t<li class=\"theme_item\" data-gdid=\"C3S_RANKING_https://post.naver.com/viewer/postView.naver?memberNo&#x3D;7322715&amp;volumeNo&#x3D;33139569\" data-da-position=\"true\">\\n\\t\\t\\t\\t\\t<a href=\"https://post.naver.com/viewer/postView.naver?memberNo&#x3D;7322715&amp;volumeNo&#x3D;33139569\" class=\"theme_thumb\" data-clk=\"tcc_fin.list11cont2\" target=\"_blank\">\\n\\t\\t\\t\\t\\t\\t<img  data-src=\"https://s.pstatic.net/dthumb.phinf/?src&#x3D;%22https%3A%2F%2Fs.pstatic.net%2Fpost.phinf%2FMjAyMjAxMTdfMTAx%2FMDAxNjQyNDA5MDQ2MjUy.WXH_xd31KTmcdnW2yBRo9HKVTh9FYDYW-P4EEa2g8log.-Hrj0qyqcDbc3pKqCNz4wpU9-NOi3bl84aZGKMdJAh0g.JPEG%2FIil8LJcoMrNfTjjsSIWrwx0I1gcs.jpg%3Ftype%3Df339_222_q90%22&amp;type&#x3D;nf340_228\" alt=\"“금리 또 올랐어?” 가슴 내려앉는 영끌족\" width=\"170\" height=\"114\" onerror=\"this.outerHTML=\\'<span class=\\\\\\'pm_noimg\\\\\\'><span class=\\\\\\'noimg_text\\\\\\'>이미지 준비중</span></span>\\'\">\\n\\t\\t\\t\\t\\t\\t<span class=\"thumb_bd\"></span>\\n                        \\n\\t\\t\\t\\t\\t</a>\\n\\t\\t\\t\\t\\t<a href=\"https://post.naver.com/viewer/postView.naver?memberNo&#x3D;7322715&amp;volumeNo&#x3D;33139569\" class=\"theme_info\" data-clk=\"tcc_fin.list11cont2\" target=\"_blank\">\\n\\t\\t\\t\\t\\t\\t<em class=\"theme_category\"> 경제M</em>\\n\\t\\t\\t\\t\\t\\t<strong class=\"title elss\">“금리 또 올랐어?” 가슴 내려앉는 영끌족</strong>\\n                        <p class=\"desc\">이자부담-집값 하락 압력 커져 한숨#1. 서울 강서구에 사는 워킹맘 이모 씨(31)는 요즘 이자 부담에 밤잠을 설친다. 지난해 2월 3억 원을 대출받아 강서구 아파트를 7억5500만 원에 사들였다. 당시 연 2%대였던 주택담보대출 금리가 올 들어 연 5%대까지로 올랐다. 그는 “육아휴직 중이라 남편 홀로 돈 버는데 원리금을 매달 6</p>\\n\\t\\t\\t\\t\\t\\t<div class=\"source_box\">\\n\\t\\t\\t\\t\\t\\t\\t<span class=\"date\">어제</span>\\n\\t\\t\\t\\t\\t\\t\\t<span class=\"source\">\\n                                \\n                                <span class=\"source_inner\">부자동</span>\\n                            </span>\\n\\t\\t\\t\\t\\t\\t</div>\\n\\t\\t\\t\\t\\t</a>\\n\\t\\t\\t\\t</li>\\n\\t\\t\\t\\n\\t\\t\\t\\t<li class=\"theme_item\" data-gdid=\"C3S_RANKING_https://post.naver.com/viewer/postView.naver?volumeNo&#x3D;33134737&amp;memberNo&#x3D;4846060\" data-da-position=\"true\">\\n\\t\\t\\t\\t\\t<a href=\"https://post.naver.com/viewer/postView.naver?volumeNo&#x3D;33134737&amp;memberNo&#x3D;4846060\" class=\"theme_thumb\" data-clk=\"tcc_fin.list11cont3\" target=\"_blank\">\\n\\t\\t\\t\\t\\t\\t<img  data-src=\"https://s.pstatic.net/dthumb.phinf/?src&#x3D;%22https%3A%2F%2Fs.pstatic.net%2Fstatic%2Fwww%2Fmobile%2Fedit%2F20220117_1095%2Fupload_1642401554327SgPUH.jpg%22&amp;type&#x3D;nf340_228\" alt=\"대출이자 부담 커진 30대 부부, 투자로 수익 내면 괜찮을까?\" width=\"170\" height=\"114\" onerror=\"this.outerHTML=\\'<span class=\\\\\\'pm_noimg\\\\\\'><span class=\\\\\\'noimg_text\\\\\\'>이미지 준비중</span></span>\\'\">\\n\\t\\t\\t\\t\\t\\t<span class=\"thumb_bd\"></span>\\n                        \\n\\t\\t\\t\\t\\t</a>\\n\\t\\t\\t\\t\\t<a href=\"https://post.naver.com/viewer/postView.naver?volumeNo&#x3D;33134737&amp;memberNo&#x3D;4846060\" class=\"theme_info\" data-clk=\"tcc_fin.list11cont3\" target=\"_blank\">\\n\\t\\t\\t\\t\\t\\t<em class=\"theme_category\"> 경제M</em>\\n\\t\\t\\t\\t\\t\\t<strong class=\"title elss\">대출이자 부담 커진 30대 부부, 투자로 수익 내면 괜찮을까?</strong>\\n                        <p class=\"desc\">(본 포스트는 금융감독원 금융자문서비스 상담사례를 바탕으로 재구성되었습니다.)A씨(37세) / 아내 B씨 / 자녀없음 월 수입 620만원 / 비정기수입 1,500만원 주담대 3억원 / 신용대출 1억원 월 지출 510만원 / 연간비용 700만원금리인상기에 원리금 상환 부담스러운데... 투자로 수익을 내면 괜찮을까요?Question</p>\\n\\t\\t\\t\\t\\t\\t<div class=\"source_box\">\\n\\t\\t\\t\\t\\t\\t\\t<span class=\"date\">2일 전</span>\\n\\t\\t\\t\\t\\t\\t\\t<span class=\"source\">\\n                                \\n                                <span class=\"source_inner\">한국FP협회</span>\\n                            </span>\\n\\t\\t\\t\\t\\t\\t</div>\\n\\t\\t\\t\\t\\t</a>\\n\\t\\t\\t\\t</li>\\n\\t\\t\\t\\n\\t\\t\\t\\t<li class=\"theme_item\" data-gdid=\"C3S_RANKING_https://post.naver.com/viewer/postView.naver?memberNo&#x3D;46184800&amp;volumeNo&#x3D;33135603\" data-da-position=\"true\">\\n\\t\\t\\t\\t\\t<a href=\"https://post.naver.com/viewer/postView.naver?memberNo&#x3D;46184800&amp;volumeNo&#x3D;33135603\" class=\"theme_thumb\" data-clk=\"tcc_fin.list11cont4\" target=\"_blank\">\\n\\t\\t\\t\\t\\t\\t<img  data-src=\"https://s.pstatic.net/dthumb.phinf/?src&#x3D;%22https%3A%2F%2Fs.pstatic.net%2Fpost.phinf%2FMjAyMjAxMTdfMTM0%2FMDAxNjQyMzgwNDg5NDMz.0KRnSzEB8jXNBUAj3Xu-qvn-rHyPln9lifPNHk1CPFQg.pK_VYEku3iZ-vRrGifx25ODW8JISaF-kOACieL5NcVEg.JPEG%2FI5QxW_L2EZl4ZotoeeD40QGHgx8I.jpg%3Ftype%3Df339_222_q90%22&amp;type&#x3D;nf340_228\" alt=\"“금리 또 올랐어?” 가슴 내려앉는 영끌족\" width=\"170\" height=\"114\" onerror=\"this.outerHTML=\\'<span class=\\\\\\'pm_noimg\\\\\\'><span class=\\\\\\'noimg_text\\\\\\'>이미지 준비중</span></span>\\'\">\\n\\t\\t\\t\\t\\t\\t<span class=\"thumb_bd\"></span>\\n                        \\n\\t\\t\\t\\t\\t</a>\\n\\t\\t\\t\\t\\t<a href=\"https://post.naver.com/viewer/postView.naver?memberNo&#x3D;46184800&amp;volumeNo&#x3D;33135603\" class=\"theme_info\" data-clk=\"tcc_fin.list11cont4\" target=\"_blank\">\\n\\t\\t\\t\\t\\t\\t<em class=\"theme_category\"> 경제M</em>\\n\\t\\t\\t\\t\\t\\t<strong class=\"title elss\">“금리 또 올랐어?” 가슴 내려앉는 영끌족</strong>\\n                        <p class=\"desc\">#1. 서울 강서구에 사는 워킹맘 이모 씨(31)는 요즘 이자 부담에 밤잠을 설친다. 지난해 2월 3억 원을 대출받아 강서구 아파트를 7억5500만 원에 사들였다. 당시 연 2%대였던 주택담보대출 금리가 올 들어 연 5%대까지로 올랐다. 그는 “육아휴직 중이라 남편 홀로 돈 버는데 원리금을 매달 60만 원 더 내게 됐다”</p>\\n\\t\\t\\t\\t\\t\\t<div class=\"source_box\">\\n\\t\\t\\t\\t\\t\\t\\t<span class=\"date\">2일 전</span>\\n\\t\\t\\t\\t\\t\\t\\t<span class=\"source\">\\n                                \\n                                <span class=\"source_inner\">트렌드DA</span>\\n                            </span>\\n\\t\\t\\t\\t\\t\\t</div>\\n\\t\\t\\t\\t\\t</a>\\n\\t\\t\\t\\t</li>\\n\\t\\t\\t\\n\\t\\t\\t\\t<li class=\"theme_item\" data-gdid=\"C3S_RANKING_https://post.naver.com/viewer/postView.naver?memberNo&#x3D;18265860&amp;volumeNo&#x3D;33141049\" data-da-position=\"true\">\\n\\t\\t\\t\\t\\t<a href=\"https://post.naver.com/viewer/postView.naver?memberNo&#x3D;18265860&amp;volumeNo&#x3D;33141049\" class=\"theme_thumb\" data-clk=\"tcc_fin.list11cont5\" target=\"_blank\">\\n\\t\\t\\t\\t\\t\\t<img  data-src=\"https://s.pstatic.net/dthumb.phinf/?src&#x3D;%22https%3A%2F%2Fs.pstatic.net%2Fpost.phinf%2FMjAyMjAxMTdfMTk0%2FMDAxNjQyNDMwNTMyNDUx.NPuvQmvSAurxo1nK92Xf6kkFam08uZVHMjgu502I0e8g.dLBkOSIQ33j2fDKusNNOdmJlmW7QvXC0qDXKj9DVcrAg.JPEG%2FI8anRVzf6qZOZEHl34rOCDiYGF3Y.jpg%3Ftype%3Df339_222_q90%22&amp;type&#x3D;nf340_228\" alt=\"포스트 코로나 팬더믹 이후 여행하고 싶은 TOP 10 도시들!\" width=\"170\" height=\"114\" onerror=\"this.outerHTML=\\'<span class=\\\\\\'pm_noimg\\\\\\'><span class=\\\\\\'noimg_text\\\\\\'>이미지 준비중</span></span>\\'\">\\n\\t\\t\\t\\t\\t\\t<span class=\"thumb_bd\"></span>\\n                        \\n\\t\\t\\t\\t\\t</a>\\n\\t\\t\\t\\t\\t<a href=\"https://post.naver.com/viewer/postView.naver?memberNo&#x3D;18265860&amp;volumeNo&#x3D;33141049\" class=\"theme_info\" data-clk=\"tcc_fin.list11cont5\" target=\"_blank\">\\n\\t\\t\\t\\t\\t\\t<em class=\"theme_category\"> 경제M</em>\\n\\t\\t\\t\\t\\t\\t<strong class=\"title elss\">포스트 코로나 팬더믹 이후 여행하고 싶은 TOP 10 도시들!</strong>\\n                        <p class=\"desc\">팬데믹 이후의 삶을 위한 10가지 여행지에 대해서, 2020년 3월 11일, 세계보건기구(WHO)는 공식적으로 COVID-19 발병을 팬데믹(세계적 대유행)으로 분류했습니다. 그로 인한 여행 금지 조치는 관광 산업을 마비시켰고 국제 항공 여행 은 처음에 98% 나 감소했습니다 . 거의 2년 후, 고려해야 할 많은 제한 사항이 있지만 마침내 여행이 다시 시작</p>\\n\\t\\t\\t\\t\\t\\t<div class=\"source_box\">\\n\\t\\t\\t\\t\\t\\t\\t<span class=\"date\">어제</span>\\n\\t\\t\\t\\t\\t\\t\\t<span class=\"source\">\\n                                \\n                                <span class=\"source_inner\">Master Your Space</span>\\n                            </span>\\n\\t\\t\\t\\t\\t\\t</div>\\n\\t\\t\\t\\t\\t</a>\\n\\t\\t\\t\\t</li>\\n\\t\\t\\t\\n\\t\\t</ul>\\n\\t</div>\\n</div>\\n<div class=\"group_theme\" data-block-id=\"\" data-block-code=\"PC-THEME-FINANCE-MOBILE-RANKING-DEFAULT-11\" data-block-type=\"MATERIALS\" data-template-code=\"MOBILE-RANKING-LIST\"\\n\\n\\t data-da=\"container\"\\n\\t data-index=\"\"\\n     data-page=\"6\"\\n\\t style=\"display:none\">\\n\\n\\t<div class=\"list_theme_wrap\">\\n\\t\\t<ul class=\"list_theme\">\\n\\t\\t\\t\\n\\t\\t\\t\\t<li class=\"theme_item\" data-gdid=\"C3S_RANKING_https://post.naver.com/viewer/postView.naver?volumeNo&#x3D;33081481&amp;memberNo&#x3D;38678858&amp;vType&#x3D;VERTICAL\" data-da-position=\"true\">\\n\\t\\t\\t\\t\\t<a href=\"https://post.naver.com/viewer/postView.naver?volumeNo&#x3D;33081481&amp;memberNo&#x3D;38678858&amp;vType&#x3D;VERTICAL\" class=\"theme_thumb\" data-clk=\"tcc_fin.list12cont1\" target=\"_blank\">\\n\\t\\t\\t\\t\\t\\t<img  data-src=\"https://s.pstatic.net/dthumb.phinf/?src&#x3D;%22https%3A%2F%2Fs.pstatic.net%2Fpost.phinf%2FMjAyMjAxMDdfMjEg%2FMDAxNjQxNTEzODA0OTI0.-9sUy9ofwgHuaBT-1FLnvKmV6ThI1B8Jd0wys1U566wg.P7BMPZiaIVvn7JI1iLnzfpryIF0Z786we0YOGdwPWdUg.PNG%2FIJvyBNVT4OnMYUW5sUGQupIhW-70.jpg%22&amp;type&#x3D;nf340_228\" alt=\"[랭킹스탁] 지금이 기회? 52주 신저가 기록한 20선\" width=\"170\" height=\"114\" onerror=\"this.outerHTML=\\'<span class=\\\\\\'pm_noimg\\\\\\'><span class=\\\\\\'noimg_text\\\\\\'>이미지 준비중</span></span>\\'\">\\n\\t\\t\\t\\t\\t\\t<span class=\"thumb_bd\"></span>\\n                        \\n\\t\\t\\t\\t\\t</a>\\n\\t\\t\\t\\t\\t<a href=\"https://post.naver.com/viewer/postView.naver?volumeNo&#x3D;33081481&amp;memberNo&#x3D;38678858&amp;vType&#x3D;VERTICAL\" class=\"theme_info\" data-clk=\"tcc_fin.list12cont1\" target=\"_blank\">\\n\\t\\t\\t\\t\\t\\t<em class=\"theme_category\"> 경제M</em>\\n\\t\\t\\t\\t\\t\\t<strong class=\"title elss\">[랭킹스탁] 지금이 기회? 52주 신저가 기록한 20선</strong>\\n                        <p class=\"desc\">6일 코스피와 코스닥은 각각 1.13%, 2.9% 하락했다. 특히, 코스닥은 올해 들어 5.19% 하락하며 투자자의 간담을 서늘하게 한다. 주식시장은 오르내린다. 이는 자연스러운 시장의 현상이다. 투자자는 이 특징을 본인에게 최대한 유리하게 이용해야 한다. 우리가 주식투자 공부를 해야 하는 이유다. 투자 공부를 통해 합리적 사고력을 키워 시장의 등락을 현명</p>\\n\\t\\t\\t\\t\\t\\t<div class=\"source_box\">\\n\\t\\t\\t\\t\\t\\t\\t<span class=\"date\">1주일 전</span>\\n\\t\\t\\t\\t\\t\\t\\t<span class=\"source\">\\n                                \\n                                <span class=\"source_inner\">아이투자</span>\\n                            </span>\\n\\t\\t\\t\\t\\t\\t</div>\\n\\t\\t\\t\\t\\t</a>\\n\\t\\t\\t\\t</li>\\n\\t\\t\\t\\n\\t\\t\\t\\t<li class=\"theme_item\" data-gdid=\"C3S_RANKING_https://post.naver.com/viewer/postView.naver?memberNo&#x3D;11919328&amp;volumeNo&#x3D;33124872\" data-da-position=\"true\">\\n\\t\\t\\t\\t\\t<a href=\"https://post.naver.com/viewer/postView.naver?memberNo&#x3D;11919328&amp;volumeNo&#x3D;33124872\" class=\"theme_thumb\" data-clk=\"tcc_fin.list12cont2\" target=\"_blank\">\\n\\t\\t\\t\\t\\t\\t<img  data-src=\"https://s.pstatic.net/dthumb.phinf/?src&#x3D;%22https%3A%2F%2Fs.pstatic.net%2Fpost.phinf%2FMjAyMjAxMTRfNzgg%2FMDAxNjQyMTM2MTUzOTIz.fXqDNh2tAKx1iuYvJ6jeYuBnczWRuK1hoepOE5Sz4HMg.paVV5kxm6enRb6b2J5VH7Kgvcwj-HlkbQZ28oleGRA8g.JPEG%2FIY-e__wsanCMY4yTilSRtyP5noLA.jpg%3Ftype%3Df339_222_q90%22&amp;type&#x3D;nf340_228\" alt=\"비트코인 가격 이대로 주저앉나? 상승 반전할까?\" width=\"170\" height=\"114\" onerror=\"this.outerHTML=\\'<span class=\\\\\\'pm_noimg\\\\\\'><span class=\\\\\\'noimg_text\\\\\\'>이미지 준비중</span></span>\\'\">\\n\\t\\t\\t\\t\\t\\t<span class=\"thumb_bd\"></span>\\n                        \\n\\t\\t\\t\\t\\t</a>\\n\\t\\t\\t\\t\\t<a href=\"https://post.naver.com/viewer/postView.naver?memberNo&#x3D;11919328&amp;volumeNo&#x3D;33124872\" class=\"theme_info\" data-clk=\"tcc_fin.list12cont2\" target=\"_blank\">\\n\\t\\t\\t\\t\\t\\t<em class=\"theme_category\"> 경제M</em>\\n\\t\\t\\t\\t\\t\\t<strong class=\"title elss\">비트코인 가격 이대로 주저앉나? 상승 반전할까?</strong>\\n                        <p class=\"desc\">대표 가상화폐인 비트코인이 끝없는 하락세를 이어가고 있다. 요 며칠 새 상승 반전하는가 싶더니, 이내 다시 주저앉았다. 향후 전망에 대해선 ‘긍정론’과 ‘부정론’이 교차한다. 다만, 과거에 비해 우려의 시선이 빠르게 번지고 있다. 14일 글로벌 코인시황 중계사이트인 코인마켓캡에서 비트코인은 이날 오전 7시(</p>\\n\\t\\t\\t\\t\\t\\t<div class=\"source_box\">\\n\\t\\t\\t\\t\\t\\t\\t<span class=\"date\">4일 전</span>\\n\\t\\t\\t\\t\\t\\t\\t<span class=\"source\">\\n                                \\n                                <span class=\"source_inner\">아주경제</span>\\n                            </span>\\n\\t\\t\\t\\t\\t\\t</div>\\n\\t\\t\\t\\t\\t</a>\\n\\t\\t\\t\\t</li>\\n\\t\\t\\t\\n\\t\\t\\t\\t<li class=\"theme_item\" data-gdid=\"C3S_RANKING_https://post.naver.com/viewer/postView.naver?volumeNo&#x3D;32981338&amp;memberNo&#x3D;36310338&amp;vType&#x3D;VERTICAL\" data-da-position=\"true\">\\n\\t\\t\\t\\t\\t<a href=\"https://post.naver.com/viewer/postView.naver?volumeNo&#x3D;32981338&amp;memberNo&#x3D;36310338&amp;vType&#x3D;VERTICAL\" class=\"theme_thumb\" data-clk=\"tcc_fin.list12cont3\" target=\"_blank\">\\n\\t\\t\\t\\t\\t\\t<img  data-src=\"https://s.pstatic.net/dthumb.phinf/?src&#x3D;%22https%3A%2F%2Fs.pstatic.net%2Fpost.phinf%2FMjAyMTEyMjFfMTQ5%2FMDAxNjQwMDQ1NTA1MzY5.OLlS1L6V4rQYPTUKI9ihw7n6t15tmGWycPweQbjAcQAg.czhNAI1ZEFJHcysrlpUPfu6Z3xEgu4cCVrWsGeE3jFIg.JPEG%2FI4-NPgQ1Wz0tcZplgpKk5-tlo8II.jpg%22&amp;type&#x3D;nf340_228\" alt=\"&quot;호가 5천만원 낮춰도 안 나가요&quot;…매매 &#x27;뚝&#x27;, 갈아타는 사람들 발동동\" width=\"170\" height=\"114\" onerror=\"this.outerHTML=\\'<span class=\\\\\\'pm_noimg\\\\\\'><span class=\\\\\\'noimg_text\\\\\\'>이미지 준비중</span></span>\\'\">\\n\\t\\t\\t\\t\\t\\t<span class=\"thumb_bd\"></span>\\n                        \\n\\t\\t\\t\\t\\t</a>\\n\\t\\t\\t\\t\\t<a href=\"https://post.naver.com/viewer/postView.naver?volumeNo&#x3D;32981338&amp;memberNo&#x3D;36310338&amp;vType&#x3D;VERTICAL\" class=\"theme_info\" data-clk=\"tcc_fin.list12cont3\" target=\"_blank\">\\n\\t\\t\\t\\t\\t\\t<em class=\"theme_category\"> 경제M</em>\\n\\t\\t\\t\\t\\t\\t<strong class=\"title elss\">\"호가 5천만원 낮춰도 안 나가요\"…매매 \\'뚝\\', 갈아타는 사람들 발동동</strong>\\n                        <p class=\"desc\">#내년 2월 이사를 앞두고 있는 이모(38)씨는 집을 보러 오는 사람이 한 명도 없어서 고민이다. 최근에 매매가를 5000만원 낮췄는데도 전화 문의 조차 없다. 일시적 1가구 2주택인 이씨는 지금 살고 있는 집을 팔아서 잔금을 치르고 양도세 비과세 혜택을 받을 생각이었다. 이씨는 지금보다 4000만원 정도 더 낮출까 생각하고 있다. 그래도 거래가 안 되면 </p>\\n\\t\\t\\t\\t\\t\\t<div class=\"source_box\">\\n\\t\\t\\t\\t\\t\\t\\t<span class=\"date\">3주일 전</span>\\n\\t\\t\\t\\t\\t\\t\\t<span class=\"source\">\\n                                \\n                                <span class=\"source_inner\">머니투데이</span>\\n                            </span>\\n\\t\\t\\t\\t\\t\\t</div>\\n\\t\\t\\t\\t\\t</a>\\n\\t\\t\\t\\t</li>\\n\\t\\t\\t\\n\\t\\t\\t\\t<li class=\"theme_item\" data-gdid=\"C3S_RANKING_https://post.naver.com/viewer/postView.naver?volumeNo&#x3D;32983719&amp;memberNo&#x3D;15470144&amp;vType&#x3D;VERTICAL\" data-da-position=\"true\">\\n\\t\\t\\t\\t\\t<a href=\"https://post.naver.com/viewer/postView.naver?volumeNo&#x3D;32983719&amp;memberNo&#x3D;15470144&amp;vType&#x3D;VERTICAL\" class=\"theme_thumb\" data-clk=\"tcc_fin.list12cont4\" target=\"_blank\">\\n\\t\\t\\t\\t\\t\\t<img  data-src=\"https://s.pstatic.net/dthumb.phinf/?src&#x3D;%22https%3A%2F%2Fs.pstatic.net%2Fpost.phinf%2FMjAyMTEyMjFfMjkx%2FMDAxNjQwMDYzMDg4OTc2.49_iJghmknK1xR-cOgRMnA4Iwg9p7nrZEKI7jx_Hq70g.ZgRVEx9c7V10YnhU5e4Y-_xEoM1cIDrGMQCoV-nGgtkg.JPEG%2FI1h52CwUYGTGtd2fsY5lNjKeeNko.jpg%22&amp;type&#x3D;nf340_228\" alt=\"화성·안양 4개월만에 실거래가 3억 ‘급락’\" width=\"170\" height=\"114\" onerror=\"this.outerHTML=\\'<span class=\\\\\\'pm_noimg\\\\\\'><span class=\\\\\\'noimg_text\\\\\\'>이미지 준비중</span></span>\\'\">\\n\\t\\t\\t\\t\\t\\t<span class=\"thumb_bd\"></span>\\n                        \\n\\t\\t\\t\\t\\t</a>\\n\\t\\t\\t\\t\\t<a href=\"https://post.naver.com/viewer/postView.naver?volumeNo&#x3D;32983719&amp;memberNo&#x3D;15470144&amp;vType&#x3D;VERTICAL\" class=\"theme_info\" data-clk=\"tcc_fin.list12cont4\" target=\"_blank\">\\n\\t\\t\\t\\t\\t\\t<em class=\"theme_category\"> 경제M</em>\\n\\t\\t\\t\\t\\t\\t<strong class=\"title elss\">화성·안양 4개월만에 실거래가 3억 ‘급락’</strong>\\n                        <p class=\"desc\">수도권광역고속철도(GTX) 기대감으로 올해 아파트값이 급등한 경기 화성과 안양, 동두천 등 지역에서 고점 대비 수억원 하락한 단지가 나오고 있다. 대출규제 강화와 금리 인상 등 정부의 돈줄 죄기에 매수 심리가 크게 꺾이면서 수도권 아파트값 하락세가 확산될 수 있다는 분석이 나온다.21일 국토교통부 실거래가 공개시스템에 따르면 경기도 화성시 청</p>\\n\\t\\t\\t\\t\\t\\t<div class=\"source_box\">\\n\\t\\t\\t\\t\\t\\t\\t<span class=\"date\">4주일 전</span>\\n\\t\\t\\t\\t\\t\\t\\t<span class=\"source\">\\n                                \\n                                <span class=\"source_inner\">브릿지경제</span>\\n                            </span>\\n\\t\\t\\t\\t\\t\\t</div>\\n\\t\\t\\t\\t\\t</a>\\n\\t\\t\\t\\t</li>\\n\\t\\t\\t\\n\\t\\t\\t\\t<li class=\"theme_item\" data-gdid=\"C3S_RANKING_https://post.naver.com/viewer/postView.naver?memberNo&#x3D;28983946&amp;volumeNo&#x3D;33140597\" data-da-position=\"true\">\\n\\t\\t\\t\\t\\t<a href=\"https://post.naver.com/viewer/postView.naver?memberNo&#x3D;28983946&amp;volumeNo&#x3D;33140597\" class=\"theme_thumb\" data-clk=\"tcc_fin.list12cont5\" target=\"_blank\">\\n\\t\\t\\t\\t\\t\\t<img  data-src=\"https://s.pstatic.net/dthumb.phinf/?src&#x3D;%22https%3A%2F%2Fs.pstatic.net%2Fpost.phinf%2FMjAyMjAxMTdfNCAg%2FMDAxNjQyNDIyNjIyNDEx.d-10cWv3mTOaI8DoQ52uQ5kGIontioXDeK_pBqR1Q8Qg.yWwsZzQzaSil8QXFqCbK9AilxXxGBWeVBCox-ZVRdCog.PNG%2FIoxQVPGfGd7Tn5NNHc4weUUwViW8.jpg%3Ftype%3Df339_222_q90%22&amp;type&#x3D;nf340_228\" alt=\"삼성웰스토리, 최대 실적에도 성과급 ‘0’···직원들 ‘부글부글’ 왜?\" width=\"170\" height=\"114\" onerror=\"this.outerHTML=\\'<span class=\\\\\\'pm_noimg\\\\\\'><span class=\\\\\\'noimg_text\\\\\\'>이미지 준비중</span></span>\\'\">\\n\\t\\t\\t\\t\\t\\t<span class=\"thumb_bd\"></span>\\n                        \\n\\t\\t\\t\\t\\t</a>\\n\\t\\t\\t\\t\\t<a href=\"https://post.naver.com/viewer/postView.naver?memberNo&#x3D;28983946&amp;volumeNo&#x3D;33140597\" class=\"theme_info\" data-clk=\"tcc_fin.list12cont5\" target=\"_blank\">\\n\\t\\t\\t\\t\\t\\t<em class=\"theme_category\"> 경제M</em>\\n\\t\\t\\t\\t\\t\\t<strong class=\"title elss\">삼성웰스토리, 최대 실적에도 성과급 ‘0’···직원들 ‘부글부글’ 왜?</strong>\\n                        <p class=\"desc\">공정위 과징금 960억원으로 사상 첫 순손실 최대 실적 올리고도 성과 인센티브 ‘미지급’ 직원들 “회사 책임을 왜 우리에게 전가하는가”공정거래위원회로부터 과징금 철퇴를 맞은 삼성웰스토리가 극심한 후폭풍을 겪고 있다. 수백억원 대의 과징금 납부로 사상 최대 매출에도 웃지 못했다. 사상 첫 순손실을 냈고, 임직원 인센</p>\\n\\t\\t\\t\\t\\t\\t<div class=\"source_box\">\\n\\t\\t\\t\\t\\t\\t\\t<span class=\"date\">어제</span>\\n\\t\\t\\t\\t\\t\\t\\t<span class=\"source\">\\n                                \\n                                <span class=\"source_inner\">뉴스웨이</span>\\n                            </span>\\n\\t\\t\\t\\t\\t\\t</div>\\n\\t\\t\\t\\t\\t</a>\\n\\t\\t\\t\\t</li>\\n\\t\\t\\t\\n\\t\\t</ul>\\n\\t</div>\\n</div>\\n\\n\\n\\n\\n\\t<div class=\"btn_more_wrap\">\\n\\t\\t<button type=\"button\" class=\"btn_more\" data-clk-custom=\"tcc_fin.more\" data-next-page=\"2\"><i class=\"ico_more\"></i>새로운 글 더보기</button>\\n\\t</div>\\n\\n\\n<div class=\"NM_THEME_META\" style=\"display: none\" data-panel-code=\"FINANCE\" data-parent-code=\"\"></div>\\n\\n\\t</div>\\n</div>\\n </div> </div> <div id=\"NM_INT_RIGHT\" class=\"column_right\"> <div class=\"column_fix_wrap\"> <div id=\"da_brand\"></div> \\n\\n\\n\\n\\n<div id=\"account\" class=\"sc_login\">\\n<h2 class=\"blind\">Sign in</h2>\\n<p class=\"login_msg\">Connect with people</p>\\n<a href=\"https://nid.naver.com/nidlogin.login?mode=form&url=https%3A%2F%2Fwww.naver.com\" class=\"link_login\" data-clk=\"log_off.login\"><i class=\"ico_naver\"><span class=\"blind\">NAVER</span></i>Sign in</a>\\n<div class=\"sub_area\">\\n<div class=\"look_box\">\\n<a href=\"https://nid.naver.com/user/help.nhn?todo=idinquiry\" class=\"link_look\" data-clk=\"log_off.searchid\">Forgot Username</a>\\n<a href=\"https://nid.naver.com/nidreminder.form\" class=\"link_look\" data-clk=\"log_off.searchpass\">Password</a>\\n</div>\\n<a href=\"https://nid.naver.com/nidregister.form?url=https%3A%2F%2Fwww.naver.com\" class=\"link_join\" data-clk=\"log_off.registration\">Sign up</a>\\n</div>\\n</div>\\n\\n\\n\\n <div id=\"timesquare\" class=\"sc_timesquare\"> <h2 class=\"blind\">타임스퀘어</h2> <div class=\"card_wrap\">\\n<div class=\"card_nav\">\\n<a href=\"#\" role=\"button\" class=\"btn_nav btn_prev\" data-clk=\"squ.pre\"><span class=\"blind\">이전</span></a>\\n<a href=\"#\" role=\"button\" class=\"btn_nav btn_next\" data-clk=\"squ.next\"><span class=\"blind\">다음</span></a>\\n</div>\\n<div id=\"NM_TS_ROLLING_WRAP\" style=\"height: 100%;\">\\n<div>\\n<a href=\"https://news.naver.com/main/home.nhn\" class=\"card_news\" data-clk=\"squ.line2\"><i class=\"news_badge type_flash\">신문1면</i><span class=\"news\">언론사 헤드라인 보기</span></a>\\n</div>\\n<div>\\n<a href=\"https://search.naver.com/search.naver?sm=top_hty&amp;fbm=0&amp;ie=utf8&amp;query=%EC%BD%94%EB%A1%9C%EB%82%9819\" class=\"card_news\" data-clk=\"squ.line3\"><i class=\"news_badge\">이슈</i><span class=\"news\">코로나바이러스감염증-19 현황</span></a>\\n</div>\\n<div>\\n<a href=\"https://campaign.naver.com/collect_v2/?target=https%3A%2F%2Fcampaign.naver.com%2Fnaverapp%2Fqrpass&pcode=Naver_loginbottom_1&event_id=qr\" class=\"card_notice\" data-clk=\"squ.covidqrcheckin\"><span class=\"notice\"><i class=\"ico_qrcode\"></i><strong>쉬운 방역패스</strong>를 위한 <strong>바로가기 설치</strong> 안내</span></a>\\n</div>\\n<div>\\n<a href=\"https://finance.naver.com/sise/sise_index.nhn?code=KOSPI\" class=\"card_stock \" data-clk=\"squ.kospi\">\\n<strong class=\"stock_title\">증시</strong>\\n<div class=\"stock_box\">\\n<em class=\"name\">코스피</em>\\n<strong class=\"current\">2,861.85</strong>\\n<span class=\"rate rate_down\">2.39 -0.08%</span>\\n</div>\\n</a>\\n</div>\\n<div>\\n<a href=\"https://finance.naver.com/sise/sise_index.nhn?code=KOSDAQ\" class=\"card_stock \" data-clk=\"squ.kosdaq\">\\n<strong class=\"stock_title\">증시</strong>\\n<div class=\"stock_box\">\\n<em class=\"name\">코스닥</em>\\n<strong class=\"current\">938.72</strong>\\n<span class=\"rate rate_down\">5.22 -0.55%</span>\\n</div>\\n</a>\\n</div>\\n<div>\\n<a href=\"https://finance.naver.com/marketindex/exchangeDetail.nhn?marketindexCd=FX_USDKRW\" class=\"card_stock type_exchange\" data-clk=\"squ.usd\">\\n<strong class=\"stock_title\">환율</strong>\\n<div class=\"stock_box\">\\n<em class=\"name\">USD</em>\\n<strong class=\"current\">1,191.40</strong>\\n<span class=\"rate rate_down\">1.10 -0.09%</span>\\n</div>\\n</a>\\n</div>\\n</div>\\n</div> <!-- EMPTY --> </div> <div id=\"veta_branding\"> <div id=\"veta_branding_inner\" style=\"width:350px;height:200px\"> </div> <span class=\"veta_bd_t\"></span> <span class=\"veta_bd_b\"></span> <span class=\"veta_bd_l\"></span> <span class=\"veta_bd_r\"></span> </div> <div id=\"shopcast\" class=\"sc_shopcast\"> <iframe id=\"shopcast_iframe\" data-iframe-src=\"/shoppingbox/shoppingboxnew/main.nhn?domain=N\" title=\"쇼핑캐스트\" width=\"350\" height=\"1539\" marginheight=\"0\" marginwidth=\"0\" scrolling=\"no\" frameborder=\"0\"></iframe> </div> </div> </div> <a id=\"NM_scroll_top_btn\" href=\"#wrap\" class=\"content_top\"><span class=\"blind\">TOP</span></a> <button id=\"NM_darkmode_btn\" type=\"button\" role=\"button\" class=\"btn_theme\" aria-pressed=\"false\"  > <span class=\"blind\">라이트 모드로 보기</span> </button> </div> <div id=\"footer\" role=\"contentinfo\"> <div class=\"footer_inner\"> <div id=\"NM-FOOTER-AD\" class=\"banner_area\"> <div class=\"da_box_wrap\"> <div id=\"da_public_left\"> </div> <div id=\"da_public_right\"> </div> <div id=\"veta_time2\"> </div> </div> </div> <div class=\"notice_area\" data-clk-prefix=\"ntc\"> <div class=\"notice_box\"> <h3 class=\"title\"><a href=\"https://www.naver.com/NOTICE\">공지사항</a> </h3> <!-- EMPTY --> </div> <a href=\"more.html\" class=\"link_all\" data-clk=\"svcmap\">서비스 전체보기</a> </div> <div class=\"aside_area\"> <div class=\"partner_box_wrap\"> <div class=\"partner_box\" data-clk-prefix=\"crt\"> <h3 class=\"title\">Creators</h3> <a href=\"https://www.navercorp.com/service/creators\" class=\"link_partner\" data-clk=\"creator\">크리에이터</a> <a href=\"https://www.navercorp.com/service/business\" class=\"link_partner\" data-clk=\"smbusiness\">스몰비즈니스</a> </div> <div class=\"partner_box\" data-clk-prefix=\"crt\"> <h3 class=\"title\">Partners</h3> <a href=\"https://campaign.naver.com/smefullcare/online/\" class=\"link_partner\" data-clk=\"sme\">SME 풀케어 시스템</a> <a href=\"https://business.naver.com/service.html\" class=\"link_partner\" data-clk=\"service\">비즈니스 · 광고</a> <a href=\"https://sell.storefarm.naver.com/#/home/about\" class=\"link_partner\" data-clk=\"store\">스토어 개설</a> <a href=\"https://smartplace.naver.com\" class=\"link_partner\" data-clk=\"place\">지역업체 등록</a> <a href=\"https://expert.naver.com/expert/introduction?tab=guide#join\" class=\"link_partner\" data-clk=\"expert\">엑스퍼트 등록</a> </div> <div class=\"partner_box\" data-clk-prefix=\"crt\"> <h3 class=\"title\">Developers</h3> <a href=\"https://developers.naver.com\" class=\"link_partner\" data-clk=\"center\">네이버 개발자 센터</a> <a href=\"https://developers.naver.com/docs/common/openapiguide/#/apilist.md\" class=\"link_partner\" data-clk=\"openapi\">오픈 API</a> <a href=\"https://naver.github.io\" class=\"link_partner\" data-clk=\"opensource\">오픈소스</a> <a href=\"https://d2.naver.com\" class=\"link_partner\" data-clk=\"d2\">네이버 D2</a> <a href=\"http://d2startup.com\" class=\"link_partner\" data-clk=\"naverD2SF\">네이버 D2SF</a> <a href=\"https://www.naverlabs.com\" class=\"link_partner\" data-clk=\"labs\">네이버 랩스</a> </div> </div> <div class=\"service_box_wrap\"> <div class=\"service_box\" data-clk-prefix=\"wbd\"> <a href=\"http://whale.naver.com/\" class=\"service_logo\" data-clk=\"bt\"> <img src=\"data:image/png;base64,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\" alt=\"웨일\" width=\"48\" height=\"48\"> </a> <div class=\"service_info\"> <strong class=\"title\">웨일 브라우저</strong> <a href=\"http://whale.naver.com/\" class=\"dsc\" data-clk=\"bt\">다운받기</a> </div> </div> <div class=\"service_box\" data-clk-prefix=\"prj\"> <a href=\"https://search.naver.com/search.naver?where=nexearch&sm=top_hty&fbm=1&ie=utf8&query=%ED%94%84%EB%A1%9C%EC%A0%9D%ED%8A%B8%EA%BD%83\" class=\"service_logo\" data-clk=\"link\"> <img src=\"data:image/png;base64,iVBORw0KGgoAAAANSUhEUgAAAF4AAABkCAMAAAA47XeXAAAAgVBMVEUAAADN5PdGm99Gm99Gm99Gm99Gm95Gm99Gm99Gm99Gm99Gm99Gm99Gm99Gm99Gm99Gm99Gm99Gm99Gm99Gm99Gm99Gm99Gmt9Gm99Gm99Gm99Gm95Gm99Gm99Gm95Gm99Hm99Gm99Gm9/////3+/5cp+LO5PfR5/fO5fdcp+P7/f/zv5GhAAAAInRSTlMA/v7vH9u5qJNgGwb6l8a9uqF9WFUyLxYMCtbVmLCwe4OCj8gzEgAAA0NJREFUaN7NmmFz4iAQhkkwMTHGWrWtWvWuq8mF+/8/8Ey2nb0OhSwQZnw+MHQ7pbjAy2s2gsuiLPJMLpcyy4tyISZltnmHbxw3MzEVr/MUNNL5q5iCt2ccXCN9fhPB7CQYkTsRRlWDlboSAexzGCHfC28OKxhldfDOzBMwePLNTw0sauHFFphshQcLCUwkaQRfXYBPSkrEUBdv3jezcXXhw1ciUhc+fCUidQlH7qzqEk5d2dQlnHxvU5dwVgdXdSGclaiGyamt6hLO1qIu4ZASzcFE092SBprk1jagulvXAAw/qb5N7m176xQYmOPoLymYaK/X65/PNhlagE6LGUhfRM8FjNzuf/73//bHmInzoJEpjMyeWpp9RzGz/PT6+QvMNO2Q+67PPeYZY5h7jDVg5OM+/BGikd13JfDAj/Ad1WLMyEyUwKPT00ypN1GKAljQJtFiFgqRe86eYhbWIvPPPR5d+9pKiIgUwKNJdHXBvW9jyRye1EWLWYfnJcd141Byspizz7gbUyWDuqiW0v15D9g3ZgF86JwyKUgUHJaATUmS5rsEdkkTZLjZS8Alw+skFr8Nl6H6uosShaKOp3Zo+/jgFTDe+wcSfv0yFGfQaLX7tDO0reXOPRuMCG4Q11Y3IiYblWgzS7R+h31qdRtlGB7zikeUckz+AB3a8FuMqD7Cd2nhUHLOEIkLubQIkEuLxIdwEwUy3HyXxsbgPMJcGuGox+TSIugxuTQ+KHIaAS5N92eIIuMT5tJoPfHy5q9yKoXLelLuKRri0mjMQdhwTPw6Sv8pzKXhFyhNilEwkSCXRrnAnaPnJdyl0UrqXircpeHVglnv+62K4NJo3lFcGmWd79KO7OQoXAE8XNO6tIQGxj7fpfHTwk8RubQLWEGvgTNGKzj01fixunCMCCYcvSSlaFwUyKVx86J3bczpUR3zimq1LqdosAUbJF54ar+uk5Gju436mPTk8ZAXFdO93HRYTesUVgf3B+y0XdxLfdVputmfKp/iBtNjyl3c0kzUwtJIWewIPvAL9LOyWLsV9WAps3VRzh6hJBm3oOqsRKfHLGYzS/GP+iLBuBKdqkd+iWPkFZTHf4Em4us/uhI5qss/6zK5u8+AXpwAAAAASUVORK5CYII=\" alt=\"꽃\" width=\"47\" height=\"50\"> </a> <div class=\"service_info\"> <strong class=\"title\">프로젝트 꽃</strong> <a href=\"https://search.naver.com/search.naver?where=nexearch&sm=top_hty&fbm=1&ie=utf8&query=%ED%94%84%EB%A1%9C%EC%A0%9D%ED%8A%B8%EA%BD%83\" class=\"dsc\" data-clk=\"link\">바로가기</a> </div> </div> </div> </div> <div class=\"corp_area\" data-clk-prefix=\"plc\"> <h3 class=\"blind\">네이버 정책 및 약관</h3> <ul class=\"list_corp\"> <li class=\"corp_item\"><a href=\"https://www.navercorp.com\" data-clk=\"intronhn\">회사소개</a></li> <li class=\"corp_item\"><a href=\"https://recruit.navercorp.com/naver/recruitMain\" data-clk=\"recruit\">인재채용</a></li> <li class=\"corp_item\"><a href=\"https://www.navercorp.com/naver/proposalGuide\" data-clk=\"contact\">제휴제안</a></li> <li class=\"corp_item\"><a href=\"/policy/service.html\" data-clk=\"service\">이용약관</a></li> <li class=\"corp_item\"><a href=\"/policy/privacy.html\" data-clk=\"privacy\"><strong>개인정보처리방침</strong></a></li> <li class=\"corp_item\"><a href=\"/policy/youthpolicy.html\" data-clk=\"youth\">청소년보호정책</a></li> <li class=\"corp_item\"><a href=\"/policy/spamcheck.html\" data-clk=\"policy\">네이버 정책</a></li> <li class=\"corp_item\"><a href=\"https://help.naver.com/\" data-clk=\"helpcenter\">고객센터</a></li> </ul> <address class=\"addr\"><a href=\"https://www.navercorp.com\" target=\"_blank\" data-clk=\"nhn\">ⓒ NAVER Corp.</a></address> </div> </div> </div> </div> <div id=\"adscript\" style=\"display:none\"></div> </body> </html>\\n'"
      ]
     },
     "execution_count": 31,
     "metadata": {},
     "output_type": "execute_result"
    }
   ],
   "source": [
    "# 1.\n",
    "\n",
    "url = 'https://www.naver.com/'\n",
    "\n",
    "res = requests.get(url)\n",
    "res.text"
   ]
  },
  {
   "cell_type": "code",
   "execution_count": null,
   "id": "80e3c001",
   "metadata": {},
   "outputs": [],
   "source": []
  },
  {
   "cell_type": "code",
   "execution_count": 32,
   "id": "654d6eeb",
   "metadata": {},
   "outputs": [],
   "source": [
    "# 2.\n",
    "\n",
    "soup = BeautifulSoup(res.text, 'html.parser')"
   ]
  },
  {
   "cell_type": "code",
   "execution_count": null,
   "id": "da97b87a",
   "metadata": {},
   "outputs": [],
   "source": []
  },
  {
   "cell_type": "code",
   "execution_count": 33,
   "id": "8208f572",
   "metadata": {},
   "outputs": [
    {
     "data": {
      "text/plain": [
       "[<a class=\"nav\" data-clk=\"svc.dic\" href=\"https://dict.naver.com/\">사전</a>,\n",
       " <a class=\"nav\" data-clk=\"svc.news\" href=\"https://news.naver.com/\">뉴스</a>,\n",
       " <a class=\"nav\" data-clk=\"svc.stock\" href=\"https://finance.naver.com/\">증권</a>,\n",
       " <a class=\"nav\" data-clk=\"svc.land\" href=\"https://land.naver.com/\">부동산</a>,\n",
       " <a class=\"nav\" data-clk=\"svc.map\" href=\"https://map.naver.com/\">지도</a>,\n",
       " <a class=\"nav\" data-clk=\"svc.vibe\" href=\"https://vibe.naver.com/\">VIBE</a>,\n",
       " <a class=\"nav\" data-clk=\"svc.book\" href=\"https://book.naver.com/\">책</a>,\n",
       " <a class=\"nav\" data-clk=\"svc.webtoon\" href=\"https://comic.naver.com/\">웹툰</a>]"
      ]
     },
     "execution_count": 33,
     "metadata": {},
     "output_type": "execute_result"
    }
   ],
   "source": [
    "# 3.\n",
    "\n",
    "# 크롬브라우저의 개발자도구 > selector element > path copy\n",
    "\n",
    "tags = soup.select('ul.list_nav.NM_FAVORITE_LIST > li.nav_item > a')\n",
    "tags"
   ]
  },
  {
   "cell_type": "code",
   "execution_count": 34,
   "id": "e0b02124",
   "metadata": {},
   "outputs": [
    {
     "data": {
      "text/plain": [
       "[<li class=\"nav_item\"><a class=\"nav\" data-clk=\"svc.dic\" href=\"https://dict.naver.com/\">사전</a></li>,\n",
       " <li class=\"nav_item\"><a class=\"nav\" data-clk=\"svc.news\" href=\"https://news.naver.com/\">뉴스</a></li>,\n",
       " <li class=\"nav_item\"><a class=\"nav\" data-clk=\"svc.stock\" href=\"https://finance.naver.com/\">증권</a></li>,\n",
       " <li class=\"nav_item\"><a class=\"nav\" data-clk=\"svc.land\" href=\"https://land.naver.com/\">부동산</a></li>,\n",
       " <li class=\"nav_item\"><a class=\"nav\" data-clk=\"svc.map\" href=\"https://map.naver.com/\">지도</a></li>,\n",
       " <li class=\"nav_item\"><a class=\"nav\" data-clk=\"svc.vibe\" href=\"https://vibe.naver.com/\">VIBE</a></li>,\n",
       " <li class=\"nav_item\"><a class=\"nav\" data-clk=\"svc.book\" href=\"https://book.naver.com/\">책</a></li>,\n",
       " <li class=\"nav_item\"><a class=\"nav\" data-clk=\"svc.webtoon\" href=\"https://comic.naver.com/\">웹툰</a></li>]"
      ]
     },
     "execution_count": 34,
     "metadata": {},
     "output_type": "execute_result"
    }
   ],
   "source": [
    "# tag > 우클릭 > copy > copy selector => '경로가 복사'\n",
    "# 성공확률 60~70%\n",
    "\n",
    "path = '#NM_FAVORITE > div.group_nav > ul.list_nav.NM_FAVORITE_LIST > li'\n",
    "soup.select(path)"
   ]
  },
  {
   "cell_type": "code",
   "execution_count": null,
   "id": "b46d11fa",
   "metadata": {},
   "outputs": [],
   "source": []
  },
  {
   "cell_type": "code",
   "execution_count": 35,
   "id": "83b58d01",
   "metadata": {},
   "outputs": [
    {
     "name": "stdout",
     "output_type": "stream",
     "text": [
      "사전 https://dict.naver.com/\n",
      "뉴스 https://news.naver.com/\n",
      "증권 https://finance.naver.com/\n",
      "부동산 https://land.naver.com/\n",
      "지도 https://map.naver.com/\n",
      "VIBE https://vibe.naver.com/\n",
      "책 https://book.naver.com/\n",
      "웹툰 https://comic.naver.com/\n"
     ]
    }
   ],
   "source": [
    "# 4.\n",
    "\n",
    "for tag in tags:\n",
    "    print(tag.text, tag['href'])"
   ]
  },
  {
   "cell_type": "code",
   "execution_count": null,
   "id": "44336c50",
   "metadata": {},
   "outputs": [],
   "source": []
  },
  {
   "cell_type": "code",
   "execution_count": null,
   "id": "312167b5",
   "metadata": {},
   "outputs": [],
   "source": []
  },
  {
   "cell_type": "code",
   "execution_count": null,
   "id": "2db2aa0e",
   "metadata": {},
   "outputs": [],
   "source": []
  },
  {
   "cell_type": "code",
   "execution_count": 36,
   "id": "df8127e9",
   "metadata": {},
   "outputs": [
    {
     "name": "stdout",
     "output_type": "stream",
     "text": [
      "<html>\n",
      " <body>\n",
      "  <p class=\"a\" id=\"i\">\n",
      "   test1\n",
      "  </p>\n",
      "  <p class=\"d\">\n",
      "   test2\n",
      "  </p>\n",
      "  <p class=\"d c f\">\n",
      "   test3\n",
      "  </p>\n",
      "  <b>\n",
      "   a tag\n",
      "   <span>\n",
      "    b span\n",
      "   </span>\n",
      "  </b>\n",
      "  <a href=\" http://www.naver.com \">\n",
      "   <img src=\" img/naver.png \"/>\n",
      "   naver\n",
      "  </a>\n",
      "  <div>\n",
      "   test div\n",
      "   <p>\n",
      "    test p\n",
      "    <span>\n",
      "     test span\n",
      "    </span>\n",
      "   </p>\n",
      "  </div>\n",
      " </body>\n",
      "</html>\n"
     ]
    }
   ],
   "source": [
    "from bs4 import BeautifulSoup\n",
    "\n",
    "html = \"\"\"<html> \n",
    "<body> <p id=\"i\" class=\"a\">test1</p><p class=\"d\">test2</p>\n",
    "<p class=\"d c f\">test3</p></p> <b>a tag<span> b span</span></b> \n",
    "<a href = \" http://www.naver.com \"><img src = \" img/naver.png \">naver</a>\n",
    "<div>test div<p>test p<span>test span</span></p></div></body></html>\"\"\"\n",
    "\n",
    "soup = BeautifulSoup(html, 'lxml')\n",
    "\n",
    "print(soup.prettify())"
   ]
  },
  {
   "cell_type": "code",
   "execution_count": 37,
   "id": "1d5f0c0e",
   "metadata": {},
   "outputs": [
    {
     "data": {
      "text/plain": [
       "[<p class=\"a\" id=\"i\">test1</p>,\n",
       " <p class=\"d\">test2</p>,\n",
       " <p class=\"d c f\">test3</p>,\n",
       " <p>test p<span>test span</span></p>]"
      ]
     },
     "execution_count": 37,
     "metadata": {},
     "output_type": "execute_result"
    }
   ],
   "source": [
    "# 'p' 태그를 모두 출력..\n",
    "\n",
    "soup.select('p')"
   ]
  },
  {
   "cell_type": "code",
   "execution_count": 38,
   "id": "5ebd253b",
   "metadata": {},
   "outputs": [
    {
     "data": {
      "text/plain": [
       "[<p class=\"d\">test2</p>, <p class=\"d c f\">test3</p>]"
      ]
     },
     "execution_count": 38,
     "metadata": {},
     "output_type": "execute_result"
    }
   ],
   "source": [
    "# class가 'd'인 'p'태그를 출력..\n",
    "\n",
    "soup.select('p.d')"
   ]
  },
  {
   "cell_type": "code",
   "execution_count": 39,
   "id": "50e7c9ad",
   "metadata": {},
   "outputs": [
    {
     "data": {
      "text/plain": [
       "[<p class=\"d\">test2</p>, <p class=\"d c f\">test3</p>]"
      ]
     },
     "execution_count": 39,
     "metadata": {},
     "output_type": "execute_result"
    }
   ],
   "source": [
    "# class 'd' 가 적용된 모든 태그를 출력...\n",
    "\n",
    "soup.select('.d')"
   ]
  },
  {
   "cell_type": "code",
   "execution_count": 40,
   "id": "cdf5277f",
   "metadata": {},
   "outputs": [
    {
     "data": {
      "text/plain": [
       "[<p>test p<span>test span</span></p>]"
      ]
     },
     "execution_count": 40,
     "metadata": {},
     "output_type": "execute_result"
    }
   ],
   "source": [
    "# 'div' 바로 밑에 있는 'p' 태그를 출력..\n",
    "\n",
    "soup.select('div > p')"
   ]
  },
  {
   "cell_type": "code",
   "execution_count": null,
   "id": "7939e626",
   "metadata": {},
   "outputs": [],
   "source": []
  },
  {
   "cell_type": "code",
   "execution_count": 41,
   "id": "d3516ea6",
   "metadata": {},
   "outputs": [
    {
     "data": {
      "text/plain": [
       "' http://www.naver.com '"
      ]
     },
     "execution_count": 41,
     "metadata": {},
     "output_type": "execute_result"
    }
   ],
   "source": [
    "# script 내에 있는 url 주소를 출력하시오..\n",
    "\n",
    "soup.select('a')[0]['href']"
   ]
  },
  {
   "cell_type": "code",
   "execution_count": 42,
   "id": "21dc55c5",
   "metadata": {},
   "outputs": [],
   "source": [
    "# script 내에 있는 이미지 주소를 출력하시오.."
   ]
  },
  {
   "cell_type": "code",
   "execution_count": 43,
   "id": "2a9d1168",
   "metadata": {},
   "outputs": [
    {
     "data": {
      "text/plain": [
       "' img/naver.png '"
      ]
     },
     "execution_count": 43,
     "metadata": {},
     "output_type": "execute_result"
    }
   ],
   "source": [
    "soup.select('img')[0]['src']"
   ]
  },
  {
   "cell_type": "code",
   "execution_count": null,
   "id": "291ec91b",
   "metadata": {},
   "outputs": [],
   "source": []
  },
  {
   "cell_type": "code",
   "execution_count": null,
   "id": "1f00eab3",
   "metadata": {},
   "outputs": [],
   "source": []
  },
  {
   "cell_type": "code",
   "execution_count": 44,
   "id": "cf02bfdd",
   "metadata": {},
   "outputs": [],
   "source": [
    "html = \"\"\"\n",
    "<html>\n",
    "<head>\n",
    "    <title>The Dormouse's story</title>\n",
    "</head>\n",
    "<body>\n",
    "    <h1>this is h1 area</h1>\n",
    "    <h2>this is h2 area</h2>\n",
    "    <p class=\"title\">\n",
    "        <b>The Dormouse's story</b>\n",
    "    </p>\n",
    "    <p class=\"story\">\n",
    "        Once upon a time there were three little sisters\n",
    "        <a href=\"http://example.com/elsie\" class=\"sister\" id=\"link1\">Elsie</a>\n",
    "        <a href=\"http://example.com/lacie\" class=\"sister\" id=\"link2\">Lacie</a>\n",
    "        <a data-io=\"link3\" href=\"http://example.com/tillie\" class=\"brother\" id=\"link3\">Tillie</a>\n",
    "        <b> \n",
    "            test\n",
    "            <a href=\"http://example.com/test\" class=\"brother\" id=\"link4\">TEST</a>\n",
    "        </b>\n",
    "\n",
    "    </p>\n",
    "    <p class=\"story\">story...</p>\n",
    "</body>\n",
    "</html>\n",
    "\"\"\""
   ]
  },
  {
   "cell_type": "code",
   "execution_count": 45,
   "id": "1a6788d2",
   "metadata": {},
   "outputs": [],
   "source": [
    "soup = BeautifulSoup(html, 'html.parser')"
   ]
  },
  {
   "cell_type": "code",
   "execution_count": 46,
   "id": "05c1761e",
   "metadata": {},
   "outputs": [],
   "source": [
    "# 'The Dormouse's story'를 출력하시오..\n",
    "# 'Elsie'를 출력하시오.\n",
    "# \"http://example.com/lacie\"를 출력하시오\n",
    "# 'test'를 출력하시오\n",
    "# 'story...'를 출력하시오"
   ]
  },
  {
   "cell_type": "code",
   "execution_count": 51,
   "id": "00798bd4",
   "metadata": {},
   "outputs": [
    {
     "data": {
      "text/plain": [
       "\"The Dormouse's story\""
      ]
     },
     "execution_count": 51,
     "metadata": {},
     "output_type": "execute_result"
    }
   ],
   "source": [
    "soup.select('title')[0].text"
   ]
  },
  {
   "cell_type": "code",
   "execution_count": 52,
   "id": "abcc9cae",
   "metadata": {},
   "outputs": [
    {
     "data": {
      "text/plain": [
       "'Elsie'"
      ]
     },
     "execution_count": 52,
     "metadata": {},
     "output_type": "execute_result"
    }
   ],
   "source": [
    "soup.select('#link1')[0].text"
   ]
  },
  {
   "cell_type": "code",
   "execution_count": 53,
   "id": "8273db40",
   "metadata": {},
   "outputs": [
    {
     "data": {
      "text/plain": [
       "'http://example.com/lacie'"
      ]
     },
     "execution_count": 53,
     "metadata": {},
     "output_type": "execute_result"
    }
   ],
   "source": [
    "soup.select('#link2')[0]['href']"
   ]
  },
  {
   "cell_type": "code",
   "execution_count": 54,
   "id": "3fc8d76e",
   "metadata": {},
   "outputs": [
    {
     "data": {
      "text/plain": [
       "'test'"
      ]
     },
     "execution_count": 54,
     "metadata": {},
     "output_type": "execute_result"
    }
   ],
   "source": [
    "soup.select('p.story > b')[0].text.split('\\n')[1].strip()"
   ]
  },
  {
   "cell_type": "code",
   "execution_count": null,
   "id": "a14214a6",
   "metadata": {},
   "outputs": [],
   "source": []
  },
  {
   "cell_type": "code",
   "execution_count": 55,
   "id": "e60ba9d9",
   "metadata": {},
   "outputs": [],
   "source": [
    "# '다음' 메인 페이지에서 메뉴목록을 출력하시오.. 가능하면 link주소도 출력하시오.."
   ]
  },
  {
   "cell_type": "code",
   "execution_count": 56,
   "id": "198175fd",
   "metadata": {},
   "outputs": [],
   "source": [
    "res = requests.get('https://www.daum.net/')"
   ]
  },
  {
   "cell_type": "code",
   "execution_count": 57,
   "id": "a77aafc9",
   "metadata": {},
   "outputs": [
    {
     "data": {
      "text/plain": [
       "<!DOCTYPE html>\n",
       "<html lang=\"ko\"> <head> <meta charset=\"utf-8\"/> <title>Daum</title> <meta content=\"IE=edge\" http-equiv=\"x-ua-compatible\"/> <meta content=\"//www.daum.net/\" property=\"og:url\"/> <meta content=\"website\" property=\"og:type\"/> <meta content=\"Daum\" property=\"og:title\"/> <meta content=\"no-cache\" http-equiv=\"Pragma\"/> <meta content=\"-1\" http-equiv=\"Expires\"/> <meta content=\"origin\" name=\"referrer\"/> <meta content=\"https://i1.daumcdn.net/svc/image/U03/common_icon/5587C4E4012FCD0001\" property=\"og:image\"/> <meta content=\"ëì ê´ì¬ ì½í\n",
       "ì¸ ë¥¼ ê°ì¥ ì¦ê²ê² ë³¼ ì ìë Daum\" property=\"og:description\"/> <meta content=\"name=Daum;action-uri=//www.daum.net/;icon-uri=/favicon.ico\" name=\"msapplication-task\"/> <meta content=\"name=ë¯¸ëì´ë¤ì;action-uri=//news.daum.net/;icon-uri=/media_favicon.ico\" name=\"msapplication-task\"/> <meta content=\"name=ë©ì¼;action-uri=//mail.daum.net;icon-uri=/mail_favicon.ico\" name=\"msapplication-task\"/> <link href=\"https://t1.daumcdn.net/top/favicon.ico\" rel=\"shortcut icon\"/> <meta content=\"origin\" name=\"referrer\"/> <link href=\"https://search.daum.net/OpenSearch.xml\" rel=\"search\" title=\"ë¤ì\" type=\"application/opensearchdescription+xml\"/> <link href=\"https://t1.daumcdn.net/top/tiller-pc/20220113_012622/css/common.css\" rel=\"stylesheet\"/> <script src=\"https://t1.daumcdn.net/kas/static/na.min.js\"></script> </head> <body> <noscript> ì´ ì¬ì´í¸ì ê¸°ë¥ì ëª¨ë íì©íê¸° ìí´ìë ìë°ì¤í¬ë¦½í¸ë¥¼ íì±í ìí¬ íìê° ììµëë¤. <a href=\"https://www.enable-javascript.com/ko/\"> ë¸ë¼ì°ì ìì ìë°ì¤í¬ë¦½í¸ë¥¼ íì±ííë ë°©ë²</a>ì ì°¸ê³  íì¸ì. </noscript> <script src=\"https://t1.daumcdn.net/tiara/js/v1/tiara.min.js\" type=\"text/javascript\"></script> <script src=\"https://t1.daumcdn.net/top/tiller-pc/lib/1636937121956/polyfill.min.js\" type=\"text/javascript\"></script> <script src=\"https://t1.daumcdn.net/top/tiller-pc/20220113_012622/js/app.js\" type=\"text/javascript\"></script> <script defer=\"\" src=\"https://t1.daumcdn.net/kas/static/ba.min.js\" type=\"text/javascript\"></script> <script defer=\"\" src=\"https://t1.daumcdn.net/top/tiller-pc/1632900517149/tiller-pc-suggest.js\" type=\"text/javascript\"></script> </body></html>"
      ]
     },
     "execution_count": 57,
     "metadata": {},
     "output_type": "execute_result"
    }
   ],
   "source": [
    "soup = BeautifulSoup(res.text, 'html.parser')\n",
    "soup"
   ]
  },
  {
   "cell_type": "code",
   "execution_count": 58,
   "id": "37c1b6ef",
   "metadata": {},
   "outputs": [
    {
     "data": {
      "text/plain": [
       "[]"
      ]
     },
     "execution_count": 58,
     "metadata": {},
     "output_type": "execute_result"
    }
   ],
   "source": [
    "# 우클릭 > copy > copy selector\n",
    "\n",
    "path = '#gnbServiceList > ul > li'\n",
    "soup.select(path)"
   ]
  },
  {
   "cell_type": "code",
   "execution_count": 59,
   "id": "1e6a48f7",
   "metadata": {},
   "outputs": [],
   "source": [
    "path = 'ul.list_mainsvc > li > a'\n",
    "lis = soup.select(path)\n",
    "\n",
    "for li in lis:\n",
    "    print(li.select('span')[0].text, ':', li['href'])"
   ]
  },
  {
   "cell_type": "code",
   "execution_count": null,
   "id": "62f85914",
   "metadata": {},
   "outputs": [],
   "source": []
  },
  {
   "cell_type": "code",
   "execution_count": 60,
   "id": "879b7b45",
   "metadata": {},
   "outputs": [],
   "source": [
    "# 검색 키워드를 입력받은 후 다음 뉴스사이트에서 해당 검색어에 대한 뉴스 제목을 \n",
    "# 크롤링하시오.."
   ]
  },
  {
   "cell_type": "code",
   "execution_count": 61,
   "id": "2c506990",
   "metadata": {
    "scrolled": true
   },
   "outputs": [
    {
     "name": "stdout",
     "output_type": "stream",
     "text": [
      "검색할 키워드를 입력하세요..\n",
      "https://search.daum.net/search?nil_suggest=btn&w=news&DA=SBC&q=\n"
     ]
    }
   ],
   "source": [
    "kw = input('검색할 키워드를 입력하세요..')\n",
    "url = 'https://search.daum.net/search?nil_suggest=btn&w=news&DA=SBC&q={}'.format(kw)\n",
    "print(url)"
   ]
  },
  {
   "cell_type": "code",
   "execution_count": 62,
   "id": "a17dd535",
   "metadata": {},
   "outputs": [
    {
     "data": {
      "text/plain": [
       "'\\n\\n\\n\\n\\n\\n\\n\\n\\n\\n\\n\\n\\n\\n\\n\\n\\n\\n\\n\\n\\n\\n\\n\\n<!doctype html>\\n<html xmlns=\"http://www.w3.org/1999/xhtml\" lang=\"ko\" class=\"unix unknown \">\\n<head profile=\"http://a9.com/-/spec/opensearch/1.1/\">\\n<meta http-equiv=\"content-Type\" content=\"text/html;charset=utf-8\" />\\n<meta http-equiv=\"X-UA-Compatible\" content=\"IE=edge\" />\\n<meta name=\"autocomplete\" content=\"off\" />\\n<meta name=\"referrer\" content=\"always\">\\n<meta name=\"format-detection\" content=\"telephone=no\" />\\n<meta property=\"og:title\" content=\" &ndash; Daum 검색\" />\\n<meta property=\"og:url\" content=\"https://search.daum.net/search?w=news&q=\" />\\n<meta property=\"og:description\" content=\"Daum 검색에서 에 대한 최신정보를 찾아보세요.\" />\\n<meta property=\"og:image\" content=\"https://search1.daumcdn.net/search/statics/common/img/og_search.png\" />\\n<meta property=\"og:site_name\" content=\"다음검색\" />\\n<title> &ndash; Daum 검색</title>\\n<link rel=\"search\" type=\"application/opensearchdescription+xml\" href=\"//search.daum.net/OpenSearch.xml\" title=\"Daum\">\\n<link rel=\"stylesheet\" type=\"text/css\" href=\"//search1.daumcdn.net/search/statics/common/css/2021/p_common.1130012653.css\" charset=\"utf-8\">\\n<link rel=\"stylesheet\" type=\"text/css\" href=\"//search1.daumcdn.net/search/statics/common/css/2021/p_component.0915091640.css\" charset=\"utf-8\">\\n\\n<link rel=\"stylesheet\" type=\"text/css\" href=\"//search1.daumcdn.net/search/statics/common/css/2022/p_collection.0112095326.css\" charset=\"utf-8\">\\n<link rel=\"stylesheet\" type=\"text/css\" href=\"//search1.daumcdn.net/search/statics/common/css/2021/p_collection2.1110094223.css\" charset=\"utf-8\">\\n\\n<link rel=\"stylesheet\" type=\"text/css\" href=\"//search1.daumcdn.net/search/statics/common/css/2021/p_coll_tab.0803041653.css\" charset=\"utf-8\">\\n\\n\\n\\n\\n<script type=\"text/javascript\">\\nvar SF, C, T;\\nvar uk = \"YedkiawCL652EU9o4-D4gQAAAJg\";\\nvar mk = \"YedkiawCL652EU9o4-D4gQAAAJg\";\\nvar ud = \"\";\\nvar uuid = \"\";\\nvar adid = \"\";\\nvar adid_enabled = \"N\";\\nvar viewio = \"i\";\\nvar viewsite = \"\";\\nvar ServerTime = \"20220119100825\";\\nvar EnQuery = \"\";\\nvar utf8Query = \"\";\\nvar topQuery = \"\";\\nvar backQuery = \"\";\\nvar login_yn = \"N\";\\nvar encodeType = \"0\";\\nvar refCode = \"\";\\nvar bucketType = \"\";\\nvar name_check = \"0\";\\nvar mobileDevice = \"N\";\\nvar param_w=\"news\";\\nvar param_da = \"SBC\";\\nvar paramCfg = \"\";\\nvar param_cnucc = \"\"; \\nvar tpl_cfg = \"\"; \\nvar cnucc = \"\";\\nvar usrIp = \"223.39.200.26\";\\nvar isDetailTab = \"N\"; \\nvar schSort = \"\";\\nvar width_over_620 = \"N\";\\n\\nvar isReleaseMode = \"\";\\n\\nvar KAKAO_ACCOUNT_ID_CONNECTED = \"N\";\\n\\nvar displayInfo = {\"SER\":[],\"SGR\":[{\"code\":\"R02\",\"doc_count\":0},{\"code\":\"R13\",\"doc_count\":0},{\"code\":\"R11\",\"doc_count\":0},{\"code\":\"TOG\",\"doc_count\":0}],\"SUI\":[{\"code\":\"NNN\",\"doc_count\":0}]}\\n;\\nvar slCallType = \"sync\";\\nvar pageLoadedTime = 0;\\nvar startTime = new Date().getTime();\\nvar sugLocCode = \"\";\\nvar searchLog = {\\nuc: 0,\\nclickCount: 0,\\ndl: \"\"\\n};\\nvar SEARCHLOGDOMAIN = \"//sl.search.daum.net\"; \\n\\nvar CNUCC_URL = \"//harm.search.daum.net/api/harmRegister\";\\n</script>\\n\\n\\n<script type=\"text/html\" id=\"answer-korea-weather-template\">\\n<span class=\"weather_comp\">\\n<span class=\"txt_exact ico_suggest\" data-bind=\"css: icon40\">\\n<span class=\"tit\" data-bind=\"text: areaname\"></span>\\n<span class=\"cont\"><span class=\"txt_cont\" data-bind=\"text: wtext5s\"></span> <span class=\"txt_num1 ico_suggest2 ico_celsius\" data-bind=\"text: temp\"></span><span class=\"txt_unit\">℃</span></span>\\n</span>\\n<span class=\"txt_time\" data-bind=\"text: (announce + \\' 기준\\') \"></span>\\n</span>\\n</script>\\n\\n\\n\\n\\n\\n\\n\\n\\n\\n\\n\\n\\n\\n\\n\\n<script type=\"text/javascript\" src=\"//search1.daumcdn.net/search/statics/common/js/fe/tot-search/polyfill/p/polyfill.p.common.20200707150840.min.js\" charset=\"utf-8\"></script>\\n\\n\\n<script type=\"text/javascript\" src=\"//search1.daumcdn.net/search/statics/common/js/fe/tot-search/vendor/p/common/vendor.p.common.20210614193738.min.js\" charset=\"utf-8\"></script>\\n<script type=\"text/javascript\" src=\"//search1.daumcdn.net/search/statics/common/js/log/p_log.min.20211108152558.js\" charset=\"utf-8\"></script>\\n<script type=\"text/javascript\" src=\"//search1.daumcdn.net/search/statics/common/js/fe/tot-search/module/p/common/module.p.common.20211214105224.min.js\" charset=\"utf-8\"></script>\\n<script type=\"text/javascript\" src=\"//search1.daumcdn.net/search/statics/common/js/fe/tot-search/module/p/search/module.p.search.20210726112603.min.js\" charset=\"utf-8\"></script>\\n<script>\\n(function(SF, $, SL) {\\nObject.assign(SF, {\\nlogStaticErrors: {\\nisArgonUrl: function(url) {\\nreturn url.indexOf(\\'argon\\') !== -1;\\n},\\nextractArgonId: function(url) {\\nreturn url.split(\\'/\\').pop();\\n},\\ncreateFreeLogParams: function(ids) {\\nreturn {\\ntimg: ids.join(\\',\\')\\n};\\n},\\nchunkCall: function (fn, options) {\\nvar chunk = [];\\nvar debounced = $.debounce(function() {\\nif (chunk.length > 0) {\\nfn(chunk);\\nchunk = [];\\n}\\n}, options.timeout);\\nreturn function (arg) {\\nchunk.push(arg);\\nif (chunk.length >= options.chunkSize) {\\nfn(chunk);\\nchunk = [];\\n}\\ndebounced();\\n};\\n},\\ninit: function() {\\nthis.subscribe();\\n},\\nsubscribe: function() {\\nif (!(\\'addEventListener\\' in document)) {\\nreturn;\\n}\\nvar sendLog = this.chunkCall(this.sendLog.bind(this), {\\ntimeout: 1000,\\nchunkSize: 50\\n});\\nvar onError = this.onError.bind(this, sendLog);\\nthis.unsubscribe = function () {\\nwindow.removeEventListener(\\'error\\', onError);\\n};\\nwindow.addEventListener(\\'error\\', onError, true);\\n},\\nonError: function (callback, event) {\\nvar src = event.target.src;\\nif (typeof src === \\'string\\' && this.isArgonUrl(src)) {\\ncallback(this.extractArgonId(src));\\n}\\n},\\nsendLog: function(argonIds) {\\nvar params = this.createFreeLogParams(argonIds);\\nSL.freelog.send(params);\\n},\\nunsubscribe: $.noop\\n}\\n});\\n})(window.SF || {}, window.jQuery, window.SL || {});\\nSF.logStaticErrors.init();\\n</script>\\n<script type=\"text/javascript\">\\nSF.loadModuleList = {\\n\"amcharts\":\"//search1.daumcdn.net/search/statics/common/js/fe/tot-search/library/p/amcharts.20190321202015.min.js\",\\n\"calendar\":\"//search1.daumcdn.net/search/statics/common/js/fe/tot-search/module/p/calendar/module.p.calendar.20210312112039.min.js\",\\n\"chart\":\"//search1.daumcdn.net/search/statics/common/js/fe/tot-search/library/p/chart.20200602182334.min.js\",\\n\"kakaosdk\":\"//search1.daumcdn.net/search/statics/common/js/fe/tot-search/library/p/kakaosdk.20190321202015.min.js\",\\n\"kakaotv\":\"//tv.kakao.com/player/script/sdk/player_api.min.js\",\\n\"pagenavigation\":\"//search1.daumcdn.net/search/statics/common/js/fe/tot-search/module/p/pagenavigation/module.p.pagenavigation.20211101151709.min.js\",\\n\"youtube\":\"//www.youtube.com/player_api\"\\n};\\n</script>\\n<script type=\"text/javascript\">\\n(function(SF) {\\nObject.assign(SF, {\\nphase: \\'prod\\'\\n});\\n})(window.SF);\\n</script>\\n\\n\\n\\n\\n\\n\\n\\n\\n\\n\\n\\n\\n\\n\\n\\n\\n\\n\\n\\n\\n\\n\\n\\n\\n\\n\\n\\n\\n\\n\\n\\n\\n\\n\\n\\n\\n\\n\\n\\n\\n\\n\\n\\n\\n\\n\\n\\n\\n\\n\\n\\n\\n\\n\\n\\n\\n\\n\\n\\n\\n\\n\\n\\n\\n\\n\\n\\n\\n\\n\\n\\n\\n\\n\\n\\n\\n\\n\\n\\n\\n\\n\\n\\n\\n\\n\\n\\n\\n\\n\\n\\n\\n\\n\\n\\n\\n\\n\\n\\n\\n\\n\\n\\n\\n\\n\\n\\n\\n\\n\\n\\n\\n\\n\\n\\n\\n\\n\\n\\n\\n\\n\\n\\n\\n\\n\\n\\n\\n\\n\\n\\n\\n\\n\\n\\n\\n\\n\\n\\n\\n\\n\\n\\n\\n\\n\\n\\n\\n\\n\\n\\n\\n\\n<!--[if IE]>\\n<script src=\"//search1.daumcdn.net/search/statics/common/js/g/html5.min.js\"></script>\\n<![endif]-->\\n</head>\\n\\n<body class=\"daum \">\\n\\n<script type=\"text/javascript\">\\nSL.mkeyLog();\\n</script>\\n<nav id=\"daumIndex\" class=\"d_direct\">\\n<a href=\"#daumBody\" class=\"link_direct\">본문 바로가기</a>\\n<a href=\"#daumGnb\" class=\"link_direct\">메뉴 바로가기</a>\\n<a href=\"#realtimeIssueTitle\" class=\"link_direct\">실시간이슈 바로가기</a>\\n</nav>\\n<div id=\"tooltipContent\"></div> <!-- TT -->\\n<div id=\"saq\" style=\"display:none\"></div>\\n<article id=\"daumWrap\" class=\"sch_tab_news\">\\n<header id=\"daumHead\">\\n<div id=\"innerHeader\" class=\"inner_header\">\\n<h1>\\n<a id=\"daumLogo\" href=\"https://www.daum.net/?nil_profile=daum&nil_src=search\" onclick=\\'smartLog(this, \"e=1&dc=MLC\", event);\\' title=\"Daum 메인페이지로 가기\" target=\"_top\">\\n<img src=\"//search1.daumcdn.net/search/statics/common/pi/logo/daumlogo_170324.png\" width=\"84\" height=\"34\" alt=\"Daum\">\\n</a>\\n<span id=\"daumServiceLogo\" class=\"screen_out\">검색</span>\\n</h1>\\n<form id=\"daumSearch\" name=\"search\" method=\"get\" class=\"d_sch\">\\n<fieldset class=\"fld_total\">\\n<legend class=\"screen_out\">검색폼</legend>\\n<input type=\"hidden\" id=\"nil_suggest\" name=\"nil_suggest\" value=\"btn\">\\n<input type=\"hidden\" id=\"nil_ch\" name=\"nil_ch\" value=\"\">\\n<input type=\"hidden\" name=\"rtupcoll\" value=\"\">\\n<input type=\"hidden\" name=\"w\" value=\"news\">\\n<input type=\"hidden\" name=\"m\" value=\"\">\\n<input type=\"hidden\" id=\"f\" name=\"f\" value=\"\">\\n<input type=\"hidden\" name=\"lpp\" value=\"\">\\n<input type=\"hidden\" name=\"DA\" value=\"SBC\">\\n<input type=\"hidden\" name=\"sug\" value=\"\">\\n<input type=\"hidden\" name=\"sq\" value=\"\">\\n<input type=\"hidden\" name=\"o\" value=\"\">\\n<input type=\"hidden\" name=\"sugo\" value=\"\">\\n\\n\\n\\n<input type=\"hidden\" name=\"cluster\" value=\"y\">\\n\\n\\n\\n\\n<div class=\"box_searchbar\">\\n<div class=\"inner_searchbar\">\\n<input type=\"text\" class=\"tf_keyword\" id=\"q\" name=\"q\" title=\"검색어 입력\" value=\"\" autocomplete=\"off\" spellcheck=\"false\" maxlength=\"255\" >\\n<button id=\"VKIBtn\" class=\"img_keyboard btn_key\" type=\"button\" onclick=\"SF.virtualKeyboardHandler.call();smartLog(this, \\'pg=1&p=1&r=1&rc=1&dc=BFJ&at=func\\',event);return false;\"><span class=\"ir_wa\">한글입력기</span></button>\\n<button type=\"submit\" id=\"daumBtnSearch\" class=\"ico_ksearch btn_ksearch\"><span class=\"ir_wa\">검색</span></button>\\n</div>\\n</div>\\n<div id=\"wrap_suggestBox\" class=\"wrap_suggestBox\"><div id=\"suggestBox\" class=\"suggestBox box_sub\"></div></div>\\n</fieldset>\\n</form>\\n<script type=\"text/javascript\">\\n(function(){\\nvar headerSearchModule = new SF.HeaderSearchForm();\\nheaderSearchModule.init();\\n})();\\n</script>\\n\\n<div id=\"wrapMinidaum\"></div>\\n<div id=\"VKILayout\" class=\"keyboard_layer\" style=\"display:none;\"></div>\\n<div class=\"cl_b\"></div>\\n</div>\\n<div id=\"daumGnb\">\\n<div class=\"wrap_gnb\">\\n<ul class=\"gnb_search\">\\n\\n<li class=\"\">\\n\\n<a href=\"?w=tot&q=&DA=NTB\" class=\"tab tab_total\" onclick=\\'smartLog(this, \"pg=1&r=1&p=1&rc=1&dc=NTB&at=more\", event);\\'><span class=\"inner_tab\"><span class=\"txt_tab\">통합검색</span></span></a>\\n</li>\\n\\n\\n\\n\\n\\n\\n\\n<li class=\"\">\\n\\n\\n\\n<a href=\"?w=img&nil_search=btn&DA=NTB&enc=utf8&q=\" class=\"tab tab_img\" onclick=\\'smartLog(this, \"pg=1&r=2&p=1&rc=1&dc=NTB&at=more\", event);\\'>\\n<span class=\"inner_tab\"><span class=\"txt_tab\">이미지</span></span>\\n</a>\\n\\n</li>\\n\\n\\n<li class=\"\">\\n\\n\\n\\n<a href=\"?w=vclip&nil_search=btn&DA=NTB&enc=utf8&q=\" class=\"tab tab_vclip\" onclick=\\'smartLog(this, \"pg=1&r=3&p=1&rc=1&dc=NTB&at=more\", event);\\'>\\n<span class=\"inner_tab\"><span class=\"txt_tab\">동영상</span></span>\\n</a>\\n\\n</li>\\n\\n\\n<li class=\"on\">\\n<span class=\"screen_out\">선택된 항목</span>\\n\\n\\n<a href=\"?w=news&nil_search=btn&DA=NTB&enc=utf8&cluster=y&cluster_page=1&q=\" class=\"tab tab_news\" onclick=\\'smartLog(this, \"pg=1&r=4&p=1&rc=1&dc=NTB&at=more\", event);\\'>\\n<span class=\"inner_tab\"><span class=\"txt_tab\">뉴스</span></span>\\n</a>\\n\\n</li>\\n\\n\\n<li class=\"\">\\n\\n\\n\\n<a href=\"?w=blog&nil_search=btn&DA=NTB&enc=utf8&q=\" class=\"tab tab_blog\" onclick=\\'smartLog(this, \"pg=1&r=5&p=1&rc=1&dc=NTB&at=more\", event);\\'>\\n<span class=\"inner_tab\"><span class=\"txt_tab\">블로그</span></span>\\n</a>\\n\\n</li>\\n\\n\\n<li class=\"\">\\n\\n\\n\\n<a href=\"?w=cafe&nil_search=btn&DA=NTB&enc=utf8&ASearchType=1&lpp=10&rlang=0&q=\" class=\"tab tab_cafe\" onclick=\\'smartLog(this, \"pg=1&r=6&p=1&rc=1&dc=NTB&at=more\", event);\\'>\\n<span class=\"inner_tab\"><span class=\"txt_tab\">카페</span></span>\\n</a>\\n\\n</li>\\n\\n\\n<li class=\"\">\\n\\n\\n\\n<a href=\"?w=web&nil_search=btn&DA=NTB&enc=utf8&lpp=10&q=\" class=\"tab tab_webdoc\" onclick=\\'smartLog(this, \"pg=1&r=7&p=1&rc=1&dc=NTB&at=more\", event);\\'>\\n<span class=\"inner_tab\"><span class=\"txt_tab\">웹문서</span></span>\\n</a>\\n\\n</li>\\n\\n\\n<li class=\"\">\\n\\n\\n\\n<a href=\"?w=site&nil_search=btn&DA=NTB&enc=utf8&lpp=10&q=\" class=\"tab tab_site\" onclick=\\'smartLog(this, \"pg=1&r=8&p=1&rc=1&dc=NTB&at=more\", event);\\'>\\n<span class=\"inner_tab\"><span class=\"txt_tab\">사이트</span></span>\\n</a>\\n\\n</li>\\n\\n</ul>\\n\\n<div class=\"more_search\">\\n<a id=\"gnbToggleBtn\" href=\"javascript:;\"  class=\"btn_tab\">\\n<span class=\"txt_btn\">더보기/접기</span>\\n</a>\\n<ul class=\"list_more\">\\n\\n\\n<li class=\"\">\\n\\n\\n<a target=\"_blank\" href=\"http://dic.daum.net/search.do?q=\" class=\"link_more tab_dic\" onclick=\\'smartLog(this, \"pg=1&r=9&p=2&rc=1&e1=NS&e2=DICZ&dc=NTB&at=more\", event);\\'>\\n<span class=\"inner_tab\">\\n<span class=\"txt_tab\">어학사전</span>\\n<span class=\"ico_ksearch ico_outlink\">새창</span>\\n</span>\\n</a>\\n\\n</li>\\n\\n\\n<li class=\"\">\\n\\n\\n<a target=\"_blank\" href=\"http://map.daum.net/?from=total&nil_suggest=btn&tab=place&q=\" class=\"link_more tab_map\" onclick=\\'smartLog(this, \"pg=1&r=10&p=2&rc=1&e1=NS&e2=GG1Z&dc=NTB&at=more\", event);\\'>\\n<span class=\"inner_tab\">\\n<span class=\"txt_tab\">지도</span>\\n<span class=\"ico_ksearch ico_outlink\">새창</span>\\n</span>\\n</a>\\n\\n</li>\\n\\n\\n<li class=\"\">\\n\\n\\n<a target=\"_blank\" href=\"http://100.daum.net/search/entry?q=\" class=\"link_more tab_dic100\" onclick=\\'smartLog(this, \"pg=1&r=11&p=2&rc=1&e1=NS&e2=1DVZ&dc=NTB&at=more\", event);\\'>\\n<span class=\"inner_tab\">\\n<span class=\"txt_tab\">백과사전</span>\\n<span class=\"ico_ksearch ico_outlink\">새창</span>\\n</span>\\n</a>\\n\\n</li>\\n\\n\\n<li class=\"\">\\n\\n\\n<a target=\"_blank\" href=\"https://shoppinghow.kakao.com/search//&srchhow=Cexpo\" class=\"link_more tab_shop\" onclick=\\'smartLog(this, \"pg=1&r=12&p=2&rc=1&e1=NS&e2=SNPZ&dc=NTB&at=more\", event);\\'>\\n<span class=\"inner_tab\">\\n<span class=\"txt_tab\">쇼핑</span>\\n<span class=\"ico_ksearch ico_outlink\">새창</span>\\n</span>\\n</a>\\n\\n</li>\\n\\n\\n<li class=\"\">\\n\\n\\n<a href=\"?w=book&nil_search=btn&DA=NTB&enc=utf8&q=\" class=\"link_more tab_book\" onclick=\\'smartLog(this, \"pg=1&r=13&p=2&rc=1&e1=NS&e2=LB0Z&dc=NTB&at=more\", event);\\'>\\n<span class=\"inner_tab\"><span class=\"txt_tab\">책</span></span>\\n</a>\\n\\n</li>\\n\\n\\n<li class=\"\">\\n\\n\\n<a href=\"?w=music&m=song&nil_search=btn&DA=NTB&q=\" class=\"link_more tab_music\" onclick=\\'smartLog(this, \"pg=1&r=14&p=2&rc=1&e1=NS&e2=MS2Z&dc=NTB&at=more\", event);\\'>\\n<span class=\"inner_tab\"><span class=\"txt_tab\">멜론뮤직</span></span>\\n</a>\\n\\n</li>\\n\\n\\n<li class=\"\">\\n\\n\\n<a href=\"?w=brunch&nil_search=btn&DA=NTB&enc=utf8&q=\" class=\"link_more tab_brunch\" onclick=\\'smartLog(this, \"pg=1&r=15&p=2&rc=1&e1=NS&e2=BRCZ&dc=NTB&at=more\", event);\\'>\\n<span class=\"inner_tab\"><span class=\"txt_tab\">브런치</span></span>\\n</a>\\n\\n</li>\\n\\n\\n<li class=\"\">\\n\\n\\n<a href=\"?w=kstory&nil_search=btn&DA=NTB&q=\" class=\"link_more tab_kstory\" onclick=\\'smartLog(this, \"pg=1&r=16&p=2&rc=1&e1=NS&e2=KASZ&dc=NTB&at=more\", event);\\'>\\n<span class=\"inner_tab\"><span class=\"txt_tab\">카카오스토리</span></span>\\n</a>\\n\\n</li>\\n\\n</ul>\\n</div>\\n\\n\\n\\n\\n</div>\\n</div>\\n<script type=\"text/javascript\">\\n\\n_jsSetCookieNonEscape = function(name,value){\\ndocument.cookie = name+\"=\"+value+\"; path=/;\";\\n};\\n_jsSetCookieNonEscape(\"ODT\", \"IIMZ_VO2Z_NNSZ_BR1Z_CCBZ_WSAZ_IVRZ_\");\\n_jsSetCookieNonEscape(\"DDT\", \"DICZ_GG1Z_1DVZ_SNPZ_LB0Z_MS2Z_BRCZ_KASZ_\");\\n_jsSetCookieNonEscape(\"DTQUERY\", \"\" );\\n\\n\\n</script>\\n<form name=\"cUccForm\" method=\"get\">\\n<input type=\"hidden\" name=\"kword\">\\n<input type=\"hidden\" name=\"colid\">\\n<input type=\"hidden\" name=\"docid\">\\n<input type=\"hidden\" name=\"backurl\">\\n</form>\\n<form name=\"urForm\" method=\"get\">\\n<input type=\"hidden\" name=\"q\">\\n</form>\\n<div class=\"clr\"></div>\\n<!-- // daumGnb -->\\n<div name=\"searchData\" id=\"searchData\" class=\"skiptonavi\"></div>\\n<!-- End Header -->\\n</header>\\n\\n\\n<script type=\"text/html\" id=\"suggest-footer-template\">\\n<div>\\n<span>\\n<div class=\"fr\">\\n<a href=\"http://cs.daum.net/faq/15/14957.html#28978\" class=\"isSuggest\" target=\"_blank\" onclick=\"smartLog(this, \\'dc=SUG&p=5&r=1\\', event);\">서제스트란?</a>\\n</div>\\n</span>\\n</div>\\n</script>\\n\\n<article id=\"daumContent\">\\n<div id=\"cMain\">\\n<script type=\"text/javascript\">\\nsearchLog.dl = \\'NNN1_AMA0_R020_R130_R110_TOG0\\';\\t/* ISM DISPLAY_RESULT */\\nvar smDisCode = \"\";\\nvar smClickCode = \"\";\\nvar smCateCode = \"\";\\nvar totCollCount = \"0\";\\nvar sPageLoadedmsTime = 55;\\nvar requestTime = \"1642554505216\";\\n</script>\\n<article id=\"mArticle\">\\n<div class=\"inner_article\">\\n<span id=\"daumBody\" class=\"screen_out\">검색 본문</span>\\n\\n\\n\\n\\n\\n\\n\\n\\n\\n\\n\\n\\n\\n\\n\\n\\n\\n\\n\\n\\n<div class=\"g_comp\">\\n\\n<div id=\"noResult\">\\n<div class=\"mg_cont\">\\n<strong class=\"tit\"><b>\\'\\'</b> 에 대한 검색결과가 없습니다.</strong>\\n<ul class=\"list_cont\">\\n\\n<li>ㆍ검색어의 단어 수를 줄이거나, 보다 일반적인 단어로 검색해 보세요.</li>\\n<li>ㆍ두 단어 이상의 키워드로 검색 하신 경우, 정확하게 띄어쓰기를 한 후 검색해 보세요.</li>\\n<li>ㆍ키워드에 있는 특수문자를 뺀 후에 검색해 보세요.</li>\\n</ul>\\n</div>\\n</div>\\n</div>\\n\\n</div> <!-- // inner_article -->\\n</article> <!-- // mArticle -->\\n\\n<aside id=\"mAside\">\\n\\n\\n\\n\\n<div disp-attr=\\'AMA\\' class=\"g_comp_s\">\\n\\n\\n<div id=\"amaColl\"> <div class=\"coll_tit\"> <h2 class=\"tit\">함께 찾아주세요</h2> <div class=\"mg_expander\"><span class=\"f_nb\">1.19. 09:34</span></div> </div> <div class=\"coll_cont\"> <div class=\"wrap_thumb\"> <a href=\"http://www.safe182.go.kr/home/lcm/lcmMssGet.do?gnbMenuCd=014000000000&lnbMenuCd=014001000000&rptDscd=2&msspsnIdntfccd=547686\" target=\"_blank\" class=\"thumb\" onclick=\"smartLog(this, \\'dc=AMA&p=1&r=1&pg=1&at=link&d=547686\\', event)\"> <img src=\"https://search1.daumcdn.net/missing_child_middle/dkt_missing_child/547686.jpg\" width=\"92\" height=\"130\" alt=\"\" /> </a> </div> <div class=\"wrap_cont\"> <div class=\"info_tit\"> <a href=\"http://www.safe182.go.kr/home/lcm/lcmMssGet.do?gnbMenuCd=014000000000&lnbMenuCd=014001000000&rptDscd=2&msspsnIdntfccd=547686\" target=\"_blank\" class=\"fn_tit\" onclick=\"smartLog(this, \\'dc=AMA&p=2&r=1&pg=1&at=link&d=547686\\', event)\">변유정</a> (여자) </div> <dl class=\"dl_comm\"> <dt class=\"tit_base\">실종나이</dt> <dd class=\"cont\">2세</dd> </dl> <dl class=\"dl_comm\"> <dt class=\"tit_base\">현재나이</dt> <dd class=\"cont\">27세</dd> </dl> <dl class=\"dl_comm\"> <dt class=\"tit_base\">발생장소</dt> <dd class=\"cont txt_ellip\">전남 영암군 금정면 </dd> </dl> <div class=\"info_bot\"> <em class=\"f_red\"><span class=\"ico_missing\">전화</span>상담·제보 (국번없이)182</em> <span class=\"txt_bar\"></span> <div class=\"cp_info\"> <span class=\"f_db\">제공 : <a href=\"http://www.safe182.go.kr\" target=\"_blank\" class=\"f_db_u\" onclick=\"smartLog(this, \\'dc=AMA&e=1&pg=1&at=link&d=547686\\', event)\">경찰청</a></span> </div> </div> </div> </div> </div>\\n</div>\\n\\n\\n\\n\\n<div disp-attr=\\'R02\\' class=\"g_comp_s\">\\n\\n\\n<div id=\"randomCategoryColl\" class=\"content_realtime\"> <div class=\"coll_tit\"> <h2 class=\"tit\">분야별 검색어</h2> <div class=\"mg_expander\"><span class=\"f_nb\">01.19. 10:08</span></div> </div> <div id=\"randomCategoryCollDetail\" class=\"coll_cont\"> <div class=\"tab_comp tab_box\"> <ul id=\"rtissue_categories\" class=\"list_tab tab_size3\"> <li class=\\'on\\'><a class=\"tab_tit\" href=\"javascript:;\" onclick=\"C.randomCategoryColl.switchTab(0, \\'R02\\', event)\"><span class=\"inner_tit\">예능tv</span></a></li> <li ><a class=\"tab_tit\" href=\"javascript:;\" onclick=\"C.randomCategoryColl.switchTab(1, \\'R13\\', event)\"><span class=\"inner_tit\">콘서트</span></a></li> <li ><a class=\"tab_tit\" href=\"javascript:;\" onclick=\"C.randomCategoryColl.switchTab(2, \\'R11\\', event)\"><span class=\"inner_tit\">뮤지컬</span></a></li> </ul> </div> <div class=\"wrap_rank\" > <ol class=\"list_rank\"> <li> <div class=\"inner_item\"> <span class=\"num_rank\">1</span> <span class=\"keyword_rank\"><a href=\"?w=tot&DA=R02&q=%EC%8B%A0%EB%B0%9C%20%EB%B2%97%EA%B3%A0%20%EB%8F%8C%EC%8B%B1%ED%8F%AC%EB%A7%A8&rtmaxcoll=1ET,TVP&irt=tv-program&irk=91876\" class=\"link_txt\" onclick=\"smartLog(this,\\'dc=R02&pg=1&at=link&rc=10&p=1&r=1\\',event);\">신발 벗고 돌싱포맨</a></span> </div> </li> <li> <div class=\"inner_item\"> <span class=\"num_rank\">2</span> <span class=\"keyword_rank\"><a href=\"?w=tot&DA=R02&q=%ED%99%94%EC%9A%94%EC%9D%BC%EC%9D%80%20%EB%B0%A4%EC%9D%B4%20%EC%A2%8B%EC%95%84&rtmaxcoll=1ET,TVP&irt=tv-program&irk=93034\" class=\"link_txt\" onclick=\"smartLog(this,\\'dc=R02&pg=1&at=link&rc=10&p=1&r=2\\',event);\">화요일은 밤이 좋아</a></span> </div> </li> <li> <div class=\"inner_item\"> <span class=\"num_rank\">3</span> <span class=\"keyword_rank\"><a href=\"?w=tot&DA=R02&q=%EC%A0%84%EC%84%A4%EC%B2%B4%EC%A0%84&rtmaxcoll=1ET,TVP&irt=tv-program&irk=93198\" class=\"link_txt\" onclick=\"smartLog(this,\\'dc=R02&pg=1&at=link&rc=10&p=1&r=3\\',event);\">전설체전</a></span> </div> </li> <li> <div class=\"inner_item\"> <span class=\"num_rank\">4</span> <span class=\"keyword_rank\"><a href=\"?w=tot&DA=R02&q=%EC%8B%B1%EC%96%B4%EA%B2%8C%EC%9D%B82&rtmaxcoll=1ET,TVP&irt=tv-program&irk=91771\" class=\"link_txt\" onclick=\"smartLog(this,\\'dc=R02&pg=1&at=link&rc=10&p=1&r=4\\',event);\">싱어게인2</a></span> </div> </li> <li> <div class=\"inner_item\"> <span class=\"num_rank\">5</span> <span class=\"keyword_rank\"><a href=\"?w=tot&DA=R02&q=%ED%98%B8%EC%A0%81%EB%A9%94%EC%9D%B4%ED%8A%B8&rtmaxcoll=1ET,TVP&irt=tv-program&irk=92345\" class=\"link_txt\" onclick=\"smartLog(this,\\'dc=R02&pg=1&at=link&rc=10&p=1&r=5\\',event);\">호적메이트</a></span> </div> </li> </ol> <ol class=\"list_rank\"> <li> <div class=\"inner_item\"> <span class=\"num_rank\">6</span> <span class=\"keyword_rank\"><a href=\"?w=tot&DA=R02&q=%ED%97%AC%EB%A1%9C%ED%8A%B8%EB%A1%9C%ED%8A%B8&rtmaxcoll=1ET,TVP&irt=tv-program&irk=91722\" class=\"link_txt\" onclick=\"smartLog(this,\\'dc=R02&pg=1&at=link&rc=10&p=1&r=6\\',event);\">헬로트로트</a></span> </div> </li> <li> <div class=\"inner_item\"> <span class=\"num_rank\">7</span> <span class=\"keyword_rank\"><a href=\"?w=tot&DA=R02&q=%EC%A3%BC%EC%A0%91%EC%9D%B4%20%ED%92%8D%EB%85%84&rtmaxcoll=1ET,TVP&irt=tv-program&irk=92982\" class=\"link_txt\" onclick=\"smartLog(this,\\'dc=R02&pg=1&at=link&rc=10&p=1&r=7\\',event);\">주접이 풍년</a></span> </div> </li> <li> <div class=\"inner_item\"> <span class=\"num_rank\">8</span> <span class=\"keyword_rank\"><a href=\"?w=tot&DA=R02&q=%EA%B3%A8%20%EB%95%8C%EB%A6%AC%EB%8A%94%20%EA%B7%B8%EB%85%80%EB%93%A4&rtmaxcoll=1ET,TVP&irt=tv-program&irk=90823\" class=\"link_txt\" onclick=\"smartLog(this,\\'dc=R02&pg=1&at=link&rc=10&p=1&r=8\\',event);\">골 때리는 그녀들</a></span> </div> </li> <li> <div class=\"inner_item\"> <span class=\"num_rank\">9</span> <span class=\"keyword_rank\"><a href=\"?w=tot&DA=R02&q=%EC%98%A5%ED%83%91%EB%B0%A9%EC%9D%98%20%EB%AC%B8%EC%A0%9C%EC%95%84%EB%93%A4&rtmaxcoll=1ET,TVP&irt=tv-program&irk=83906\" class=\"link_txt\" onclick=\"smartLog(this,\\'dc=R02&pg=1&at=link&rc=10&p=1&r=9\\',event);\">옥탑방의 문제아들</a></span> </div> </li> <li> <div class=\"inner_item\"> <span class=\"num_rank\">10</span> <span class=\"keyword_rank\"><a href=\"?w=tot&DA=R02&q=%EA%B0%9C%EB%82%98%EB%A6%AC%ED%95%99%EB%8B%B9&rtmaxcoll=1ET,TVP&irt=tv-program&irk=93246\" class=\"link_txt\" onclick=\"smartLog(this,\\'dc=R02&pg=1&at=link&rc=10&p=1&r=10\\',event);\">개나리학당</a></span> </div> </li> </ol> </div> <div class=\"wrap_rank\" style=\"display:none\"> <ol class=\"list_rank\"> <li> <div class=\"inner_item\"> <span class=\"num_rank\">1</span> <span class=\"keyword_rank\"><a href=\"?w=tot&DA=R13&q=%EA%B0%80%EC%84%B8%EC%97%B0%20%EC%BD%98%EC%84%9C%ED%8A%B8&rtmaxcoll=DTX,CJK&scckey=PY||204916\" class=\"link_txt\" onclick=\"smartLog(this,\\'dc=R13&pg=1&at=link&rc=10&p=1&r=1\\',event);\">가세연 콘서트</a></span> </div> </li> <li> <div class=\"inner_item\"> <span class=\"num_rank\">2</span> <span class=\"keyword_rank\"><a href=\"?w=tot&DA=R13&q=%EB%AF%B8%EC%8A%A4%ED%8A%B8%EB%A1%AF2%20TOP4%20%EC%BD%98%EC%84%9C%ED%8A%B8&rtmaxcoll=DTX,CJK&scckey=PY||205113\" class=\"link_txt\" onclick=\"smartLog(this,\\'dc=R13&pg=1&at=link&rc=10&p=1&r=2\\',event);\">미스트롯2 TOP4 콘서트</a></span> </div> </li> <li> <div class=\"inner_item\"> <span class=\"num_rank\">3</span> <span class=\"keyword_rank\"><a href=\"?w=tot&DA=R13&q=%EC%A1%B0%EB%AA%85%EC%84%AD%20%EC%BD%98%EC%84%9C%ED%8A%B8&rtmaxcoll=DTX,CJK&scckey=PY||205308\" class=\"link_txt\" onclick=\"smartLog(this,\\'dc=R13&pg=1&at=link&rc=10&p=1&r=3\\',event);\">조명섭 콘서트</a></span> </div> </li> <li> <div class=\"inner_item\"> <span class=\"num_rank\">4</span> <span class=\"keyword_rank\"><a href=\"?w=tot&DA=R13&q=%EA%B9%80%ED%9D%AC%EC%9E%AC%20%EC%BD%98%EC%84%9C%ED%8A%B8&rtmaxcoll=DTX,CJK&scckey=PY||205027\" class=\"link_txt\" onclick=\"smartLog(this,\\'dc=R13&pg=1&at=link&rc=10&p=1&r=4\\',event);\">김희재 콘서트</a></span> </div> </li> <li> <div class=\"inner_item\"> <span class=\"num_rank\">5</span> <span class=\"keyword_rank\"><a href=\"?w=tot&DA=R13&q=%EC%9D%B4%EC%A4%80%ED%98%B8%20%ED%8C%AC%EB%AF%B8%ED%8C%85&rtmaxcoll=DTX,CJK&scckey=PY||205238\" class=\"link_txt\" onclick=\"smartLog(this,\\'dc=R13&pg=1&at=link&rc=10&p=1&r=5\\',event);\">이준호 팬미팅</a></span> </div> </li> </ol> <ol class=\"list_rank\"> <li> <div class=\"inner_item\"> <span class=\"num_rank\">6</span> <span class=\"keyword_rank\"><a href=\"?w=tot&DA=R13&q=%ED%92%8D%EB%A5%98%EB%8C%80%EC%9E%A5%20%EC%BD%98%EC%84%9C%ED%8A%B8&rtmaxcoll=DTX,CJK&scckey=PY||204732\" class=\"link_txt\" onclick=\"smartLog(this,\\'dc=R13&pg=1&at=link&rc=10&p=1&r=6\\',event);\">풍류대장 콘서트</a></span> </div> </li> <li> <div class=\"inner_item\"> <span class=\"num_rank\">7</span> <span class=\"keyword_rank\"><a href=\"?w=tot&DA=R13&q=%EB%B0%B1%EC%A7%80%EC%98%81%20%EC%BD%98%EC%84%9C%ED%8A%B8&rtmaxcoll=DTX,CJK&scckey=PY||204567\" class=\"link_txt\" onclick=\"smartLog(this,\\'dc=R13&pg=1&at=link&rc=10&p=1&r=7\\',event);\">백지영 콘서트</a></span> </div> </li> <li> <div class=\"inner_item\"> <span class=\"num_rank\">8</span> <span class=\"keyword_rank\"><a href=\"?w=tot&DA=R13&q=%EC%9E%A5%EC%9C%A4%EC%A0%95%20%EC%BD%98%EC%84%9C%ED%8A%B8&rtmaxcoll=DTX,CJK&scckey=PY||204840\" class=\"link_txt\" onclick=\"smartLog(this,\\'dc=R13&pg=1&at=link&rc=10&p=1&r=8\\',event);\">장윤정 콘서트</a></span> </div> </li> <li> <div class=\"inner_item\"> <span class=\"num_rank\">9</span> <span class=\"keyword_rank\"><a href=\"?w=tot&DA=R13&q=Theatre%20%EC%9D%B4%EB%AC%B8%EC%84%B8&rtmaxcoll=DTX,CJK&scckey=PY||203882\" class=\"link_txt\" onclick=\"smartLog(this,\\'dc=R13&pg=1&at=link&rc=10&p=1&r=9\\',event);\">Theatre 이문세</a></span> </div> </li> <li> <div class=\"inner_item\"> <span class=\"num_rank\">10</span> <span class=\"keyword_rank\"><a href=\"?w=tot&DA=R13&q=%EC%A0%95%EB%8F%99%EC%9B%90%20%EC%BD%98%EC%84%9C%ED%8A%B8&rtmaxcoll=DTX,CJK&scckey=PY||205032\" class=\"link_txt\" onclick=\"smartLog(this,\\'dc=R13&pg=1&at=link&rc=10&p=1&r=10\\',event);\">정동원 콘서트</a></span> </div> </li> </ol> </div> <div class=\"wrap_rank\" style=\"display:none\"> <ol class=\"list_rank\"> <li> <div class=\"inner_item\"> <span class=\"num_rank\">1</span> <span class=\"keyword_rank\"><a href=\"?w=tot&DA=R11&q=%EB%A0%88%EB%B2%A0%EC%B9%B4&rtmaxcoll=BXJ,CJK&scckey=PY||203094\" class=\"link_txt\" onclick=\"smartLog(this,\\'dc=R11&pg=1&at=link&rc=10&p=1&r=1\\',event);\">레베카</a></span> </div> </li> <li> <div class=\"inner_item\"> <span class=\"num_rank\">2</span> <span class=\"keyword_rank\"><a href=\"?w=tot&DA=R11&q=%EC%A7%80%ED%82%AC%20%EC%95%A4%20%ED%95%98%EC%9D%B4%EB%93%9C&rtmaxcoll=BXJ,CJK&scckey=PY||202559\" class=\"link_txt\" onclick=\"smartLog(this,\\'dc=R11&pg=1&at=link&rc=10&p=1&r=2\\',event);\">지킬 앤 하이드</a></span> </div> </li> <li> <div class=\"inner_item\"> <span class=\"num_rank\">3</span> <span class=\"keyword_rank\"><a href=\"?w=tot&DA=R11&q=%EC%A0%A0%ED%8B%80%EB%A7%A8%EC%8A%A4%20%EA%B0%80%EC%9D%B4%EB%93%9C&rtmaxcoll=BXJ,CJK&scckey=PY||203175\" class=\"link_txt\" onclick=\"smartLog(this,\\'dc=R11&pg=1&at=link&rc=10&p=1&r=3\\',event);\">젠틀맨스 가이드</a></span> </div> </li> <li> <div class=\"inner_item\"> <span class=\"num_rank\">4</span> <span class=\"keyword_rank\"><a href=\"?w=tot&DA=R11&q=%ED%94%84%EB%9E%91%EC%BC%84%EC%8A%88%ED%83%80%EC%9D%B8&rtmaxcoll=BXJ,CJK&scckey=PY||202986\" class=\"link_txt\" onclick=\"smartLog(this,\\'dc=R11&pg=1&at=link&rc=10&p=1&r=4\\',event);\">프랑켄슈타인</a></span> </div> </li> <li> <div class=\"inner_item\"> <span class=\"num_rank\">5</span> <span class=\"keyword_rank\"><a href=\"?w=tot&DA=R11&q=%EC%97%91%EC%8A%A4%EC%B9%BC%EB%A6%AC%EB%B2%84&rtmaxcoll=BXJ,CJK&scckey=PY||204704\" class=\"link_txt\" onclick=\"smartLog(this,\\'dc=R11&pg=1&at=link&rc=10&p=1&r=5\\',event);\">엑스칼리버</a></span> </div> </li> </ol> <ol class=\"list_rank\"> <li> <div class=\"inner_item\"> <span class=\"num_rank\">6</span> <span class=\"keyword_rank\"><a href=\"?w=tot&DA=R11&q=%EB%9D%BC%EC%9D%B4%EC%98%A8%20%ED%82%B9&rtmaxcoll=BXJ,CJK&scckey=PY||203779\" class=\"link_txt\" onclick=\"smartLog(this,\\'dc=R11&pg=1&at=link&rc=10&p=1&r=6\\',event);\">라이온 킹</a></span> </div> </li> <li> <div class=\"inner_item\"> <span class=\"num_rank\">7</span> <span class=\"keyword_rank\"><a href=\"?w=tot&DA=R11&q=%EB%B9%8C%EB%A6%AC%20%EC%97%98%EB%A6%AC%EC%96%B4%ED%8A%B8&rtmaxcoll=BXJ,CJK&scckey=PY||201255\" class=\"link_txt\" onclick=\"smartLog(this,\\'dc=R11&pg=1&at=link&rc=10&p=1&r=7\\',event);\">빌리 엘리어트</a></span> </div> </li> <li> <div class=\"inner_item\"> <span class=\"num_rank\">8</span> <span class=\"keyword_rank\"><a href=\"?w=tot&DA=R11&q=%EC%9E%AD%20%EB%8D%94%20%EB%A6%AC%ED%8D%BC&rtmaxcoll=BXJ,CJK&scckey=PY||203501\" class=\"link_txt\" onclick=\"smartLog(this,\\'dc=R11&pg=1&at=link&rc=10&p=1&r=8\\',event);\">잭 더 리퍼</a></span> </div> </li> <li> <div class=\"inner_item\"> <span class=\"num_rank\">9</span> <span class=\"keyword_rank\"><a href=\"?w=tot&DA=R11&q=%ED%95%98%EB%8D%B0%EC%8A%A4%ED%83%80%EC%9A%B4&rtmaxcoll=BXJ,CJK&scckey=PY||201314\" class=\"link_txt\" onclick=\"smartLog(this,\\'dc=R11&pg=1&at=link&rc=10&p=1&r=9\\',event);\">하데스타운</a></span> </div> </li> <li> <div class=\"inner_item\"> <span class=\"num_rank\">10</span> <span class=\"keyword_rank\"><a href=\"?w=tot&DA=R11&q=%ED%97%A4%EB%93%9C%EC%9C%85&rtmaxcoll=BXJ,CJK&scckey=PY||204334\" class=\"link_txt\" onclick=\"smartLog(this,\\'dc=R11&pg=1&at=link&rc=10&p=1&r=10\\',event);\">헤드윅</a></span> </div> </li> </ol> </div> </div> </div> <script type=\"text/javascript\"> (function(module){ function addClass(element, className){ var check = new RegExp(\"(\\\\\\\\s|^)\" + className + \"(\\\\\\\\s|$)\"); if(!check.test(element.className)) { element.className += \" \" + className; } } function removeClass(element, className){ var check = new RegExp(\"(\\\\\\\\s|^)\" + className + \"(\\\\\\\\s|$)\"); element.className = element.className.replace(check, \" \").trim(); } module.switchTab = function(categoryNumber, displayCode, event) { var tabs = document.getElementById(\"rtissue_categories\"); for(var i = 0; i < tabs.children.length; i++) { var element = tabs.children[i]; if(element.tagName === \\'LI\\') { if(i === categoryNumber) { addClass(element, \\'on\\'); } else { removeClass(element, \\'on\\'); } } } var tabContents = document.getElementById(\"randomCategoryCollDetail\"); for(var i = 1; i < tabContents.children.length; i++) { var element = tabContents.children[i]; if(element.className === \\'wrap_rank\\') { if(i === categoryNumber + 1) { element.style.display = \"block\"; } else { element.style.display = \"none\"; } } } smartLog(this,\\'pg=1&at=func&rc=10&p=2&r=\\' + (categoryNumber + 1) + \\'&dc=\\' + displayCode, event); } }(C.randomCategoryColl = ( C.randomCategoryColl || {}))); </script>\\n</div>\\n\\n\\n\\n\\n<div disp-attr=\\'TOG\\' class=\"g_comp_s\">\\n\\n\\n<div class=\"content_commend\"> <div class=\"coll_tit\"> <h2 class=\"tit\">같이가치 추천글</h2> </div> <div class=\"coll_cont\"> <ul class=\"list_major\"> <li> <a href=\"https://together.kakao.com/fundraisings/93276/story\" class=\"link_major\" target=\"_blank\" onclick=\"smartLog(this,\\'dc=TOG&d=toget-fundraising_project-93276&rc=10&at=link&pg=1&p=1&r=1\\',event);\">어머니! 이제는 저희가 생신 상 차려 드릴게요</a> </li> <li> <a href=\"https://together.kakao.com/fundraisings/93048/story\" class=\"link_major\" target=\"_blank\" onclick=\"smartLog(this,\\'dc=TOG&d=toget-fundraising_project-93048&rc=10&at=link&pg=1&p=1&r=2\\',event);\">제주 소녀의 첫 제주 나들이</a> </li> <li> <a href=\"https://together.kakao.com/fundraisings/93044/story\" class=\"link_major\" target=\"_blank\" onclick=\"smartLog(this,\\'dc=TOG&d=toget-fundraising_project-93044&rc=10&at=link&pg=1&p=1&r=3\\',event);\">기쁨도 아픔도 두 배, 우리는 쌍둥이입니다</a> </li> <li> <a href=\"https://together.kakao.com/fundraisings/93321/story\" class=\"link_major\" target=\"_blank\" onclick=\"smartLog(this,\\'dc=TOG&d=toget-fundraising_project-93321&rc=10&at=link&pg=1&p=1&r=4\\',event);\">노년기 영양 섭취, 무엇이 가장 필요할까?</a> </li> <li> <a href=\"https://together.kakao.com/fundraisings/93440/story\" class=\"link_major\" target=\"_blank\" onclick=\"smartLog(this,\\'dc=TOG&d=toget-fundraising_project-93440&rc=10&at=link&pg=1&p=1&r=5\\',event);\">작은 체구로 태어나 입양을 기다리는 하준이</a> </li> <li> <a href=\"https://together.kakao.com/fundraisings/93269/story\" class=\"link_major\" target=\"_blank\" onclick=\"smartLog(this,\\'dc=TOG&d=toget-fundraising_project-93269&rc=10&at=link&pg=1&p=1&r=6\\',event);\">벌써 2022년, 특별한 새해 준비는?!</a> </li> <li> <a href=\"https://together.kakao.com/fundraisings/93270/story\" class=\"link_major\" target=\"_blank\" onclick=\"smartLog(this,\\'dc=TOG&d=toget-fundraising_project-93270&rc=10&at=link&pg=1&p=1&r=7\\',event);\">마음이 더 추운 겨울, 명절만큼은 따뜻하게</a> </li> <li> <a href=\"https://together.kakao.com/fundraisings/93450/story\" class=\"link_major\" target=\"_blank\" onclick=\"smartLog(this,\\'dc=TOG&d=toget-fundraising_project-93450&rc=10&at=link&pg=1&p=1&r=8\\',event);\">과일 트럭 아저씨의 눈물</a> </li> <li> <a href=\"https://together.kakao.com/fundraisings/93369/story\" class=\"link_major\" target=\"_blank\" onclick=\"smartLog(this,\\'dc=TOG&d=toget-fundraising_project-93369&rc=10&at=link&pg=1&p=1&r=9\\',event);\">버스로는 2시간, 못 오시면 저희가 갈게요!</a> </li> <li> <a href=\"https://together.kakao.com/fundraisings/93070/story\" class=\"link_major\" target=\"_blank\" onclick=\"smartLog(this,\\'dc=TOG&d=toget-fundraising_project-93070&rc=10&at=link&pg=1&p=1&r=10\\',event);\">나도 알고 싶다! 먹는 즐거움...</a> </li> </ul> </div> </div>\\n</div>\\n\\n\\n\\n<div style=\"display:block;overflow:hidden;height:0;clear:both;font-size:0;line-height:0;visibility:hidden;\">\\\\00f0</div>\\n</aside>\\n\\n\\n</div>\\n\\n\\n<a href=\"javascript:;\" class=\"aside_quick\">맨위로<span class=\"ico_rwd\"></span></a>\\n\\n</article>\\n\\n<footer id=\"daumFoot\">\\n<div id=\"innerFooter\" class=\"inner_footer\">\\n<div id=\"suggestFooter\">\\n<form name=\"search1\" method=\"get\" id=\"daumSearchFoot\" class=\"d_sch\">\\n<fieldset class=\"fld_total\">\\n<legend class=\"screen_out\">검색폼</legend>\\n<input type=\"hidden\" name=\"nil_ch\" value=\"\">\\n<input type=\"hidden\" name=\"rtupcoll\" value=\"\">\\n<input type=\"hidden\" name=\"nil_suggest\" value=\"btn\">\\n<input type=\"hidden\" name=\"DA\" value=\"MEK\">\\n<input type=\"hidden\" name=\"w\" value=\"news\">\\n<input type=\"hidden\" name=\"sq\" value=\"\">\\n<input type=\"hidden\" name=\"o\" value=\"\">\\n<input type=\"hidden\" name=\"sugo\" value=\"\">\\n\\n\\n<input type=\"hidden\" name=\"m\" value=\"\">\\n\\n<div class=\"box_searchbar\">\\n<div class=\"inner_searchbar\">\\n<input type=\"text\" id=\"q1\" name=\"q\" class=\"tf_keyword\" autocomplete=\"off\" title=\"검색어 입력\" value=\"\" >\\n<button type=\"submit\" id=\"schFooterSubmitBtn\" class=\"ico_ksearch btn_ksearch\"><span class=\"ir_wa\">검색</span></button>\\n</div>\\n</div>\\n</fieldset>\\n</form>\\n<div class=\"wrap_suggestBox\"><div id=\"schFooterSuggestBox\" class=\"suggestBox box_sub reverseType\"></div></div>\\n</div>\\n<script type=\"text/javascript\">\\n(function(){\\nvar footerSearchModule = new SF.FooterSearchForm();\\nfooterSearchModule.init();\\n})();\\n</script>\\n\\n<div class=\"footer_comm\">\\n<a href=\"http://daumsearch.tistory.com\" target=\"_blank\" onclick=\"smartLog(this, \\'pg=1&p=10&dc=CCC&r=1\\', event);\" class=\"link_info\">검색블로그</a><span class=\"txt_bar\">|</span>\\n<a href=\"https://cs.daum.net/faq/15/15649.html\" target=\"_blank\" onclick=\"smartLog(this, \\'pg=1&p=15&dc=CCC&r=1\\', event);\" class=\"link_info\">검색원칙</a><span class=\"txt_bar\">|</span>\\n<a href=\"https://register.search.daum.net/\" target=\"_blank\" onclick=\"smartLog(this, \\'pg=1&p=9&dc=CCC&r=1\\', event);\" class=\"link_info\">사이트 등록 신청</a><span class=\"txt_bar\">|</span>\\n<a href=\"https://mystore.kakao.com/\" target=\"_blank\" onclick=\"smartLog(this, \\'pg=1&p=14&dc=CCC&r=1\\', event);\" class=\"link_info\">카카오맵 매장관리</a><span class=\"txt_bar\">|</span>\\n<a href=\"https://with.kakao.com/search\" target=\"_blank\" onclick=\"smartLog(this, \\'pg=1&p=12&dc=CCC&r=1\\', event);\" class=\"link_info\">검색제휴</a><span class=\"txt_bar\">|</span>\\n<a href=\"https://business.kakao.com/info/keywordad\" target=\"_blank\" onclick=\"smartLog(this, \\'pg=1&p=2&dc=CCC&r=1\\', event);\" class=\"link_info\">키워드광고</a><span class=\"txt_bar\">|</span>\\n<a href=\"http://local.biz.daum.net/\" target=\"_blank\" onclick=\"smartLog(this, \\'pg=1&p=3&dc=CCC&r=1\\', event);\" class=\"link_info\">로컬광고</a><span class=\"txt_bar\">|</span>\\n<a href=\"https://business.kakao.com/info/crossmedia\" target=\"_blank\" onclick=\"smartLog(this, \\'pg=1&p=8&dc=CCC&r=1\\', event);\" class=\"link_info\">크로스미디어</a><span class=\"txt_bar\">|</span>\\n<a href=\"http://cs.daum.net/faq/15.html\" target=\"_blank\" onclick=\"smartLog(this, \\'pg=1&p=6&dc=CCC&r=1\\', event);\" class=\"link_info\">고객센터</a>\\n\\n<address class=\"copyright\">&nbsp;&nbsp;&nbsp;ⓒ <a href=\"http://kakaocorp.com\" target=\"_blank\" onclick=\"smartLog(this, \\'pg=1&p=11&dc=CCC&r=1\\', event);\" class=\"link_daum\">Kakao Corp.</a></address>\\n</div>\\n\\n</div>\\n</footer>\\n</article>\\n\\n\\n<script type=\"text/javascript\" >\\nvar __MiniDaumObj = null;\\nvar minidaum_options = null;\\n(function() {\\nminidaum_options = {\\nbgType: \"\",\\nenableLogoutRetun: true,\\ndisableHotissue: true,\\ndisableLogo: true,\\ndisableTracker: true,\\nenableShield: false\\n};\\n})();\\n</script>\\n\\n\\n<script src=\"//go.daum.net/minidaum_pc.daum\" charset=\"utf-8\" type=\"text/javascript\" async defer></script>\\n\\n\\n<script type=\"text/javascript\">\\nSF.CommonModule && SF.CommonModule.init && SF.CommonModule.init();\\n</script>\\n\\n<script type=\"text/javascript\" src=\"//t1.daumcdn.net/tiara/js/v1/tiara.min.js\"></script>\\n<script type=\"text/javascript\">\\n(function() {\\nif (typeof TiaraTracker === \\'undefined\\') {\\nreturn;\\n}\\nvar svcdomain = window.viewio === \\'i\\' ? window.param_w + \\'.search.daum.net\\' : \\'nate.search.daum.net\\';\\nvar pageName = window.param_w === \\'tot\\' ? \\'통합검색\\' : window.param_w + \\'탭\\';\\nvar search = {\\nsearch_term: window.topQuery,\\nsearch_type:  window.param_da\\n};\\nTiaraTracker.getInstance()\\n.setSvcDomain(svcdomain)\\n.setPage(pageName)\\n.setSection(\\'검색결과\\')\\n.trackPage(\\'검색결과화면_조회\\')\\n.actionKind(\"Search\")\\n.search(search)\\n.track();\\n})();\\n</script>\\n<script type=\"text/javascript\">\\nwindow.roosevelt_params_queue = window.roosevelt_params_queue || [];\\nwindow.roosevelt_params_queue.push({\\nchannel_id: \"dk\", channel_label: \"search\", keyword: window.topQuery\\n});\\n</script>\\n<script type=\"text/javascript\" src=\"//t1.daumcdn.net/midas/rt/dk_se/roosevelt_dk_se.js\" async></script>\\n<script>\\n(function(SF) {\\nif (SF.compLogger && SF.compLogger.sendAllFromPage) {\\nSF.compLogger.sendAllFromPage({\\nref: \\'search\\'\\n});\\n}\\n})(window.SF || {});\\n</script>\\n<!-- SA 삭제 -->\\n\\n\\n<!-- end SA 삭제 -->\\n\\n\\n</body>\\n\\n</html>\\n'"
      ]
     },
     "execution_count": 62,
     "metadata": {},
     "output_type": "execute_result"
    }
   ],
   "source": [
    "res = requests.get(url)\n",
    "res.text"
   ]
  },
  {
   "cell_type": "code",
   "execution_count": 63,
   "id": "38473d53",
   "metadata": {},
   "outputs": [],
   "source": [
    "soup = BeautifulSoup(res.text, 'html.parser')"
   ]
  },
  {
   "cell_type": "code",
   "execution_count": 64,
   "id": "1dfea1fb",
   "metadata": {},
   "outputs": [],
   "source": [
    "# 1. copy selector\n",
    "path = '#newsColl > div.cont_divider > ul > li > div.wrap_cont > a'\n",
    "\n",
    "# 2. 직접 찾는 방법\n",
    "# path = 'ul.list_news > li >  div > a'\n",
    "\n",
    "# for i in range(1,20,2):\n",
    "#     print(soup.select(path)[i].text)"
   ]
  },
  {
   "cell_type": "code",
   "execution_count": 65,
   "id": "e82e2a08",
   "metadata": {},
   "outputs": [],
   "source": [
    "for t in soup.select(path):\n",
    "    print(t.text)"
   ]
  },
  {
   "cell_type": "code",
   "execution_count": null,
   "id": "70013141",
   "metadata": {},
   "outputs": [],
   "source": []
  },
  {
   "cell_type": "code",
   "execution_count": 66,
   "id": "45bcba61",
   "metadata": {},
   "outputs": [],
   "source": [
    "# 검색 키워드를 입력받은 후 다음 뉴스사이트에서 해당 검색어에 대한 뉴스 summary을 \n",
    "# 크롤링하시오.."
   ]
  },
  {
   "cell_type": "code",
   "execution_count": 67,
   "id": "ca9478f2",
   "metadata": {},
   "outputs": [],
   "source": [
    "import requests\n",
    "from bs4 import BeautifulSoup"
   ]
  },
  {
   "cell_type": "code",
   "execution_count": 71,
   "id": "b61c9a4f",
   "metadata": {},
   "outputs": [
    {
     "name": "stdout",
     "output_type": "stream",
     "text": [
      "검색어를 입력하세요..빅데이터\n"
     ]
    }
   ],
   "source": [
    "sw = input('검색어를 입력하세요..')"
   ]
  },
  {
   "cell_type": "code",
   "execution_count": 72,
   "id": "85d8b632",
   "metadata": {},
   "outputs": [],
   "source": [
    "url = 'https://search.daum.net/search?w=news&nil_search=btn&DA=NTB&enc=utf8&cluster=y&\\\n",
    "cluster_page=1&q={}'.format(sw)"
   ]
  },
  {
   "cell_type": "code",
   "execution_count": 73,
   "id": "6799cded",
   "metadata": {},
   "outputs": [],
   "source": [
    "res = requests.get(url)"
   ]
  },
  {
   "cell_type": "code",
   "execution_count": 74,
   "id": "b71372dc",
   "metadata": {},
   "outputs": [],
   "source": [
    "soup = BeautifulSoup(res.text, 'html.parser')"
   ]
  },
  {
   "cell_type": "code",
   "execution_count": 75,
   "id": "b87bec82",
   "metadata": {},
   "outputs": [],
   "source": [
    "tags = soup.select('p.desc')"
   ]
  },
  {
   "cell_type": "code",
   "execution_count": 76,
   "id": "41758419",
   "metadata": {},
   "outputs": [
    {
     "name": "stdout",
     "output_type": "stream",
     "text": [
      "새 강자 그룹은 IT 기반 플랫폼을 보유한 기업들이다. 플랫폼의 강점은 데이터다. 데이터가 모이고 유통되는 곳이 바로 플랫폼이다. 데이터는 21세기 원유가 됐고 바야흐로 빅데이터 시대를 맞게 된 것이다. 새해 벽두, 애플은 새 진기록을 세웠다. 1월4일 사상 처음...\n",
      "\n",
      "활용, 관리할 수 있는 ‘경기도 마이데이터 플랫폼’ 서비스를 시작한다.경기도는 1월 18일 수원시 경기도R&DB센터에서 2022년 빅데이터위원회 제1차 회의를 개최했다. 위원회에서는 위원장(공병훈 협성대 교수)을 포함해 당연직.위촉직 위원 등 총 12명이 참석한...\n",
      "\n",
      "활용, 관리할 수 있는 ‘경기도 마이데이터 플랫폼’ 서비스를 시작한다. 경기도는 18일 수원시 경기도R&DB센터에서 2022년 빅데이터위원회 제1차 회의를 개최했다. 위원회에서는 위원장(공병훈 협성대 교수)을 포함해 당연직·위촉직 위원 등 총 12명이 참석한...\n",
      "\n",
      "대전시가 구축한 지역사회건강지도 빅데이터 시스템 화면. [파이낸셜뉴스 대전=김원준 기자] 대전시는 2010년부터 2020년까지 11년간의 지역사회건강조사 빅데이터를 활용, 지역사회건강지도를 구축했다고 19일 밝혔다. 건강지도는 대전시 전체 및 각 구별 흡연...\n",
      "\n",
      "서울 서초구 제공. 재판매 및 DB 금지] (서울=연합뉴스) 고현실 기자 = 서울 서초구는 범죄발생 가능성이 높은 지역을 빅데이터로 예측해 시간대별로 집중 감시하는 '예측범죄지도(Predictive Crime Map) 시스템'을 전국 최초로 도입한다고 19일 밝혔다. 한국...\n",
      "\n",
      "미용실이나 노점상, 요식업 등 자영업자와 소규모 비즈니스도 뛰어들고 있다. 개인의 숙련도와 ‘감’에 의존했던 분야에서도 빅데이터 혁신의 바람이 불고 있다. ‘이코노미조선’은 자영업자 등 소규모 사업체가 빅데이터를 활용하기 위해 고군분투하는 현장을...\n",
      "\n",
      "식품 상장기업 브랜드평판 1월 빅데이터 분석결과, 1위 CJ제일제당 2위 오리온 3위 농심 순으로 분석됐다. 한국기업평판연구소는 식품 상장기업 63개 브랜드에 대해서 빅데이터 분석을 활용한 브랜드 평판조사를 실시했다. 2021년 12월 19일부터 2022년 1월 19일...\n",
      "\n",
      "패션·뷰티업계가 정보기술(IT)을 이용한 개인 맞춤형 서비스를 잇달아 강화하고 있다. 인공지능(AI)과 빅데이터 기술에 기반을 둔 서비스가 가능해진 데다 취향이 확고한 고객 수요도 급격히 늘고 있기 때문이다. MZ세대가 소비 주축으로 떠오르면서 패션·뷰티...\n",
      "\n",
      "항공·삼성증권·삼성카드·LS 워스트5, CJ·셀트리온·LG생활건강·남양유업·대우건설 [서울=뉴시스] 이승주 기자 = 18일 오전 빅데이터로 분석한 주식시장 코스피 200종목의 시장심리지수(Market Sentiment Index·MSI)는 3단계 '약간나쁨'으로 나타났다. 뉴시스...\n",
      "\n",
      "기사내용 요약 출하에서 경매까지 빅데이터+AI로 관리…'출하반장' 2월 오픈 기후변화, 병충해 등 농산물 가격 변동성 AI 예측 모형 개발 [세종=뉴시스]한국농수산식품유통공사(aT) 전경. (사진 = aT 제공) [세종=뉴시스] 오종택 기자 = 2022년 대한민국은 코로나19...\n",
      "\n"
     ]
    }
   ],
   "source": [
    "for t in tags:\n",
    "    print(t.text)\n",
    "    print()"
   ]
  },
  {
   "cell_type": "code",
   "execution_count": null,
   "id": "246d936e",
   "metadata": {},
   "outputs": [],
   "source": []
  },
  {
   "cell_type": "code",
   "execution_count": 77,
   "id": "ddf9340c",
   "metadata": {},
   "outputs": [],
   "source": [
    "# 다음 뉴스에서 검색키워드의 '언론사', '날짜' 자료를 첫페이지에서 출력하시오.."
   ]
  },
  {
   "cell_type": "code",
   "execution_count": 78,
   "id": "7bc92f1e",
   "metadata": {},
   "outputs": [
    {
     "name": "stdout",
     "output_type": "stream",
     "text": [
      "검색어를 입력하세요..빅데이터\n"
     ]
    }
   ],
   "source": [
    "sw = input('검색어를 입력하세요..')\n",
    "\n",
    "url = 'https://search.daum.net/search?w=news&nil_search=btn&DA=NTB&enc=utf8&cluster=y&\\\n",
    "cluster_page=1&q={}'.format(sw)\n",
    "\n",
    "res = requests.get(url)\n",
    "soup = BeautifulSoup(res.text, 'html.parser')"
   ]
  },
  {
   "cell_type": "code",
   "execution_count": 79,
   "id": "42561e63",
   "metadata": {},
   "outputs": [
    {
     "data": {
      "text/plain": [
       "<span class=\"cont_info\"> <span class=\"f_nb\">경기북부포커스</span> <span class=\"f_nb\">1시간전</span> </span>"
      ]
     },
     "execution_count": 79,
     "metadata": {},
     "output_type": "execute_result"
    }
   ],
   "source": [
    "soup.select('span.cont_info')[1]"
   ]
  },
  {
   "cell_type": "code",
   "execution_count": 80,
   "id": "188d7db6",
   "metadata": {},
   "outputs": [
    {
     "name": "stdout",
     "output_type": "stream",
     "text": [
      "머니투데이\n",
      "8시간전\n",
      "\n",
      "경기북부포커스\n",
      "1시간전\n",
      "\n",
      "경인저널\n",
      "18시간전\n",
      "\n",
      "경인투데이뉴스\n",
      "1시간전\n",
      "\n",
      "브릿지경제신문\n",
      "16시간전\n",
      "\n",
      "엔디엔뉴스\n",
      "12시간전\n",
      "\n",
      "이코노뉴스\n",
      "12시간전\n",
      "\n",
      "파이낸셜뉴스\n",
      "1시간전\n",
      "\n",
      "뉴시스\n",
      "1시간전\n",
      "\n",
      "미디어투데이\n",
      "1시간전\n",
      "\n",
      "세계타임즈\n",
      "14분전\n",
      "\n",
      "연합뉴스\n",
      "32분전\n",
      "\n",
      "조선비즈\n",
      "2022.01.17\n",
      "\n",
      "세계일보\n",
      "47분전\n",
      "\n",
      "전자신문\n",
      "18시간전\n",
      "\n",
      "뉴시스\n",
      "1시간전\n",
      "\n",
      "뉴시스\n",
      "2022.01.18\n",
      "\n",
      "뉴시스\n",
      "2022.01.17\n",
      "\n"
     ]
    }
   ],
   "source": [
    "for t in soup.select('span.cont_info'):\n",
    "    print(t.select('span.f_nb')[0].text)\n",
    "    print(t.select('span.f_nb')[1].text)\n",
    "    \n",
    "    print()"
   ]
  },
  {
   "cell_type": "code",
   "execution_count": null,
   "id": "84bb5e66",
   "metadata": {},
   "outputs": [],
   "source": []
  },
  {
   "cell_type": "code",
   "execution_count": null,
   "id": "03d3fc7c",
   "metadata": {},
   "outputs": [],
   "source": []
  },
  {
   "cell_type": "code",
   "execution_count": null,
   "id": "045f1eba",
   "metadata": {},
   "outputs": [],
   "source": [
    "# 타이틀, 서머리, 언론사, 날짜를 모두 출력..\n",
    "\n",
    "# -----------------\n",
    "# title : xxxxxxx\n",
    "# summary : xxxxxxx\n",
    "# press : xxxxxxxx\n",
    "# date : xxxxxxxxx\n",
    "# -----------------\n",
    "# title : xxxxxxx\n",
    "# summary : xxxxxxx\n",
    "# press : xxxxxxxx\n",
    "# date : xxxxxxxxx\n",
    "# -----------------"
   ]
  },
  {
   "cell_type": "code",
   "execution_count": 81,
   "id": "b7ade2e3",
   "metadata": {},
   "outputs": [
    {
     "name": "stdout",
     "output_type": "stream",
     "text": [
      "검색어를 입력하세요..빅데이터\n"
     ]
    }
   ],
   "source": [
    "sw = input('검색어를 입력하세요..')\n",
    "\n",
    "url = 'https://search.daum.net/search?w=news&nil_search=btn&DA=NTB&enc=utf8&cluster=y&\\\n",
    "cluster_page=1&q={}'.format(sw)\n",
    "\n",
    "res = requests.get(url)\n",
    "soup = BeautifulSoup(res.text, 'html.parser')"
   ]
  },
  {
   "cell_type": "code",
   "execution_count": 82,
   "id": "61fd9395",
   "metadata": {},
   "outputs": [
    {
     "data": {
      "text/plain": [
       "10"
      ]
     },
     "execution_count": 82,
     "metadata": {},
     "output_type": "execute_result"
    }
   ],
   "source": [
    "len(soup.select('ul.list_news > li'))"
   ]
  },
  {
   "cell_type": "code",
   "execution_count": 83,
   "id": "88de2c2d",
   "metadata": {},
   "outputs": [
    {
     "name": "stdout",
     "output_type": "stream",
     "text": [
      "Title : [투데이 窓]빅데이터에서 미래를 읽는 통찰력\n",
      "Summary : 새 강자 그룹은 IT 기반 플랫폼을 보유한 기업들이다. 플랫폼의 강점은 데이터다. 데이터가 모이고 유통되는 곳이 바로 플랫폼이다. 데이터는 21세기 원유가 됐고 바야흐로 빅데이터 시대를 맞게 된 것이다. 새해 벽두, 애플은 새 진기록을 세웠다. 1월4일 사상 처음...\n",
      "Press : 머니투데이\n",
      "Date : 8시간전\n"
     ]
    }
   ],
   "source": [
    "li = soup.select('ul.list_news > li')[0]\n",
    "\n",
    "title = li.select('div.wrap_cont > a')[0].text\n",
    "summary = li.select('p.desc')[0].text\n",
    "press = li.select('span.cont_info > span.f_nb')[0].text\n",
    "date = li.select('span.cont_info > span.f_nb')[1].text\n",
    "\n",
    "print('Title :', title)\n",
    "print('Summary :', summary)\n",
    "print('Press :', press)\n",
    "print('Date :', date)"
   ]
  },
  {
   "cell_type": "code",
   "execution_count": 84,
   "id": "49e6fd04",
   "metadata": {},
   "outputs": [
    {
     "name": "stdout",
     "output_type": "stream",
     "text": [
      "Title : [투데이 窓]빅데이터에서 미래를 읽는 통찰력\n",
      "Summary :\n",
      "새 강자 그룹은 IT 기반 플랫폼을 보유한 기업들이다. 플랫폼의 강점은 데이터다. 데이터가 모이고 유통되는 곳이 바로 플랫폼이다. 데이터는 21세기 원유가 됐고 바야흐로 빅데이터 시대를 맞게 된 것이다. 새해 벽두, 애플은 새 진기록을 세웠다. 1월4일 사상 처음...\n",
      "Press : 머니투데이\n",
      "Date : 8시간전\n",
      "===============================\n",
      "Title : 경기도 빅데이터위원회 열고 ‘데이터 기반 도정혁신 방안’ 논의\n",
      "Summary :\n",
      "활용, 관리할 수 있는 ‘경기도 마이데이터 플랫폼’ 서비스를 시작한다.경기도는 1월 18일 수원시 경기도R&DB센터에서 2022년 빅데이터위원회 제1차 회의를 개최했다. 위원회에서는 위원장(공병훈 협성대 교수)을 포함해 당연직.위촉직 위원 등 총 12명이 참석한...\n",
      "Press : 경기북부포커스\n",
      "Date : 1시간전\n",
      "===============================\n",
      "Title : 경기도,도 빅데이터위원회 개최…올해 경기도 마이데이터 플랫폼 개시\n",
      "Summary :\n",
      "활용, 관리할 수 있는 ‘경기도 마이데이터 플랫폼’ 서비스를 시작한다. 경기도는 18일 수원시 경기도R&DB센터에서 2022년 빅데이터위원회 제1차 회의를 개최했다. 위원회에서는 위원장(공병훈 협성대 교수)을 포함해 당연직·위촉직 위원 등 총 12명이 참석한...\n",
      "Press : 경인투데이뉴스\n",
      "Date : 1시간전\n",
      "===============================\n",
      "Title : 대전시, 지역사회건강지도 빅데이터 시스템 구축\n",
      "Summary :\n",
      "대전시가 구축한 지역사회건강지도 빅데이터 시스템 화면. [파이낸셜뉴스 대전=김원준 기자] 대전시는 2010년부터 2020년까지 11년간의 지역사회건강조사 빅데이터를 활용, 지역사회건강지도를 구축했다고 19일 밝혔다. 건강지도는 대전시 전체 및 각 구별 흡연...\n",
      "Press : 파이낸셜뉴스\n",
      "Date : 1시간전\n",
      "===============================\n",
      "Title : 빅데이터로 우범 지역 핀셋 관리..서초구, '예측범죄지도' 도입\n",
      "Summary :\n",
      "서울 서초구 제공. 재판매 및 DB 금지] (서울=연합뉴스) 고현실 기자 = 서울 서초구는 범죄발생 가능성이 높은 지역을 빅데이터로 예측해 시간대별로 집중 감시하는 '예측범죄지도(Predictive Crime Map) 시스템'을 전국 최초로 도입한다고 19일 밝혔다. 한국...\n",
      "Press : 연합뉴스\n",
      "Date : 32분전\n",
      "===============================\n",
      "Title : 1인 셀러부터 동네 가게 사장님까지 소상공인도 빅데이터 활용 시대\n",
      "Summary :\n",
      "미용실이나 노점상, 요식업 등 자영업자와 소규모 비즈니스도 뛰어들고 있다. 개인의 숙련도와 ‘감’에 의존했던 분야에서도 빅데이터 혁신의 바람이 불고 있다. ‘이코노미조선’은 자영업자 등 소규모 사업체가 빅데이터를 활용하기 위해 고군분투하는 현장을...\n",
      "Press : 조선비즈\n",
      "Date : 2022.01.17\n",
      "===============================\n",
      "Title : 1월 식품 상장기업 브랜드평판 빅데이터 분석..CJ제일제당 > 오리온 > 농심 > 오뚜기\n",
      "Summary :\n",
      "식품 상장기업 브랜드평판 1월 빅데이터 분석결과, 1위 CJ제일제당 2위 오리온 3위 농심 순으로 분석됐다. 한국기업평판연구소는 식품 상장기업 63개 브랜드에 대해서 빅데이터 분석을 활용한 브랜드 평판조사를 실시했다. 2021년 12월 19일부터 2022년 1월 19일...\n",
      "Press : 세계일보\n",
      "Date : 47분전\n",
      "===============================\n",
      "Title : 패션·뷰티도 '비스포크'..AI·빅데이터로 개인별 맞춤 서비스\n",
      "Summary :\n",
      "패션·뷰티업계가 정보기술(IT)을 이용한 개인 맞춤형 서비스를 잇달아 강화하고 있다. 인공지능(AI)과 빅데이터 기술에 기반을 둔 서비스가 가능해진 데다 취향이 확고한 고객 수요도 급격히 늘고 있기 때문이다. MZ세대가 소비 주축으로 떠오르면서 패션·뷰티...\n",
      "Press : 전자신문\n",
      "Date : 18시간전\n",
      "===============================\n",
      "Title : [빅데이터MSI]19일 오전 주식시장 심리 3단계 '약간나쁨'\n",
      "Summary :\n",
      "항공·삼성증권·삼성카드·LS 워스트5, CJ·셀트리온·LG생활건강·남양유업·대우건설 [서울=뉴시스] 이승주 기자 = 18일 오전 빅데이터로 분석한 주식시장 코스피 200종목의 시장심리지수(Market Sentiment Index·MSI)는 3단계 '약간나쁨'으로 나타났다. 뉴시스...\n",
      "Press : 뉴시스\n",
      "Date : 1시간전\n",
      "===============================\n",
      "Title : [공기업, 미래 대전환]aT, 농수산물 유통도 빅데이터 시대..AI로 가격 예측\n",
      "Summary :\n",
      "기사내용 요약 출하에서 경매까지 빅데이터+AI로 관리…'출하반장' 2월 오픈 기후변화, 병충해 등 농산물 가격 변동성 AI 예측 모형 개발 [세종=뉴시스]한국농수산식품유통공사(aT) 전경. (사진 = aT 제공) [세종=뉴시스] 오종택 기자 = 2022년 대한민국은 코로나19...\n",
      "Press : 뉴시스\n",
      "Date : 2022.01.17\n",
      "===============================\n"
     ]
    }
   ],
   "source": [
    "lis = soup.select('ul.list_news > li')\n",
    "\n",
    "for li in lis:\n",
    "\n",
    "    title = li.select('div.wrap_cont > a')[0].text\n",
    "    summary = li.select('p.desc')[0].text\n",
    "    press = li.select('span.cont_info > span.f_nb')[0].text\n",
    "    date = li.select('span.cont_info > span.f_nb')[1].text\n",
    "\n",
    "    print('Title :', title)\n",
    "    print('Summary :')\n",
    "    print(summary)\n",
    "    print('Press :', press)\n",
    "    print('Date :', date)\n",
    "    print('===============================')"
   ]
  },
  {
   "cell_type": "code",
   "execution_count": null,
   "id": "8202a160",
   "metadata": {},
   "outputs": [],
   "source": []
  },
  {
   "cell_type": "code",
   "execution_count": null,
   "id": "40ded11a",
   "metadata": {},
   "outputs": [],
   "source": []
  },
  {
   "cell_type": "code",
   "execution_count": null,
   "id": "b2034cd3",
   "metadata": {},
   "outputs": [],
   "source": []
  },
  {
   "cell_type": "code",
   "execution_count": null,
   "id": "4e2499e1",
   "metadata": {},
   "outputs": [],
   "source": []
  },
  {
   "cell_type": "code",
   "execution_count": null,
   "id": "fa1cf81e",
   "metadata": {},
   "outputs": [],
   "source": [
    "### 아래의 html script를 crawling하시오.."
   ]
  },
  {
   "cell_type": "code",
   "execution_count": 85,
   "id": "2b288e0e",
   "metadata": {},
   "outputs": [],
   "source": [
    "html2 = '''\n",
    "<html> \n",
    "    <head> \n",
    "        <h1> 사야할 과일 \n",
    "    </head> \n",
    "    <body> \n",
    "        <h1> 시장가서 사야할 과일 목록 \n",
    "            <div> <p id='fruits1' class='name1' title='바나나'> 바나나 \n",
    "                  <span class = 'price'> 3000원 </span> \n",
    "                  <span class = 'count'> 10개 </span> \n",
    "                  <span class = 'store'> 바나나가게 </span> \n",
    "                  <a href = 'https://www.banana.com'> banana.com </a> \n",
    "                  </p>\n",
    "            </div> \n",
    "            <div> <p id='fruits2' class='name2' title='체리'> 체리 \n",
    "                <span class = 'price'> 100원 </span> \n",
    "                <span class = 'count'> 50개 </span> \n",
    "                <span class = 'store'> 체리가게</span> \n",
    "                <a href = 'https://www.cherry.com'> cherry.com </a>\n",
    "                </p> \n",
    "            </div> \n",
    "            <div> <p id='fruits3' class='name3' title='오렌지'> 오렌지\n",
    "                <span class = 'price'> 500원 </span> \n",
    "                <span class = 'count'> 20개 </span> \n",
    "                <span class = 'store'> 오렌지가게</span> \n",
    "                <a href = 'https://www.orange.com'> orange.com </a>\n",
    "                </p> \n",
    "            <div> \n",
    "    </body> \n",
    "</html> \n",
    "'''"
   ]
  },
  {
   "cell_type": "code",
   "execution_count": 86,
   "id": "e2f4629f",
   "metadata": {},
   "outputs": [],
   "source": [
    "# 1. 가게 이름을 모두 크롤링해서 순차적으로 출력하시오\n",
    "# 2, 가게의 url주소를 모두 크롤링해서 순차적으로 출력하시오\n",
    "# 3. '체리가게'의 제품가격을 출력하시오.\n",
    "# 4. '바나나가게'의 제품 제고는 몇 개인가?\n",
    "# 5. '오렌지' 가격은 얼만인가?\n",
    "# 6. 모든 과일의 총 재고는 몇 개인가?\n",
    "# 7. 아래와 같이 출력하시오.\n",
    "# \"\"\"\n",
    "# 제품: 바나나, 재고: 10개, 가격: 3000원\n",
    "# 제품: 체리, 재고: 50개, 가격: 100원\n",
    "# 제품: 오랜지, 재고: 20개, 가격: 500원\n",
    "# \"\"\"\n"
   ]
  },
  {
   "cell_type": "code",
   "execution_count": 87,
   "id": "144fd517",
   "metadata": {},
   "outputs": [],
   "source": [
    "from bs4 import BeautifulSoup"
   ]
  },
  {
   "cell_type": "code",
   "execution_count": 88,
   "id": "7e2e2048",
   "metadata": {},
   "outputs": [
    {
     "data": {
      "text/plain": [
       "\n",
       "<html>\n",
       "<head>\n",
       "<h1> 사야할 과일 \n",
       "    </h1></head>\n",
       "<body>\n",
       "<h1> 시장가서 사야할 과일 목록 \n",
       "            <div> <p class=\"name1\" id=\"fruits1\" title=\"바나나\"> 바나나 \n",
       "                  <span class=\"price\"> 3000원 </span>\n",
       "<span class=\"count\"> 10개 </span>\n",
       "<span class=\"store\"> 바나나가게 </span>\n",
       "<a href=\"https://www.banana.com\"> banana.com </a>\n",
       "</p>\n",
       "</div>\n",
       "<div> <p class=\"name2\" id=\"fruits2\" title=\"체리\"> 체리 \n",
       "                <span class=\"price\"> 100원 </span>\n",
       "<span class=\"count\"> 50개 </span>\n",
       "<span class=\"store\"> 체리가게</span>\n",
       "<a href=\"https://www.cherry.com\"> cherry.com </a>\n",
       "</p>\n",
       "</div>\n",
       "<div> <p class=\"name3\" id=\"fruits3\" title=\"오렌지\"> 오렌지\n",
       "                <span class=\"price\"> 500원 </span>\n",
       "<span class=\"count\"> 20개 </span>\n",
       "<span class=\"store\"> 오렌지가게</span>\n",
       "<a href=\"https://www.orange.com\"> orange.com </a>\n",
       "</p>\n",
       "<div>\n",
       "</div></div></h1></body>\n",
       "</html>"
      ]
     },
     "execution_count": 88,
     "metadata": {},
     "output_type": "execute_result"
    }
   ],
   "source": [
    "soup = BeautifulSoup(html2, 'html.parser')\n",
    "soup"
   ]
  },
  {
   "cell_type": "code",
   "execution_count": null,
   "id": "439dc6b5",
   "metadata": {},
   "outputs": [],
   "source": []
  },
  {
   "cell_type": "code",
   "execution_count": 89,
   "id": "7d50f266",
   "metadata": {},
   "outputs": [
    {
     "name": "stdout",
     "output_type": "stream",
     "text": [
      " 바나나가게 \n",
      " 체리가게\n",
      " 오렌지가게\n"
     ]
    }
   ],
   "source": [
    "# 1\n",
    "\n",
    "for t in soup.select('span.store'):\n",
    "    print(t.text)"
   ]
  },
  {
   "cell_type": "code",
   "execution_count": 90,
   "id": "b20439b0",
   "metadata": {},
   "outputs": [
    {
     "name": "stdout",
     "output_type": "stream",
     "text": [
      "https://www.banana.com\n",
      "https://www.cherry.com\n",
      "https://www.orange.com\n"
     ]
    }
   ],
   "source": [
    "# 2\n",
    "for t in soup.select('a'):\n",
    "    print(t['href'])"
   ]
  },
  {
   "cell_type": "code",
   "execution_count": 91,
   "id": "dc2a4832",
   "metadata": {},
   "outputs": [
    {
     "data": {
      "text/plain": [
       "' 100원 '"
      ]
     },
     "execution_count": 91,
     "metadata": {},
     "output_type": "execute_result"
    }
   ],
   "source": [
    "# 3\n",
    "soup.select('p#fruits2 > span.price')[0].text"
   ]
  },
  {
   "cell_type": "code",
   "execution_count": 92,
   "id": "2c28f97d",
   "metadata": {},
   "outputs": [
    {
     "name": "stdout",
     "output_type": "stream",
     "text": [
      " 체리가게  50개   100원 \n"
     ]
    }
   ],
   "source": [
    "for t in soup.select('p'):\n",
    "    \n",
    "    price = t.select('span.price')[0].text\n",
    "    count = t.select('span.count')[0].text\n",
    "    store = t.select('span.store')[0].text\n",
    "    \n",
    "    if store == ' 체리가게':\n",
    "        print(store, count, price)"
   ]
  },
  {
   "cell_type": "code",
   "execution_count": null,
   "id": "87a589df",
   "metadata": {},
   "outputs": [],
   "source": []
  },
  {
   "cell_type": "code",
   "execution_count": 93,
   "id": "29aa8a9b",
   "metadata": {},
   "outputs": [
    {
     "name": "stdout",
     "output_type": "stream",
     "text": [
      " 바나나가게   10개   3000원 \n"
     ]
    }
   ],
   "source": [
    "# 4. \n",
    "\n",
    "for t in soup.select('p'):\n",
    "    \n",
    "    price = t.select('span.price')[0].text\n",
    "    count = t.select('span.count')[0].text\n",
    "    store = t.select('span.store')[0].text\n",
    "    \n",
    "    if store.strip() == '바나나가게':\n",
    "        print(store, count, price)"
   ]
  },
  {
   "cell_type": "code",
   "execution_count": null,
   "id": "30007b55",
   "metadata": {},
   "outputs": [],
   "source": []
  },
  {
   "cell_type": "code",
   "execution_count": 94,
   "id": "07d92209",
   "metadata": {},
   "outputs": [
    {
     "data": {
      "text/plain": [
       "' 500원 '"
      ]
     },
     "execution_count": 94,
     "metadata": {},
     "output_type": "execute_result"
    }
   ],
   "source": [
    "# 5\n",
    "\n",
    "soup.select('p#fruits3 > span.price')[0].text"
   ]
  },
  {
   "cell_type": "code",
   "execution_count": 95,
   "id": "bf3b098e",
   "metadata": {},
   "outputs": [
    {
     "data": {
      "text/plain": [
       "80"
      ]
     },
     "execution_count": 95,
     "metadata": {},
     "output_type": "execute_result"
    }
   ],
   "source": [
    "# 6 \n",
    "\n",
    "count_sum  =0\n",
    "\n",
    "for t in soup.select('span.count'):\n",
    "    count_sum += int(t.text.strip()[:2])\n",
    "\n",
    "count_sum"
   ]
  },
  {
   "cell_type": "code",
   "execution_count": null,
   "id": "ba22bded",
   "metadata": {},
   "outputs": [],
   "source": []
  },
  {
   "cell_type": "code",
   "execution_count": 96,
   "id": "039b2725",
   "metadata": {},
   "outputs": [
    {
     "name": "stdout",
     "output_type": "stream",
     "text": [
      "제품 :  바나나가게   재고 :  10개  가격  :  3000원 \n",
      "제품 :  체리가   재고 :  50개  가격  :  100원 \n",
      "제품 :  오렌지가   재고 :  20개  가격  :  500원 \n"
     ]
    }
   ],
   "source": [
    "# 7 \n",
    "\n",
    "for t in soup.select('p'):\n",
    "    \n",
    "    price = t.select('span.price')[0].text\n",
    "    count = t.select('span.count')[0].text\n",
    "    store = t.select('span.store')[0].text\n",
    "    \n",
    "    print('제품 :', store[:-1], '  재고 :', count, '가격  :', price)"
   ]
  },
  {
   "cell_type": "code",
   "execution_count": null,
   "id": "40268497",
   "metadata": {},
   "outputs": [],
   "source": []
  },
  {
   "cell_type": "code",
   "execution_count": null,
   "id": "c71f0898",
   "metadata": {},
   "outputs": [],
   "source": []
  },
  {
   "cell_type": "code",
   "execution_count": null,
   "id": "ad67c40a",
   "metadata": {},
   "outputs": [],
   "source": []
  },
  {
   "cell_type": "code",
   "execution_count": null,
   "id": "35e68915",
   "metadata": {},
   "outputs": [],
   "source": []
  }
 ],
 "metadata": {
  "kernelspec": {
   "display_name": "Python 3 (ipykernel)",
   "language": "python",
   "name": "python3"
  },
  "language_info": {
   "codemirror_mode": {
    "name": "ipython",
    "version": 3
   },
   "file_extension": ".py",
   "mimetype": "text/x-python",
   "name": "python",
   "nbconvert_exporter": "python",
   "pygments_lexer": "ipython3",
   "version": "3.9.7"
  }
 },
 "nbformat": 4,
 "nbformat_minor": 5
}
