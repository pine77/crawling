{
 "cells": [
  {
   "cell_type": "code",
   "execution_count": 1,
   "id": "05720fae",
   "metadata": {},
   "outputs": [],
   "source": [
    "# 네이버 중고나라에서 검색어를 입력한 후 검색 결과페이지의 게시물의\n",
    "# 제목, 작성자, 작성일, 조회수를 크롤링하시오.."
   ]
  },
  {
   "cell_type": "code",
   "execution_count": 2,
   "id": "54167d21",
   "metadata": {},
   "outputs": [],
   "source": [
    "from selenium import webdriver\n",
    "from selenium.webdriver.common.keys import Keys\n",
    "from bs4 import BeautifulSoup"
   ]
  },
  {
   "cell_type": "code",
   "execution_count": 15,
   "id": "490b8424",
   "metadata": {},
   "outputs": [],
   "source": [
    "driver = webdriver.Chrome()"
   ]
  },
  {
   "cell_type": "code",
   "execution_count": 16,
   "id": "52fe228e",
   "metadata": {},
   "outputs": [],
   "source": [
    "url = 'https://cafe.naver.com/joonggonara'\n",
    "driver.get(url)"
   ]
  },
  {
   "cell_type": "code",
   "execution_count": 17,
   "id": "24f04d03",
   "metadata": {
    "collapsed": true
   },
   "outputs": [
    {
     "name": "stderr",
     "output_type": "stream",
     "text": [
      "C:\\Users\\bitcamp\\AppData\\Local\\Temp/ipykernel_10204/1450859144.py:1: DeprecationWarning: find_element_by_* commands are deprecated. Please use find_element() instead\n",
      "  elem = driver.find_element_by_css_selector('#topLayerQueryInput')\n"
     ]
    }
   ],
   "source": [
    "elem = driver.find_element_by_css_selector('#topLayerQueryInput')"
   ]
  },
  {
   "cell_type": "code",
   "execution_count": 18,
   "id": "3737dd79",
   "metadata": {},
   "outputs": [],
   "source": [
    "elem.send_keys('자전거')"
   ]
  },
  {
   "cell_type": "code",
   "execution_count": 19,
   "id": "19e4c819",
   "metadata": {},
   "outputs": [],
   "source": [
    "elem.send_keys(Keys.RETURN)"
   ]
  },
  {
   "cell_type": "code",
   "execution_count": 8,
   "id": "091c4813",
   "metadata": {
    "collapsed": true
   },
   "outputs": [
    {
     "name": "stderr",
     "output_type": "stream",
     "text": [
      "C:\\Users\\bitcamp\\AppData\\Local\\Temp/ipykernel_10204/399073676.py:1: DeprecationWarning: find_elements_by_* commands are deprecated. Please use find_elements() instead\n",
      "  elem = driver.find_elements_by_css_selector('#main-area > div:nth-child(7) > table > tbody > tr > td.td_article > div.board-list > div > a')\n"
     ]
    },
    {
     "data": {
      "text/plain": [
       "[]"
      ]
     },
     "execution_count": 8,
     "metadata": {},
     "output_type": "execute_result"
    }
   ],
   "source": [
    "elem = driver.find_elements_by_css_selector('#main-area > div:nth-child(7) > table > tbody > tr > td.td_article > div.board-list > div > a')\n",
    "elem"
   ]
  },
  {
   "cell_type": "code",
   "execution_count": 9,
   "id": "815b6851",
   "metadata": {
    "collapsed": true
   },
   "outputs": [
    {
     "name": "stderr",
     "output_type": "stream",
     "text": [
      "C:\\Users\\bitcamp\\AppData\\Local\\Temp/ipykernel_10204/2836088684.py:1: DeprecationWarning: find_elements_by_* commands are deprecated. Please use find_elements() instead\n",
      "  elem = driver.find_elements_by_xpath('//*[@id=\"main-area\"]/div[5]/table/tbody/tr[1]/td[1]/div[2]/div/a')\n"
     ]
    },
    {
     "data": {
      "text/plain": [
       "[]"
      ]
     },
     "execution_count": 9,
     "metadata": {},
     "output_type": "execute_result"
    }
   ],
   "source": [
    "elem = driver.find_elements_by_xpath('//*[@id=\"main-area\"]/div[5]/table/tbody/tr[1]/td[1]/div[2]/div/a')\n",
    "elem"
   ]
  },
  {
   "cell_type": "code",
   "execution_count": null,
   "id": "5c241b38",
   "metadata": {},
   "outputs": [],
   "source": []
  },
  {
   "cell_type": "code",
   "execution_count": null,
   "id": "b9ff99df",
   "metadata": {},
   "outputs": [],
   "source": [
    "# iframe - html\n",
    "# html 안에 다른 웹페이지를 가져와서 보여주는 기능\n",
    "# iframe 내부에 있는 내용을 크롤링 하고자 하는 경우\n",
    "# => 콘텐츠가 있는 원본 사이트로 이동을 해야 한다.."
   ]
  },
  {
   "cell_type": "code",
   "execution_count": 20,
   "id": "4689f196",
   "metadata": {},
   "outputs": [
    {
     "name": "stderr",
     "output_type": "stream",
     "text": [
      "C:\\Users\\bitcamp\\AppData\\Local\\Temp/ipykernel_10204/585224087.py:2: DeprecationWarning: find_element_by_* commands are deprecated. Please use find_element() instead\n",
      "  iframe = driver.find_element_by_id('cafe_main')\n"
     ]
    }
   ],
   "source": [
    "# iframe 내부의 프레임으로 이동..\n",
    "iframe = driver.find_element_by_id('cafe_main')"
   ]
  },
  {
   "cell_type": "code",
   "execution_count": 23,
   "id": "c0516293",
   "metadata": {},
   "outputs": [],
   "source": [
    "driver.switch_to.frame(iframe)"
   ]
  },
  {
   "cell_type": "code",
   "execution_count": 24,
   "id": "d72fe3f8",
   "metadata": {
    "collapsed": true
   },
   "outputs": [
    {
     "name": "stderr",
     "output_type": "stream",
     "text": [
      "C:\\Users\\bitcamp\\AppData\\Local\\Temp/ipykernel_10204/2770582462.py:1: DeprecationWarning: find_elements_by_* commands are deprecated. Please use find_elements() instead\n",
      "  elems = driver.find_elements_by_css_selector('a.article')\n"
     ]
    },
    {
     "data": {
      "text/plain": [
       "[<selenium.webdriver.remote.webelement.WebElement (session=\"909204e1efcc25f9fbf4e21cbe28cdb1\", element=\"2d960cc1-1ea1-4eb9-a6a9-9b9ef08e9685\")>,\n",
       " <selenium.webdriver.remote.webelement.WebElement (session=\"909204e1efcc25f9fbf4e21cbe28cdb1\", element=\"cc62e385-ca29-47df-86d8-b8a33b2515ee\")>,\n",
       " <selenium.webdriver.remote.webelement.WebElement (session=\"909204e1efcc25f9fbf4e21cbe28cdb1\", element=\"8929cd47-e1a7-40d3-bd33-e9f27f9fc06a\")>,\n",
       " <selenium.webdriver.remote.webelement.WebElement (session=\"909204e1efcc25f9fbf4e21cbe28cdb1\", element=\"516d4319-9cfa-41a4-a217-128428ed431b\")>,\n",
       " <selenium.webdriver.remote.webelement.WebElement (session=\"909204e1efcc25f9fbf4e21cbe28cdb1\", element=\"d03b3525-52e6-4aca-82d2-1d2e5d53622c\")>,\n",
       " <selenium.webdriver.remote.webelement.WebElement (session=\"909204e1efcc25f9fbf4e21cbe28cdb1\", element=\"8312c4c8-54f2-4ccb-912c-305e7a9d308a\")>,\n",
       " <selenium.webdriver.remote.webelement.WebElement (session=\"909204e1efcc25f9fbf4e21cbe28cdb1\", element=\"8ea978fd-2294-4724-99e2-7da29391fb3e\")>,\n",
       " <selenium.webdriver.remote.webelement.WebElement (session=\"909204e1efcc25f9fbf4e21cbe28cdb1\", element=\"f34b4117-a3f1-4c48-a1bf-6440b8cfac02\")>,\n",
       " <selenium.webdriver.remote.webelement.WebElement (session=\"909204e1efcc25f9fbf4e21cbe28cdb1\", element=\"0cc590f6-ca17-49bb-9bcd-dd36c67f2eec\")>,\n",
       " <selenium.webdriver.remote.webelement.WebElement (session=\"909204e1efcc25f9fbf4e21cbe28cdb1\", element=\"2842bf53-9138-46e3-b305-4fb798b3f15b\")>,\n",
       " <selenium.webdriver.remote.webelement.WebElement (session=\"909204e1efcc25f9fbf4e21cbe28cdb1\", element=\"d3f079ea-fbb0-4cac-8361-0584e3f90c9c\")>,\n",
       " <selenium.webdriver.remote.webelement.WebElement (session=\"909204e1efcc25f9fbf4e21cbe28cdb1\", element=\"91d241e8-91d0-4072-9491-21c0a7014b85\")>,\n",
       " <selenium.webdriver.remote.webelement.WebElement (session=\"909204e1efcc25f9fbf4e21cbe28cdb1\", element=\"1ebb6aea-a767-424d-8459-9642a06a384b\")>,\n",
       " <selenium.webdriver.remote.webelement.WebElement (session=\"909204e1efcc25f9fbf4e21cbe28cdb1\", element=\"9bde7f93-031c-478e-b116-22f775fdc8ac\")>,\n",
       " <selenium.webdriver.remote.webelement.WebElement (session=\"909204e1efcc25f9fbf4e21cbe28cdb1\", element=\"80524ad9-1bcd-4a8d-a947-a90d7431abab\")>]"
      ]
     },
     "execution_count": 24,
     "metadata": {},
     "output_type": "execute_result"
    }
   ],
   "source": [
    "elems = driver.find_elements_by_css_selector('a.article')\n",
    "elems"
   ]
  },
  {
   "cell_type": "code",
   "execution_count": 25,
   "id": "ecbf9f06",
   "metadata": {
    "collapsed": true
   },
   "outputs": [
    {
     "name": "stdout",
     "output_type": "stream",
     "text": [
      "킥보드 로드자전거 크랭크 헬멧 하이바 m사이즈 새거\n",
      "이고진실내자전거\n",
      "[앱상품][실내자전거][100,000원]\n",
      "삼천리16인치 자전거 9만원\n",
      "스카이 카스텔리 기모져지 겨울자전거복 싸이클져지 자전거복 자전거의류 라이딩 택포 새상품 싸이클복\n",
      "전기자전거 최상급 mtb 메리다 e160 이원식스티 10k 20년식\n",
      "마지 프리미아레 pc1 벨리시마 masi premiare 여성용 사이클 로드 자전거\n",
      "마지 이니지오 로드자전거 판매합니다\n",
      "삼천리 엑스존 20인치 3단 접이식 뒷샥 미니벨로 자전거 초등-성인 185cm\n",
      "스페셜라이즈드 알레스포츠 15년식 소라 로드자전거 49사이즈 팔아요\n",
      "트렉 도마니 4.5 디스크브레이크 로드자전거 56사이즈 팔아요 디브 자전거\n",
      "자전거 체인 11단, 7만원->25,000원\n",
      "1000루멘 자전거 킥보드 후레쉬 라이트 (전용거치대 포함) 판매합니다.\n",
      "자전거 킥보드 도난방지 원격 경보기+후미등 판매합니다.\n",
      "삼천리 디즈니 자전거(프린세스 18)\n"
     ]
    }
   ],
   "source": [
    "for e in elems:\n",
    "    print(e.text)"
   ]
  },
  {
   "cell_type": "code",
   "execution_count": null,
   "id": "800347c5",
   "metadata": {},
   "outputs": [],
   "source": []
  }
 ],
 "metadata": {
  "kernelspec": {
   "display_name": "Python 3 (ipykernel)",
   "language": "python",
   "name": "python3"
  },
  "language_info": {
   "codemirror_mode": {
    "name": "ipython",
    "version": 3
   },
   "file_extension": ".py",
   "mimetype": "text/x-python",
   "name": "python",
   "nbconvert_exporter": "python",
   "pygments_lexer": "ipython3",
   "version": "3.9.7"
  }
 },
 "nbformat": 4,
 "nbformat_minor": 5
}
